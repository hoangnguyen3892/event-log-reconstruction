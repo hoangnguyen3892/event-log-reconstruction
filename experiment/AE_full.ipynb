{
 "cells": [
  {
   "cell_type": "markdown",
   "metadata": {
    "deletable": true,
    "editable": true
   },
   "source": [
    "**Outline:**\n",
    "- Build model and loss function\n",
    "- Train model\n",
    "- Observe valdidate\n",
    "- Test"
   ]
  },
  {
   "cell_type": "markdown",
   "metadata": {
    "deletable": true,
    "editable": true
   },
   "source": [
    "**To do:**\n",
    "- Hyperparameter tuning\n",
    "    + lr\n",
    "    + layer1, layer2\n",
    "    + betas"
   ]
  },
  {
   "cell_type": "markdown",
   "metadata": {
    "deletable": true,
    "editable": true
   },
   "source": [
    "**Modification**\n",
    "- Weight initialization with xavier uniform\n",
    "- Adam optimization\n",
    "- LR decay"
   ]
  },
  {
   "cell_type": "code",
   "execution_count": 1,
   "metadata": {
    "collapsed": true,
    "deletable": true,
    "editable": true
   },
   "outputs": [],
   "source": [
    "import importlib\n",
    "import argparse\n",
    "import os, sys\n",
    "import argparse\n",
    "import pandas as pd\n",
    "import numpy as np\n",
    "import pickle\n",
    "import time"
   ]
  },
  {
   "cell_type": "code",
   "execution_count": 2,
   "metadata": {
    "collapsed": true,
    "deletable": true,
    "editable": true
   },
   "outputs": [],
   "source": [
    "import torch\n",
    "import torch.utils.data\n",
    "import torch.nn.functional as F\n",
    "import torch.nn as nn\n",
    "import torch.optim as optim\n",
    "import torch.optim.lr_scheduler\n",
    "from torch.autograd import Variable\n",
    "from torchvision import transforms"
   ]
  },
  {
   "cell_type": "code",
   "execution_count": 3,
   "metadata": {
    "collapsed": true,
    "deletable": true,
    "editable": true
   },
   "outputs": [],
   "source": [
    "sys.path.insert(0, './../utils/')\n",
    "from utils import *\n",
    "from models import *"
   ]
  },
  {
   "cell_type": "code",
   "execution_count": 4,
   "metadata": {
    "collapsed": true,
    "deletable": true,
    "editable": true
   },
   "outputs": [],
   "source": [
    "#Define parser\n",
    "#name = 'bpi_2012'\n",
    "name = 'bpi_2013'\n",
    "#name = 'Road_Traffic_Fine_Management_Process'  \n",
    "\n",
    "parser = {\n",
    "    'train': True,\n",
    "    'test': True,\n",
    "    'model_class': 'AE',\n",
    "    'model_name': 'model_AE_epoch11_score1.1437.pth',\n",
    "    'data_dir': '../data/',\n",
    "    'data_file': name + '.csv',\n",
    "    'nan_pct': 0.3,\n",
    "    'input_dir': '../input/{}/'.format(name),\n",
    "    'batch_size' : 16,\n",
    "    'epochs' : 20,\n",
    "    'no_cuda' : False,\n",
    "    'seed' : 7,\n",
    "    'layer1': 1000,\n",
    "    'layer2': 100,\n",
    "    'lr': 0.004,\n",
    "    'betas': (0.9, 0.999),   \n",
    "    'lr_decay': 0.90,\n",
    "}\n",
    "\n",
    "args = argparse.Namespace(**parser)\n",
    "args.output_dir = './output/{0}_{1}_{2}/'.format(name, args.nan_pct, args.model_class)"
   ]
  },
  {
   "cell_type": "code",
   "execution_count": 5,
   "metadata": {
    "collapsed": true,
    "deletable": true,
    "editable": true
   },
   "outputs": [],
   "source": [
    "if not os.path.isdir(args.output_dir):\n",
    "    os.makedirs(args.output_dir)"
   ]
  },
  {
   "cell_type": "code",
   "execution_count": 6,
   "metadata": {
    "collapsed": true,
    "deletable": true,
    "editable": true
   },
   "outputs": [],
   "source": [
    "args.cuda = not args.no_cuda and torch.cuda.is_available()"
   ]
  },
  {
   "cell_type": "code",
   "execution_count": 7,
   "metadata": {
    "collapsed": true,
    "deletable": true,
    "editable": true
   },
   "outputs": [],
   "source": [
    "torch.manual_seed(args.seed)\n",
    "if args.cuda:\n",
    "    torch.cuda.manual_seed(args.seed)"
   ]
  },
  {
   "cell_type": "code",
   "execution_count": 8,
   "metadata": {
    "collapsed": true,
    "deletable": true,
    "editable": true
   },
   "outputs": [],
   "source": [
    "kwargs = {'num_workers': 2, 'pin_memory': True} if args.cuda else {}"
   ]
  },
  {
   "cell_type": "code",
   "execution_count": 9,
   "metadata": {
    "collapsed": false,
    "deletable": true,
    "editable": true
   },
   "outputs": [],
   "source": [
    "preprocessed_data_name = os.path.join(args.input_dir, 'preprocessed_data_full_{}.pkl'.format(args.nan_pct))\n",
    "with open(preprocessed_data_name, 'rb') as f:\n",
    "    min_max_storage = pickle.load(f)\n",
    "    complete_matrix_w_normalized_time = pickle.load(f)\n",
    "    missing_matrix_w_normalized_time = pickle.load(f)\n",
    "    avai_matrix = pickle.load(f)\n",
    "    nan_matrix = pickle.load(f)\n",
    "    pad_matrix = pickle.load(f)\n",
    "    cols_w_time = pickle.load(f)\n",
    "    cols_w_normalized_time = pickle.load(f)"
   ]
  },
  {
   "cell_type": "code",
   "execution_count": 10,
   "metadata": {
    "collapsed": true,
    "deletable": true,
    "editable": true
   },
   "outputs": [],
   "source": [
    "file_name = os.path.join(args.input_dir, 'parameters_{}.pkl'.format(args.nan_pct))\n",
    "with open(file_name, 'rb') as f:\n",
    "    most_frequent_activity = pickle.load(f)\n",
    "    first_timestamp = pickle.load(f)\n",
    "    avai_instance = pickle.load(f)\n",
    "    nan_instance = pickle.load(f)\n",
    "    train_size = pickle.load(f)\n",
    "    val_size = pickle.load(f)\n",
    "    test_size = pickle.load(f)\n",
    "    train_row_num = pickle.load(f)\n",
    "    val_row_num = pickle.load(f)\n",
    "    test_row_num = pickle.load(f)"
   ]
  },
  {
   "cell_type": "markdown",
   "metadata": {
    "deletable": true,
    "editable": true
   },
   "source": [
    "# Load data"
   ]
  },
  {
   "cell_type": "code",
   "execution_count": 11,
   "metadata": {
    "collapsed": true,
    "deletable": true,
    "editable": true
   },
   "outputs": [],
   "source": [
    "complete_matrix_w_normalized_time_trainLoader = torch.utils.data.DataLoader(complete_matrix_w_normalized_time, \n",
    "                                                                            batch_size=args.batch_size, shuffle=False, \n",
    "                                                                            num_workers=2)\n",
    "missing_matrix_w_normalized_time_trainLoader = torch.utils.data.DataLoader(missing_matrix_w_normalized_time, \n",
    "                                                                           batch_size=args.batch_size, shuffle=False, \n",
    "                                                                           num_workers=2)\n",
    "avai_matrix_trainLoader = torch.utils.data.DataLoader(avai_matrix, \n",
    "                                                      batch_size=args.batch_size, shuffle=False, \n",
    "                                                      num_workers=2)"
   ]
  },
  {
   "cell_type": "markdown",
   "metadata": {
    "deletable": true,
    "editable": true
   },
   "source": [
    "# Build model"
   ]
  },
  {
   "cell_type": "markdown",
   "metadata": {
    "deletable": true,
    "editable": true
   },
   "source": [
    "## Define model"
   ]
  },
  {
   "cell_type": "code",
   "execution_count": 21,
   "metadata": {
    "collapsed": true,
    "deletable": true,
    "editable": true
   },
   "outputs": [],
   "source": [
    "if args.model_class == 'AE':\n",
    "    model = AE(complete_matrix_w_normalized_time_train.shape, args.layer1, args.layer2)\n",
    "    \n",
    "if args.model_class == 'AE_tanh':\n",
    "    model = AE_tanh(complete_matrix_w_normalized_time_train.shape, args.layer1, args.layer2)\n",
    "    \n",
    "if args.cuda:\n",
    "    model.cuda()"
   ]
  },
  {
   "cell_type": "markdown",
   "metadata": {
    "deletable": true,
    "editable": true
   },
   "source": [
    "## Define loss"
   ]
  },
  {
   "cell_type": "code",
   "execution_count": 22,
   "metadata": {
    "collapsed": true,
    "deletable": true,
    "editable": true
   },
   "outputs": [],
   "source": [
    "# Define loss\n",
    "\n",
    "def loss_function(recon_x, x, avai_mask):\n",
    "    MSE = F.mse_loss(recon_x*avai_mask, x*avai_mask, size_average=False)\n",
    "    #BCE = F.binary_cross_entropy(recon_x, x, weight=avai_mask, size_average=False) \n",
    "    return MSE"
   ]
  },
  {
   "cell_type": "code",
   "execution_count": 23,
   "metadata": {
    "collapsed": false,
    "deletable": true,
    "editable": true
   },
   "outputs": [],
   "source": [
    "optimizer = optim.Adam(model.parameters(), lr=args.lr, betas=args.betas)"
   ]
  },
  {
   "cell_type": "code",
   "execution_count": 24,
   "metadata": {
    "collapsed": true,
    "deletable": true,
    "editable": true
   },
   "outputs": [],
   "source": [
    "#Adjust learning rate per epoch: http://pytorch.org/docs/master/optim.html?highlight=adam#torch.optim.Adam\n",
    "\n",
    "# Method 1:\n",
    "#lambda1 = lambda epoch: args.lr_decay ** epoch\n",
    "#scheduler = torch.optim.lr_scheduler.LambdaLR(optimizer, lr_lambda=[lambda1])\n",
    "\n",
    "# Method 2:\n",
    "scheduler = torch.optim.lr_scheduler.ReduceLROnPlateau(optimizer, 'min', patience=10)"
   ]
  },
  {
   "cell_type": "markdown",
   "metadata": {
    "deletable": true,
    "editable": true
   },
   "source": [
    "## Utils"
   ]
  },
  {
   "cell_type": "code",
   "execution_count": 25,
   "metadata": {
    "collapsed": true,
    "deletable": true,
    "editable": true
   },
   "outputs": [],
   "source": [
    "def save_model(model, epoch, score):\n",
    "    model_file = os.path.join(args.output_dir, 'model_{}_epoch{}_score{:.4f}.pth'.format(args.model_class, epoch, score))\n",
    "    torch.save(model.state_dict(), model_file)"
   ]
  },
  {
   "cell_type": "code",
   "execution_count": 26,
   "metadata": {
    "collapsed": true,
    "deletable": true,
    "editable": true
   },
   "outputs": [],
   "source": [
    "def load_model(model, model_name):\n",
    "    model_file = os.path.join(args.output_dir, model_name)\n",
    "    assert os.path.isfile(model_file), 'Error: no model found!'\n",
    "    model_state = torch.load(model_file)\n",
    "    model.load_state_dict(model_state)"
   ]
  },
  {
   "cell_type": "code",
   "execution_count": 27,
   "metadata": {
    "collapsed": true,
    "deletable": true,
    "editable": true
   },
   "outputs": [],
   "source": [
    "def val(model, missing_matrix_w_normalized_time_val, \n",
    "        complete_matrix_w_normalized_time_val, \n",
    "        avai_matrix_val, nan_matrix_val):\n",
    "    \n",
    "    model.eval()\n",
    "    m_val = missing_matrix_w_normalized_time_val\n",
    "    m_val = Variable(torch.Tensor(m_val).float())\n",
    "    \n",
    "    c_val = complete_matrix_w_normalized_time_val\n",
    "    c_val = Variable(torch.Tensor(c_val).float())\n",
    "    \n",
    "    avai_matrix_val = Variable(torch.Tensor(avai_matrix_val).float())\n",
    "    nan_matrix_val = Variable(torch.Tensor(nan_matrix_val).float())\n",
    "    \n",
    "    if args.cuda:\n",
    "        m_val = m_val.cuda()\n",
    "        c_val = c_val.cuda()\n",
    "        avai_matrix_val = avai_matrix_val.cuda()\n",
    "        nan_matrix_val = nan_matrix_val.cuda()\n",
    "        \n",
    "    recon_data = model(m_val)\n",
    "        \n",
    "    recon = getProbability(recon_data)\n",
    "    \n",
    "    recon_2d = recon.view(recon.size(0)*recon.size(1), recon.size(2))\n",
    "    gt_2d = c_val.view(recon.size(0)*recon.size(1), recon.size(2))\n",
    "    avai_matrix_2d = avai_matrix_val.view(recon.size(0)*recon.size(1), recon.size(2))\n",
    "    nan_matrix_2d = nan_matrix_val.view(recon.size(0)*recon.size(1), recon.size(2))\n",
    "    \n",
    "    submission = torch.add(recon_2d*nan_matrix_2d, gt_2d*avai_matrix_2d)\n",
    "    \n",
    "    #Time\n",
    "    predicted_time = submission.data[:, 0].cpu().numpy()\n",
    "    gt_time = gt_2d.data[:, 0].cpu().numpy()\n",
    "    mae = mean_absolute_error(gt_time, predicted_time)\n",
    "    \n",
    "    #Activity\n",
    "    predicted_act = submission.data[:, 1:].cpu().numpy()\n",
    "    gt_act = gt_2d.data[:, 1:].cpu().numpy()\n",
    "    \n",
    "    a = predicted_act[np.any(predicted_act != 0, axis=1)]\n",
    "    b = gt_act[np.any(gt_act != 0, axis=1)]   \n",
    "    \n",
    "    predicted_labels = np.argmax(a, axis=1)\n",
    "    gt_labels = np.argmax(b, axis=1)\n",
    "    acc = accuracy_score(gt_labels, predicted_labels)\n",
    "    \n",
    "    return mae+1/acc"
   ]
  },
  {
   "cell_type": "markdown",
   "metadata": {
    "deletable": true,
    "editable": true
   },
   "source": [
    "# Train model"
   ]
  },
  {
   "cell_type": "code",
   "execution_count": 30,
   "metadata": {
    "collapsed": true,
    "deletable": true,
    "editable": true
   },
   "outputs": [],
   "source": [
    "def train(epoch, model, optimizer):\n",
    "    model.train()\n",
    "    train_loss = 0\n",
    "    for batch_idx, (m_data, c_data, avai_mask) in enumerate(zip(missing_matrix_w_normalized_time_trainLoader, \n",
    "                                                                complete_matrix_w_normalized_time_trainLoader,\n",
    "                                                                avai_matrix_trainLoader)):\n",
    "        c_data = Variable(c_data.float())\n",
    "        m_data = Variable(m_data.float())\n",
    "        avai_mask = Variable(avai_mask.float())\n",
    "\n",
    "        if args.cuda:\n",
    "            c_data = c_data.cuda()\n",
    "            m_data = m_data.cuda()\n",
    "            avai_mask = avai_mask.cuda()\n",
    "\n",
    "            \n",
    "        optimizer.zero_grad()\n",
    "        \n",
    "        recon_data = model(m_data)\n",
    "        \n",
    "        loss = loss_function(recon_data, c_data, avai_mask)\n",
    "        \n",
    "        loss.backward()\n",
    "        train_loss += loss.data[0]\n",
    "        optimizer.step()\n",
    "        \n",
    "    return train_loss / len(complete_matrix_w_normalized_time_trainLoader.dataset)"
   ]
  },
  {
   "cell_type": "code",
   "execution_count": 31,
   "metadata": {
    "collapsed": false,
    "deletable": true,
    "editable": true
   },
   "outputs": [
    {
     "name": "stdout",
     "output_type": "stream",
     "text": [
      "====> Epoch 1 | Train time: 995.4951 ms| End time: 1297.4851 ms | Train loss: 1.9917 | Val score: 1.0980\n",
      "====> Epoch 2 | Train time: 1016.5248 ms| End time: 1173.3899 ms | Train loss: 1.1065 | Val score: 1.1014\n",
      "====> Epoch 3 | Train time: 1126.1182 ms| End time: 1326.7341 ms | Train loss: 0.8938 | Val score: 1.1056\n",
      "====> Epoch 4 | Train time: 954.1430 ms| End time: 1144.9101 ms | Train loss: 0.7261 | Val score: 1.1075\n",
      "====> Epoch 5 | Train time: 908.8299 ms| End time: 1068.2809 ms | Train loss: 0.6227 | Val score: 1.0956\n",
      "====> Epoch 6 | Train time: 909.8389 ms| End time: 1129.8330 ms | Train loss: 0.5187 | Val score: 1.1133\n",
      "====> Epoch 7 | Train time: 970.5160 ms| End time: 1141.1550 ms | Train loss: 0.4802 | Val score: 1.0997\n",
      "====> Epoch 8 | Train time: 874.1581 ms| End time: 1108.0480 ms | Train loss: 0.5091 | Val score: 1.1022\n",
      "====> Epoch 9 | Train time: 1029.9609 ms| End time: 1222.7318 ms | Train loss: 0.4886 | Val score: 1.1087\n",
      "====> Epoch 10 | Train time: 1083.7941 ms| End time: 1294.7860 ms | Train loss: 0.4422 | Val score: 1.1123\n",
      "====> Epoch 11 | Train time: 909.2810 ms| End time: 1121.3191 ms | Train loss: 0.4286 | Val score: 1.1124\n",
      "====> Epoch 12 | Train time: 992.6848 ms| End time: 1230.1538 ms | Train loss: 0.3920 | Val score: 1.0990\n",
      "====> Epoch 13 | Train time: 950.3002 ms| End time: 1149.0781 ms | Train loss: 0.4194 | Val score: 1.1199\n",
      "====> Epoch 14 | Train time: 808.8090 ms| End time: 1005.2121 ms | Train loss: 0.4106 | Val score: 1.1187\n",
      "====> Epoch 15 | Train time: 769.4740 ms| End time: 919.4129 ms | Train loss: 0.3796 | Val score: 1.1168\n",
      "====> Epoch 16 | Train time: 773.0770 ms| End time: 922.5938 ms | Train loss: 0.3990 | Val score: 1.1179\n",
      "====> Epoch 17 | Train time: 775.5182 ms| End time: 934.3090 ms | Train loss: 0.3477 | Val score: 1.1132\n",
      "====> Epoch 18 | Train time: 763.1450 ms| End time: 903.2960 ms | Train loss: 0.2660 | Val score: 1.1132\n",
      "====> Epoch 19 | Train time: 777.2939 ms| End time: 929.0040 ms | Train loss: 0.2324 | Val score: 1.1133\n",
      "====> Epoch 20 | Train time: 751.7090 ms| End time: 901.0479 ms | Train loss: 0.2109 | Val score: 1.1133\n"
     ]
    }
   ],
   "source": [
    "if args.train:\n",
    "    for epoch in range(1, args.epochs + 1):\n",
    "        init = time.time()\n",
    "        \n",
    "        #method 1 scheduler\n",
    "        #scheduler.step()\n",
    "        train_loss = train(epoch, model, optimizer)\n",
    "        end_train = time.time()\n",
    "        \n",
    "        val_score = val(model, missing_matrix_w_normalized_time_val, complete_matrix_w_normalized_time_val, \n",
    "                        avai_matrix_val, nan_matrix_val)\n",
    "        save_model(model, epoch, val_score)\n",
    "        \n",
    "        '''\n",
    "        if epoch == 1:\n",
    "            current_best = val_score\n",
    "            save_model(model, epoch, val_score)\n",
    "        \n",
    "        else:\n",
    "            if val_score < current_best:\n",
    "                current_best = val_score\n",
    "                save_model(model, epoch, val_score)\n",
    "        '''\n",
    "        \n",
    "        #method 2 scheduler\n",
    "        scheduler.step(val_score)\n",
    "        \n",
    "        end = time.time()\n",
    "        print('====> Epoch {} | Train time: {:.4f} ms| End time: {:.4f} ms | Train loss: {:.4f} | Val score: {:.4f}'.\n",
    "              format(epoch, (end_train-init)*1000, (end-init)*1000, train_loss, val_score))\n",
    "else:\n",
    "    load_model(model, args.model_name)"
   ]
  },
  {
   "cell_type": "markdown",
   "metadata": {
    "collapsed": true,
    "deletable": true,
    "editable": true
   },
   "source": [
    "# Predict and evaluate"
   ]
  },
  {
   "cell_type": "code",
   "execution_count": 32,
   "metadata": {
    "collapsed": false,
    "deletable": true,
    "editable": true
   },
   "outputs": [
    {
     "name": "stdout",
     "output_type": "stream",
     "text": [
      "Predicting...\n",
      "\n",
      "\n",
      "Converting to dataframe...\n",
      "Transforming Normalized Time to Time...\n",
      "Getting submission...\n"
     ]
    },
    {
     "name": "stderr",
     "output_type": "stream",
     "text": [
      "/Users/hoangnguyen/miniconda3/envs/pydata/lib/python3.5/site-packages/pandas/core/indexing.py:517: SettingWithCopyWarning: \n",
      "A value is trying to be set on a copy of a slice from a DataFrame.\n",
      "Try using .loc[row_indexer,col_indexer] = value instead\n",
      "\n",
      "See the caveats in the documentation: http://pandas.pydata.org/pandas-docs/stable/indexing.html#indexing-view-versus-copy\n",
      "  self.obj[item] = s\n"
     ]
    },
    {
     "name": "stdout",
     "output_type": "stream",
     "text": [
      "Testing...\n",
      "Number of missing Time: 304\n",
      "Mean Absolute Error: 7.4135 day(s)\n",
      "Root Mean Squared Error: 14.9428 day(s)\n",
      "Number of missing Activity: 315\n",
      "Accuracy: 70.48%\n",
      "\n",
      "\n",
      "Saving submission...\n",
      "Done!\n"
     ]
    }
   ],
   "source": [
    "if args.test:\n",
    "    m_test = missing_matrix_w_normalized_time\n",
    "    m_test = Variable(torch.Tensor(m_test).float())\n",
    "    \n",
    "    if args.cuda:\n",
    "        m_test = m_test.cuda()\n",
    "    \n",
    "    print('Predicting...')\n",
    "    recon_test = model(m_test)\n",
    "    \n",
    "    print('\\n')\n",
    "    print('Converting to dataframe...')\n",
    "    recon_df_w_normalized_time = convert2df(recon_test, pad_matrix, cols_w_normalized_time, test_row_num)\n",
    "    \n",
    "    print('Transforming Normalized Time to Time...')\n",
    "    recon_df_w_time = getDfWithTime(recon_df_w_normalized_time, missing_true_test, min_max_storage)\n",
    "    \n",
    "    print('Getting submission...')\n",
    "    submission_df = getSubmission(recon_df_w_time, missing_true_test, complete_true_test, first_timestamp)\n",
    "    submission = fixTime(submission_df)\n",
    "    \n",
    "    print('Testing...')\n",
    "    mae_time, rmse_time, acc = evaluation(submission, nan_time_index_test, nan_activity_index_test,show=True)\n",
    "    print('\\n')\n",
    "    \n",
    "    print('Saving submission...')\n",
    "    submission_df.to_csv(args.output_dir+'submission.csv', index=False)\n",
    "    print('Done!')"
   ]
  },
  {
   "cell_type": "code",
   "execution_count": 33,
   "metadata": {
    "collapsed": false,
    "deletable": true,
    "editable": true
   },
   "outputs": [
    {
     "data": {
      "text/html": [
       "<div>\n",
       "<style>\n",
       "    .dataframe thead tr:only-child th {\n",
       "        text-align: right;\n",
       "    }\n",
       "\n",
       "    .dataframe thead th {\n",
       "        text-align: left;\n",
       "    }\n",
       "\n",
       "    .dataframe tbody tr th {\n",
       "        vertical-align: top;\n",
       "    }\n",
       "</style>\n",
       "<table border=\"1\" class=\"dataframe\">\n",
       "  <thead>\n",
       "    <tr style=\"text-align: right;\">\n",
       "      <th></th>\n",
       "      <th>CaseID</th>\n",
       "      <th>TrueActivity</th>\n",
       "      <th>PredictedActivity</th>\n",
       "      <th>TrueTime</th>\n",
       "      <th>PredictedTime</th>\n",
       "      <th>TrueCompleteTimestamp</th>\n",
       "      <th>PredictedCompleteTimestamp</th>\n",
       "    </tr>\n",
       "  </thead>\n",
       "  <tbody>\n",
       "    <tr>\n",
       "      <th>0</th>\n",
       "      <td>1190</td>\n",
       "      <td>Accepted-In Progress</td>\n",
       "      <td>Accepted-In Progress</td>\n",
       "      <td>194135680.0</td>\n",
       "      <td>1.941357e+08</td>\n",
       "      <td>2012-03-07 22:24:22</td>\n",
       "      <td>2012-03-07 22:24:22</td>\n",
       "    </tr>\n",
       "    <tr>\n",
       "      <th>1</th>\n",
       "      <td>1190</td>\n",
       "      <td>Completed-Closed</td>\n",
       "      <td>Completed-Closed</td>\n",
       "      <td>197156789.0</td>\n",
       "      <td>1.971568e+08</td>\n",
       "      <td>2012-04-11 21:36:11</td>\n",
       "      <td>2012-04-11 21:36:11</td>\n",
       "    </tr>\n",
       "    <tr>\n",
       "      <th>2</th>\n",
       "      <td>1191</td>\n",
       "      <td>Accepted-In Progress</td>\n",
       "      <td>Accepted-In Progress</td>\n",
       "      <td>194135786.0</td>\n",
       "      <td>1.941358e+08</td>\n",
       "      <td>2012-03-07 22:26:08</td>\n",
       "      <td>2012-03-07 22:26:08</td>\n",
       "    </tr>\n",
       "    <tr>\n",
       "      <th>3</th>\n",
       "      <td>1191</td>\n",
       "      <td>Completed-Closed</td>\n",
       "      <td>Completed-Closed</td>\n",
       "      <td>198348747.0</td>\n",
       "      <td>1.983487e+08</td>\n",
       "      <td>2012-04-25 16:42:09</td>\n",
       "      <td>2012-04-25 16:42:09</td>\n",
       "    </tr>\n",
       "    <tr>\n",
       "      <th>4</th>\n",
       "      <td>1192</td>\n",
       "      <td>Accepted-In Progress</td>\n",
       "      <td>Accepted-In Progress</td>\n",
       "      <td>194141794.0</td>\n",
       "      <td>1.941495e+08</td>\n",
       "      <td>2012-03-08 00:06:16</td>\n",
       "      <td>2012-03-08 02:14:52.500006</td>\n",
       "    </tr>\n",
       "    <tr>\n",
       "      <th>5</th>\n",
       "      <td>1192</td>\n",
       "      <td>Completed-Closed</td>\n",
       "      <td>Completed-Closed</td>\n",
       "      <td>194821332.0</td>\n",
       "      <td>1.986941e+08</td>\n",
       "      <td>2012-03-15 20:51:54</td>\n",
       "      <td>2012-04-29 16:38:03.100000</td>\n",
       "    </tr>\n",
       "    <tr>\n",
       "      <th>6</th>\n",
       "      <td>1193</td>\n",
       "      <td>Accepted-In Progress</td>\n",
       "      <td>Queued-Awaiting Assignment</td>\n",
       "      <td>194163235.0</td>\n",
       "      <td>1.941632e+08</td>\n",
       "      <td>2012-03-08 06:03:37</td>\n",
       "      <td>2012-03-08 06:03:37</td>\n",
       "    </tr>\n",
       "    <tr>\n",
       "      <th>7</th>\n",
       "      <td>1193</td>\n",
       "      <td>Accepted-In Progress</td>\n",
       "      <td>Accepted-In Progress</td>\n",
       "      <td>194319293.0</td>\n",
       "      <td>1.943193e+08</td>\n",
       "      <td>2012-03-10 01:24:35</td>\n",
       "      <td>2012-03-10 01:24:35</td>\n",
       "    </tr>\n",
       "    <tr>\n",
       "      <th>8</th>\n",
       "      <td>1193</td>\n",
       "      <td>Accepted-Wait</td>\n",
       "      <td>Accepted-Wait</td>\n",
       "      <td>195953439.0</td>\n",
       "      <td>1.959534e+08</td>\n",
       "      <td>2012-03-28 23:20:21</td>\n",
       "      <td>2012-03-28 23:20:21</td>\n",
       "    </tr>\n",
       "    <tr>\n",
       "      <th>9</th>\n",
       "      <td>1193</td>\n",
       "      <td>Accepted-In Progress</td>\n",
       "      <td>Accepted-In Progress</td>\n",
       "      <td>199039446.0</td>\n",
       "      <td>1.990394e+08</td>\n",
       "      <td>2012-05-03 16:33:48</td>\n",
       "      <td>2012-05-03 16:33:48</td>\n",
       "    </tr>\n",
       "  </tbody>\n",
       "</table>\n",
       "</div>"
      ],
      "text/plain": [
       "   CaseID          TrueActivity           PredictedActivity     TrueTime  \\\n",
       "0    1190  Accepted-In Progress        Accepted-In Progress  194135680.0   \n",
       "1    1190      Completed-Closed            Completed-Closed  197156789.0   \n",
       "2    1191  Accepted-In Progress        Accepted-In Progress  194135786.0   \n",
       "3    1191      Completed-Closed            Completed-Closed  198348747.0   \n",
       "4    1192  Accepted-In Progress        Accepted-In Progress  194141794.0   \n",
       "5    1192      Completed-Closed            Completed-Closed  194821332.0   \n",
       "6    1193  Accepted-In Progress  Queued-Awaiting Assignment  194163235.0   \n",
       "7    1193  Accepted-In Progress        Accepted-In Progress  194319293.0   \n",
       "8    1193         Accepted-Wait               Accepted-Wait  195953439.0   \n",
       "9    1193  Accepted-In Progress        Accepted-In Progress  199039446.0   \n",
       "\n",
       "   PredictedTime TrueCompleteTimestamp  PredictedCompleteTimestamp  \n",
       "0   1.941357e+08   2012-03-07 22:24:22         2012-03-07 22:24:22  \n",
       "1   1.971568e+08   2012-04-11 21:36:11         2012-04-11 21:36:11  \n",
       "2   1.941358e+08   2012-03-07 22:26:08         2012-03-07 22:26:08  \n",
       "3   1.983487e+08   2012-04-25 16:42:09         2012-04-25 16:42:09  \n",
       "4   1.941495e+08   2012-03-08 00:06:16  2012-03-08 02:14:52.500006  \n",
       "5   1.986941e+08   2012-03-15 20:51:54  2012-04-29 16:38:03.100000  \n",
       "6   1.941632e+08   2012-03-08 06:03:37         2012-03-08 06:03:37  \n",
       "7   1.943193e+08   2012-03-10 01:24:35         2012-03-10 01:24:35  \n",
       "8   1.959534e+08   2012-03-28 23:20:21         2012-03-28 23:20:21  \n",
       "9   1.990394e+08   2012-05-03 16:33:48         2012-05-03 16:33:48  "
      ]
     },
     "execution_count": 33,
     "metadata": {},
     "output_type": "execute_result"
    }
   ],
   "source": [
    "submission_df.head(10)"
   ]
  },
  {
   "cell_type": "code",
   "execution_count": 34,
   "metadata": {
    "collapsed": false,
    "deletable": true,
    "editable": true
   },
   "outputs": [
    {
     "data": {
      "text/html": [
       "<div>\n",
       "<style>\n",
       "    .dataframe thead tr:only-child th {\n",
       "        text-align: right;\n",
       "    }\n",
       "\n",
       "    .dataframe thead th {\n",
       "        text-align: left;\n",
       "    }\n",
       "\n",
       "    .dataframe tbody tr th {\n",
       "        vertical-align: top;\n",
       "    }\n",
       "</style>\n",
       "<table border=\"1\" class=\"dataframe\">\n",
       "  <thead>\n",
       "    <tr style=\"text-align: right;\">\n",
       "      <th></th>\n",
       "      <th>CaseID</th>\n",
       "      <th>TrueActivity</th>\n",
       "      <th>PredictedActivity</th>\n",
       "      <th>TrueTime</th>\n",
       "      <th>PredictedTime</th>\n",
       "      <th>TrueCompleteTimestamp</th>\n",
       "      <th>PredictedCompleteTimestamp</th>\n",
       "    </tr>\n",
       "  </thead>\n",
       "  <tbody>\n",
       "    <tr>\n",
       "      <th>0</th>\n",
       "      <td>1190</td>\n",
       "      <td>Accepted-In Progress</td>\n",
       "      <td>Accepted-In Progress</td>\n",
       "      <td>194135680.0</td>\n",
       "      <td>1.941357e+08</td>\n",
       "      <td>2012-03-07 22:24:22</td>\n",
       "      <td>2012-03-07 22:24:22</td>\n",
       "    </tr>\n",
       "    <tr>\n",
       "      <th>1</th>\n",
       "      <td>1190</td>\n",
       "      <td>Completed-Closed</td>\n",
       "      <td>Completed-Closed</td>\n",
       "      <td>197156789.0</td>\n",
       "      <td>1.971568e+08</td>\n",
       "      <td>2012-04-11 21:36:11</td>\n",
       "      <td>2012-04-11 21:36:11</td>\n",
       "    </tr>\n",
       "    <tr>\n",
       "      <th>2</th>\n",
       "      <td>1191</td>\n",
       "      <td>Accepted-In Progress</td>\n",
       "      <td>Accepted-In Progress</td>\n",
       "      <td>194135786.0</td>\n",
       "      <td>1.941358e+08</td>\n",
       "      <td>2012-03-07 22:26:08</td>\n",
       "      <td>2012-03-07 22:26:08</td>\n",
       "    </tr>\n",
       "    <tr>\n",
       "      <th>3</th>\n",
       "      <td>1191</td>\n",
       "      <td>Completed-Closed</td>\n",
       "      <td>Completed-Closed</td>\n",
       "      <td>198348747.0</td>\n",
       "      <td>1.983487e+08</td>\n",
       "      <td>2012-04-25 16:42:09</td>\n",
       "      <td>2012-04-25 16:42:09</td>\n",
       "    </tr>\n",
       "    <tr>\n",
       "      <th>4</th>\n",
       "      <td>1192</td>\n",
       "      <td>Accepted-In Progress</td>\n",
       "      <td>Accepted-In Progress</td>\n",
       "      <td>194141794.0</td>\n",
       "      <td>1.941495e+08</td>\n",
       "      <td>2012-03-08 00:06:16</td>\n",
       "      <td>2012-03-08 02:14:52.500006</td>\n",
       "    </tr>\n",
       "    <tr>\n",
       "      <th>5</th>\n",
       "      <td>1192</td>\n",
       "      <td>Completed-Closed</td>\n",
       "      <td>Completed-Closed</td>\n",
       "      <td>194821332.0</td>\n",
       "      <td>1.986941e+08</td>\n",
       "      <td>2012-03-15 20:51:54</td>\n",
       "      <td>2012-04-29 16:38:03.100000</td>\n",
       "    </tr>\n",
       "    <tr>\n",
       "      <th>6</th>\n",
       "      <td>1193</td>\n",
       "      <td>Accepted-In Progress</td>\n",
       "      <td>Queued-Awaiting Assignment</td>\n",
       "      <td>194163235.0</td>\n",
       "      <td>1.941632e+08</td>\n",
       "      <td>2012-03-08 06:03:37</td>\n",
       "      <td>2012-03-08 06:03:37</td>\n",
       "    </tr>\n",
       "    <tr>\n",
       "      <th>7</th>\n",
       "      <td>1193</td>\n",
       "      <td>Accepted-In Progress</td>\n",
       "      <td>Accepted-In Progress</td>\n",
       "      <td>194319293.0</td>\n",
       "      <td>1.943193e+08</td>\n",
       "      <td>2012-03-10 01:24:35</td>\n",
       "      <td>2012-03-10 01:24:35</td>\n",
       "    </tr>\n",
       "    <tr>\n",
       "      <th>8</th>\n",
       "      <td>1193</td>\n",
       "      <td>Accepted-Wait</td>\n",
       "      <td>Accepted-Wait</td>\n",
       "      <td>195953439.0</td>\n",
       "      <td>1.959534e+08</td>\n",
       "      <td>2012-03-28 23:20:21</td>\n",
       "      <td>2012-03-28 23:20:21</td>\n",
       "    </tr>\n",
       "    <tr>\n",
       "      <th>9</th>\n",
       "      <td>1193</td>\n",
       "      <td>Accepted-In Progress</td>\n",
       "      <td>Accepted-In Progress</td>\n",
       "      <td>199039446.0</td>\n",
       "      <td>1.990394e+08</td>\n",
       "      <td>2012-05-03 16:33:48</td>\n",
       "      <td>2012-05-03 16:33:48</td>\n",
       "    </tr>\n",
       "  </tbody>\n",
       "</table>\n",
       "</div>"
      ],
      "text/plain": [
       "  CaseID          TrueActivity           PredictedActivity     TrueTime  \\\n",
       "0   1190  Accepted-In Progress        Accepted-In Progress  194135680.0   \n",
       "1   1190      Completed-Closed            Completed-Closed  197156789.0   \n",
       "2   1191  Accepted-In Progress        Accepted-In Progress  194135786.0   \n",
       "3   1191      Completed-Closed            Completed-Closed  198348747.0   \n",
       "4   1192  Accepted-In Progress        Accepted-In Progress  194141794.0   \n",
       "5   1192      Completed-Closed            Completed-Closed  194821332.0   \n",
       "6   1193  Accepted-In Progress  Queued-Awaiting Assignment  194163235.0   \n",
       "7   1193  Accepted-In Progress        Accepted-In Progress  194319293.0   \n",
       "8   1193         Accepted-Wait               Accepted-Wait  195953439.0   \n",
       "9   1193  Accepted-In Progress        Accepted-In Progress  199039446.0   \n",
       "\n",
       "   PredictedTime TrueCompleteTimestamp  PredictedCompleteTimestamp  \n",
       "0   1.941357e+08   2012-03-07 22:24:22         2012-03-07 22:24:22  \n",
       "1   1.971568e+08   2012-04-11 21:36:11         2012-04-11 21:36:11  \n",
       "2   1.941358e+08   2012-03-07 22:26:08         2012-03-07 22:26:08  \n",
       "3   1.983487e+08   2012-04-25 16:42:09         2012-04-25 16:42:09  \n",
       "4   1.941495e+08   2012-03-08 00:06:16  2012-03-08 02:14:52.500006  \n",
       "5   1.986941e+08   2012-03-15 20:51:54  2012-04-29 16:38:03.100000  \n",
       "6   1.941632e+08   2012-03-08 06:03:37         2012-03-08 06:03:37  \n",
       "7   1.943193e+08   2012-03-10 01:24:35         2012-03-10 01:24:35  \n",
       "8   1.959534e+08   2012-03-28 23:20:21         2012-03-28 23:20:21  \n",
       "9   1.990394e+08   2012-05-03 16:33:48         2012-05-03 16:33:48  "
      ]
     },
     "execution_count": 34,
     "metadata": {},
     "output_type": "execute_result"
    }
   ],
   "source": [
    "submission.head(10)"
   ]
  }
 ],
 "metadata": {
  "kernelspec": {
   "display_name": "Python 3",
   "language": "python",
   "name": "python3"
  },
  "language_info": {
   "codemirror_mode": {
    "name": "ipython",
    "version": 3
   },
   "file_extension": ".py",
   "mimetype": "text/x-python",
   "name": "python",
   "nbconvert_exporter": "python",
   "pygments_lexer": "ipython3",
   "version": "3.5.2"
  },
  "toc": {
   "colors": {
    "hover_highlight": "#DAA520",
    "running_highlight": "#FF0000",
    "selected_highlight": "#FFD700"
   },
   "moveMenuLeft": true,
   "nav_menu": {
    "height": "48px",
    "width": "252px"
   },
   "navigate_menu": true,
   "number_sections": true,
   "sideBar": true,
   "threshold": 4,
   "toc_cell": false,
   "toc_section_display": "block",
   "toc_window_display": false
  }
 },
 "nbformat": 4,
 "nbformat_minor": 2
}
