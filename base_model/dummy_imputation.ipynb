{
 "cells": [
  {
   "cell_type": "markdown",
   "metadata": {},
   "source": [
    "**Outline:**"
   ]
  },
  {
   "cell_type": "code",
   "execution_count": 1,
   "metadata": {
    "collapsed": true
   },
   "outputs": [],
   "source": [
    "import importlib\n",
    "import argparse\n",
    "import os, sys\n",
    "import argparse\n",
    "import pandas as pd\n",
    "import numpy as np\n",
    "import pickle\n",
    "from math import sqrt"
   ]
  },
  {
   "cell_type": "code",
   "execution_count": 2,
   "metadata": {
    "collapsed": true
   },
   "outputs": [],
   "source": [
    "from sklearn.preprocessing import Imputer\n",
    "from sklearn.metrics import mean_absolute_error, mean_squared_error\n",
    "from sklearn.metrics import accuracy_score, log_loss"
   ]
  },
  {
   "cell_type": "code",
   "execution_count": 3,
   "metadata": {
    "collapsed": true
   },
   "outputs": [],
   "source": [
    "sys.path.insert(0, './../utils/')\n",
    "from utils import *"
   ]
  },
  {
   "cell_type": "code",
   "execution_count": 4,
   "metadata": {
    "collapsed": true
   },
   "outputs": [],
   "source": [
    "#Define parser\n",
    "#name = 'bpi_2012'\n",
    "name = 'bpi_2013'\n",
    "#name = 'helpdesk'  \n",
    "\n",
    "parser = {\n",
    "    'data_file': name + '.csv',\n",
    "    'nan_pct': 0.5,\n",
    "    'input_dir': '../input/{}/'.format(name), \n",
    "    'output_dir': './output/{}/'.format(name),\n",
    "}\n",
    "\n",
    "args = argparse.Namespace(**parser)"
   ]
  },
  {
   "cell_type": "code",
   "execution_count": 5,
   "metadata": {
    "collapsed": true
   },
   "outputs": [],
   "source": [
    "file_name = os.path.join(args.input_dir, 'parameters_{}.pkl'.format(args.nan_pct))\n",
    "with open(file_name, 'rb') as f:\n",
    "    most_frequent_activity = pickle.load(f)\n",
    "    first_timestamp = pickle.load(f)\n",
    "    avai_instance = pickle.load(f)\n",
    "    nan_instance = pickle.load(f)\n",
    "    train_size = pickle.load(f)\n",
    "    val_size = pickle.load(f)\n",
    "    test_size = pickle.load(f)\n",
    "    train_row_num = pickle.load(f)\n",
    "    val_row_num = pickle.load(f)\n",
    "    test_row_num = pickle.load(f)"
   ]
  },
  {
   "cell_type": "markdown",
   "metadata": {},
   "source": [
    "# Load data"
   ]
  },
  {
   "cell_type": "code",
   "execution_count": 6,
   "metadata": {
    "collapsed": true
   },
   "outputs": [],
   "source": [
    "normalized_complete_df_name = os.path.join(args.input_dir, 'normalized_complete_df_{}.pkl'.format(args.nan_pct))\n",
    "normalized_complete_df = pd.read_csv(normalized_complete_df_name)\n",
    "\n",
    "normalized_missing_df_name = os.path.join(args.input_dir, 'normalized_missing_df_{}.pkl'.format(args.nan_pct))\n",
    "normalized_missing_df = pd.read_csv(normalized_missing_df_name)"
   ]
  },
  {
   "cell_type": "code",
   "execution_count": 7,
   "metadata": {
    "collapsed": true
   },
   "outputs": [],
   "source": [
    "missing_true_test = normalized_missing_df[-test_row_num:].reset_index(drop=True)\n",
    "complete_true_test = normalized_complete_df[-test_row_num:].reset_index(drop=True)"
   ]
  },
  {
   "cell_type": "code",
   "execution_count": 8,
   "metadata": {},
   "outputs": [
    {
     "data": {
      "text/html": [
       "<div>\n",
       "<style>\n",
       "    .dataframe thead tr:only-child th {\n",
       "        text-align: right;\n",
       "    }\n",
       "\n",
       "    .dataframe thead th {\n",
       "        text-align: left;\n",
       "    }\n",
       "\n",
       "    .dataframe tbody tr th {\n",
       "        vertical-align: top;\n",
       "    }\n",
       "</style>\n",
       "<table border=\"1\" class=\"dataframe\">\n",
       "  <thead>\n",
       "    <tr style=\"text-align: right;\">\n",
       "      <th></th>\n",
       "      <th>CaseID</th>\n",
       "      <th>Activity</th>\n",
       "      <th>CompleteTimestamp</th>\n",
       "      <th>CumTimeInterval</th>\n",
       "      <th>NormalizedTime</th>\n",
       "    </tr>\n",
       "  </thead>\n",
       "  <tbody>\n",
       "    <tr>\n",
       "      <th>0</th>\n",
       "      <td>1190</td>\n",
       "      <td>NaN</td>\n",
       "      <td>2012-03-07 22:24:22</td>\n",
       "      <td>194135680.0</td>\n",
       "      <td>0.0</td>\n",
       "    </tr>\n",
       "    <tr>\n",
       "      <th>1</th>\n",
       "      <td>1190</td>\n",
       "      <td>NaN</td>\n",
       "      <td>2012-04-11 21:36:11</td>\n",
       "      <td>197156789.0</td>\n",
       "      <td>1.0</td>\n",
       "    </tr>\n",
       "    <tr>\n",
       "      <th>2</th>\n",
       "      <td>1191</td>\n",
       "      <td>Accepted-In Progress</td>\n",
       "      <td>2012-03-07 22:26:08</td>\n",
       "      <td>194135786.0</td>\n",
       "      <td>0.0</td>\n",
       "    </tr>\n",
       "    <tr>\n",
       "      <th>3</th>\n",
       "      <td>1191</td>\n",
       "      <td>NaN</td>\n",
       "      <td>2012-04-25 16:42:09</td>\n",
       "      <td>198348747.0</td>\n",
       "      <td>1.0</td>\n",
       "    </tr>\n",
       "    <tr>\n",
       "      <th>4</th>\n",
       "      <td>1192</td>\n",
       "      <td>NaN</td>\n",
       "      <td>2012-03-08 00:06:16</td>\n",
       "      <td>194141794.0</td>\n",
       "      <td>0.0</td>\n",
       "    </tr>\n",
       "  </tbody>\n",
       "</table>\n",
       "</div>"
      ],
      "text/plain": [
       "   CaseID              Activity    CompleteTimestamp  CumTimeInterval  \\\n",
       "0    1190                   NaN  2012-03-07 22:24:22      194135680.0   \n",
       "1    1190                   NaN  2012-04-11 21:36:11      197156789.0   \n",
       "2    1191  Accepted-In Progress  2012-03-07 22:26:08      194135786.0   \n",
       "3    1191                   NaN  2012-04-25 16:42:09      198348747.0   \n",
       "4    1192                   NaN  2012-03-08 00:06:16      194141794.0   \n",
       "\n",
       "   NormalizedTime  \n",
       "0             0.0  \n",
       "1             1.0  \n",
       "2             0.0  \n",
       "3             1.0  \n",
       "4             0.0  "
      ]
     },
     "execution_count": 8,
     "metadata": {},
     "output_type": "execute_result"
    }
   ],
   "source": [
    "missing_true_test.head()"
   ]
  },
  {
   "cell_type": "code",
   "execution_count": 9,
   "metadata": {
    "collapsed": true
   },
   "outputs": [],
   "source": [
    "missing_test = missing_true_test.copy()\n",
    "missing_test['CompleteTimestamp'] = pd.to_datetime(missing_test['CompleteTimestamp'])\n",
    "missing_test = calculateTimeInterval(missing_test)\n",
    "missing_test['TimeInterval'] = missing_test['TimeInterval'].apply(convert2seconds)"
   ]
  },
  {
   "cell_type": "code",
   "execution_count": 10,
   "metadata": {
    "collapsed": true
   },
   "outputs": [],
   "source": [
    "#Replace duration of starting activity with nan\n",
    "for row in range(missing_test.shape[0]):\n",
    "    if missing_test['CaseID'].iloc[row] != missing_test['CaseID'].iloc[row-1]:\n",
    "        missing_test.loc[row, 'TimeInterval'] = np.nan"
   ]
  },
  {
   "cell_type": "code",
   "execution_count": 11,
   "metadata": {},
   "outputs": [
    {
     "data": {
      "text/plain": [
       "CaseID                 0\n",
       "Activity             545\n",
       "CompleteTimestamp    548\n",
       "CumTimeInterval      548\n",
       "NormalizedTime       548\n",
       "TimeInterval         891\n",
       "dtype: int64"
      ]
     },
     "execution_count": 11,
     "metadata": {},
     "output_type": "execute_result"
    }
   ],
   "source": [
    "pd.isnull(missing_test).sum()"
   ]
  },
  {
   "cell_type": "markdown",
   "metadata": {},
   "source": [
    "# Impute Time"
   ]
  },
  {
   "cell_type": "markdown",
   "metadata": {},
   "source": [
    "## Dummy 1"
   ]
  },
  {
   "cell_type": "code",
   "execution_count": 12,
   "metadata": {
    "collapsed": true
   },
   "outputs": [],
   "source": [
    "missing_time = missing_test['TimeInterval']\n",
    "true_time = complete_true_test['CumTimeInterval']"
   ]
  },
  {
   "cell_type": "code",
   "execution_count": 13,
   "metadata": {},
   "outputs": [
    {
     "name": "stdout",
     "output_type": "stream",
     "text": [
      "Check number of nan Time...\n",
      "True\n"
     ]
    }
   ],
   "source": [
    "avai_time_index = []\n",
    "for row in range(missing_test.shape[0]):\n",
    "    if not pd.isnull(missing_test.CompleteTimestamp[row]):\n",
    "        avai_time_index.append(row)\n",
    "\n",
    "print('Check number of nan Time...')\n",
    "print(missing_test.shape[0] - len(avai_time_index) == pd.isnull(missing_test).sum()['CompleteTimestamp'])"
   ]
  },
  {
   "cell_type": "code",
   "execution_count": 14,
   "metadata": {
    "collapsed": true
   },
   "outputs": [],
   "source": [
    "temp = missing_test.copy()"
   ]
  },
  {
   "cell_type": "code",
   "execution_count": 15,
   "metadata": {},
   "outputs": [
    {
     "data": {
      "text/html": [
       "<div>\n",
       "<style>\n",
       "    .dataframe thead tr:only-child th {\n",
       "        text-align: right;\n",
       "    }\n",
       "\n",
       "    .dataframe thead th {\n",
       "        text-align: left;\n",
       "    }\n",
       "\n",
       "    .dataframe tbody tr th {\n",
       "        vertical-align: top;\n",
       "    }\n",
       "</style>\n",
       "<table border=\"1\" class=\"dataframe\">\n",
       "  <thead>\n",
       "    <tr style=\"text-align: right;\">\n",
       "      <th></th>\n",
       "      <th>CaseID</th>\n",
       "      <th>Activity</th>\n",
       "      <th>CompleteTimestamp</th>\n",
       "      <th>CumTimeInterval</th>\n",
       "      <th>NormalizedTime</th>\n",
       "      <th>TimeInterval</th>\n",
       "    </tr>\n",
       "  </thead>\n",
       "  <tbody>\n",
       "    <tr>\n",
       "      <th>0</th>\n",
       "      <td>1190</td>\n",
       "      <td>NaN</td>\n",
       "      <td>2012-03-07 22:24:22</td>\n",
       "      <td>194135680.0</td>\n",
       "      <td>0.0</td>\n",
       "      <td>NaN</td>\n",
       "    </tr>\n",
       "    <tr>\n",
       "      <th>1</th>\n",
       "      <td>1190</td>\n",
       "      <td>NaN</td>\n",
       "      <td>2012-04-11 21:36:11</td>\n",
       "      <td>197156789.0</td>\n",
       "      <td>1.0</td>\n",
       "      <td>3021109.0</td>\n",
       "    </tr>\n",
       "    <tr>\n",
       "      <th>2</th>\n",
       "      <td>1191</td>\n",
       "      <td>Accepted-In Progress</td>\n",
       "      <td>2012-03-07 22:26:08</td>\n",
       "      <td>194135786.0</td>\n",
       "      <td>0.0</td>\n",
       "      <td>NaN</td>\n",
       "    </tr>\n",
       "    <tr>\n",
       "      <th>3</th>\n",
       "      <td>1191</td>\n",
       "      <td>NaN</td>\n",
       "      <td>2012-04-25 16:42:09</td>\n",
       "      <td>198348747.0</td>\n",
       "      <td>1.0</td>\n",
       "      <td>4212961.0</td>\n",
       "    </tr>\n",
       "    <tr>\n",
       "      <th>4</th>\n",
       "      <td>1192</td>\n",
       "      <td>NaN</td>\n",
       "      <td>2012-03-08 00:06:16</td>\n",
       "      <td>194141794.0</td>\n",
       "      <td>0.0</td>\n",
       "      <td>NaN</td>\n",
       "    </tr>\n",
       "  </tbody>\n",
       "</table>\n",
       "</div>"
      ],
      "text/plain": [
       "   CaseID              Activity   CompleteTimestamp  CumTimeInterval  \\\n",
       "0    1190                   NaN 2012-03-07 22:24:22      194135680.0   \n",
       "1    1190                   NaN 2012-04-11 21:36:11      197156789.0   \n",
       "2    1191  Accepted-In Progress 2012-03-07 22:26:08      194135786.0   \n",
       "3    1191                   NaN 2012-04-25 16:42:09      198348747.0   \n",
       "4    1192                   NaN 2012-03-08 00:06:16      194141794.0   \n",
       "\n",
       "   NormalizedTime  TimeInterval  \n",
       "0             0.0           NaN  \n",
       "1             1.0     3021109.0  \n",
       "2             0.0           NaN  \n",
       "3             1.0     4212961.0  \n",
       "4             0.0           NaN  "
      ]
     },
     "execution_count": 15,
     "metadata": {},
     "output_type": "execute_result"
    }
   ],
   "source": [
    "temp.head()"
   ]
  },
  {
   "cell_type": "code",
   "execution_count": 16,
   "metadata": {},
   "outputs": [
    {
     "data": {
      "text/plain": [
       "(5968.5, 598635.98333333328)"
      ]
     },
     "execution_count": 16,
     "metadata": {},
     "output_type": "execute_result"
    }
   ],
   "source": [
    "temp['TimeInterval'].median(), temp['TimeInterval'].mean()"
   ]
  },
  {
   "cell_type": "code",
   "execution_count": 17,
   "metadata": {
    "collapsed": true
   },
   "outputs": [],
   "source": [
    "median_imputation = temp['TimeInterval'].fillna(value=temp['TimeInterval'].median())\n",
    "mean_imputation = temp['TimeInterval'].fillna(value=temp['TimeInterval'].mean())"
   ]
  },
  {
   "cell_type": "code",
   "execution_count": 18,
   "metadata": {
    "collapsed": true
   },
   "outputs": [],
   "source": [
    "temp['Median'] = median_imputation\n",
    "temp['Mean'] = mean_imputation"
   ]
  },
  {
   "cell_type": "code",
   "execution_count": 19,
   "metadata": {
    "collapsed": true
   },
   "outputs": [],
   "source": [
    "current_CumMedian = 0\n",
    "current_CumMean = 0\n",
    "\n",
    "CumTimeInterval_Median = []\n",
    "CumTimeInterval_Mean = []\n",
    "\n",
    "for row in range(temp.shape[0]):\n",
    "    if not pd.isnull(temp.CumTimeInterval[row]):\n",
    "        current_CumMedian = temp.CumTimeInterval[row]\n",
    "        current_CumMean =temp.CumTimeInterval[row]\n",
    "    else:\n",
    "        current_CumMedian += temp.Median[row]\n",
    "        current_CumMean += temp.Mean[row]\n",
    "        \n",
    "    CumTimeInterval_Median.append(current_CumMedian)\n",
    "    CumTimeInterval_Mean.append(current_CumMean)"
   ]
  },
  {
   "cell_type": "code",
   "execution_count": 20,
   "metadata": {
    "collapsed": true
   },
   "outputs": [],
   "source": [
    "temp['CumTimeInterval_Median'] = CumTimeInterval_Median\n",
    "temp['CumTimeInterval_Mean'] = CumTimeInterval_Mean"
   ]
  },
  {
   "cell_type": "code",
   "execution_count": 21,
   "metadata": {
    "collapsed": true
   },
   "outputs": [],
   "source": [
    "median_imputation = temp['CumTimeInterval_Median'].drop(temp['CumTimeInterval_Median'].index[avai_time_index])\n",
    "mean_imputation = temp['CumTimeInterval_Mean'].drop(temp['CumTimeInterval_Mean'].index[avai_time_index])\n",
    "\n",
    "true_time = true_time.drop(true_time.index[avai_time_index])"
   ]
  },
  {
   "cell_type": "code",
   "execution_count": 22,
   "metadata": {},
   "outputs": [
    {
     "name": "stdout",
     "output_type": "stream",
     "text": [
      "Impute with Median\n",
      "MAE: 879973.2245 seconds | 10.1849 days\n",
      "RMSE: 1597075.0141 seconds | 18.4847 days\n",
      "\n",
      "\n",
      "Impute with Mean\n",
      "MAE: 1650889.7465 seconds | 19.1075 days\n",
      "RMSE: 2328316.8964 seconds | 26.9481 days\n"
     ]
    }
   ],
   "source": [
    "print('Impute with Median')\n",
    "print('MAE: {:.4f} seconds | {:.4f} days'.format(mean_absolute_error(true_time, median_imputation), \n",
    "                                                 mean_absolute_error(true_time, median_imputation)/86400))\n",
    "print('RMSE: {:.4f} seconds | {:.4f} days'.format(sqrt(mean_squared_error(true_time, median_imputation)),\n",
    "                                                  sqrt(mean_squared_error(true_time, median_imputation))/86400))\n",
    "print('\\n')\n",
    "print('Impute with Mean')\n",
    "print('MAE: {:.4f} seconds | {:.4f} days'.format(mean_absolute_error(true_time, mean_imputation),\n",
    "                                                 mean_absolute_error(true_time, mean_imputation)/86400))\n",
    "print('RMSE: {:.4f} seconds | {:.4f} days'.format(sqrt(mean_squared_error(true_time, mean_imputation)),\n",
    "                                                  sqrt(mean_squared_error(true_time, mean_imputation))/86400))"
   ]
  },
  {
   "cell_type": "markdown",
   "metadata": {},
   "source": [
    "## Dummy 2"
   ]
  },
  {
   "cell_type": "code",
   "execution_count": 23,
   "metadata": {
    "collapsed": true
   },
   "outputs": [],
   "source": [
    "missing_groupByActivity = missing_test.groupby(['Activity'])\n",
    "\n",
    "missing_median_duration_activity = {}\n",
    "missing_mean_duration_activity = {}\n",
    "missing_min_duration_activity = {}\n",
    "missing_max_duration_activity = {}\n",
    "\n",
    "for activity, group in missing_groupByActivity:\n",
    "    missing_median_duration_activity[activity] = group['TimeInterval'].median()\n",
    "    missing_mean_duration_activity[activity] = group['TimeInterval'].mean()\n",
    "    missing_min_duration_activity[activity] = group['TimeInterval'].min()\n",
    "    missing_max_duration_activity[activity] = group['TimeInterval'].max()"
   ]
  },
  {
   "cell_type": "code",
   "execution_count": 24,
   "metadata": {},
   "outputs": [
    {
     "data": {
      "text/plain": [
       "{'Accepted-Assigned': 243519.20000000001,\n",
       " 'Accepted-In Progress': 497692.0,\n",
       " 'Accepted-Wait': 440961.375,\n",
       " 'Completed-Closed': 1087193.4318181819,\n",
       " 'Queued-Awaiting Assignment': 491890.63636363635}"
      ]
     },
     "execution_count": 24,
     "metadata": {},
     "output_type": "execute_result"
    }
   ],
   "source": [
    "missing_mean_duration_activity"
   ]
  },
  {
   "cell_type": "code",
   "execution_count": 25,
   "metadata": {
    "collapsed": true
   },
   "outputs": [],
   "source": [
    "temp = missing_test.copy()"
   ]
  },
  {
   "cell_type": "code",
   "execution_count": 26,
   "metadata": {},
   "outputs": [
    {
     "data": {
      "text/html": [
       "<div>\n",
       "<style>\n",
       "    .dataframe thead tr:only-child th {\n",
       "        text-align: right;\n",
       "    }\n",
       "\n",
       "    .dataframe thead th {\n",
       "        text-align: left;\n",
       "    }\n",
       "\n",
       "    .dataframe tbody tr th {\n",
       "        vertical-align: top;\n",
       "    }\n",
       "</style>\n",
       "<table border=\"1\" class=\"dataframe\">\n",
       "  <thead>\n",
       "    <tr style=\"text-align: right;\">\n",
       "      <th></th>\n",
       "      <th>CaseID</th>\n",
       "      <th>Activity</th>\n",
       "      <th>CompleteTimestamp</th>\n",
       "      <th>CumTimeInterval</th>\n",
       "      <th>NormalizedTime</th>\n",
       "      <th>TimeInterval</th>\n",
       "    </tr>\n",
       "  </thead>\n",
       "  <tbody>\n",
       "    <tr>\n",
       "      <th>0</th>\n",
       "      <td>1190</td>\n",
       "      <td>NaN</td>\n",
       "      <td>2012-03-07 22:24:22</td>\n",
       "      <td>194135680.0</td>\n",
       "      <td>0.0</td>\n",
       "      <td>NaN</td>\n",
       "    </tr>\n",
       "    <tr>\n",
       "      <th>1</th>\n",
       "      <td>1190</td>\n",
       "      <td>NaN</td>\n",
       "      <td>2012-04-11 21:36:11</td>\n",
       "      <td>197156789.0</td>\n",
       "      <td>1.0</td>\n",
       "      <td>3021109.0</td>\n",
       "    </tr>\n",
       "    <tr>\n",
       "      <th>2</th>\n",
       "      <td>1191</td>\n",
       "      <td>Accepted-In Progress</td>\n",
       "      <td>2012-03-07 22:26:08</td>\n",
       "      <td>194135786.0</td>\n",
       "      <td>0.0</td>\n",
       "      <td>NaN</td>\n",
       "    </tr>\n",
       "    <tr>\n",
       "      <th>3</th>\n",
       "      <td>1191</td>\n",
       "      <td>NaN</td>\n",
       "      <td>2012-04-25 16:42:09</td>\n",
       "      <td>198348747.0</td>\n",
       "      <td>1.0</td>\n",
       "      <td>4212961.0</td>\n",
       "    </tr>\n",
       "    <tr>\n",
       "      <th>4</th>\n",
       "      <td>1192</td>\n",
       "      <td>NaN</td>\n",
       "      <td>2012-03-08 00:06:16</td>\n",
       "      <td>194141794.0</td>\n",
       "      <td>0.0</td>\n",
       "      <td>NaN</td>\n",
       "    </tr>\n",
       "  </tbody>\n",
       "</table>\n",
       "</div>"
      ],
      "text/plain": [
       "   CaseID              Activity   CompleteTimestamp  CumTimeInterval  \\\n",
       "0    1190                   NaN 2012-03-07 22:24:22      194135680.0   \n",
       "1    1190                   NaN 2012-04-11 21:36:11      197156789.0   \n",
       "2    1191  Accepted-In Progress 2012-03-07 22:26:08      194135786.0   \n",
       "3    1191                   NaN 2012-04-25 16:42:09      198348747.0   \n",
       "4    1192                   NaN 2012-03-08 00:06:16      194141794.0   \n",
       "\n",
       "   NormalizedTime  TimeInterval  \n",
       "0             0.0           NaN  \n",
       "1             1.0     3021109.0  \n",
       "2             0.0           NaN  \n",
       "3             1.0     4212961.0  \n",
       "4             0.0           NaN  "
      ]
     },
     "execution_count": 26,
     "metadata": {},
     "output_type": "execute_result"
    }
   ],
   "source": [
    "temp.head()"
   ]
  },
  {
   "cell_type": "code",
   "execution_count": 27,
   "metadata": {
    "collapsed": true
   },
   "outputs": [],
   "source": [
    "#Replace NaN duration with median and mean\n",
    "temp['Median'] = temp['TimeInterval'].copy()\n",
    "temp['Mean'] = temp['TimeInterval'].copy()\n",
    "\n",
    "for row in range(temp.shape[0]):\n",
    "    if pd.isnull(temp.CumTimeInterval.loc[row]) and pd.isnull(temp.Activity.loc[row]):\n",
    "        temp.loc[row, 'Median'] = missing_median_duration_activity[most_frequent_activity]\n",
    "        temp.loc[row, 'Mean'] = missing_mean_duration_activity[most_frequent_activity]\n",
    "    elif pd.isnull(temp.CumTimeInterval.loc[row]) and not pd.isnull(temp.Activity.loc[row]):\n",
    "        temp.loc[row, 'Median'] = missing_median_duration_activity[temp.Activity.loc[row]]\n",
    "        temp.loc[row, 'Mean'] = missing_mean_duration_activity[temp.Activity.loc[row]]"
   ]
  },
  {
   "cell_type": "code",
   "execution_count": 28,
   "metadata": {
    "collapsed": true
   },
   "outputs": [],
   "source": [
    "current_CumMedian = 0\n",
    "current_CumMean = 0\n",
    "\n",
    "CumTimeInterval_Median = []\n",
    "CumTimeInterval_Mean = []\n",
    "\n",
    "for row in range(temp.shape[0]):\n",
    "    if not pd.isnull(temp.CumTimeInterval[row]):\n",
    "        current_CumMedian = temp.CumTimeInterval[row]\n",
    "        current_CumMean =temp.CumTimeInterval[row]\n",
    "    else:\n",
    "        current_CumMedian += temp.Median[row]\n",
    "        current_CumMean += temp.Mean[row]\n",
    "        \n",
    "    CumTimeInterval_Median.append(current_CumMedian)\n",
    "    CumTimeInterval_Mean.append(current_CumMean)"
   ]
  },
  {
   "cell_type": "code",
   "execution_count": 29,
   "metadata": {
    "collapsed": true
   },
   "outputs": [],
   "source": [
    "temp['CumTimeInterval_Median'] = CumTimeInterval_Median\n",
    "temp['CumTimeInterval_Mean'] = CumTimeInterval_Mean"
   ]
  },
  {
   "cell_type": "code",
   "execution_count": 30,
   "metadata": {
    "collapsed": true
   },
   "outputs": [],
   "source": [
    "median_imputation = temp['CumTimeInterval_Median'].drop(temp['CumTimeInterval_Median'].index[avai_time_index])\n",
    "mean_imputation = temp['CumTimeInterval_Mean'].drop(temp['CumTimeInterval_Mean'].index[avai_time_index])"
   ]
  },
  {
   "cell_type": "code",
   "execution_count": 31,
   "metadata": {},
   "outputs": [
    {
     "name": "stdout",
     "output_type": "stream",
     "text": [
      "Impute with Median\n",
      "MAE: 924564.7299 seconds | 10.7010 days\n",
      "RMSE: 1600738.1950 seconds | 18.5271 days\n",
      "\n",
      "\n",
      "Impute with Mean\n",
      "MAE: 1606068.3253 seconds | 18.5888 days\n",
      "RMSE: 2273180.8845 seconds | 26.3100 days\n"
     ]
    }
   ],
   "source": [
    "print('Impute with Median')\n",
    "print('MAE: {:.4f} seconds | {:.4f} days'.format(mean_absolute_error(true_time, median_imputation), \n",
    "                                                 mean_absolute_error(true_time, median_imputation)/86400))\n",
    "print('RMSE: {:.4f} seconds | {:.4f} days'.format(sqrt(mean_squared_error(true_time, median_imputation)),\n",
    "                                                  sqrt(mean_squared_error(true_time, median_imputation))/86400))\n",
    "\n",
    "print('\\n')\n",
    "\n",
    "print('Impute with Mean')\n",
    "print('MAE: {:.4f} seconds | {:.4f} days'.format(mean_absolute_error(true_time, mean_imputation), \n",
    "                                                 mean_absolute_error(true_time, mean_imputation)/86400))\n",
    "print('RMSE: {:.4f} seconds | {:.4f} days'.format(sqrt(mean_squared_error(true_time, mean_imputation)),\n",
    "                                                  sqrt(mean_squared_error(true_time, mean_imputation))/86400))"
   ]
  },
  {
   "cell_type": "markdown",
   "metadata": {},
   "source": [
    "# Impute Activity"
   ]
  },
  {
   "cell_type": "code",
   "execution_count": 32,
   "metadata": {
    "collapsed": true
   },
   "outputs": [],
   "source": [
    "missing_activity = missing_test['Activity'].copy()\n",
    "true_activity = complete_true_test['Activity'].copy()"
   ]
  },
  {
   "cell_type": "code",
   "execution_count": 33,
   "metadata": {},
   "outputs": [
    {
     "name": "stdout",
     "output_type": "stream",
     "text": [
      "Check number of nan Activity...\n",
      "True\n"
     ]
    }
   ],
   "source": [
    "avai_activity_index = []\n",
    "for row in range(missing_test.shape[0]):\n",
    "    if type(missing_test.Activity[row]) == str:\n",
    "        avai_activity_index.append(row)\n",
    "\n",
    "print('Check number of nan Activity...')\n",
    "print(missing_test.shape[0] - len(avai_activity_index) == pd.isnull(missing_test).sum()['Activity'])"
   ]
  },
  {
   "cell_type": "code",
   "execution_count": 34,
   "metadata": {
    "collapsed": true
   },
   "outputs": [],
   "source": [
    "def evalDummyActivity(missing_df_test, true_activity, missing_activity, most_frequent_activity, avai_activity_index):\n",
    "    \n",
    "    # Impute nan\n",
    "    imputed_activity = missing_activity.fillna(value=most_frequent_activity)\n",
    "    \n",
    "    # Drop availabel row and keep nan row\n",
    "    imputed_activity = imputed_activity.drop(imputed_activity.index[avai_activity_index])\n",
    "    true_activity = true_activity.drop(true_activity.index[avai_activity_index])\n",
    "    \n",
    "    # Check number of nan values\n",
    "    print('Impute missing activities with Most frequent activity...')\n",
    "    print('Accuracy: {:.2f}%'.format(accuracy_score(true_activity, imputed_activity)*100))"
   ]
  },
  {
   "cell_type": "code",
   "execution_count": 35,
   "metadata": {},
   "outputs": [
    {
     "name": "stdout",
     "output_type": "stream",
     "text": [
      "Impute missing activities with Most frequent activity...\n",
      "Accuracy: 47.52%\n"
     ]
    }
   ],
   "source": [
    "evalDummyActivity(missing_true_test, true_activity, missing_activity, most_frequent_activity, avai_activity_index)"
   ]
  },
  {
   "cell_type": "code",
   "execution_count": null,
   "metadata": {
    "collapsed": true
   },
   "outputs": [],
   "source": []
  }
 ],
 "metadata": {
  "kernelspec": {
   "display_name": "Python 3",
   "language": "python",
   "name": "python3"
  },
  "language_info": {
   "codemirror_mode": {
    "name": "ipython",
    "version": 3
   },
   "file_extension": ".py",
   "mimetype": "text/x-python",
   "name": "python",
   "nbconvert_exporter": "python",
   "pygments_lexer": "ipython3",
   "version": "3.5.4"
  },
  "toc": {
   "colors": {
    "hover_highlight": "#DAA520",
    "running_highlight": "#FF0000",
    "selected_highlight": "#FFD700"
   },
   "moveMenuLeft": true,
   "nav_menu": {
    "height": "102px",
    "width": "252px"
   },
   "navigate_menu": true,
   "number_sections": true,
   "sideBar": true,
   "threshold": 4,
   "toc_cell": false,
   "toc_section_display": "block",
   "toc_window_display": false
  }
 },
 "nbformat": 4,
 "nbformat_minor": 2
}
