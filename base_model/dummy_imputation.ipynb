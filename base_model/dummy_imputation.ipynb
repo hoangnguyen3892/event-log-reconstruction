{
 "cells": [
  {
   "cell_type": "markdown",
   "metadata": {},
   "source": [
    "**Outline:**\n",
    "- Impute Time\n",
    "    + Dummy 1 to impute Time\n",
    "    + Dummy 2 to impute Time\n",
    "- Impute Activity"
   ]
  },
  {
   "cell_type": "code",
   "execution_count": 1,
   "metadata": {
    "collapsed": true
   },
   "outputs": [],
   "source": [
    "import importlib\n",
    "import argparse\n",
    "import os, sys\n",
    "import argparse\n",
    "import pandas as pd\n",
    "import numpy as np\n",
    "import pickle\n",
    "from math import sqrt"
   ]
  },
  {
   "cell_type": "code",
   "execution_count": 2,
   "metadata": {
    "collapsed": true
   },
   "outputs": [],
   "source": [
    "from sklearn.preprocessing import Imputer\n",
    "from sklearn.metrics import mean_absolute_error, mean_squared_error\n",
    "from sklearn.metrics import accuracy_score, log_loss"
   ]
  },
  {
   "cell_type": "code",
   "execution_count": 3,
   "metadata": {
    "collapsed": true
   },
   "outputs": [],
   "source": [
    "sys.path.insert(0, './../utils/')\n",
    "from utils import *"
   ]
  },
  {
   "cell_type": "code",
   "execution_count": 4,
   "metadata": {
    "collapsed": true
   },
   "outputs": [],
   "source": [
    "#Define parser\n",
    "name = 'bpi_2012'\n",
    "#name = 'bpi_2013'\n",
    "\n",
    "parser = {\n",
    "    'data_file': name + '.csv',\n",
    "    'nan_pct': 0.5,\n",
    "    'input_dir': '../input/{}/'.format(name), \n",
    "    'output_dir': './output/{}/'.format(name),\n",
    "}\n",
    "\n",
    "args = argparse.Namespace(**parser)"
   ]
  },
  {
   "cell_type": "code",
   "execution_count": 5,
   "metadata": {
    "collapsed": true
   },
   "outputs": [],
   "source": [
    "file_name = os.path.join(args.input_dir, 'parameters_{}.pkl'.format(args.nan_pct))\n",
    "with open(file_name, 'rb') as f:\n",
    "    most_frequent_activity = pickle.load(f)\n",
    "    first_timestamp = pickle.load(f)\n",
    "    avai_instance = pickle.load(f)\n",
    "    nan_instance = pickle.load(f)\n",
    "    train_size = pickle.load(f)\n",
    "    val_size = pickle.load(f)\n",
    "    test_size = pickle.load(f)\n",
    "    train_row_num = pickle.load(f)\n",
    "    val_row_num = pickle.load(f)\n",
    "    test_row_num = pickle.load(f)"
   ]
  },
  {
   "cell_type": "markdown",
   "metadata": {},
   "source": [
    "# Load data"
   ]
  },
  {
   "cell_type": "code",
   "execution_count": 6,
   "metadata": {
    "collapsed": true
   },
   "outputs": [],
   "source": [
    "normalized_complete_df_name = os.path.join(args.input_dir, 'normalized_complete_df_{}.csv'.format(args.nan_pct))\n",
    "normalized_complete_df = pd.read_csv(normalized_complete_df_name)\n",
    "\n",
    "normalized_missing_df_name = os.path.join(args.input_dir, 'normalized_missing_df_{}.csv'.format(args.nan_pct))\n",
    "normalized_missing_df = pd.read_csv(normalized_missing_df_name)"
   ]
  },
  {
   "cell_type": "code",
   "execution_count": 7,
   "metadata": {
    "collapsed": true
   },
   "outputs": [],
   "source": [
    "missing_true_test = normalized_missing_df[-test_row_num:].reset_index(drop=True)\n",
    "complete_true_test = normalized_complete_df[-test_row_num:].reset_index(drop=True)"
   ]
  },
  {
   "cell_type": "code",
   "execution_count": 8,
   "metadata": {},
   "outputs": [
    {
     "data": {
      "text/html": [
       "<div>\n",
       "<style>\n",
       "    .dataframe thead tr:only-child th {\n",
       "        text-align: right;\n",
       "    }\n",
       "\n",
       "    .dataframe thead th {\n",
       "        text-align: left;\n",
       "    }\n",
       "\n",
       "    .dataframe tbody tr th {\n",
       "        vertical-align: top;\n",
       "    }\n",
       "</style>\n",
       "<table border=\"1\" class=\"dataframe\">\n",
       "  <thead>\n",
       "    <tr style=\"text-align: right;\">\n",
       "      <th></th>\n",
       "      <th>CaseID</th>\n",
       "      <th>Activity</th>\n",
       "      <th>CompleteTimestamp</th>\n",
       "      <th>CumTimeInterval</th>\n",
       "      <th>NormalizedTime</th>\n",
       "    </tr>\n",
       "  </thead>\n",
       "  <tbody>\n",
       "    <tr>\n",
       "      <th>0</th>\n",
       "      <td>10470</td>\n",
       "      <td>NaN</td>\n",
       "      <td>2012-02-04 01:17:11.047</td>\n",
       "      <td>1.086351e+07</td>\n",
       "      <td>0.000000</td>\n",
       "    </tr>\n",
       "    <tr>\n",
       "      <th>1</th>\n",
       "      <td>10470</td>\n",
       "      <td>NaN</td>\n",
       "      <td>NaN</td>\n",
       "      <td>NaN</td>\n",
       "      <td>NaN</td>\n",
       "    </tr>\n",
       "    <tr>\n",
       "      <th>2</th>\n",
       "      <td>10470</td>\n",
       "      <td>A_DECLINED-COMPLETE</td>\n",
       "      <td>2012-02-04 01:17:42.964</td>\n",
       "      <td>1.086354e+07</td>\n",
       "      <td>0.996877</td>\n",
       "    </tr>\n",
       "    <tr>\n",
       "      <th>3</th>\n",
       "      <td>10471</td>\n",
       "      <td>NaN</td>\n",
       "      <td>NaN</td>\n",
       "      <td>NaN</td>\n",
       "      <td>NaN</td>\n",
       "    </tr>\n",
       "    <tr>\n",
       "      <th>4</th>\n",
       "      <td>10471</td>\n",
       "      <td>A_PARTLYSUBMITTED-COMPLETE</td>\n",
       "      <td>2012-02-04 01:23:42.504</td>\n",
       "      <td>1.086390e+07</td>\n",
       "      <td>0.000000</td>\n",
       "    </tr>\n",
       "  </tbody>\n",
       "</table>\n",
       "</div>"
      ],
      "text/plain": [
       "   CaseID                    Activity        CompleteTimestamp  \\\n",
       "0   10470                         NaN  2012-02-04 01:17:11.047   \n",
       "1   10470                         NaN                      NaN   \n",
       "2   10470         A_DECLINED-COMPLETE  2012-02-04 01:17:42.964   \n",
       "3   10471                         NaN                      NaN   \n",
       "4   10471  A_PARTLYSUBMITTED-COMPLETE  2012-02-04 01:23:42.504   \n",
       "\n",
       "   CumTimeInterval  NormalizedTime  \n",
       "0     1.086351e+07        0.000000  \n",
       "1              NaN             NaN  \n",
       "2     1.086354e+07        0.996877  \n",
       "3              NaN             NaN  \n",
       "4     1.086390e+07        0.000000  "
      ]
     },
     "execution_count": 8,
     "metadata": {},
     "output_type": "execute_result"
    }
   ],
   "source": [
    "missing_true_test.head()"
   ]
  },
  {
   "cell_type": "code",
   "execution_count": 9,
   "metadata": {
    "collapsed": true
   },
   "outputs": [],
   "source": [
    "missing_test = missing_true_test.copy()\n",
    "missing_test['CompleteTimestamp'] = pd.to_datetime(missing_test['CompleteTimestamp'])\n",
    "missing_test = calculateTimeInterval(missing_test)\n",
    "missing_test['TimeInterval'] = missing_test['TimeInterval'].apply(convert2seconds)"
   ]
  },
  {
   "cell_type": "code",
   "execution_count": 10,
   "metadata": {
    "collapsed": true
   },
   "outputs": [],
   "source": [
    "#Replace duration of starting activity with nan\n",
    "for row in range(missing_test.shape[0]):\n",
    "    if missing_test['CaseID'].iloc[row] != missing_test['CaseID'].iloc[row-1]:\n",
    "        missing_test.loc[row, 'TimeInterval'] = np.nan"
   ]
  },
  {
   "cell_type": "code",
   "execution_count": 11,
   "metadata": {},
   "outputs": [
    {
     "data": {
      "text/plain": [
       "CaseID                   0\n",
       "Activity             23936\n",
       "CompleteTimestamp    23902\n",
       "CumTimeInterval      23902\n",
       "NormalizedTime       23902\n",
       "TimeInterval         36455\n",
       "dtype: int64"
      ]
     },
     "execution_count": 11,
     "metadata": {},
     "output_type": "execute_result"
    }
   ],
   "source": [
    "pd.isnull(missing_test).sum()"
   ]
  },
  {
   "cell_type": "code",
   "execution_count": 12,
   "metadata": {},
   "outputs": [
    {
     "data": {
      "text/html": [
       "<div>\n",
       "<style>\n",
       "    .dataframe thead tr:only-child th {\n",
       "        text-align: right;\n",
       "    }\n",
       "\n",
       "    .dataframe thead th {\n",
       "        text-align: left;\n",
       "    }\n",
       "\n",
       "    .dataframe tbody tr th {\n",
       "        vertical-align: top;\n",
       "    }\n",
       "</style>\n",
       "<table border=\"1\" class=\"dataframe\">\n",
       "  <thead>\n",
       "    <tr style=\"text-align: right;\">\n",
       "      <th></th>\n",
       "      <th>CaseID</th>\n",
       "      <th>Activity</th>\n",
       "      <th>CompleteTimestamp</th>\n",
       "      <th>CumTimeInterval</th>\n",
       "      <th>NormalizedTime</th>\n",
       "    </tr>\n",
       "  </thead>\n",
       "  <tbody>\n",
       "    <tr>\n",
       "      <th>0</th>\n",
       "      <td>1</td>\n",
       "      <td>A_SUBMITTED-COMPLETE</td>\n",
       "      <td>2011-10-01 07:38:44.546</td>\n",
       "      <td>0.000</td>\n",
       "      <td>0.000000e+00</td>\n",
       "    </tr>\n",
       "    <tr>\n",
       "      <th>1</th>\n",
       "      <td>1</td>\n",
       "      <td>A_PARTLYSUBMITTED-COMPLETE</td>\n",
       "      <td>2011-10-01 07:38:44.880</td>\n",
       "      <td>0.334</td>\n",
       "      <td>3.113544e-07</td>\n",
       "    </tr>\n",
       "    <tr>\n",
       "      <th>2</th>\n",
       "      <td>1</td>\n",
       "      <td>A_PREACCEPTED-COMPLETE</td>\n",
       "      <td>2011-10-01 07:39:37.906</td>\n",
       "      <td>53.360</td>\n",
       "      <td>4.974213e-05</td>\n",
       "    </tr>\n",
       "    <tr>\n",
       "      <th>3</th>\n",
       "      <td>1</td>\n",
       "      <td>W_Completeren aanvraag-SCHEDULE</td>\n",
       "      <td>2011-10-01 07:39:38.875</td>\n",
       "      <td>54.329</td>\n",
       "      <td>5.064543e-05</td>\n",
       "    </tr>\n",
       "    <tr>\n",
       "      <th>4</th>\n",
       "      <td>1</td>\n",
       "      <td>W_Completeren aanvraag-START</td>\n",
       "      <td>2011-10-01 18:36:46.437</td>\n",
       "      <td>39481.891</td>\n",
       "      <td>3.680497e-02</td>\n",
       "    </tr>\n",
       "  </tbody>\n",
       "</table>\n",
       "</div>"
      ],
      "text/plain": [
       "   CaseID                         Activity        CompleteTimestamp  \\\n",
       "0       1             A_SUBMITTED-COMPLETE  2011-10-01 07:38:44.546   \n",
       "1       1       A_PARTLYSUBMITTED-COMPLETE  2011-10-01 07:38:44.880   \n",
       "2       1           A_PREACCEPTED-COMPLETE  2011-10-01 07:39:37.906   \n",
       "3       1  W_Completeren aanvraag-SCHEDULE  2011-10-01 07:39:38.875   \n",
       "4       1     W_Completeren aanvraag-START  2011-10-01 18:36:46.437   \n",
       "\n",
       "   CumTimeInterval  NormalizedTime  \n",
       "0            0.000    0.000000e+00  \n",
       "1            0.334    3.113544e-07  \n",
       "2           53.360    4.974213e-05  \n",
       "3           54.329    5.064543e-05  \n",
       "4        39481.891    3.680497e-02  "
      ]
     },
     "execution_count": 12,
     "metadata": {},
     "output_type": "execute_result"
    }
   ],
   "source": [
    "normalized_complete_df.head()"
   ]
  },
  {
   "cell_type": "markdown",
   "metadata": {},
   "source": [
    "# Impute Time"
   ]
  },
  {
   "cell_type": "markdown",
   "metadata": {},
   "source": [
    "## Dummy 1"
   ]
  },
  {
   "cell_type": "code",
   "execution_count": 13,
   "metadata": {
    "collapsed": true
   },
   "outputs": [],
   "source": [
    "missing_time = missing_test['TimeInterval']\n",
    "true_time = complete_true_test['CumTimeInterval']"
   ]
  },
  {
   "cell_type": "code",
   "execution_count": 14,
   "metadata": {},
   "outputs": [
    {
     "name": "stdout",
     "output_type": "stream",
     "text": [
      "Check number of nan Time...\n",
      "True\n"
     ]
    }
   ],
   "source": [
    "avai_time_index = []\n",
    "for row in range(missing_test.shape[0]):\n",
    "    if not pd.isnull(missing_test.CompleteTimestamp[row]):\n",
    "        avai_time_index.append(row)\n",
    "\n",
    "print('Check number of nan Time...')\n",
    "print(missing_test.shape[0] - len(avai_time_index) == pd.isnull(missing_test).sum()['CompleteTimestamp'])"
   ]
  },
  {
   "cell_type": "code",
   "execution_count": 15,
   "metadata": {
    "collapsed": true
   },
   "outputs": [],
   "source": [
    "temp = missing_test.copy()"
   ]
  },
  {
   "cell_type": "code",
   "execution_count": 16,
   "metadata": {},
   "outputs": [
    {
     "data": {
      "text/html": [
       "<div>\n",
       "<style>\n",
       "    .dataframe thead tr:only-child th {\n",
       "        text-align: right;\n",
       "    }\n",
       "\n",
       "    .dataframe thead th {\n",
       "        text-align: left;\n",
       "    }\n",
       "\n",
       "    .dataframe tbody tr th {\n",
       "        vertical-align: top;\n",
       "    }\n",
       "</style>\n",
       "<table border=\"1\" class=\"dataframe\">\n",
       "  <thead>\n",
       "    <tr style=\"text-align: right;\">\n",
       "      <th></th>\n",
       "      <th>CaseID</th>\n",
       "      <th>Activity</th>\n",
       "      <th>CompleteTimestamp</th>\n",
       "      <th>CumTimeInterval</th>\n",
       "      <th>NormalizedTime</th>\n",
       "      <th>TimeInterval</th>\n",
       "    </tr>\n",
       "  </thead>\n",
       "  <tbody>\n",
       "    <tr>\n",
       "      <th>0</th>\n",
       "      <td>10470</td>\n",
       "      <td>NaN</td>\n",
       "      <td>2012-02-04 01:17:11.047</td>\n",
       "      <td>1.086351e+07</td>\n",
       "      <td>0.000000</td>\n",
       "      <td>NaN</td>\n",
       "    </tr>\n",
       "    <tr>\n",
       "      <th>1</th>\n",
       "      <td>10470</td>\n",
       "      <td>NaN</td>\n",
       "      <td>NaT</td>\n",
       "      <td>NaN</td>\n",
       "      <td>NaN</td>\n",
       "      <td>NaN</td>\n",
       "    </tr>\n",
       "    <tr>\n",
       "      <th>2</th>\n",
       "      <td>10470</td>\n",
       "      <td>A_DECLINED-COMPLETE</td>\n",
       "      <td>2012-02-04 01:17:42.964</td>\n",
       "      <td>1.086354e+07</td>\n",
       "      <td>0.996877</td>\n",
       "      <td>NaN</td>\n",
       "    </tr>\n",
       "    <tr>\n",
       "      <th>3</th>\n",
       "      <td>10471</td>\n",
       "      <td>NaN</td>\n",
       "      <td>NaT</td>\n",
       "      <td>NaN</td>\n",
       "      <td>NaN</td>\n",
       "      <td>NaN</td>\n",
       "    </tr>\n",
       "    <tr>\n",
       "      <th>4</th>\n",
       "      <td>10471</td>\n",
       "      <td>A_PARTLYSUBMITTED-COMPLETE</td>\n",
       "      <td>2012-02-04 01:23:42.504</td>\n",
       "      <td>1.086390e+07</td>\n",
       "      <td>0.000000</td>\n",
       "      <td>NaN</td>\n",
       "    </tr>\n",
       "  </tbody>\n",
       "</table>\n",
       "</div>"
      ],
      "text/plain": [
       "   CaseID                    Activity       CompleteTimestamp  \\\n",
       "0   10470                         NaN 2012-02-04 01:17:11.047   \n",
       "1   10470                         NaN                     NaT   \n",
       "2   10470         A_DECLINED-COMPLETE 2012-02-04 01:17:42.964   \n",
       "3   10471                         NaN                     NaT   \n",
       "4   10471  A_PARTLYSUBMITTED-COMPLETE 2012-02-04 01:23:42.504   \n",
       "\n",
       "   CumTimeInterval  NormalizedTime  TimeInterval  \n",
       "0     1.086351e+07        0.000000           NaN  \n",
       "1              NaN             NaN           NaN  \n",
       "2     1.086354e+07        0.996877           NaN  \n",
       "3              NaN             NaN           NaN  \n",
       "4     1.086390e+07        0.000000           NaN  "
      ]
     },
     "execution_count": 16,
     "metadata": {},
     "output_type": "execute_result"
    }
   ],
   "source": [
    "temp.head()"
   ]
  },
  {
   "cell_type": "code",
   "execution_count": 17,
   "metadata": {},
   "outputs": [
    {
     "data": {
      "text/plain": [
       "(43.090500000000006, 35549.77530031668)"
      ]
     },
     "execution_count": 17,
     "metadata": {},
     "output_type": "execute_result"
    }
   ],
   "source": [
    "temp['TimeInterval'].median(), temp['TimeInterval'].mean()"
   ]
  },
  {
   "cell_type": "code",
   "execution_count": 18,
   "metadata": {
    "collapsed": true
   },
   "outputs": [],
   "source": [
    "median_imputation = temp['TimeInterval'].fillna(value=temp['TimeInterval'].median())\n",
    "mean_imputation = temp['TimeInterval'].fillna(value=temp['TimeInterval'].mean())"
   ]
  },
  {
   "cell_type": "code",
   "execution_count": 19,
   "metadata": {
    "collapsed": true
   },
   "outputs": [],
   "source": [
    "temp['Median'] = median_imputation\n",
    "temp['Mean'] = mean_imputation"
   ]
  },
  {
   "cell_type": "code",
   "execution_count": 20,
   "metadata": {
    "collapsed": true
   },
   "outputs": [],
   "source": [
    "current_CumMedian = 0\n",
    "current_CumMean = 0\n",
    "\n",
    "CumTimeInterval_Median = []\n",
    "CumTimeInterval_Mean = []\n",
    "\n",
    "for row in range(temp.shape[0]):\n",
    "    if not pd.isnull(temp.CumTimeInterval[row]):\n",
    "        current_CumMedian = temp.CumTimeInterval[row]\n",
    "        current_CumMean =temp.CumTimeInterval[row]\n",
    "    else:\n",
    "        current_CumMedian += temp.Median[row]\n",
    "        current_CumMean += temp.Mean[row]\n",
    "        \n",
    "    CumTimeInterval_Median.append(current_CumMedian)\n",
    "    CumTimeInterval_Mean.append(current_CumMean)"
   ]
  },
  {
   "cell_type": "code",
   "execution_count": 21,
   "metadata": {
    "collapsed": true
   },
   "outputs": [],
   "source": [
    "temp['CumTimeInterval_Median'] = CumTimeInterval_Median\n",
    "temp['CumTimeInterval_Mean'] = CumTimeInterval_Mean"
   ]
  },
  {
   "cell_type": "code",
   "execution_count": 22,
   "metadata": {
    "collapsed": true
   },
   "outputs": [],
   "source": [
    "median_imputation = temp['CumTimeInterval_Median'].drop(temp['CumTimeInterval_Median'].index[avai_time_index])\n",
    "mean_imputation = temp['CumTimeInterval_Mean'].drop(temp['CumTimeInterval_Mean'].index[avai_time_index])\n",
    "\n",
    "true_time = true_time.drop(true_time.index[avai_time_index])"
   ]
  },
  {
   "cell_type": "code",
   "execution_count": 23,
   "metadata": {},
   "outputs": [
    {
     "name": "stdout",
     "output_type": "stream",
     "text": [
      "Impute with Median\n",
      "MAE: 123700.8689 seconds | 1.4317 days\n",
      "RMSE: 370784.0128 seconds | 4.2915 days\n",
      "\n",
      "\n",
      "Impute with Mean\n",
      "MAE: 160058.4219 seconds | 1.8525 days\n",
      "RMSE: 381754.2088 seconds | 4.4185 days\n"
     ]
    }
   ],
   "source": [
    "print('Impute with Median')\n",
    "print('MAE: {:.4f} seconds | {:.4f} days'.format(mean_absolute_error(true_time, median_imputation), \n",
    "                                                 mean_absolute_error(true_time, median_imputation)/86400))\n",
    "print('RMSE: {:.4f} seconds | {:.4f} days'.format(sqrt(mean_squared_error(true_time, median_imputation)),\n",
    "                                                  sqrt(mean_squared_error(true_time, median_imputation))/86400))\n",
    "print('\\n')\n",
    "print('Impute with Mean')\n",
    "print('MAE: {:.4f} seconds | {:.4f} days'.format(mean_absolute_error(true_time, mean_imputation),\n",
    "                                                 mean_absolute_error(true_time, mean_imputation)/86400))\n",
    "print('RMSE: {:.4f} seconds | {:.4f} days'.format(sqrt(mean_squared_error(true_time, mean_imputation)),\n",
    "                                                  sqrt(mean_squared_error(true_time, mean_imputation))/86400))"
   ]
  },
  {
   "cell_type": "markdown",
   "metadata": {},
   "source": [
    "## Dummy 2"
   ]
  },
  {
   "cell_type": "code",
   "execution_count": 24,
   "metadata": {
    "collapsed": true
   },
   "outputs": [],
   "source": [
    "missing_groupByActivity = missing_test.groupby(['Activity'])\n",
    "\n",
    "missing_median_duration_activity = {}\n",
    "missing_mean_duration_activity = {}\n",
    "missing_min_duration_activity = {}\n",
    "missing_max_duration_activity = {}\n",
    "\n",
    "for activity, group in missing_groupByActivity:\n",
    "    missing_median_duration_activity[activity] = group['TimeInterval'].median()\n",
    "    missing_mean_duration_activity[activity] = group['TimeInterval'].mean()\n",
    "    missing_min_duration_activity[activity] = group['TimeInterval'].min()\n",
    "    missing_max_duration_activity[activity] = group['TimeInterval'].max()"
   ]
  },
  {
   "cell_type": "code",
   "execution_count": 25,
   "metadata": {
    "collapsed": true
   },
   "outputs": [],
   "source": [
    "temp = missing_test.copy()"
   ]
  },
  {
   "cell_type": "code",
   "execution_count": 26,
   "metadata": {},
   "outputs": [
    {
     "data": {
      "text/html": [
       "<div>\n",
       "<style>\n",
       "    .dataframe thead tr:only-child th {\n",
       "        text-align: right;\n",
       "    }\n",
       "\n",
       "    .dataframe thead th {\n",
       "        text-align: left;\n",
       "    }\n",
       "\n",
       "    .dataframe tbody tr th {\n",
       "        vertical-align: top;\n",
       "    }\n",
       "</style>\n",
       "<table border=\"1\" class=\"dataframe\">\n",
       "  <thead>\n",
       "    <tr style=\"text-align: right;\">\n",
       "      <th></th>\n",
       "      <th>CaseID</th>\n",
       "      <th>Activity</th>\n",
       "      <th>CompleteTimestamp</th>\n",
       "      <th>CumTimeInterval</th>\n",
       "      <th>NormalizedTime</th>\n",
       "      <th>TimeInterval</th>\n",
       "    </tr>\n",
       "  </thead>\n",
       "  <tbody>\n",
       "    <tr>\n",
       "      <th>0</th>\n",
       "      <td>10470</td>\n",
       "      <td>NaN</td>\n",
       "      <td>2012-02-04 01:17:11.047</td>\n",
       "      <td>1.086351e+07</td>\n",
       "      <td>0.000000</td>\n",
       "      <td>NaN</td>\n",
       "    </tr>\n",
       "    <tr>\n",
       "      <th>1</th>\n",
       "      <td>10470</td>\n",
       "      <td>NaN</td>\n",
       "      <td>NaT</td>\n",
       "      <td>NaN</td>\n",
       "      <td>NaN</td>\n",
       "      <td>NaN</td>\n",
       "    </tr>\n",
       "    <tr>\n",
       "      <th>2</th>\n",
       "      <td>10470</td>\n",
       "      <td>A_DECLINED-COMPLETE</td>\n",
       "      <td>2012-02-04 01:17:42.964</td>\n",
       "      <td>1.086354e+07</td>\n",
       "      <td>0.996877</td>\n",
       "      <td>NaN</td>\n",
       "    </tr>\n",
       "    <tr>\n",
       "      <th>3</th>\n",
       "      <td>10471</td>\n",
       "      <td>NaN</td>\n",
       "      <td>NaT</td>\n",
       "      <td>NaN</td>\n",
       "      <td>NaN</td>\n",
       "      <td>NaN</td>\n",
       "    </tr>\n",
       "    <tr>\n",
       "      <th>4</th>\n",
       "      <td>10471</td>\n",
       "      <td>A_PARTLYSUBMITTED-COMPLETE</td>\n",
       "      <td>2012-02-04 01:23:42.504</td>\n",
       "      <td>1.086390e+07</td>\n",
       "      <td>0.000000</td>\n",
       "      <td>NaN</td>\n",
       "    </tr>\n",
       "  </tbody>\n",
       "</table>\n",
       "</div>"
      ],
      "text/plain": [
       "   CaseID                    Activity       CompleteTimestamp  \\\n",
       "0   10470                         NaN 2012-02-04 01:17:11.047   \n",
       "1   10470                         NaN                     NaT   \n",
       "2   10470         A_DECLINED-COMPLETE 2012-02-04 01:17:42.964   \n",
       "3   10471                         NaN                     NaT   \n",
       "4   10471  A_PARTLYSUBMITTED-COMPLETE 2012-02-04 01:23:42.504   \n",
       "\n",
       "   CumTimeInterval  NormalizedTime  TimeInterval  \n",
       "0     1.086351e+07        0.000000           NaN  \n",
       "1              NaN             NaN           NaN  \n",
       "2     1.086354e+07        0.996877           NaN  \n",
       "3              NaN             NaN           NaN  \n",
       "4     1.086390e+07        0.000000           NaN  "
      ]
     },
     "execution_count": 26,
     "metadata": {},
     "output_type": "execute_result"
    }
   ],
   "source": [
    "temp.head()"
   ]
  },
  {
   "cell_type": "code",
   "execution_count": 27,
   "metadata": {
    "collapsed": true
   },
   "outputs": [],
   "source": [
    "#Replace NaN duration with median and mean\n",
    "temp['Median'] = temp['TimeInterval'].copy()\n",
    "temp['Mean'] = temp['TimeInterval'].copy()\n",
    "\n",
    "for row in range(temp.shape[0]):\n",
    "    if not pd.isnull(temp.Activity.loc[row]) and pd.isnull(missing_median_duration_activity[temp.Activity.loc[row]]): \n",
    "        temp.loc[row, 'Median'] = missing_median_duration_activity[most_frequent_activity]\n",
    "        temp.loc[row, 'Mean'] = missing_mean_duration_activity[most_frequent_activity]\n",
    "    elif pd.isnull(temp.CumTimeInterval.loc[row]) and pd.isnull(temp.Activity.loc[row]):\n",
    "        temp.loc[row, 'Median'] = missing_median_duration_activity[most_frequent_activity]\n",
    "        temp.loc[row, 'Mean'] = missing_mean_duration_activity[most_frequent_activity]\n",
    "    elif pd.isnull(temp.CumTimeInterval.loc[row]) and not pd.isnull(temp.Activity.loc[row]):\n",
    "        temp.loc[row, 'Median'] = missing_median_duration_activity[temp.Activity.loc[row]]\n",
    "        temp.loc[row, 'Mean'] = missing_mean_duration_activity[temp.Activity.loc[row]]"
   ]
  },
  {
   "cell_type": "code",
   "execution_count": 28,
   "metadata": {},
   "outputs": [
    {
     "data": {
      "text/html": [
       "<div>\n",
       "<style>\n",
       "    .dataframe thead tr:only-child th {\n",
       "        text-align: right;\n",
       "    }\n",
       "\n",
       "    .dataframe thead th {\n",
       "        text-align: left;\n",
       "    }\n",
       "\n",
       "    .dataframe tbody tr th {\n",
       "        vertical-align: top;\n",
       "    }\n",
       "</style>\n",
       "<table border=\"1\" class=\"dataframe\">\n",
       "  <thead>\n",
       "    <tr style=\"text-align: right;\">\n",
       "      <th></th>\n",
       "      <th>CaseID</th>\n",
       "      <th>Activity</th>\n",
       "      <th>CompleteTimestamp</th>\n",
       "      <th>CumTimeInterval</th>\n",
       "      <th>NormalizedTime</th>\n",
       "      <th>TimeInterval</th>\n",
       "      <th>Median</th>\n",
       "      <th>Mean</th>\n",
       "    </tr>\n",
       "  </thead>\n",
       "  <tbody>\n",
       "    <tr>\n",
       "      <th>0</th>\n",
       "      <td>10470</td>\n",
       "      <td>NaN</td>\n",
       "      <td>2012-02-04 01:17:11.047</td>\n",
       "      <td>1.086351e+07</td>\n",
       "      <td>0.000000</td>\n",
       "      <td>NaN</td>\n",
       "      <td>NaN</td>\n",
       "      <td>NaN</td>\n",
       "    </tr>\n",
       "    <tr>\n",
       "      <th>1</th>\n",
       "      <td>10470</td>\n",
       "      <td>NaN</td>\n",
       "      <td>NaT</td>\n",
       "      <td>NaN</td>\n",
       "      <td>NaN</td>\n",
       "      <td>NaN</td>\n",
       "      <td>56.724</td>\n",
       "      <td>4992.785531</td>\n",
       "    </tr>\n",
       "    <tr>\n",
       "      <th>2</th>\n",
       "      <td>10470</td>\n",
       "      <td>A_DECLINED-COMPLETE</td>\n",
       "      <td>2012-02-04 01:17:42.964</td>\n",
       "      <td>1.086354e+07</td>\n",
       "      <td>0.996877</td>\n",
       "      <td>NaN</td>\n",
       "      <td>NaN</td>\n",
       "      <td>NaN</td>\n",
       "    </tr>\n",
       "    <tr>\n",
       "      <th>3</th>\n",
       "      <td>10471</td>\n",
       "      <td>NaN</td>\n",
       "      <td>NaT</td>\n",
       "      <td>NaN</td>\n",
       "      <td>NaN</td>\n",
       "      <td>NaN</td>\n",
       "      <td>56.724</td>\n",
       "      <td>4992.785531</td>\n",
       "    </tr>\n",
       "    <tr>\n",
       "      <th>4</th>\n",
       "      <td>10471</td>\n",
       "      <td>A_PARTLYSUBMITTED-COMPLETE</td>\n",
       "      <td>2012-02-04 01:23:42.504</td>\n",
       "      <td>1.086390e+07</td>\n",
       "      <td>0.000000</td>\n",
       "      <td>NaN</td>\n",
       "      <td>NaN</td>\n",
       "      <td>NaN</td>\n",
       "    </tr>\n",
       "  </tbody>\n",
       "</table>\n",
       "</div>"
      ],
      "text/plain": [
       "   CaseID                    Activity       CompleteTimestamp  \\\n",
       "0   10470                         NaN 2012-02-04 01:17:11.047   \n",
       "1   10470                         NaN                     NaT   \n",
       "2   10470         A_DECLINED-COMPLETE 2012-02-04 01:17:42.964   \n",
       "3   10471                         NaN                     NaT   \n",
       "4   10471  A_PARTLYSUBMITTED-COMPLETE 2012-02-04 01:23:42.504   \n",
       "\n",
       "   CumTimeInterval  NormalizedTime  TimeInterval  Median         Mean  \n",
       "0     1.086351e+07        0.000000           NaN     NaN          NaN  \n",
       "1              NaN             NaN           NaN  56.724  4992.785531  \n",
       "2     1.086354e+07        0.996877           NaN     NaN          NaN  \n",
       "3              NaN             NaN           NaN  56.724  4992.785531  \n",
       "4     1.086390e+07        0.000000           NaN     NaN          NaN  "
      ]
     },
     "execution_count": 28,
     "metadata": {},
     "output_type": "execute_result"
    }
   ],
   "source": [
    "temp.head()"
   ]
  },
  {
   "cell_type": "code",
   "execution_count": 29,
   "metadata": {
    "collapsed": true
   },
   "outputs": [],
   "source": [
    "current_CumMedian = 0\n",
    "current_CumMean = 0\n",
    "\n",
    "CumTimeInterval_Median = []\n",
    "CumTimeInterval_Mean = []\n",
    "\n",
    "for row in range(temp.shape[0]):\n",
    "    if not pd.isnull(temp.CumTimeInterval[row]):\n",
    "        current_CumMedian = temp.CumTimeInterval[row]\n",
    "        current_CumMean =temp.CumTimeInterval[row]\n",
    "    else:\n",
    "        current_CumMedian += temp.Median[row]\n",
    "        current_CumMean += temp.Mean[row]\n",
    "        \n",
    "    CumTimeInterval_Median.append(current_CumMedian)\n",
    "    CumTimeInterval_Mean.append(current_CumMean)"
   ]
  },
  {
   "cell_type": "code",
   "execution_count": 30,
   "metadata": {
    "collapsed": true
   },
   "outputs": [],
   "source": [
    "temp['CumTimeInterval_Median'] = CumTimeInterval_Median\n",
    "temp['CumTimeInterval_Mean'] = CumTimeInterval_Mean"
   ]
  },
  {
   "cell_type": "code",
   "execution_count": 31,
   "metadata": {
    "collapsed": true
   },
   "outputs": [],
   "source": [
    "median_imputation = temp['CumTimeInterval_Median'].drop(temp['CumTimeInterval_Median'].index[avai_time_index])\n",
    "mean_imputation = temp['CumTimeInterval_Mean'].drop(temp['CumTimeInterval_Mean'].index[avai_time_index])"
   ]
  },
  {
   "cell_type": "code",
   "execution_count": 32,
   "metadata": {},
   "outputs": [
    {
     "data": {
      "text/html": [
       "<div>\n",
       "<style>\n",
       "    .dataframe thead tr:only-child th {\n",
       "        text-align: right;\n",
       "    }\n",
       "\n",
       "    .dataframe thead th {\n",
       "        text-align: left;\n",
       "    }\n",
       "\n",
       "    .dataframe tbody tr th {\n",
       "        vertical-align: top;\n",
       "    }\n",
       "</style>\n",
       "<table border=\"1\" class=\"dataframe\">\n",
       "  <thead>\n",
       "    <tr style=\"text-align: right;\">\n",
       "      <th></th>\n",
       "      <th>CaseID</th>\n",
       "      <th>Activity</th>\n",
       "      <th>CompleteTimestamp</th>\n",
       "      <th>CumTimeInterval</th>\n",
       "      <th>NormalizedTime</th>\n",
       "      <th>TimeInterval</th>\n",
       "      <th>Median</th>\n",
       "      <th>Mean</th>\n",
       "      <th>CumTimeInterval_Median</th>\n",
       "      <th>CumTimeInterval_Mean</th>\n",
       "    </tr>\n",
       "  </thead>\n",
       "  <tbody>\n",
       "    <tr>\n",
       "      <th>0</th>\n",
       "      <td>10470</td>\n",
       "      <td>NaN</td>\n",
       "      <td>2012-02-04 01:17:11.047</td>\n",
       "      <td>1.086351e+07</td>\n",
       "      <td>0.000000</td>\n",
       "      <td>NaN</td>\n",
       "      <td>NaN</td>\n",
       "      <td>NaN</td>\n",
       "      <td>1.086351e+07</td>\n",
       "      <td>1.086351e+07</td>\n",
       "    </tr>\n",
       "    <tr>\n",
       "      <th>1</th>\n",
       "      <td>10470</td>\n",
       "      <td>NaN</td>\n",
       "      <td>NaT</td>\n",
       "      <td>NaN</td>\n",
       "      <td>NaN</td>\n",
       "      <td>NaN</td>\n",
       "      <td>56.724</td>\n",
       "      <td>4992.785531</td>\n",
       "      <td>1.086356e+07</td>\n",
       "      <td>1.086850e+07</td>\n",
       "    </tr>\n",
       "    <tr>\n",
       "      <th>2</th>\n",
       "      <td>10470</td>\n",
       "      <td>A_DECLINED-COMPLETE</td>\n",
       "      <td>2012-02-04 01:17:42.964</td>\n",
       "      <td>1.086354e+07</td>\n",
       "      <td>0.996877</td>\n",
       "      <td>NaN</td>\n",
       "      <td>NaN</td>\n",
       "      <td>NaN</td>\n",
       "      <td>1.086354e+07</td>\n",
       "      <td>1.086354e+07</td>\n",
       "    </tr>\n",
       "    <tr>\n",
       "      <th>3</th>\n",
       "      <td>10471</td>\n",
       "      <td>NaN</td>\n",
       "      <td>NaT</td>\n",
       "      <td>NaN</td>\n",
       "      <td>NaN</td>\n",
       "      <td>NaN</td>\n",
       "      <td>56.724</td>\n",
       "      <td>4992.785531</td>\n",
       "      <td>1.086360e+07</td>\n",
       "      <td>1.086853e+07</td>\n",
       "    </tr>\n",
       "    <tr>\n",
       "      <th>4</th>\n",
       "      <td>10471</td>\n",
       "      <td>A_PARTLYSUBMITTED-COMPLETE</td>\n",
       "      <td>2012-02-04 01:23:42.504</td>\n",
       "      <td>1.086390e+07</td>\n",
       "      <td>0.000000</td>\n",
       "      <td>NaN</td>\n",
       "      <td>NaN</td>\n",
       "      <td>NaN</td>\n",
       "      <td>1.086390e+07</td>\n",
       "      <td>1.086390e+07</td>\n",
       "    </tr>\n",
       "  </tbody>\n",
       "</table>\n",
       "</div>"
      ],
      "text/plain": [
       "   CaseID                    Activity       CompleteTimestamp  \\\n",
       "0   10470                         NaN 2012-02-04 01:17:11.047   \n",
       "1   10470                         NaN                     NaT   \n",
       "2   10470         A_DECLINED-COMPLETE 2012-02-04 01:17:42.964   \n",
       "3   10471                         NaN                     NaT   \n",
       "4   10471  A_PARTLYSUBMITTED-COMPLETE 2012-02-04 01:23:42.504   \n",
       "\n",
       "   CumTimeInterval  NormalizedTime  TimeInterval  Median         Mean  \\\n",
       "0     1.086351e+07        0.000000           NaN     NaN          NaN   \n",
       "1              NaN             NaN           NaN  56.724  4992.785531   \n",
       "2     1.086354e+07        0.996877           NaN     NaN          NaN   \n",
       "3              NaN             NaN           NaN  56.724  4992.785531   \n",
       "4     1.086390e+07        0.000000           NaN     NaN          NaN   \n",
       "\n",
       "   CumTimeInterval_Median  CumTimeInterval_Mean  \n",
       "0            1.086351e+07          1.086351e+07  \n",
       "1            1.086356e+07          1.086850e+07  \n",
       "2            1.086354e+07          1.086354e+07  \n",
       "3            1.086360e+07          1.086853e+07  \n",
       "4            1.086390e+07          1.086390e+07  "
      ]
     },
     "execution_count": 32,
     "metadata": {},
     "output_type": "execute_result"
    }
   ],
   "source": [
    "temp.head()"
   ]
  },
  {
   "cell_type": "code",
   "execution_count": 33,
   "metadata": {},
   "outputs": [
    {
     "name": "stdout",
     "output_type": "stream",
     "text": [
      "Impute with Median\n",
      "MAE: 120054.7370 seconds | 1.3895 days\n",
      "RMSE: 362400.6705 seconds | 4.1945 days\n",
      "\n",
      "\n",
      "Impute with Mean\n",
      "MAE: 123827.9001 seconds | 1.4332 days\n",
      "RMSE: 361315.8385 seconds | 4.1819 days\n"
     ]
    }
   ],
   "source": [
    "print('Impute with Median')\n",
    "print('MAE: {:.4f} seconds | {:.4f} days'.format(mean_absolute_error(true_time, median_imputation), \n",
    "                                                 mean_absolute_error(true_time, median_imputation)/86400))\n",
    "print('RMSE: {:.4f} seconds | {:.4f} days'.format(sqrt(mean_squared_error(true_time, median_imputation)),\n",
    "                                                  sqrt(mean_squared_error(true_time, median_imputation))/86400))\n",
    "\n",
    "print('\\n')\n",
    "\n",
    "print('Impute with Mean')\n",
    "print('MAE: {:.4f} seconds | {:.4f} days'.format(mean_absolute_error(true_time, mean_imputation), \n",
    "                                                 mean_absolute_error(true_time, mean_imputation)/86400))\n",
    "print('RMSE: {:.4f} seconds | {:.4f} days'.format(sqrt(mean_squared_error(true_time, mean_imputation)),\n",
    "                                                  sqrt(mean_squared_error(true_time, mean_imputation))/86400))"
   ]
  },
  {
   "cell_type": "markdown",
   "metadata": {},
   "source": [
    "# Impute Activity"
   ]
  },
  {
   "cell_type": "code",
   "execution_count": 34,
   "metadata": {
    "collapsed": true
   },
   "outputs": [],
   "source": [
    "missing_activity = missing_test['Activity'].copy()\n",
    "true_activity = complete_true_test['Activity'].copy()"
   ]
  },
  {
   "cell_type": "code",
   "execution_count": 35,
   "metadata": {},
   "outputs": [
    {
     "name": "stdout",
     "output_type": "stream",
     "text": [
      "Check number of nan Activity...\n",
      "True\n"
     ]
    }
   ],
   "source": [
    "avai_activity_index = []\n",
    "for row in range(missing_test.shape[0]):\n",
    "    if type(missing_test.Activity[row]) == str:\n",
    "        avai_activity_index.append(row)\n",
    "\n",
    "print('Check number of nan Activity...')\n",
    "print(missing_test.shape[0] - len(avai_activity_index) == pd.isnull(missing_test).sum()['Activity'])"
   ]
  },
  {
   "cell_type": "code",
   "execution_count": 36,
   "metadata": {
    "collapsed": true
   },
   "outputs": [],
   "source": [
    "def evalDummyActivity(missing_df_test, true_activity, missing_activity, most_frequent_activity, avai_activity_index):\n",
    "    \n",
    "    # Impute nan\n",
    "    imputed_activity = missing_activity.fillna(value=most_frequent_activity)\n",
    "    \n",
    "    # Drop availabel row and keep nan row\n",
    "    imputed_activity = imputed_activity.drop(imputed_activity.index[avai_activity_index])\n",
    "    true_activity = true_activity.drop(true_activity.index[avai_activity_index])\n",
    "    \n",
    "    # Check number of nan values\n",
    "    print('Impute missing activities with Most frequent activity...')\n",
    "    print('Accuracy: {:.2f}%'.format(accuracy_score(true_activity, imputed_activity)*100))"
   ]
  },
  {
   "cell_type": "code",
   "execution_count": 37,
   "metadata": {},
   "outputs": [
    {
     "name": "stdout",
     "output_type": "stream",
     "text": [
      "Impute missing activities with Most frequent activity...\n",
      "Accuracy: 10.17%\n"
     ]
    }
   ],
   "source": [
    "evalDummyActivity(missing_true_test, true_activity, missing_activity, most_frequent_activity, avai_activity_index)"
   ]
  },
  {
   "cell_type": "code",
   "execution_count": null,
   "metadata": {
    "collapsed": true
   },
   "outputs": [],
   "source": []
  },
  {
   "cell_type": "code",
   "execution_count": null,
   "metadata": {
    "collapsed": true
   },
   "outputs": [],
   "source": []
  }
 ],
 "metadata": {
  "kernelspec": {
   "display_name": "Python 3",
   "language": "python",
   "name": "python3"
  },
  "language_info": {
   "codemirror_mode": {
    "name": "ipython",
    "version": 3
   },
   "file_extension": ".py",
   "mimetype": "text/x-python",
   "name": "python",
   "nbconvert_exporter": "python",
   "pygments_lexer": "ipython3",
   "version": "3.5.4"
  },
  "toc": {
   "colors": {
    "hover_highlight": "#DAA520",
    "running_highlight": "#FF0000",
    "selected_highlight": "#FFD700"
   },
   "moveMenuLeft": true,
   "nav_menu": {
    "height": "102px",
    "width": "252px"
   },
   "navigate_menu": true,
   "number_sections": true,
   "sideBar": true,
   "threshold": 4,
   "toc_cell": false,
   "toc_section_display": "block",
   "toc_window_display": false
  }
 },
 "nbformat": 4,
 "nbformat_minor": 2
}
