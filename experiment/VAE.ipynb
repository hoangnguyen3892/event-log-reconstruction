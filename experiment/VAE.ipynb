{
 "cells": [
  {
   "cell_type": "markdown",
   "metadata": {
    "deletable": true,
    "editable": true
   },
   "source": [
    "**Outline:**\n",
    "- Build model and loss function\n",
    "- Train model\n",
    "- Observe valdidate\n",
    "- Test"
   ]
  },
  {
   "cell_type": "markdown",
   "metadata": {
    "deletable": true,
    "editable": true
   },
   "source": [
    "**To do:**\n",
    "- Hyperparameter tuning\n",
    "    + lr\n",
    "    + layer1, layer2\n",
    "    + betas"
   ]
  },
  {
   "cell_type": "markdown",
   "metadata": {
    "deletable": true,
    "editable": true
   },
   "source": [
    "**Modification**\n",
    "- Weight initialization with xavier uniform\n",
    "- Adam optimization\n",
    "- LR decay"
   ]
  },
  {
   "cell_type": "markdown",
   "metadata": {
    "deletable": true,
    "editable": true
   },
   "source": [
    "**To do:**\n",
    "- Add dropout\n",
    "- Implement another loss function"
   ]
  },
  {
   "cell_type": "code",
   "execution_count": 1,
   "metadata": {
    "collapsed": true,
    "deletable": true,
    "editable": true
   },
   "outputs": [],
   "source": [
    "import importlib\n",
    "import argparse\n",
    "import os, sys\n",
    "import argparse\n",
    "import pandas as pd\n",
    "import numpy as np\n",
    "import pickle\n",
    "import time"
   ]
  },
  {
   "cell_type": "code",
   "execution_count": 2,
   "metadata": {
    "collapsed": true,
    "deletable": true,
    "editable": true
   },
   "outputs": [],
   "source": [
    "import torch\n",
    "import torch.utils.data\n",
    "import torch.nn.functional as F\n",
    "import torch.nn as nn\n",
    "import torch.optim as optim\n",
    "import torch.optim.lr_scheduler\n",
    "from torch.autograd import Variable\n",
    "from torchvision import transforms"
   ]
  },
  {
   "cell_type": "code",
   "execution_count": 3,
   "metadata": {
    "collapsed": true,
    "deletable": true,
    "editable": true
   },
   "outputs": [],
   "source": [
    "sys.path.insert(0, './../utils/')\n",
    "from utils import *\n",
    "from models import *"
   ]
  },
  {
   "cell_type": "code",
   "execution_count": 4,
   "metadata": {
    "collapsed": true,
    "deletable": true,
    "editable": true
   },
   "outputs": [],
   "source": [
    "#Define parser\n",
    "#name = 'bpi_2012'\n",
    "name = 'bpi_2013'\n",
    "#name = 'Road_Traffic_Fine_Management_Process' \n",
    "\n",
    "parser = {\n",
    "    'train': True,\n",
    "    'test': True,\n",
    "    'model_class': 'VAE',\n",
    "    'model_name': ' ',\n",
    "    'data_dir': '../data/',\n",
    "    'data_file': name + '.csv',\n",
    "    'nan_pct': 0.3,\n",
    "    'input_dir': '../input/{}/'.format(name), \n",
    "    'output_dir': './output/{}/'.format(name),\n",
    "    'batch_size' : 16,\n",
    "    'epochs' : 100,\n",
    "    'no_cuda' : False,\n",
    "    'seed' : 7,\n",
    "    'layer1': 1000,\n",
    "    'layer2': 100,\n",
    "    'early_stopping': 30,\n",
    "    'lr': 0.002,\n",
    "    'betas': (0.9, 0.99),   \n",
    "    'lr_decay': 0.90,\n",
    "}\n",
    "\n",
    "args = argparse.Namespace(**parser)"
   ]
  },
  {
   "cell_type": "code",
   "execution_count": 5,
   "metadata": {
    "collapsed": true,
    "deletable": true,
    "editable": true
   },
   "outputs": [],
   "source": [
    "if not os.path.isdir(args.output_dir):\n",
    "    os.makedirs(args.output_dir)"
   ]
  },
  {
   "cell_type": "code",
   "execution_count": 6,
   "metadata": {
    "collapsed": true,
    "deletable": true,
    "editable": true
   },
   "outputs": [],
   "source": [
    "args.cuda = not args.no_cuda and torch.cuda.is_available()"
   ]
  },
  {
   "cell_type": "code",
   "execution_count": 7,
   "metadata": {
    "collapsed": true,
    "deletable": true,
    "editable": true
   },
   "outputs": [],
   "source": [
    "torch.manual_seed(args.seed)\n",
    "if args.cuda:\n",
    "    torch.cuda.manual_seed(args.seed)"
   ]
  },
  {
   "cell_type": "code",
   "execution_count": 8,
   "metadata": {
    "collapsed": true,
    "deletable": true,
    "editable": true
   },
   "outputs": [],
   "source": [
    "kwargs = {'num_workers': 2, 'pin_memory': True} if args.cuda else {}"
   ]
  },
  {
   "cell_type": "code",
   "execution_count": 9,
   "metadata": {
    "collapsed": true,
    "deletable": true,
    "editable": true
   },
   "outputs": [],
   "source": [
    "preprocessed_data_name = os.path.join(args.input_dir, 'preprocessed_data_{}.pkl'.format(args.nan_pct))\n",
    "with open(preprocessed_data_name, 'rb') as f:\n",
    "    min_max_storage = pickle.load(f)\n",
    "    complete_matrix_w_normalized_time_train = pickle.load(f)\n",
    "    missing_matrix_w_normalized_time_train = pickle.load(f)\n",
    "    avai_matrix_train = pickle.load(f)\n",
    "    nan_matrix_train = pickle.load(f)\n",
    "    complete_matrix_w_normalized_time_val = pickle.load(f)\n",
    "    missing_matrix_w_normalized_time_val = pickle.load(f)\n",
    "    avai_matrix_val = pickle.load(f)\n",
    "    nan_matrix_val = pickle.load(f)\n",
    "    pad_matrix_val = pickle.load(f)\n",
    "    complete_matrix_w_normalized_time_test = pickle.load(f)\n",
    "    missing_matrix_w_normalized_time_test = pickle.load(f)\n",
    "    avai_matrix_test = pickle.load(f)\n",
    "    nan_matrix_test = pickle.load(f)\n",
    "    pad_matrix_test = pickle.load(f)\n",
    "    cols_w_time = pickle.load(f)\n",
    "    cols_w_normalized_time = pickle.load(f)"
   ]
  },
  {
   "cell_type": "code",
   "execution_count": 10,
   "metadata": {
    "collapsed": true,
    "deletable": true,
    "editable": true
   },
   "outputs": [],
   "source": [
    "file_name = os.path.join(args.input_dir, 'parameters_{}.pkl'.format(args.nan_pct))\n",
    "with open(file_name, 'rb') as f:\n",
    "    most_frequent_activity = pickle.load(f)\n",
    "    first_timestamp = pickle.load(f)\n",
    "    avai_instance = pickle.load(f)\n",
    "    nan_instance = pickle.load(f)\n",
    "    train_size = pickle.load(f)\n",
    "    val_size = pickle.load(f)\n",
    "    test_size = pickle.load(f)\n",
    "    train_row_num = pickle.load(f)\n",
    "    val_row_num = pickle.load(f)\n",
    "    test_row_num = pickle.load(f)"
   ]
  },
  {
   "cell_type": "markdown",
   "metadata": {
    "deletable": true,
    "editable": true
   },
   "source": [
    "# Load data"
   ]
  },
  {
   "cell_type": "markdown",
   "metadata": {
    "deletable": true,
    "editable": true
   },
   "source": [
    "## Train"
   ]
  },
  {
   "cell_type": "code",
   "execution_count": 11,
   "metadata": {
    "collapsed": true,
    "deletable": true,
    "editable": true
   },
   "outputs": [],
   "source": [
    "complete_matrix_w_normalized_time_trainLoader = torch.utils.data.DataLoader(complete_matrix_w_normalized_time_train, \n",
    "                                                                            batch_size=args.batch_size, shuffle=False, \n",
    "                                                                            num_workers=2)\n",
    "missing_matrix_w_normalized_time_trainLoader = torch.utils.data.DataLoader(missing_matrix_w_normalized_time_train, \n",
    "                                                                           batch_size=args.batch_size, shuffle=False, \n",
    "                                                                           num_workers=2)\n",
    "avai_matrix_trainLoader = torch.utils.data.DataLoader(avai_matrix_train, \n",
    "                                                      batch_size=args.batch_size, shuffle=False, \n",
    "                                                      num_workers=2)"
   ]
  },
  {
   "cell_type": "markdown",
   "metadata": {
    "deletable": true,
    "editable": true
   },
   "source": [
    "## Validate and test"
   ]
  },
  {
   "cell_type": "code",
   "execution_count": 12,
   "metadata": {
    "collapsed": true,
    "deletable": true,
    "editable": true
   },
   "outputs": [],
   "source": [
    "normalized_complete_df_name = os.path.join(args.input_dir, 'normalized_complete_df_{}.csv'.format(args.nan_pct))\n",
    "normalized_complete_df = pd.read_csv(normalized_complete_df_name)\n",
    "\n",
    "normalized_missing_df_name = os.path.join(args.input_dir, 'normalized_missing_df_{}.csv'.format(args.nan_pct))\n",
    "normalized_missing_df = pd.read_csv(normalized_missing_df_name)"
   ]
  },
  {
   "cell_type": "code",
   "execution_count": 13,
   "metadata": {
    "collapsed": true,
    "deletable": true,
    "editable": true
   },
   "outputs": [],
   "source": [
    "missing_true_val = normalized_missing_df[train_row_num:-test_row_num].reset_index(drop=True)\n",
    "complete_true_val = normalized_complete_df[train_row_num:-test_row_num].reset_index(drop=True)"
   ]
  },
  {
   "cell_type": "code",
   "execution_count": 14,
   "metadata": {
    "collapsed": true,
    "deletable": true,
    "editable": true
   },
   "outputs": [],
   "source": [
    "missing_true_test = normalized_missing_df[-test_row_num:].reset_index(drop=True)\n",
    "complete_true_test = normalized_complete_df[-test_row_num:].reset_index(drop=True)"
   ]
  },
  {
   "cell_type": "code",
   "execution_count": 15,
   "metadata": {
    "collapsed": false,
    "deletable": true,
    "editable": true
   },
   "outputs": [
    {
     "data": {
      "text/plain": [
       "((1096, 5), (1071, 5))"
      ]
     },
     "execution_count": 15,
     "metadata": {},
     "output_type": "execute_result"
    }
   ],
   "source": [
    "missing_true_val.shape, missing_true_test.shape"
   ]
  },
  {
   "cell_type": "code",
   "execution_count": 16,
   "metadata": {
    "collapsed": true,
    "deletable": true,
    "editable": true
   },
   "outputs": [],
   "source": [
    "nan_time_index_val, nan_activity_index_val = getnanindex(missing_true_val)"
   ]
  },
  {
   "cell_type": "code",
   "execution_count": 17,
   "metadata": {
    "collapsed": true,
    "deletable": true,
    "editable": true
   },
   "outputs": [],
   "source": [
    "nan_time_index_test, nan_activity_index_test = getnanindex(missing_true_test)"
   ]
  },
  {
   "cell_type": "code",
   "execution_count": 18,
   "metadata": {
    "collapsed": false,
    "deletable": true,
    "editable": true
   },
   "outputs": [
    {
     "data": {
      "text/plain": [
       "CaseID                  0\n",
       "Activity             2022\n",
       "CompleteTimestamp    1974\n",
       "CumTimeInterval      1974\n",
       "NormalizedTime       1974\n",
       "dtype: int64"
      ]
     },
     "execution_count": 18,
     "metadata": {},
     "output_type": "execute_result"
    }
   ],
   "source": [
    "pd.isnull(normalized_missing_df).sum()"
   ]
  },
  {
   "cell_type": "code",
   "execution_count": 19,
   "metadata": {
    "collapsed": false,
    "deletable": true,
    "editable": true
   },
   "outputs": [
    {
     "data": {
      "text/plain": [
       "CaseID                 0\n",
       "Activity             342\n",
       "CompleteTimestamp    309\n",
       "CumTimeInterval      309\n",
       "NormalizedTime       309\n",
       "dtype: int64"
      ]
     },
     "execution_count": 19,
     "metadata": {},
     "output_type": "execute_result"
    }
   ],
   "source": [
    "pd.isnull(missing_true_val).sum()"
   ]
  },
  {
   "cell_type": "code",
   "execution_count": 20,
   "metadata": {
    "collapsed": false,
    "deletable": true,
    "editable": true
   },
   "outputs": [
    {
     "data": {
      "text/plain": [
       "CaseID                 0\n",
       "Activity             325\n",
       "CompleteTimestamp    307\n",
       "CumTimeInterval      307\n",
       "NormalizedTime       307\n",
       "dtype: int64"
      ]
     },
     "execution_count": 20,
     "metadata": {},
     "output_type": "execute_result"
    }
   ],
   "source": [
    "pd.isnull(missing_true_test).sum()"
   ]
  },
  {
   "cell_type": "markdown",
   "metadata": {
    "deletable": true,
    "editable": true
   },
   "source": [
    "# Build model"
   ]
  },
  {
   "cell_type": "markdown",
   "metadata": {
    "deletable": true,
    "editable": true
   },
   "source": [
    "## Define model"
   ]
  },
  {
   "cell_type": "code",
   "execution_count": 21,
   "metadata": {
    "collapsed": true,
    "deletable": true,
    "editable": true
   },
   "outputs": [],
   "source": [
    "if args.model_class == 'VAE':\n",
    "    model = VAE(complete_matrix_w_normalized_time_train.shape, args.layer1, args.layer2, args.cuda)\n",
    "\n",
    "if args.cuda:\n",
    "    model.cuda()"
   ]
  },
  {
   "cell_type": "markdown",
   "metadata": {
    "deletable": true,
    "editable": true
   },
   "source": [
    "## Define loss"
   ]
  },
  {
   "cell_type": "code",
   "execution_count": 22,
   "metadata": {
    "collapsed": true,
    "deletable": true,
    "editable": true
   },
   "outputs": [],
   "source": [
    "# Define loss\n",
    "\n",
    "def loss_function(recon_x, x, mu, logvar, avai_mask): \n",
    "    BCE = F.binary_cross_entropy(recon_x, x, weight=avai_mask, size_average=False)\n",
    "    # see Appendix B from VAE paper:\n",
    "    # Kingma and Welling. Auto-Encoding Variational Bayes. ICLR, 2014\n",
    "    # https://arxiv.org/abs/1312.6114\n",
    "    # 0.5 * sum(1 + log(sigma^2) - mu^2 - sigma^2)\n",
    "    KLD_element = mu.pow(2).add_(logvar.exp()).mul_(-1).add_(1).add_(logvar)\n",
    "    KLD = torch.sum(KLD_element).mul_(-0.5)\n",
    "    \n",
    "    loss = BCE+KLD\n",
    "    return loss"
   ]
  },
  {
   "cell_type": "code",
   "execution_count": 23,
   "metadata": {
    "collapsed": true,
    "deletable": true,
    "editable": true
   },
   "outputs": [],
   "source": [
    "optimizer = optim.Adam(model.parameters(), lr=args.lr, betas=args.betas)"
   ]
  },
  {
   "cell_type": "code",
   "execution_count": 24,
   "metadata": {
    "collapsed": true,
    "deletable": true,
    "editable": true
   },
   "outputs": [],
   "source": [
    "#Adjust learning rate per epoch: http://pytorch.org/docs/master/optim.html?highlight=adam#torch.optim.Adam\n",
    "\n",
    "# Method 1:\n",
    "lambda1 = lambda epoch: args.lr_decay ** epoch\n",
    "scheduler = torch.optim.lr_scheduler.LambdaLR(optimizer, lr_lambda=[lambda1])\n",
    "\n",
    "# Method 2:\n",
    "#scheduler = torch.optim.lr_scheduler.ReduceLROnPlateau(optimizer, 'min', patience=10)"
   ]
  },
  {
   "cell_type": "markdown",
   "metadata": {
    "deletable": true,
    "editable": true
   },
   "source": [
    "## Utils"
   ]
  },
  {
   "cell_type": "code",
   "execution_count": 25,
   "metadata": {
    "collapsed": true,
    "deletable": true,
    "editable": true
   },
   "outputs": [],
   "source": [
    "def save_model(model, epoch, score):\n",
    "    model_file = os.path.join(args.output_dir, 'model_{}_epoch{}_score{:.4f}.pth'.format(args.model_class, epoch, score))\n",
    "    torch.save(model.state_dict(), model_file)"
   ]
  },
  {
   "cell_type": "code",
   "execution_count": 26,
   "metadata": {
    "collapsed": true,
    "deletable": true,
    "editable": true
   },
   "outputs": [],
   "source": [
    "def load_model(model, model_name):\n",
    "    model_file = os.path.join(args.output_dir, model_name)\n",
    "    assert os.path.isfile(model_file), 'Error: no model found!'\n",
    "    model_state = torch.load(model_file)\n",
    "    model.load_state_dict(model_state)"
   ]
  },
  {
   "cell_type": "code",
   "execution_count": 27,
   "metadata": {
    "collapsed": true,
    "deletable": true,
    "editable": true
   },
   "outputs": [],
   "source": [
    "def val(model, missing_matrix_w_normalized_time_val, complete_matrix_w_normalized_time_val, nan_matrix_val):\n",
    "    model.eval()\n",
    "    m_val = missing_matrix_w_normalized_time_val\n",
    "    m_val = Variable(torch.Tensor(m_val).float())\n",
    "    \n",
    "    c_val = complete_matrix_w_normalized_time_val\n",
    "    c_val = Variable(torch.Tensor(c_val).float())\n",
    "    \n",
    "    nan_matrix_val = Variable(torch.Tensor(nan_matrix_val).float())\n",
    "    \n",
    "    if args.cuda:\n",
    "        m_val = m_val.cuda()\n",
    "        c_val = c_val.cuda()\n",
    "        nan_matrix_val = nan_matrix_val.cuda()\n",
    "        \n",
    "    recon_data, mu, logvar = model(m_val)\n",
    "        \n",
    "    loss = loss_function(recon_data, c_val, mu, logvar, nan_matrix_val)\n",
    "    return loss.data[0]/missing_matrix_w_normalized_time_val.shape[0]"
   ]
  },
  {
   "cell_type": "markdown",
   "metadata": {
    "collapsed": true,
    "deletable": true,
    "editable": true
   },
   "source": [
    "```python\n",
    "def val(model, missing_matrix_w_normalized_time_val, complete_true_val, missing_true_val,\n",
    "       pad_matrix_val, cols_w_normalized_time, val_row_num,\n",
    "       nan_time_index_val, nan_activity_index_val):\n",
    "    model.eval()\n",
    "    m_val = missing_matrix_w_normalized_time_val\n",
    "    m_val = Variable(torch.Tensor(m_val).float())\n",
    "    \n",
    "    if args.cuda:\n",
    "        m_val = m_val.cuda()\n",
    "        \n",
    "    recon_val, mu, logvar = model(m_val)\n",
    "    \n",
    "    recon_df_w_normalized_time = convert2df(recon_val, pad_matrix_val, cols_w_normalized_time, val_row_num)\n",
    "    recon_df_w_time = getDfWithTime(recon_df_w_normalized_time, missing_true_val, min_max_storage)\n",
    "    submission_df = getSubmission(recon_df_w_time, missing_true_val, complete_true_val, first_timestamp)\n",
    "    \n",
    "    #evaluate\n",
    "    mae_time, rmse_time, acc = evaluation(submission_df, nan_time_index_val, nan_activity_index_val)\n",
    "    \n",
    "    \n",
    "    return mae_time/86400+1/acc\n",
    " ```"
   ]
  },
  {
   "cell_type": "code",
   "execution_count": 28,
   "metadata": {
    "collapsed": false,
    "deletable": true,
    "editable": true
   },
   "outputs": [
    {
     "data": {
      "text/html": [
       "<div>\n",
       "<style>\n",
       "    .dataframe thead tr:only-child th {\n",
       "        text-align: right;\n",
       "    }\n",
       "\n",
       "    .dataframe thead th {\n",
       "        text-align: left;\n",
       "    }\n",
       "\n",
       "    .dataframe tbody tr th {\n",
       "        vertical-align: top;\n",
       "    }\n",
       "</style>\n",
       "<table border=\"1\" class=\"dataframe\">\n",
       "  <thead>\n",
       "    <tr style=\"text-align: right;\">\n",
       "      <th></th>\n",
       "      <th>CaseID</th>\n",
       "      <th>Activity</th>\n",
       "      <th>CompleteTimestamp</th>\n",
       "      <th>CumTimeInterval</th>\n",
       "      <th>NormalizedTime</th>\n",
       "    </tr>\n",
       "  </thead>\n",
       "  <tbody>\n",
       "    <tr>\n",
       "      <th>0</th>\n",
       "      <td>893</td>\n",
       "      <td>NaN</td>\n",
       "      <td>2012-01-14 04:03:40</td>\n",
       "      <td>189490438.0</td>\n",
       "      <td>0.000000</td>\n",
       "    </tr>\n",
       "    <tr>\n",
       "      <th>1</th>\n",
       "      <td>893</td>\n",
       "      <td>Accepted-In Progress</td>\n",
       "      <td>2012-01-31 22:16:55</td>\n",
       "      <td>191024833.0</td>\n",
       "      <td>0.507308</td>\n",
       "    </tr>\n",
       "    <tr>\n",
       "      <th>2</th>\n",
       "      <td>893</td>\n",
       "      <td>Queued-Awaiting Assignment</td>\n",
       "      <td>NaN</td>\n",
       "      <td>NaN</td>\n",
       "      <td>NaN</td>\n",
       "    </tr>\n",
       "    <tr>\n",
       "      <th>3</th>\n",
       "      <td>893</td>\n",
       "      <td>Accepted-In Progress</td>\n",
       "      <td>2012-01-31 23:02:59</td>\n",
       "      <td>191027597.0</td>\n",
       "      <td>0.508222</td>\n",
       "    </tr>\n",
       "    <tr>\n",
       "      <th>4</th>\n",
       "      <td>893</td>\n",
       "      <td>Completed-Closed</td>\n",
       "      <td>2012-02-18 04:13:20</td>\n",
       "      <td>192515018.0</td>\n",
       "      <td>1.000000</td>\n",
       "    </tr>\n",
       "  </tbody>\n",
       "</table>\n",
       "</div>"
      ],
      "text/plain": [
       "   CaseID                    Activity    CompleteTimestamp  CumTimeInterval  \\\n",
       "0     893                         NaN  2012-01-14 04:03:40      189490438.0   \n",
       "1     893        Accepted-In Progress  2012-01-31 22:16:55      191024833.0   \n",
       "2     893  Queued-Awaiting Assignment                  NaN              NaN   \n",
       "3     893        Accepted-In Progress  2012-01-31 23:02:59      191027597.0   \n",
       "4     893            Completed-Closed  2012-02-18 04:13:20      192515018.0   \n",
       "\n",
       "   NormalizedTime  \n",
       "0        0.000000  \n",
       "1        0.507308  \n",
       "2             NaN  \n",
       "3        0.508222  \n",
       "4        1.000000  "
      ]
     },
     "execution_count": 28,
     "metadata": {},
     "output_type": "execute_result"
    }
   ],
   "source": [
    "missing_true_val.head()"
   ]
  },
  {
   "cell_type": "code",
   "execution_count": 29,
   "metadata": {
    "collapsed": false,
    "deletable": true,
    "editable": true
   },
   "outputs": [
    {
     "data": {
      "text/html": [
       "<div>\n",
       "<style>\n",
       "    .dataframe thead tr:only-child th {\n",
       "        text-align: right;\n",
       "    }\n",
       "\n",
       "    .dataframe thead th {\n",
       "        text-align: left;\n",
       "    }\n",
       "\n",
       "    .dataframe tbody tr th {\n",
       "        vertical-align: top;\n",
       "    }\n",
       "</style>\n",
       "<table border=\"1\" class=\"dataframe\">\n",
       "  <thead>\n",
       "    <tr style=\"text-align: right;\">\n",
       "      <th></th>\n",
       "      <th>CaseID</th>\n",
       "      <th>Activity</th>\n",
       "      <th>CompleteTimestamp</th>\n",
       "      <th>CumTimeInterval</th>\n",
       "      <th>NormalizedTime</th>\n",
       "    </tr>\n",
       "  </thead>\n",
       "  <tbody>\n",
       "    <tr>\n",
       "      <th>0</th>\n",
       "      <td>893</td>\n",
       "      <td>Queued-Awaiting Assignment</td>\n",
       "      <td>2012-01-14 04:03:40</td>\n",
       "      <td>189490438.0</td>\n",
       "      <td>0.000000</td>\n",
       "    </tr>\n",
       "    <tr>\n",
       "      <th>1</th>\n",
       "      <td>893</td>\n",
       "      <td>Accepted-In Progress</td>\n",
       "      <td>2012-01-31 22:16:55</td>\n",
       "      <td>191024833.0</td>\n",
       "      <td>0.507308</td>\n",
       "    </tr>\n",
       "    <tr>\n",
       "      <th>2</th>\n",
       "      <td>893</td>\n",
       "      <td>Queued-Awaiting Assignment</td>\n",
       "      <td>2012-01-31 22:29:08</td>\n",
       "      <td>191025566.0</td>\n",
       "      <td>0.507551</td>\n",
       "    </tr>\n",
       "    <tr>\n",
       "      <th>3</th>\n",
       "      <td>893</td>\n",
       "      <td>Accepted-In Progress</td>\n",
       "      <td>2012-01-31 23:02:59</td>\n",
       "      <td>191027597.0</td>\n",
       "      <td>0.508222</td>\n",
       "    </tr>\n",
       "    <tr>\n",
       "      <th>4</th>\n",
       "      <td>893</td>\n",
       "      <td>Completed-Closed</td>\n",
       "      <td>2012-02-18 04:13:20</td>\n",
       "      <td>192515018.0</td>\n",
       "      <td>1.000000</td>\n",
       "    </tr>\n",
       "  </tbody>\n",
       "</table>\n",
       "</div>"
      ],
      "text/plain": [
       "   CaseID                    Activity    CompleteTimestamp  CumTimeInterval  \\\n",
       "0     893  Queued-Awaiting Assignment  2012-01-14 04:03:40      189490438.0   \n",
       "1     893        Accepted-In Progress  2012-01-31 22:16:55      191024833.0   \n",
       "2     893  Queued-Awaiting Assignment  2012-01-31 22:29:08      191025566.0   \n",
       "3     893        Accepted-In Progress  2012-01-31 23:02:59      191027597.0   \n",
       "4     893            Completed-Closed  2012-02-18 04:13:20      192515018.0   \n",
       "\n",
       "   NormalizedTime  \n",
       "0        0.000000  \n",
       "1        0.507308  \n",
       "2        0.507551  \n",
       "3        0.508222  \n",
       "4        1.000000  "
      ]
     },
     "execution_count": 29,
     "metadata": {},
     "output_type": "execute_result"
    }
   ],
   "source": [
    "complete_true_val.head()"
   ]
  },
  {
   "cell_type": "markdown",
   "metadata": {
    "deletable": true,
    "editable": true
   },
   "source": [
    "# Train model"
   ]
  },
  {
   "cell_type": "code",
   "execution_count": 30,
   "metadata": {
    "collapsed": true,
    "deletable": true,
    "editable": true
   },
   "outputs": [],
   "source": [
    "def train(epoch, model, optimizer):\n",
    "    model.train()\n",
    "    train_loss = 0\n",
    "    for batch_idx, (m_data, c_data, avai_mask) in enumerate(zip(missing_matrix_w_normalized_time_trainLoader,\n",
    "                                                     complete_matrix_w_normalized_time_trainLoader,\n",
    "                                                     avai_matrix_trainLoader)):\n",
    "        c_data = Variable(c_data.float())\n",
    "        m_data = Variable(m_data.float())\n",
    "        avai_mask = Variable(avai_mask.float())\n",
    "      \n",
    "        #Transform: np --> Tensor/Variable: tensor --> tensor with wrapper\n",
    "        #Wraps a tensor and records the operations applied to it.\n",
    "        #Variable is a thin wrapper around a Tensor object, that also holds the gradient\n",
    "        if args.cuda:\n",
    "            c_data = c_data.cuda()\n",
    "            m_data = m_data.cuda()\n",
    "            avai_mask = avai_mask.cuda()\n",
    "            \n",
    "        optimizer.zero_grad()\n",
    "        \n",
    "        recon_data, mu, logvar = model(m_data)\n",
    "        \n",
    "        loss = loss_function(recon_data, c_data, mu, logvar, avai_mask)\n",
    "        loss.backward()\n",
    "        train_loss += loss.data[0]\n",
    "        optimizer.step()\n",
    "        \n",
    "    return train_loss / len(complete_matrix_w_normalized_time_trainLoader.dataset)"
   ]
  },
  {
   "cell_type": "code",
   "execution_count": 32,
   "metadata": {
    "collapsed": false,
    "deletable": true,
    "editable": true,
    "scrolled": false
   },
   "outputs": [
    {
     "name": "stdout",
     "output_type": "stream",
     "text": [
      "====> Epoch 1 | Time: 1.1452720165252686 | Train loss: 6.1345 | Val score: 4.3891\n",
      "====> Epoch 2 | Time: 1.1020219326019287 | Train loss: 5.8269 | Val score: 4.4738\n",
      "====> Epoch 3 | Time: 1.2038190364837646 | Train loss: 6.0327 | Val score: 4.3081\n",
      "====> Epoch 4 | Time: 1.2976469993591309 | Train loss: 5.9991 | Val score: 4.1811\n",
      "====> Epoch 5 | Time: 1.2902140617370605 | Train loss: 5.9853 | Val score: 4.3626\n",
      "====> Epoch 6 | Time: 1.3427588939666748 | Train loss: 6.0183 | Val score: 4.4264\n",
      "====> Epoch 7 | Time: 1.437209129333496 | Train loss: 5.8073 | Val score: 4.3683\n",
      "====> Epoch 8 | Time: 1.6142430305480957 | Train loss: 6.0344 | Val score: 4.6294\n",
      "====> Epoch 9 | Time: 1.7477359771728516 | Train loss: 5.9703 | Val score: 4.2319\n",
      "====> Epoch 10 | Time: 1.8503599166870117 | Train loss: 5.8637 | Val score: 4.3557\n",
      "====> Epoch 11 | Time: 1.870811939239502 | Train loss: 5.9529 | Val score: 4.3940\n",
      "====> Epoch 12 | Time: 1.582139015197754 | Train loss: 5.8654 | Val score: 4.1992\n",
      "====> Epoch 13 | Time: 1.6660709381103516 | Train loss: 5.8500 | Val score: 4.3855\n",
      "====> Epoch 14 | Time: 2.033536195755005 | Train loss: 5.9543 | Val score: 4.2585\n",
      "====> Epoch 15 | Time: 1.9969029426574707 | Train loss: 5.9050 | Val score: 4.4775\n",
      "====> Epoch 16 | Time: 1.9634079933166504 | Train loss: 5.8073 | Val score: 4.4015\n",
      "====> Epoch 17 | Time: 1.9696381092071533 | Train loss: 5.6687 | Val score: 4.4220\n",
      "====> Epoch 18 | Time: 1.7337300777435303 | Train loss: 5.6779 | Val score: 4.4466\n",
      "====> Epoch 19 | Time: 2.0377140045166016 | Train loss: 5.5087 | Val score: 4.4173\n",
      "====> Epoch 20 | Time: 2.1669960021972656 | Train loss: 5.3793 | Val score: 4.3969\n",
      "====> Epoch 21 | Time: 2.0234739780426025 | Train loss: 5.4776 | Val score: 4.5149\n",
      "====> Epoch 22 | Time: 1.9831819534301758 | Train loss: 5.4580 | Val score: 4.6359\n",
      "====> Epoch 23 | Time: 1.80830717086792 | Train loss: 5.5392 | Val score: 4.5031\n",
      "====> Epoch 24 | Time: 2.00228214263916 | Train loss: 5.4573 | Val score: 4.5780\n",
      "====> Epoch 25 | Time: 2.01452898979187 | Train loss: 5.4524 | Val score: 4.5343\n",
      "====> Epoch 26 | Time: 1.950650930404663 | Train loss: 5.4678 | Val score: 4.3817\n",
      "====> Epoch 27 | Time: 1.7797300815582275 | Train loss: 5.4012 | Val score: 4.4555\n",
      "====> Epoch 28 | Time: 2.0680429935455322 | Train loss: 5.4529 | Val score: 4.3815\n",
      "====> Epoch 29 | Time: 2.3253231048583984 | Train loss: 5.5322 | Val score: 4.3294\n",
      "====> Epoch 30 | Time: 2.073660135269165 | Train loss: 5.4631 | Val score: 4.2328\n",
      "====> Epoch 31 | Time: 2.0499069690704346 | Train loss: 5.3998 | Val score: 4.3181\n"
     ]
    },
    {
     "name": "stderr",
     "output_type": "stream",
     "text": [
      "Process Process-265:\n",
      "Process Process-266:\n",
      "Process Process-267:\n",
      "Process Process-270:\n",
      "Process Process-268:\n",
      "Process Process-269:\n"
     ]
    },
    {
     "ename": "KeyboardInterrupt",
     "evalue": "",
     "output_type": "error",
     "traceback": [
      "\u001b[0;31m---------------------------------------------------------------------------\u001b[0m",
      "\u001b[0;31mKeyboardInterrupt\u001b[0m                         Traceback (most recent call last)",
      "\u001b[0;32m<ipython-input-32-9616650e9b31>\u001b[0m in \u001b[0;36m<module>\u001b[0;34m()\u001b[0m\n\u001b[1;32m      3\u001b[0m         \u001b[0minit\u001b[0m \u001b[0;34m=\u001b[0m \u001b[0mtime\u001b[0m\u001b[0;34m.\u001b[0m\u001b[0mtime\u001b[0m\u001b[0;34m(\u001b[0m\u001b[0;34m)\u001b[0m\u001b[0;34m\u001b[0m\u001b[0m\n\u001b[1;32m      4\u001b[0m         \u001b[0;31m#scheduler.step()\u001b[0m\u001b[0;34m\u001b[0m\u001b[0;34m\u001b[0m\u001b[0m\n\u001b[0;32m----> 5\u001b[0;31m         \u001b[0mtrain_loss\u001b[0m \u001b[0;34m=\u001b[0m \u001b[0mtrain\u001b[0m\u001b[0;34m(\u001b[0m\u001b[0mepoch\u001b[0m\u001b[0;34m,\u001b[0m \u001b[0mmodel\u001b[0m\u001b[0;34m,\u001b[0m \u001b[0moptimizer\u001b[0m\u001b[0;34m)\u001b[0m\u001b[0;34m\u001b[0m\u001b[0m\n\u001b[0m\u001b[1;32m      6\u001b[0m         \u001b[0;31m#val_score = val(model, missing_matrix_w_normalized_time_val, complete_true_val, missing_true_val,\u001b[0m\u001b[0;34m\u001b[0m\u001b[0;34m\u001b[0m\u001b[0m\n\u001b[1;32m      7\u001b[0m         \u001b[0;31m#                    pad_matrix_val, cols_w_normalized_time, val_row_num,\u001b[0m\u001b[0;34m\u001b[0m\u001b[0;34m\u001b[0m\u001b[0m\n",
      "\u001b[0;32m<ipython-input-30-17835ab8030e>\u001b[0m in \u001b[0;36mtrain\u001b[0;34m(epoch, model, optimizer)\u001b[0m\n\u001b[1;32m     24\u001b[0m         \u001b[0mloss\u001b[0m\u001b[0;34m.\u001b[0m\u001b[0mbackward\u001b[0m\u001b[0;34m(\u001b[0m\u001b[0;34m)\u001b[0m\u001b[0;34m\u001b[0m\u001b[0m\n\u001b[1;32m     25\u001b[0m         \u001b[0mtrain_loss\u001b[0m \u001b[0;34m+=\u001b[0m \u001b[0mloss\u001b[0m\u001b[0;34m.\u001b[0m\u001b[0mdata\u001b[0m\u001b[0;34m[\u001b[0m\u001b[0;36m0\u001b[0m\u001b[0;34m]\u001b[0m\u001b[0;34m\u001b[0m\u001b[0m\n\u001b[0;32m---> 26\u001b[0;31m         \u001b[0moptimizer\u001b[0m\u001b[0;34m.\u001b[0m\u001b[0mstep\u001b[0m\u001b[0;34m(\u001b[0m\u001b[0;34m)\u001b[0m\u001b[0;34m\u001b[0m\u001b[0m\n\u001b[0m\u001b[1;32m     27\u001b[0m \u001b[0;34m\u001b[0m\u001b[0m\n\u001b[1;32m     28\u001b[0m     \u001b[0;32mreturn\u001b[0m \u001b[0mtrain_loss\u001b[0m \u001b[0;34m/\u001b[0m \u001b[0mlen\u001b[0m\u001b[0;34m(\u001b[0m\u001b[0mcomplete_matrix_w_normalized_time_trainLoader\u001b[0m\u001b[0;34m.\u001b[0m\u001b[0mdataset\u001b[0m\u001b[0;34m)\u001b[0m\u001b[0;34m\u001b[0m\u001b[0m\n",
      "\u001b[0;32m/Users/hoangnguyen/miniconda3/envs/pydata/lib/python3.5/site-packages/torch/optim/adam.py\u001b[0m in \u001b[0;36mstep\u001b[0;34m(self, closure)\u001b[0m\n\u001b[1;32m     63\u001b[0m \u001b[0;34m\u001b[0m\u001b[0m\n\u001b[1;32m     64\u001b[0m                 \u001b[0;31m# Decay the first and second moment running average coefficient\u001b[0m\u001b[0;34m\u001b[0m\u001b[0;34m\u001b[0m\u001b[0m\n\u001b[0;32m---> 65\u001b[0;31m                 \u001b[0mexp_avg\u001b[0m\u001b[0;34m.\u001b[0m\u001b[0mmul_\u001b[0m\u001b[0;34m(\u001b[0m\u001b[0mbeta1\u001b[0m\u001b[0;34m)\u001b[0m\u001b[0;34m.\u001b[0m\u001b[0madd_\u001b[0m\u001b[0;34m(\u001b[0m\u001b[0;36m1\u001b[0m \u001b[0;34m-\u001b[0m \u001b[0mbeta1\u001b[0m\u001b[0;34m,\u001b[0m \u001b[0mgrad\u001b[0m\u001b[0;34m)\u001b[0m\u001b[0;34m\u001b[0m\u001b[0m\n\u001b[0m\u001b[1;32m     66\u001b[0m                 \u001b[0mexp_avg_sq\u001b[0m\u001b[0;34m.\u001b[0m\u001b[0mmul_\u001b[0m\u001b[0;34m(\u001b[0m\u001b[0mbeta2\u001b[0m\u001b[0;34m)\u001b[0m\u001b[0;34m.\u001b[0m\u001b[0maddcmul_\u001b[0m\u001b[0;34m(\u001b[0m\u001b[0;36m1\u001b[0m \u001b[0;34m-\u001b[0m \u001b[0mbeta2\u001b[0m\u001b[0;34m,\u001b[0m \u001b[0mgrad\u001b[0m\u001b[0;34m,\u001b[0m \u001b[0mgrad\u001b[0m\u001b[0;34m)\u001b[0m\u001b[0;34m\u001b[0m\u001b[0m\n\u001b[1;32m     67\u001b[0m \u001b[0;34m\u001b[0m\u001b[0m\n",
      "\u001b[0;31mKeyboardInterrupt\u001b[0m: "
     ]
    },
    {
     "name": "stderr",
     "output_type": "stream",
     "text": [
      "Traceback (most recent call last):\n",
      "Traceback (most recent call last):\n",
      "Traceback (most recent call last):\n",
      "Traceback (most recent call last):\n",
      "Traceback (most recent call last):\n",
      "Traceback (most recent call last):\n",
      "  File \"/Users/hoangnguyen/miniconda3/envs/pydata/lib/python3.5/multiprocessing/process.py\", line 249, in _bootstrap\n",
      "    self.run()\n",
      "  File \"/Users/hoangnguyen/miniconda3/envs/pydata/lib/python3.5/multiprocessing/process.py\", line 249, in _bootstrap\n",
      "    self.run()\n",
      "  File \"/Users/hoangnguyen/miniconda3/envs/pydata/lib/python3.5/multiprocessing/process.py\", line 249, in _bootstrap\n",
      "    self.run()\n",
      "  File \"/Users/hoangnguyen/miniconda3/envs/pydata/lib/python3.5/multiprocessing/process.py\", line 249, in _bootstrap\n",
      "    self.run()\n",
      "  File \"/Users/hoangnguyen/miniconda3/envs/pydata/lib/python3.5/multiprocessing/process.py\", line 93, in run\n",
      "    self._target(*self._args, **self._kwargs)\n",
      "  File \"/Users/hoangnguyen/miniconda3/envs/pydata/lib/python3.5/multiprocessing/process.py\", line 249, in _bootstrap\n",
      "    self.run()\n",
      "  File \"/Users/hoangnguyen/miniconda3/envs/pydata/lib/python3.5/multiprocessing/process.py\", line 249, in _bootstrap\n",
      "    self.run()\n",
      "  File \"/Users/hoangnguyen/miniconda3/envs/pydata/lib/python3.5/multiprocessing/process.py\", line 93, in run\n",
      "    self._target(*self._args, **self._kwargs)\n",
      "  File \"/Users/hoangnguyen/miniconda3/envs/pydata/lib/python3.5/multiprocessing/process.py\", line 93, in run\n",
      "    self._target(*self._args, **self._kwargs)\n",
      "  File \"/Users/hoangnguyen/miniconda3/envs/pydata/lib/python3.5/multiprocessing/process.py\", line 93, in run\n",
      "    self._target(*self._args, **self._kwargs)\n",
      "  File \"/Users/hoangnguyen/miniconda3/envs/pydata/lib/python3.5/site-packages/torch/utils/data/dataloader.py\", line 34, in _worker_loop\n",
      "    r = index_queue.get()\n",
      "  File \"/Users/hoangnguyen/miniconda3/envs/pydata/lib/python3.5/multiprocessing/process.py\", line 93, in run\n",
      "    self._target(*self._args, **self._kwargs)\n",
      "  File \"/Users/hoangnguyen/miniconda3/envs/pydata/lib/python3.5/multiprocessing/process.py\", line 93, in run\n",
      "    self._target(*self._args, **self._kwargs)\n",
      "  File \"/Users/hoangnguyen/miniconda3/envs/pydata/lib/python3.5/site-packages/torch/utils/data/dataloader.py\", line 34, in _worker_loop\n",
      "    r = index_queue.get()\n",
      "  File \"/Users/hoangnguyen/miniconda3/envs/pydata/lib/python3.5/site-packages/torch/utils/data/dataloader.py\", line 34, in _worker_loop\n",
      "    r = index_queue.get()\n",
      "  File \"/Users/hoangnguyen/miniconda3/envs/pydata/lib/python3.5/site-packages/torch/utils/data/dataloader.py\", line 34, in _worker_loop\n",
      "    r = index_queue.get()\n",
      "  File \"/Users/hoangnguyen/miniconda3/envs/pydata/lib/python3.5/site-packages/torch/utils/data/dataloader.py\", line 34, in _worker_loop\n",
      "    r = index_queue.get()\n",
      "  File \"/Users/hoangnguyen/miniconda3/envs/pydata/lib/python3.5/site-packages/torch/utils/data/dataloader.py\", line 34, in _worker_loop\n",
      "    r = index_queue.get()\n",
      "  File \"/Users/hoangnguyen/miniconda3/envs/pydata/lib/python3.5/multiprocessing/queues.py\", line 342, in get\n",
      "    with self._rlock:\n",
      "  File \"/Users/hoangnguyen/miniconda3/envs/pydata/lib/python3.5/multiprocessing/synchronize.py\", line 96, in __enter__\n",
      "    return self._semlock.__enter__()\n",
      "  File \"/Users/hoangnguyen/miniconda3/envs/pydata/lib/python3.5/multiprocessing/queues.py\", line 342, in get\n",
      "    with self._rlock:\n",
      "  File \"/Users/hoangnguyen/miniconda3/envs/pydata/lib/python3.5/multiprocessing/queues.py\", line 343, in get\n",
      "    res = self._reader.recv_bytes()\n",
      "  File \"/Users/hoangnguyen/miniconda3/envs/pydata/lib/python3.5/multiprocessing/synchronize.py\", line 96, in __enter__\n",
      "    return self._semlock.__enter__()\n",
      "  File \"/Users/hoangnguyen/miniconda3/envs/pydata/lib/python3.5/multiprocessing/queues.py\", line 343, in get\n",
      "    res = self._reader.recv_bytes()\n",
      "KeyboardInterrupt\n"
     ]
    }
   ],
   "source": [
    "if args.train:\n",
    "    for epoch in range(1, args.epochs + 1):\n",
    "        init = time.time()\n",
    "        \n",
    "        #method 1 scheduler\n",
    "        scheduler.step()\n",
    "        \n",
    "        train_loss = train(epoch, model, optimizer)\n",
    "        #val_score = val(model, missing_matrix_w_normalized_time_val, complete_true_val, missing_true_val,\n",
    "        #                    pad_matrix_val, cols_w_normalized_time, val_row_num, \n",
    "        #                    nan_time_index_val, nan_activity_index_val)\n",
    "        val_score = val(model, missing_matrix_w_normalized_time_val, complete_matrix_w_normalized_time_val, avai_matrix_val)\n",
    "        \n",
    "        if epoch == 1:\n",
    "            current_best = val_score\n",
    "            save_model(model, epoch, val_score)\n",
    "        \n",
    "        else:\n",
    "            if val_score < current_best:\n",
    "                current_best = val_score\n",
    "                save_model(model, epoch, val_score)\n",
    "        \n",
    "        #method 2 scheduler\n",
    "        #scheduler.step(val_score)\n",
    "        \n",
    "        end = time.time()\n",
    "        print('====> Epoch {} | Time: {} ms| Train loss: {:.4f} | Val score: {:.4f}'.format(\n",
    "                          epoch, (end-init)*1000 ,train_loss, val_score))\n",
    "else:\n",
    "    load_model(model, args.model_name)"
   ]
  },
  {
   "cell_type": "markdown",
   "metadata": {
    "collapsed": true,
    "deletable": true,
    "editable": true
   },
   "source": [
    "# Predict and evaluate"
   ]
  },
  {
   "cell_type": "code",
   "execution_count": 32,
   "metadata": {
    "collapsed": false,
    "deletable": true,
    "editable": true
   },
   "outputs": [
    {
     "name": "stdout",
     "output_type": "stream",
     "text": [
      "Predicting...\n",
      "\n",
      "\n",
      "Converting to dataframe...\n",
      "Transforming Normalized Time to Time...\n",
      "Getting submission...\n"
     ]
    },
    {
     "name": "stderr",
     "output_type": "stream",
     "text": [
      "/home/pllab/miniconda2/envs/pydata/lib/python3.5/site-packages/pandas/core/indexing.py:517: SettingWithCopyWarning: \n",
      "A value is trying to be set on a copy of a slice from a DataFrame.\n",
      "Try using .loc[row_indexer,col_indexer] = value instead\n",
      "\n",
      "See the caveats in the documentation: http://pandas.pydata.org/pandas-docs/stable/indexing.html#indexing-view-versus-copy\n",
      "  self.obj[item] = s\n"
     ]
    },
    {
     "name": "stdout",
     "output_type": "stream",
     "text": [
      "Testing...\n",
      "Number of missing Time: 14501\n",
      "Mean Absolute Error: 0.9803 day(s)\n",
      "Root Mean Squared Error: 2.1182 day(s)\n",
      "Number of missing Activity: 14349\n",
      "Accuracy: 69.05%\n",
      "\n",
      "\n",
      "Saving submission...\n",
      "Done!\n"
     ]
    }
   ],
   "source": [
    "if args.test:\n",
    "    m_test = missing_matrix_w_normalized_time_test\n",
    "    m_test = Variable(torch.Tensor(m_test).float())\n",
    "    \n",
    "    if args.cuda:\n",
    "        m_test = m_test.cuda()\n",
    "    \n",
    "    print('Predicting...')\n",
    "    recon_test, mu, logvar = model(m_test)\n",
    "    \n",
    "    print('\\n')\n",
    "    print('Converting to dataframe...')\n",
    "    recon_df_w_normalized_time = convert2df(recon_test, pad_matrix_test, cols_w_normalized_time, test_row_num)\n",
    "    \n",
    "    print('Transforming Normalized Time to Time...')\n",
    "    recon_df_w_time = getDfWithTime(recon_df_w_normalized_time, missing_true_test, min_max_storage)\n",
    "    \n",
    "    print('Getting submission...')\n",
    "    submission_df = getSubmission(recon_df_w_time, missing_true_test, complete_true_test, first_timestamp)\n",
    "    submission = fixTime(submission_df)\n",
    "        \n",
    "    print('Testing...')\n",
    "    mae_time, rmse_time, acc = evaluation(submission, nan_time_index_test, nan_activity_index_test,show=True)\n",
    "    \n",
    "    print('\\n')\n",
    "    print('Saving submission...')\n",
    "    submission_df.to_csv(args.output_dir+'submission.csv', index=False)\n",
    "    print('Done!')"
   ]
  },
  {
   "cell_type": "code",
   "execution_count": 33,
   "metadata": {
    "collapsed": false,
    "deletable": true,
    "editable": true
   },
   "outputs": [
    {
     "data": {
      "text/html": [
       "<div>\n",
       "<style>\n",
       "    .dataframe thead tr:only-child th {\n",
       "        text-align: right;\n",
       "    }\n",
       "\n",
       "    .dataframe thead th {\n",
       "        text-align: left;\n",
       "    }\n",
       "\n",
       "    .dataframe tbody tr th {\n",
       "        vertical-align: top;\n",
       "    }\n",
       "</style>\n",
       "<table border=\"1\" class=\"dataframe\">\n",
       "  <thead>\n",
       "    <tr style=\"text-align: right;\">\n",
       "      <th></th>\n",
       "      <th>CaseID</th>\n",
       "      <th>TrueActivity</th>\n",
       "      <th>PredictedActivity</th>\n",
       "      <th>TrueTime</th>\n",
       "      <th>PredictedTime</th>\n",
       "      <th>TrueCompleteTimestamp</th>\n",
       "      <th>PredictedCompleteTimestamp</th>\n",
       "    </tr>\n",
       "  </thead>\n",
       "  <tbody>\n",
       "    <tr>\n",
       "      <th>0</th>\n",
       "      <td>10470</td>\n",
       "      <td>A_SUBMITTED-COMPLETE</td>\n",
       "      <td>A_SUBMITTED-COMPLETE</td>\n",
       "      <td>1.086351e+07</td>\n",
       "      <td>1.086351e+07</td>\n",
       "      <td>2012-02-04 01:17:11.047</td>\n",
       "      <td>2012-02-04 01:17:11.047</td>\n",
       "    </tr>\n",
       "    <tr>\n",
       "      <th>1</th>\n",
       "      <td>10470</td>\n",
       "      <td>A_PARTLYSUBMITTED-COMPLETE</td>\n",
       "      <td>A_PARTLYSUBMITTED-COMPLETE</td>\n",
       "      <td>1.086351e+07</td>\n",
       "      <td>1.086351e+07</td>\n",
       "      <td>2012-02-04 01:17:11.323</td>\n",
       "      <td>2012-02-04 01:17:11.097427</td>\n",
       "    </tr>\n",
       "    <tr>\n",
       "      <th>2</th>\n",
       "      <td>10470</td>\n",
       "      <td>A_DECLINED-COMPLETE</td>\n",
       "      <td>A_DECLINED-COMPLETE</td>\n",
       "      <td>1.086354e+07</td>\n",
       "      <td>1.086354e+07</td>\n",
       "      <td>2012-02-04 01:17:42.964</td>\n",
       "      <td>2012-02-04 01:17:42.964</td>\n",
       "    </tr>\n",
       "    <tr>\n",
       "      <th>3</th>\n",
       "      <td>10471</td>\n",
       "      <td>A_SUBMITTED-COMPLETE</td>\n",
       "      <td>A_SUBMITTED-COMPLETE</td>\n",
       "      <td>1.086390e+07</td>\n",
       "      <td>1.086390e+07</td>\n",
       "      <td>2012-02-04 01:23:41.949</td>\n",
       "      <td>2012-02-04 01:23:41.949</td>\n",
       "    </tr>\n",
       "    <tr>\n",
       "      <th>4</th>\n",
       "      <td>10471</td>\n",
       "      <td>A_PARTLYSUBMITTED-COMPLETE</td>\n",
       "      <td>A_PARTLYSUBMITTED-COMPLETE</td>\n",
       "      <td>1.086390e+07</td>\n",
       "      <td>1.086390e+07</td>\n",
       "      <td>2012-02-04 01:23:42.504</td>\n",
       "      <td>2012-02-04 01:23:42.504</td>\n",
       "    </tr>\n",
       "    <tr>\n",
       "      <th>5</th>\n",
       "      <td>10471</td>\n",
       "      <td>A_PREACCEPTED-COMPLETE</td>\n",
       "      <td>A_PREACCEPTED-COMPLETE</td>\n",
       "      <td>1.086394e+07</td>\n",
       "      <td>1.086394e+07</td>\n",
       "      <td>2012-02-04 01:24:23.379</td>\n",
       "      <td>2012-02-04 01:24:23.379</td>\n",
       "    </tr>\n",
       "    <tr>\n",
       "      <th>6</th>\n",
       "      <td>10471</td>\n",
       "      <td>W_Completeren aanvraag-SCHEDULE</td>\n",
       "      <td>W_Completeren aanvraag-SCHEDULE</td>\n",
       "      <td>1.086394e+07</td>\n",
       "      <td>1.086394e+07</td>\n",
       "      <td>2012-02-04 01:24:24.052</td>\n",
       "      <td>2012-02-04 01:24:24.052</td>\n",
       "    </tr>\n",
       "    <tr>\n",
       "      <th>7</th>\n",
       "      <td>10471</td>\n",
       "      <td>W_Completeren aanvraag-START</td>\n",
       "      <td>W_Completeren aanvraag-START</td>\n",
       "      <td>1.087644e+07</td>\n",
       "      <td>1.087644e+07</td>\n",
       "      <td>2012-02-04 04:52:43.090</td>\n",
       "      <td>2012-02-04 04:52:43.090</td>\n",
       "    </tr>\n",
       "    <tr>\n",
       "      <th>8</th>\n",
       "      <td>10471</td>\n",
       "      <td>W_Completeren aanvraag-COMPLETE</td>\n",
       "      <td>W_Completeren aanvraag-COMPLETE</td>\n",
       "      <td>1.087696e+07</td>\n",
       "      <td>1.087696e+07</td>\n",
       "      <td>2012-02-04 05:01:19.935</td>\n",
       "      <td>2012-02-04 05:01:19.935</td>\n",
       "    </tr>\n",
       "    <tr>\n",
       "      <th>9</th>\n",
       "      <td>10471</td>\n",
       "      <td>W_Completeren aanvraag-START</td>\n",
       "      <td>W_Completeren aanvraag-START</td>\n",
       "      <td>1.087697e+07</td>\n",
       "      <td>1.087697e+07</td>\n",
       "      <td>2012-02-04 05:01:31.267</td>\n",
       "      <td>2012-02-04 05:01:31.267</td>\n",
       "    </tr>\n",
       "  </tbody>\n",
       "</table>\n",
       "</div>"
      ],
      "text/plain": [
       "   CaseID                     TrueActivity                PredictedActivity  \\\n",
       "0   10470             A_SUBMITTED-COMPLETE             A_SUBMITTED-COMPLETE   \n",
       "1   10470       A_PARTLYSUBMITTED-COMPLETE       A_PARTLYSUBMITTED-COMPLETE   \n",
       "2   10470              A_DECLINED-COMPLETE              A_DECLINED-COMPLETE   \n",
       "3   10471             A_SUBMITTED-COMPLETE             A_SUBMITTED-COMPLETE   \n",
       "4   10471       A_PARTLYSUBMITTED-COMPLETE       A_PARTLYSUBMITTED-COMPLETE   \n",
       "5   10471           A_PREACCEPTED-COMPLETE           A_PREACCEPTED-COMPLETE   \n",
       "6   10471  W_Completeren aanvraag-SCHEDULE  W_Completeren aanvraag-SCHEDULE   \n",
       "7   10471     W_Completeren aanvraag-START     W_Completeren aanvraag-START   \n",
       "8   10471  W_Completeren aanvraag-COMPLETE  W_Completeren aanvraag-COMPLETE   \n",
       "9   10471     W_Completeren aanvraag-START     W_Completeren aanvraag-START   \n",
       "\n",
       "       TrueTime  PredictedTime    TrueCompleteTimestamp  \\\n",
       "0  1.086351e+07   1.086351e+07  2012-02-04 01:17:11.047   \n",
       "1  1.086351e+07   1.086351e+07  2012-02-04 01:17:11.323   \n",
       "2  1.086354e+07   1.086354e+07  2012-02-04 01:17:42.964   \n",
       "3  1.086390e+07   1.086390e+07  2012-02-04 01:23:41.949   \n",
       "4  1.086390e+07   1.086390e+07  2012-02-04 01:23:42.504   \n",
       "5  1.086394e+07   1.086394e+07  2012-02-04 01:24:23.379   \n",
       "6  1.086394e+07   1.086394e+07  2012-02-04 01:24:24.052   \n",
       "7  1.087644e+07   1.087644e+07  2012-02-04 04:52:43.090   \n",
       "8  1.087696e+07   1.087696e+07  2012-02-04 05:01:19.935   \n",
       "9  1.087697e+07   1.087697e+07  2012-02-04 05:01:31.267   \n",
       "\n",
       "   PredictedCompleteTimestamp  \n",
       "0     2012-02-04 01:17:11.047  \n",
       "1  2012-02-04 01:17:11.097427  \n",
       "2     2012-02-04 01:17:42.964  \n",
       "3     2012-02-04 01:23:41.949  \n",
       "4     2012-02-04 01:23:42.504  \n",
       "5     2012-02-04 01:24:23.379  \n",
       "6     2012-02-04 01:24:24.052  \n",
       "7     2012-02-04 04:52:43.090  \n",
       "8     2012-02-04 05:01:19.935  \n",
       "9     2012-02-04 05:01:31.267  "
      ]
     },
     "execution_count": 33,
     "metadata": {},
     "output_type": "execute_result"
    }
   ],
   "source": [
    "submission_df.head(10)"
   ]
  },
  {
   "cell_type": "code",
   "execution_count": 34,
   "metadata": {
    "collapsed": false,
    "deletable": true,
    "editable": true
   },
   "outputs": [
    {
     "data": {
      "text/html": [
       "<div>\n",
       "<style>\n",
       "    .dataframe thead tr:only-child th {\n",
       "        text-align: right;\n",
       "    }\n",
       "\n",
       "    .dataframe thead th {\n",
       "        text-align: left;\n",
       "    }\n",
       "\n",
       "    .dataframe tbody tr th {\n",
       "        vertical-align: top;\n",
       "    }\n",
       "</style>\n",
       "<table border=\"1\" class=\"dataframe\">\n",
       "  <thead>\n",
       "    <tr style=\"text-align: right;\">\n",
       "      <th></th>\n",
       "      <th>CaseID</th>\n",
       "      <th>TrueActivity</th>\n",
       "      <th>PredictedActivity</th>\n",
       "      <th>TrueTime</th>\n",
       "      <th>PredictedTime</th>\n",
       "      <th>TrueCompleteTimestamp</th>\n",
       "      <th>PredictedCompleteTimestamp</th>\n",
       "    </tr>\n",
       "  </thead>\n",
       "  <tbody>\n",
       "    <tr>\n",
       "      <th>0</th>\n",
       "      <td>10470</td>\n",
       "      <td>A_SUBMITTED-COMPLETE</td>\n",
       "      <td>A_SUBMITTED-COMPLETE</td>\n",
       "      <td>1.086351e+07</td>\n",
       "      <td>1.086351e+07</td>\n",
       "      <td>2012-02-04 01:17:11.047</td>\n",
       "      <td>2012-02-04 01:17:11.047</td>\n",
       "    </tr>\n",
       "    <tr>\n",
       "      <th>1</th>\n",
       "      <td>10470</td>\n",
       "      <td>A_PARTLYSUBMITTED-COMPLETE</td>\n",
       "      <td>A_PARTLYSUBMITTED-COMPLETE</td>\n",
       "      <td>1.086351e+07</td>\n",
       "      <td>1.086351e+07</td>\n",
       "      <td>2012-02-04 01:17:11.323</td>\n",
       "      <td>2012-02-04 01:17:11.097427</td>\n",
       "    </tr>\n",
       "    <tr>\n",
       "      <th>2</th>\n",
       "      <td>10470</td>\n",
       "      <td>A_DECLINED-COMPLETE</td>\n",
       "      <td>A_DECLINED-COMPLETE</td>\n",
       "      <td>1.086354e+07</td>\n",
       "      <td>1.086354e+07</td>\n",
       "      <td>2012-02-04 01:17:42.964</td>\n",
       "      <td>2012-02-04 01:17:42.964</td>\n",
       "    </tr>\n",
       "    <tr>\n",
       "      <th>3</th>\n",
       "      <td>10471</td>\n",
       "      <td>A_SUBMITTED-COMPLETE</td>\n",
       "      <td>A_SUBMITTED-COMPLETE</td>\n",
       "      <td>1.086390e+07</td>\n",
       "      <td>1.086390e+07</td>\n",
       "      <td>2012-02-04 01:23:41.949</td>\n",
       "      <td>2012-02-04 01:23:41.949</td>\n",
       "    </tr>\n",
       "    <tr>\n",
       "      <th>4</th>\n",
       "      <td>10471</td>\n",
       "      <td>A_PARTLYSUBMITTED-COMPLETE</td>\n",
       "      <td>A_PARTLYSUBMITTED-COMPLETE</td>\n",
       "      <td>1.086390e+07</td>\n",
       "      <td>1.086390e+07</td>\n",
       "      <td>2012-02-04 01:23:42.504</td>\n",
       "      <td>2012-02-04 01:23:42.504</td>\n",
       "    </tr>\n",
       "    <tr>\n",
       "      <th>5</th>\n",
       "      <td>10471</td>\n",
       "      <td>A_PREACCEPTED-COMPLETE</td>\n",
       "      <td>A_PREACCEPTED-COMPLETE</td>\n",
       "      <td>1.086394e+07</td>\n",
       "      <td>1.086394e+07</td>\n",
       "      <td>2012-02-04 01:24:23.379</td>\n",
       "      <td>2012-02-04 01:24:23.379</td>\n",
       "    </tr>\n",
       "    <tr>\n",
       "      <th>6</th>\n",
       "      <td>10471</td>\n",
       "      <td>W_Completeren aanvraag-SCHEDULE</td>\n",
       "      <td>W_Completeren aanvraag-SCHEDULE</td>\n",
       "      <td>1.086394e+07</td>\n",
       "      <td>1.086394e+07</td>\n",
       "      <td>2012-02-04 01:24:24.052</td>\n",
       "      <td>2012-02-04 01:24:24.052</td>\n",
       "    </tr>\n",
       "    <tr>\n",
       "      <th>7</th>\n",
       "      <td>10471</td>\n",
       "      <td>W_Completeren aanvraag-START</td>\n",
       "      <td>W_Completeren aanvraag-START</td>\n",
       "      <td>1.087644e+07</td>\n",
       "      <td>1.087644e+07</td>\n",
       "      <td>2012-02-04 04:52:43.090</td>\n",
       "      <td>2012-02-04 04:52:43.090</td>\n",
       "    </tr>\n",
       "    <tr>\n",
       "      <th>8</th>\n",
       "      <td>10471</td>\n",
       "      <td>W_Completeren aanvraag-COMPLETE</td>\n",
       "      <td>W_Completeren aanvraag-COMPLETE</td>\n",
       "      <td>1.087696e+07</td>\n",
       "      <td>1.087696e+07</td>\n",
       "      <td>2012-02-04 05:01:19.935</td>\n",
       "      <td>2012-02-04 05:01:19.935</td>\n",
       "    </tr>\n",
       "    <tr>\n",
       "      <th>9</th>\n",
       "      <td>10471</td>\n",
       "      <td>W_Completeren aanvraag-START</td>\n",
       "      <td>W_Completeren aanvraag-START</td>\n",
       "      <td>1.087697e+07</td>\n",
       "      <td>1.087697e+07</td>\n",
       "      <td>2012-02-04 05:01:31.267</td>\n",
       "      <td>2012-02-04 05:01:31.267</td>\n",
       "    </tr>\n",
       "  </tbody>\n",
       "</table>\n",
       "</div>"
      ],
      "text/plain": [
       "  CaseID                     TrueActivity                PredictedActivity  \\\n",
       "0  10470             A_SUBMITTED-COMPLETE             A_SUBMITTED-COMPLETE   \n",
       "1  10470       A_PARTLYSUBMITTED-COMPLETE       A_PARTLYSUBMITTED-COMPLETE   \n",
       "2  10470              A_DECLINED-COMPLETE              A_DECLINED-COMPLETE   \n",
       "3  10471             A_SUBMITTED-COMPLETE             A_SUBMITTED-COMPLETE   \n",
       "4  10471       A_PARTLYSUBMITTED-COMPLETE       A_PARTLYSUBMITTED-COMPLETE   \n",
       "5  10471           A_PREACCEPTED-COMPLETE           A_PREACCEPTED-COMPLETE   \n",
       "6  10471  W_Completeren aanvraag-SCHEDULE  W_Completeren aanvraag-SCHEDULE   \n",
       "7  10471     W_Completeren aanvraag-START     W_Completeren aanvraag-START   \n",
       "8  10471  W_Completeren aanvraag-COMPLETE  W_Completeren aanvraag-COMPLETE   \n",
       "9  10471     W_Completeren aanvraag-START     W_Completeren aanvraag-START   \n",
       "\n",
       "       TrueTime  PredictedTime    TrueCompleteTimestamp  \\\n",
       "0  1.086351e+07   1.086351e+07  2012-02-04 01:17:11.047   \n",
       "1  1.086351e+07   1.086351e+07  2012-02-04 01:17:11.323   \n",
       "2  1.086354e+07   1.086354e+07  2012-02-04 01:17:42.964   \n",
       "3  1.086390e+07   1.086390e+07  2012-02-04 01:23:41.949   \n",
       "4  1.086390e+07   1.086390e+07  2012-02-04 01:23:42.504   \n",
       "5  1.086394e+07   1.086394e+07  2012-02-04 01:24:23.379   \n",
       "6  1.086394e+07   1.086394e+07  2012-02-04 01:24:24.052   \n",
       "7  1.087644e+07   1.087644e+07  2012-02-04 04:52:43.090   \n",
       "8  1.087696e+07   1.087696e+07  2012-02-04 05:01:19.935   \n",
       "9  1.087697e+07   1.087697e+07  2012-02-04 05:01:31.267   \n",
       "\n",
       "   PredictedCompleteTimestamp  \n",
       "0     2012-02-04 01:17:11.047  \n",
       "1  2012-02-04 01:17:11.097427  \n",
       "2     2012-02-04 01:17:42.964  \n",
       "3     2012-02-04 01:23:41.949  \n",
       "4     2012-02-04 01:23:42.504  \n",
       "5     2012-02-04 01:24:23.379  \n",
       "6     2012-02-04 01:24:24.052  \n",
       "7     2012-02-04 04:52:43.090  \n",
       "8     2012-02-04 05:01:19.935  \n",
       "9     2012-02-04 05:01:31.267  "
      ]
     },
     "execution_count": 34,
     "metadata": {},
     "output_type": "execute_result"
    }
   ],
   "source": [
    "submission.head(10)"
   ]
  },
  {
   "cell_type": "code",
   "execution_count": 35,
   "metadata": {
    "collapsed": true,
    "deletable": true,
    "editable": true
   },
   "outputs": [],
   "source": [
    "#bpi2013\n",
    "\n",
    "#30%\n",
    "#8.1\n",
    "#75%\n",
    "\n",
    "#40%\n",
    "#9.7\n",
    "#70%\n",
    "\n",
    "#50%\n",
    "#10.7\n",
    "#69%"
   ]
  },
  {
   "cell_type": "code",
   "execution_count": 36,
   "metadata": {
    "collapsed": true,
    "deletable": true,
    "editable": true
   },
   "outputs": [],
   "source": [
    "#bpi2012\n",
    "#0.59\n",
    "#75%"
   ]
  },
  {
   "cell_type": "code",
   "execution_count": 37,
   "metadata": {
    "collapsed": true,
    "deletable": true,
    "editable": true
   },
   "outputs": [],
   "source": [
    "#helpdesk\n",
    "#3.9\n",
    "#85"
   ]
  },
  {
   "cell_type": "code",
   "execution_count": null,
   "metadata": {
    "collapsed": true,
    "deletable": true,
    "editable": true
   },
   "outputs": [],
   "source": []
  }
 ],
 "metadata": {
  "kernelspec": {
   "display_name": "Python 3",
   "language": "python",
   "name": "python3"
  },
  "language_info": {
   "codemirror_mode": {
    "name": "ipython",
    "version": 3
   },
   "file_extension": ".py",
   "mimetype": "text/x-python",
   "name": "python",
   "nbconvert_exporter": "python",
   "pygments_lexer": "ipython3",
   "version": "3.5.2"
  },
  "toc": {
   "colors": {
    "hover_highlight": "#DAA520",
    "running_highlight": "#FF0000",
    "selected_highlight": "#FFD700"
   },
   "moveMenuLeft": true,
   "nav_menu": {
    "height": "48px",
    "width": "252px"
   },
   "navigate_menu": true,
   "number_sections": true,
   "sideBar": true,
   "threshold": 4,
   "toc_cell": false,
   "toc_section_display": "block",
   "toc_window_display": false
  }
 },
 "nbformat": 4,
 "nbformat_minor": 2
}
