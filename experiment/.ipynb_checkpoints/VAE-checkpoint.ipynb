{
 "cells": [
  {
   "cell_type": "markdown",
   "metadata": {},
   "source": [
    "**Outline:**\n",
    "- Build model and loss function\n",
    "- Train model\n",
    "- Observe valdidate\n",
    "- Test"
   ]
  },
  {
   "cell_type": "markdown",
   "metadata": {},
   "source": [
    "**To do:**\n",
    "- Hyperparameter tuning\n",
    "    + lr\n",
    "    + layer1, layer2\n",
    "    + betas"
   ]
  },
  {
   "cell_type": "markdown",
   "metadata": {},
   "source": [
    "**Modification**\n",
    "- Weight initialization with xavier uniform\n",
    "- Adam optimization\n",
    "- LR decay"
   ]
  },
  {
   "cell_type": "markdown",
   "metadata": {},
   "source": [
    "**To do:**\n",
    "- Add dropout\n",
    "- Implement another loss function"
   ]
  },
  {
   "cell_type": "code",
   "execution_count": 1,
   "metadata": {
    "collapsed": true
   },
   "outputs": [],
   "source": [
    "import importlib\n",
    "import argparse\n",
    "import os, sys\n",
    "import argparse\n",
    "import pandas as pd\n",
    "import numpy as np\n",
    "import pickle\n",
    "import time"
   ]
  },
  {
   "cell_type": "code",
   "execution_count": 2,
   "metadata": {
    "collapsed": true
   },
   "outputs": [],
   "source": [
    "import torch\n",
    "import torch.utils.data\n",
    "import torch.nn.functional as F\n",
    "import torch.nn as nn\n",
    "import torch.optim as optim\n",
    "import torch.optim.lr_scheduler\n",
    "from torch.autograd import Variable\n",
    "from torchvision import transforms"
   ]
  },
  {
   "cell_type": "code",
   "execution_count": 3,
   "metadata": {
    "collapsed": true
   },
   "outputs": [],
   "source": [
    "sys.path.insert(0, './../utils/')\n",
    "from utils import *\n",
    "from models import *"
   ]
  },
  {
   "cell_type": "code",
   "execution_count": 4,
   "metadata": {
    "collapsed": true
   },
   "outputs": [],
   "source": [
    "#Define parser\n",
    "#name = 'bpi_2012'\n",
    "name = 'bpi_2013'\n",
    "#name = 'small_log'\n",
    "#name = 'large_log'\n",
    "\n",
    "parser = {\n",
    "    'train': True,\n",
    "    'test': True,\n",
    "    'model_class': 'VAE_dropout', #VAE\n",
    "    'model_name': '',\n",
    "    'data_dir': '../data/',\n",
    "    'data_file': name + '.csv',\n",
    "    'nan_pct': 0.35,\n",
    "    'input_dir': '../input/{}/'.format(name), \n",
    "    'batch_size' : 16,\n",
    "    'epochs' : 70,\n",
    "    'no_cuda' : False,\n",
    "    'seed' : 7,\n",
    "    'layer1': 100,\n",
    "    'layer2': 50,\n",
    "    'early_stopping': 30,\n",
    "    'lr': 0.001,\n",
    "    'betas': (0.9, 0.99),   \n",
    "    'lr_decay': 0.99,\n",
    "}\n",
    "\n",
    "args = argparse.Namespace(**parser)\n",
    "args.output_dir = './output/{0}_{1}_{2}/'.format(name, args.nan_pct, args.model_class)"
   ]
  },
  {
   "cell_type": "code",
   "execution_count": 5,
   "metadata": {
    "collapsed": true
   },
   "outputs": [],
   "source": [
    "if not os.path.isdir(args.output_dir):\n",
    "    os.makedirs(args.output_dir)"
   ]
  },
  {
   "cell_type": "code",
   "execution_count": 6,
   "metadata": {
    "collapsed": true
   },
   "outputs": [],
   "source": [
    "args.cuda = not args.no_cuda and torch.cuda.is_available()"
   ]
  },
  {
   "cell_type": "code",
   "execution_count": 7,
   "metadata": {
    "collapsed": true
   },
   "outputs": [],
   "source": [
    "torch.manual_seed(args.seed)\n",
    "if args.cuda:\n",
    "    torch.cuda.manual_seed(args.seed)"
   ]
  },
  {
   "cell_type": "code",
   "execution_count": 8,
   "metadata": {
    "collapsed": true
   },
   "outputs": [],
   "source": [
    "kwargs = {'num_workers': 2, 'pin_memory': True} if args.cuda else {}"
   ]
  },
  {
   "cell_type": "code",
   "execution_count": 9,
   "metadata": {
    "collapsed": true
   },
   "outputs": [],
   "source": [
    "preprocessed_data_name = os.path.join(args.input_dir, 'preprocessed_data_{}.pkl'.format(args.nan_pct))\n",
    "with open(preprocessed_data_name, 'rb') as f:\n",
    "    min_max_storage = pickle.load(f)\n",
    "    complete_matrix_w_normalized_time_train = pickle.load(f)\n",
    "    missing_matrix_w_normalized_time_train = pickle.load(f)\n",
    "    avai_matrix_train = pickle.load(f)\n",
    "    nan_matrix_train = pickle.load(f)\n",
    "    complete_matrix_w_normalized_time_val = pickle.load(f)\n",
    "    missing_matrix_w_normalized_time_val = pickle.load(f)\n",
    "    avai_matrix_val = pickle.load(f)\n",
    "    nan_matrix_val = pickle.load(f)\n",
    "    pad_matrix_val = pickle.load(f)\n",
    "    complete_matrix_w_normalized_time_test = pickle.load(f)\n",
    "    missing_matrix_w_normalized_time_test = pickle.load(f)\n",
    "    avai_matrix_test = pickle.load(f)\n",
    "    nan_matrix_test = pickle.load(f)\n",
    "    pad_matrix_test = pickle.load(f)\n",
    "    cols_w_time = pickle.load(f)\n",
    "    cols_w_normalized_time = pickle.load(f)"
   ]
  },
  {
   "cell_type": "code",
   "execution_count": 10,
   "metadata": {
    "collapsed": true
   },
   "outputs": [],
   "source": [
    "file_name = os.path.join(args.input_dir, 'parameters_{}.pkl'.format(args.nan_pct))\n",
    "with open(file_name, 'rb') as f:\n",
    "    most_frequent_activity = pickle.load(f)\n",
    "    first_timestamp = pickle.load(f)\n",
    "    avai_instance = pickle.load(f)\n",
    "    nan_instance = pickle.load(f)\n",
    "    train_size = pickle.load(f)\n",
    "    val_size = pickle.load(f)\n",
    "    test_size = pickle.load(f)\n",
    "    train_row_num = pickle.load(f)\n",
    "    val_row_num = pickle.load(f)\n",
    "    test_row_num = pickle.load(f)"
   ]
  },
  {
   "cell_type": "markdown",
   "metadata": {},
   "source": [
    "# Load data"
   ]
  },
  {
   "cell_type": "markdown",
   "metadata": {},
   "source": [
    "## Train"
   ]
  },
  {
   "cell_type": "code",
   "execution_count": 11,
   "metadata": {
    "collapsed": true
   },
   "outputs": [],
   "source": [
    "complete_matrix_w_normalized_time_trainLoader = torch.utils.data.DataLoader(complete_matrix_w_normalized_time_train, \n",
    "                                                                            batch_size=args.batch_size, shuffle=False, \n",
    "                                                                            num_workers=2)\n",
    "missing_matrix_w_normalized_time_trainLoader = torch.utils.data.DataLoader(missing_matrix_w_normalized_time_train, \n",
    "                                                                           batch_size=args.batch_size, shuffle=False, \n",
    "                                                                           num_workers=2)\n",
    "avai_matrix_trainLoader = torch.utils.data.DataLoader(avai_matrix_train, \n",
    "                                                      batch_size=args.batch_size, shuffle=False, \n",
    "                                                      num_workers=2)"
   ]
  },
  {
   "cell_type": "markdown",
   "metadata": {},
   "source": [
    "## Validate and test"
   ]
  },
  {
   "cell_type": "code",
   "execution_count": 12,
   "metadata": {
    "collapsed": true
   },
   "outputs": [],
   "source": [
    "normalized_complete_df_name = os.path.join(args.input_dir, 'normalized_complete_df_{}.csv'.format(args.nan_pct))\n",
    "normalized_complete_df = pd.read_csv(normalized_complete_df_name)\n",
    "\n",
    "normalized_missing_df_name = os.path.join(args.input_dir, 'normalized_missing_df_{}.csv'.format(args.nan_pct))\n",
    "normalized_missing_df = pd.read_csv(normalized_missing_df_name)"
   ]
  },
  {
   "cell_type": "code",
   "execution_count": 13,
   "metadata": {
    "collapsed": true
   },
   "outputs": [],
   "source": [
    "missing_true_val = normalized_missing_df[train_row_num:-test_row_num].reset_index(drop=True)\n",
    "complete_true_val = normalized_complete_df[train_row_num:-test_row_num].reset_index(drop=True)"
   ]
  },
  {
   "cell_type": "code",
   "execution_count": 14,
   "metadata": {
    "collapsed": true
   },
   "outputs": [],
   "source": [
    "missing_true_test = normalized_missing_df[-test_row_num:].reset_index(drop=True)\n",
    "complete_true_test = normalized_complete_df[-test_row_num:].reset_index(drop=True)"
   ]
  },
  {
   "cell_type": "code",
   "execution_count": 15,
   "metadata": {},
   "outputs": [
    {
     "data": {
      "text/plain": [
       "((1096, 5), (1071, 5))"
      ]
     },
     "execution_count": 15,
     "metadata": {},
     "output_type": "execute_result"
    }
   ],
   "source": [
    "missing_true_val.shape, missing_true_test.shape"
   ]
  },
  {
   "cell_type": "code",
   "execution_count": 16,
   "metadata": {
    "collapsed": true
   },
   "outputs": [],
   "source": [
    "nan_time_index_val, nan_activity_index_val = getnanindex(missing_true_val)"
   ]
  },
  {
   "cell_type": "code",
   "execution_count": 17,
   "metadata": {
    "collapsed": true
   },
   "outputs": [],
   "source": [
    "nan_time_index_test, nan_activity_index_test = getnanindex(missing_true_test)"
   ]
  },
  {
   "cell_type": "code",
   "execution_count": 18,
   "metadata": {},
   "outputs": [
    {
     "data": {
      "text/plain": [
       "CaseID                  0\n",
       "Activity             2312\n",
       "CompleteTimestamp    2350\n",
       "CumTimeInterval      2350\n",
       "NormalizedTime       2350\n",
       "dtype: int64"
      ]
     },
     "execution_count": 18,
     "metadata": {},
     "output_type": "execute_result"
    }
   ],
   "source": [
    "pd.isnull(normalized_missing_df).sum()"
   ]
  },
  {
   "cell_type": "code",
   "execution_count": 19,
   "metadata": {},
   "outputs": [
    {
     "data": {
      "text/plain": [
       "CaseID                 0\n",
       "Activity             408\n",
       "CompleteTimestamp    374\n",
       "CumTimeInterval      374\n",
       "NormalizedTime       374\n",
       "dtype: int64"
      ]
     },
     "execution_count": 19,
     "metadata": {},
     "output_type": "execute_result"
    }
   ],
   "source": [
    "pd.isnull(missing_true_val).sum()"
   ]
  },
  {
   "cell_type": "code",
   "execution_count": 20,
   "metadata": {},
   "outputs": [
    {
     "data": {
      "text/plain": [
       "CaseID                 0\n",
       "Activity             381\n",
       "CompleteTimestamp    399\n",
       "CumTimeInterval      399\n",
       "NormalizedTime       399\n",
       "dtype: int64"
      ]
     },
     "execution_count": 20,
     "metadata": {},
     "output_type": "execute_result"
    }
   ],
   "source": [
    "pd.isnull(missing_true_test).sum()"
   ]
  },
  {
   "cell_type": "markdown",
   "metadata": {},
   "source": [
    "# Build model"
   ]
  },
  {
   "cell_type": "markdown",
   "metadata": {},
   "source": [
    "## Define model"
   ]
  },
  {
   "cell_type": "code",
   "execution_count": 21,
   "metadata": {
    "collapsed": true
   },
   "outputs": [],
   "source": [
    "if args.model_class == 'VAE':\n",
    "    model = VAE(complete_matrix_w_normalized_time_train.shape, args.layer1, args.layer2, args.cuda)\n",
    "if args.model_class == 'VAE_dropout':\n",
    "    model = VAE_dropout(complete_matrix_w_normalized_time_train.shape, args.layer1, args.layer2, args.cuda)\n",
    "    \n",
    "if args.cuda:\n",
    "    model.cuda()"
   ]
  },
  {
   "cell_type": "markdown",
   "metadata": {},
   "source": [
    "## Define loss"
   ]
  },
  {
   "cell_type": "code",
   "execution_count": 22,
   "metadata": {
    "collapsed": true
   },
   "outputs": [],
   "source": [
    "# Define loss\n",
    "\n",
    "def loss_function(recon_x, x, mu, logvar, avai_mask): \n",
    "    BCE = F.binary_cross_entropy(recon_x, x, weight=avai_mask, size_average=False)\n",
    "    KLD_element = mu.pow(2).add_(logvar.exp()).mul_(-1).add_(1).add_(logvar)\n",
    "    KLD = torch.sum(KLD_element).mul_(-0.5)\n",
    "    loss = BCE+KLD\n",
    "    return loss"
   ]
  },
  {
   "cell_type": "code",
   "execution_count": 23,
   "metadata": {
    "collapsed": true
   },
   "outputs": [],
   "source": [
    "optimizer = optim.Adam(model.parameters(), lr=args.lr, betas=args.betas)"
   ]
  },
  {
   "cell_type": "code",
   "execution_count": 24,
   "metadata": {
    "collapsed": true
   },
   "outputs": [],
   "source": [
    "#Adjust learning rate per epoch: http://pytorch.org/docs/master/optim.html?highlight=lr_scheduler#torch.optim.lr_scheduler.LambdaLR\n",
    "\n",
    "# Method 1:\n",
    "lambda1 = lambda epoch: epoch//10\n",
    "scheduler = torch.optim.lr_scheduler.LambdaLR(optimizer, lr_lambda=[lambda1])\n",
    "\n",
    "# Method 2:\n",
    "#scheduler = torch.optim.lr_scheduler.ReduceLROnPlateau(optimizer, 'min', patience=10)"
   ]
  },
  {
   "cell_type": "markdown",
   "metadata": {},
   "source": [
    "## Utils"
   ]
  },
  {
   "cell_type": "code",
   "execution_count": 25,
   "metadata": {
    "collapsed": true
   },
   "outputs": [],
   "source": [
    "def save_model(model, epoch, score):\n",
    "    model_file = os.path.join(args.output_dir, 'model_{}_epoch{}_score{:.4f}.pth'.format(args.model_class, epoch, score))\n",
    "    torch.save(model.state_dict(), model_file)"
   ]
  },
  {
   "cell_type": "code",
   "execution_count": 26,
   "metadata": {
    "collapsed": true
   },
   "outputs": [],
   "source": [
    "def load_model(model, model_name):\n",
    "    model_file = os.path.join(args.output_dir, model_name)\n",
    "    assert os.path.isfile(model_file), 'Error: no model found!'\n",
    "    model_state = torch.load(model_file)\n",
    "    model.load_state_dict(model_state)"
   ]
  },
  {
   "cell_type": "code",
   "execution_count": 27,
   "metadata": {
    "collapsed": true
   },
   "outputs": [],
   "source": [
    "def val(model, missing_matrix_w_normalized_time_val, \n",
    "        complete_matrix_w_normalized_time_val, \n",
    "        avai_matrix_val, nan_matrix_val):\n",
    "    \n",
    "    model.eval()\n",
    "    m_val = missing_matrix_w_normalized_time_val\n",
    "    m_val = Variable(torch.Tensor(m_val).float())\n",
    "    \n",
    "    c_val = complete_matrix_w_normalized_time_val\n",
    "    c_val = Variable(torch.Tensor(c_val).float())\n",
    "    \n",
    "    avai_matrix_val = Variable(torch.Tensor(avai_matrix_val).float())\n",
    "    nan_matrix_val = Variable(torch.Tensor(nan_matrix_val).float())\n",
    "    \n",
    "    if args.cuda:\n",
    "        m_val = m_val.cuda()\n",
    "        c_val = c_val.cuda()\n",
    "        avai_matrix_val = avai_matrix_val.cuda()\n",
    "        nan_matrix_val = nan_matrix_val.cuda()\n",
    "        \n",
    "    recon_data, mu, logvar = model(m_val)\n",
    "        \n",
    "    recon = getProbability(recon_data)\n",
    "    \n",
    "    if args.cuda:\n",
    "        recon_2d = recon.cuda().view(recon.size(0)*recon.size(1), recon.size(2))\n",
    "    else:\n",
    "        recon_2d = recon.view(recon.size(0)*recon.size(1), recon.size(2))\n",
    "    gt_2d = c_val.view(recon.size(0)*recon.size(1), recon.size(2))\n",
    "    avai_matrix_2d = avai_matrix_val.view(recon.size(0)*recon.size(1), recon.size(2))\n",
    "    nan_matrix_2d = nan_matrix_val.view(recon.size(0)*recon.size(1), recon.size(2))\n",
    "    \n",
    "    submission = torch.add(recon_2d*nan_matrix_2d, gt_2d*avai_matrix_2d)\n",
    "    \n",
    "    #Time\n",
    "    predicted_time = submission.data[:, 0].cpu().numpy()\n",
    "    gt_time = gt_2d.data[:, 0].cpu().numpy()\n",
    "    mae = mean_absolute_error(gt_time, predicted_time)\n",
    "    \n",
    "    #Activity\n",
    "    predicted_act = submission.data[:, 1:].cpu().numpy()\n",
    "    gt_act = gt_2d.data[:, 1:].cpu().numpy()\n",
    "    \n",
    "    a = predicted_act[np.any(predicted_act != 0, axis=1)]\n",
    "    b = gt_act[np.any(gt_act != 0, axis=1)]   \n",
    "    \n",
    "    predicted_labels = np.argmax(a, axis=1)\n",
    "    gt_labels = np.argmax(b, axis=1)\n",
    "    acc = accuracy_score(gt_labels, predicted_labels)\n",
    "    \n",
    "    return acc"
   ]
  },
  {
   "cell_type": "code",
   "execution_count": 28,
   "metadata": {},
   "outputs": [
    {
     "data": {
      "text/html": [
       "<div>\n",
       "<style>\n",
       "    .dataframe thead tr:only-child th {\n",
       "        text-align: right;\n",
       "    }\n",
       "\n",
       "    .dataframe thead th {\n",
       "        text-align: left;\n",
       "    }\n",
       "\n",
       "    .dataframe tbody tr th {\n",
       "        vertical-align: top;\n",
       "    }\n",
       "</style>\n",
       "<table border=\"1\" class=\"dataframe\">\n",
       "  <thead>\n",
       "    <tr style=\"text-align: right;\">\n",
       "      <th></th>\n",
       "      <th>CaseID</th>\n",
       "      <th>Activity</th>\n",
       "      <th>CompleteTimestamp</th>\n",
       "      <th>CumTimeInterval</th>\n",
       "      <th>NormalizedTime</th>\n",
       "    </tr>\n",
       "  </thead>\n",
       "  <tbody>\n",
       "    <tr>\n",
       "      <th>0</th>\n",
       "      <td>893</td>\n",
       "      <td>Queued-Awaiting Assignment</td>\n",
       "      <td>2012-01-14 04:03:40</td>\n",
       "      <td>189490438.0</td>\n",
       "      <td>0.000000</td>\n",
       "    </tr>\n",
       "    <tr>\n",
       "      <th>1</th>\n",
       "      <td>893</td>\n",
       "      <td>NaN</td>\n",
       "      <td>NaN</td>\n",
       "      <td>NaN</td>\n",
       "      <td>NaN</td>\n",
       "    </tr>\n",
       "    <tr>\n",
       "      <th>2</th>\n",
       "      <td>893</td>\n",
       "      <td>Queued-Awaiting Assignment</td>\n",
       "      <td>2012-01-31 22:29:08</td>\n",
       "      <td>191025566.0</td>\n",
       "      <td>0.998679</td>\n",
       "    </tr>\n",
       "    <tr>\n",
       "      <th>3</th>\n",
       "      <td>893</td>\n",
       "      <td>NaN</td>\n",
       "      <td>2012-01-31 23:02:59</td>\n",
       "      <td>191027597.0</td>\n",
       "      <td>1.000000</td>\n",
       "    </tr>\n",
       "    <tr>\n",
       "      <th>4</th>\n",
       "      <td>893</td>\n",
       "      <td>Completed-Closed</td>\n",
       "      <td>NaN</td>\n",
       "      <td>NaN</td>\n",
       "      <td>NaN</td>\n",
       "    </tr>\n",
       "  </tbody>\n",
       "</table>\n",
       "</div>"
      ],
      "text/plain": [
       "   CaseID                    Activity    CompleteTimestamp  CumTimeInterval  \\\n",
       "0     893  Queued-Awaiting Assignment  2012-01-14 04:03:40      189490438.0   \n",
       "1     893                         NaN                  NaN              NaN   \n",
       "2     893  Queued-Awaiting Assignment  2012-01-31 22:29:08      191025566.0   \n",
       "3     893                         NaN  2012-01-31 23:02:59      191027597.0   \n",
       "4     893            Completed-Closed                  NaN              NaN   \n",
       "\n",
       "   NormalizedTime  \n",
       "0        0.000000  \n",
       "1             NaN  \n",
       "2        0.998679  \n",
       "3        1.000000  \n",
       "4             NaN  "
      ]
     },
     "execution_count": 28,
     "metadata": {},
     "output_type": "execute_result"
    }
   ],
   "source": [
    "missing_true_val.head()"
   ]
  },
  {
   "cell_type": "code",
   "execution_count": 29,
   "metadata": {},
   "outputs": [
    {
     "data": {
      "text/html": [
       "<div>\n",
       "<style>\n",
       "    .dataframe thead tr:only-child th {\n",
       "        text-align: right;\n",
       "    }\n",
       "\n",
       "    .dataframe thead th {\n",
       "        text-align: left;\n",
       "    }\n",
       "\n",
       "    .dataframe tbody tr th {\n",
       "        vertical-align: top;\n",
       "    }\n",
       "</style>\n",
       "<table border=\"1\" class=\"dataframe\">\n",
       "  <thead>\n",
       "    <tr style=\"text-align: right;\">\n",
       "      <th></th>\n",
       "      <th>CaseID</th>\n",
       "      <th>Activity</th>\n",
       "      <th>CompleteTimestamp</th>\n",
       "      <th>CumTimeInterval</th>\n",
       "      <th>NormalizedTime</th>\n",
       "    </tr>\n",
       "  </thead>\n",
       "  <tbody>\n",
       "    <tr>\n",
       "      <th>0</th>\n",
       "      <td>893</td>\n",
       "      <td>Queued-Awaiting Assignment</td>\n",
       "      <td>2012-01-14 04:03:40</td>\n",
       "      <td>189490438.0</td>\n",
       "      <td>0.000000</td>\n",
       "    </tr>\n",
       "    <tr>\n",
       "      <th>1</th>\n",
       "      <td>893</td>\n",
       "      <td>Accepted-In Progress</td>\n",
       "      <td>2012-01-31 22:16:55</td>\n",
       "      <td>191024833.0</td>\n",
       "      <td>0.507308</td>\n",
       "    </tr>\n",
       "    <tr>\n",
       "      <th>2</th>\n",
       "      <td>893</td>\n",
       "      <td>Queued-Awaiting Assignment</td>\n",
       "      <td>2012-01-31 22:29:08</td>\n",
       "      <td>191025566.0</td>\n",
       "      <td>0.507551</td>\n",
       "    </tr>\n",
       "    <tr>\n",
       "      <th>3</th>\n",
       "      <td>893</td>\n",
       "      <td>Accepted-In Progress</td>\n",
       "      <td>2012-01-31 23:02:59</td>\n",
       "      <td>191027597.0</td>\n",
       "      <td>0.508222</td>\n",
       "    </tr>\n",
       "    <tr>\n",
       "      <th>4</th>\n",
       "      <td>893</td>\n",
       "      <td>Completed-Closed</td>\n",
       "      <td>2012-02-18 04:13:20</td>\n",
       "      <td>192515018.0</td>\n",
       "      <td>1.000000</td>\n",
       "    </tr>\n",
       "  </tbody>\n",
       "</table>\n",
       "</div>"
      ],
      "text/plain": [
       "   CaseID                    Activity    CompleteTimestamp  CumTimeInterval  \\\n",
       "0     893  Queued-Awaiting Assignment  2012-01-14 04:03:40      189490438.0   \n",
       "1     893        Accepted-In Progress  2012-01-31 22:16:55      191024833.0   \n",
       "2     893  Queued-Awaiting Assignment  2012-01-31 22:29:08      191025566.0   \n",
       "3     893        Accepted-In Progress  2012-01-31 23:02:59      191027597.0   \n",
       "4     893            Completed-Closed  2012-02-18 04:13:20      192515018.0   \n",
       "\n",
       "   NormalizedTime  \n",
       "0        0.000000  \n",
       "1        0.507308  \n",
       "2        0.507551  \n",
       "3        0.508222  \n",
       "4        1.000000  "
      ]
     },
     "execution_count": 29,
     "metadata": {},
     "output_type": "execute_result"
    }
   ],
   "source": [
    "complete_true_val.head()"
   ]
  },
  {
   "cell_type": "markdown",
   "metadata": {},
   "source": [
    "# Train model"
   ]
  },
  {
   "cell_type": "code",
   "execution_count": 30,
   "metadata": {
    "collapsed": true
   },
   "outputs": [],
   "source": [
    "def train(epoch, model, optimizer):\n",
    "    model.train()\n",
    "    train_loss = 0\n",
    "    for batch_idx, (m_data, c_data, avai_mask) in enumerate(zip(missing_matrix_w_normalized_time_trainLoader,\n",
    "                                                                complete_matrix_w_normalized_time_trainLoader,\n",
    "                                                                avai_matrix_trainLoader)):\n",
    "        \n",
    "        c_data = Variable(c_data.float())\n",
    "        m_data = Variable(m_data.float())\n",
    "        avai_mask = Variable(avai_mask.float())\n",
    "      \n",
    "        if args.cuda:\n",
    "            c_data = c_data.cuda()\n",
    "            m_data = m_data.cuda()\n",
    "            avai_mask = avai_mask.cuda()\n",
    "            \n",
    "        optimizer.zero_grad()\n",
    "        \n",
    "        recon_data, mu, logvar = model(m_data)\n",
    "        \n",
    "        loss = loss_function(recon_data, c_data, mu, logvar, avai_mask)\n",
    "        loss.backward()\n",
    "        train_loss += loss.data[0]\n",
    "        optimizer.step()\n",
    "        \n",
    "    return train_loss / len(complete_matrix_w_normalized_time_trainLoader.dataset)"
   ]
  },
  {
   "cell_type": "code",
   "execution_count": 31,
   "metadata": {
    "scrolled": false
   },
   "outputs": [
    {
     "name": "stdout",
     "output_type": "stream",
     "text": [
      "====> Epoch 1 | Train time: 349.1490 ms| End time: 408.8964 ms | Train loss: 26.4780 | Val score: 0.6588\n",
      "====> Epoch 2 | Train time: 250.8888 ms| End time: 308.7766 ms | Train loss: 26.7142 | Val score: 0.6670\n",
      "====> Epoch 3 | Train time: 252.1956 ms| End time: 309.5019 ms | Train loss: 26.6909 | Val score: 0.6670\n",
      "====> Epoch 4 | Train time: 246.6331 ms| End time: 300.0414 ms | Train loss: 26.3463 | Val score: 0.6642\n",
      "====> Epoch 5 | Train time: 256.1018 ms| End time: 308.9566 ms | Train loss: 26.5249 | Val score: 0.6615\n",
      "====> Epoch 6 | Train time: 260.5097 ms| End time: 317.8418 ms | Train loss: 26.3993 | Val score: 0.6697\n",
      "====> Epoch 7 | Train time: 252.1138 ms| End time: 305.1243 ms | Train loss: 26.3868 | Val score: 0.6606\n",
      "====> Epoch 8 | Train time: 253.5605 ms| End time: 310.9252 ms | Train loss: 26.5008 | Val score: 0.6697\n",
      "====> Epoch 9 | Train time: 257.3178 ms| End time: 310.3719 ms | Train loss: 26.4224 | Val score: 0.6743\n",
      "====> Epoch 10 | Train time: 256.9163 ms| End time: 314.6138 ms | Train loss: 26.4352 | Val score: 0.6651\n",
      "====> Epoch 11 | Train time: 259.9869 ms| End time: 318.2025 ms | Train loss: 17.2132 | Val score: 0.8641\n",
      "====> Epoch 12 | Train time: 257.8285 ms| End time: 311.5132 ms | Train loss: 10.3461 | Val score: 0.8896\n",
      "====> Epoch 13 | Train time: 256.5100 ms| End time: 336.5040 ms | Train loss: 8.4747 | Val score: 0.8969\n",
      "====> Epoch 14 | Train time: 258.7206 ms| End time: 316.8070 ms | Train loss: 7.7252 | Val score: 0.8914\n",
      "====> Epoch 15 | Train time: 256.4969 ms| End time: 314.1506 ms | Train loss: 7.1940 | Val score: 0.8987\n",
      "====> Epoch 16 | Train time: 257.8757 ms| End time: 315.1653 ms | Train loss: 6.8915 | Val score: 0.8960\n",
      "====> Epoch 17 | Train time: 256.4547 ms| End time: 313.9789 ms | Train loss: 6.7202 | Val score: 0.8969\n",
      "====> Epoch 18 | Train time: 254.9846 ms| End time: 312.4945 ms | Train loss: 6.5656 | Val score: 0.8969\n",
      "====> Epoch 19 | Train time: 260.5531 ms| End time: 317.7419 ms | Train loss: 6.4783 | Val score: 0.8923\n",
      "====> Epoch 20 | Train time: 256.0537 ms| End time: 312.8934 ms | Train loss: 6.3411 | Val score: 0.8914\n",
      "====> Epoch 21 | Train time: 256.0248 ms| End time: 312.8512 ms | Train loss: 6.4428 | Val score: 0.8987\n",
      "====> Epoch 22 | Train time: 256.6466 ms| End time: 313.8638 ms | Train loss: 6.3594 | Val score: 0.9033\n",
      "====> Epoch 23 | Train time: 248.3654 ms| End time: 305.2580 ms | Train loss: 6.3254 | Val score: 0.8969\n",
      "====> Epoch 24 | Train time: 259.7325 ms| End time: 312.8178 ms | Train loss: 6.2655 | Val score: 0.8978\n",
      "====> Epoch 25 | Train time: 256.7334 ms| End time: 314.0209 ms | Train loss: 6.2338 | Val score: 0.8996\n",
      "====> Epoch 26 | Train time: 258.7898 ms| End time: 341.9569 ms | Train loss: 6.1631 | Val score: 0.8978\n",
      "====> Epoch 27 | Train time: 254.0143 ms| End time: 310.9972 ms | Train loss: 6.1378 | Val score: 0.9024\n",
      "====> Epoch 28 | Train time: 256.6807 ms| End time: 313.7536 ms | Train loss: 6.0627 | Val score: 0.9005\n",
      "====> Epoch 29 | Train time: 254.1656 ms| End time: 307.2853 ms | Train loss: 6.0815 | Val score: 0.9005\n",
      "====> Epoch 30 | Train time: 255.2738 ms| End time: 308.9142 ms | Train loss: 6.0288 | Val score: 0.9024\n",
      "====> Epoch 31 | Train time: 250.4115 ms| End time: 307.7047 ms | Train loss: 6.0096 | Val score: 0.8996\n",
      "====> Epoch 32 | Train time: 252.1105 ms| End time: 309.4084 ms | Train loss: 5.9767 | Val score: 0.8914\n",
      "====> Epoch 33 | Train time: 257.0071 ms| End time: 309.7212 ms | Train loss: 6.0781 | Val score: 0.9015\n",
      "====> Epoch 34 | Train time: 259.9823 ms| End time: 318.1167 ms | Train loss: 5.9447 | Val score: 0.8923\n",
      "====> Epoch 35 | Train time: 258.7223 ms| End time: 317.3616 ms | Train loss: 6.0702 | Val score: 0.8987\n",
      "====> Epoch 36 | Train time: 250.8392 ms| End time: 308.0671 ms | Train loss: 6.0576 | Val score: 0.9005\n",
      "====> Epoch 37 | Train time: 255.5785 ms| End time: 312.8464 ms | Train loss: 5.9811 | Val score: 0.8987\n",
      "====> Epoch 38 | Train time: 263.7317 ms| End time: 348.2726 ms | Train loss: 5.8966 | Val score: 0.9042\n",
      "====> Epoch 39 | Train time: 256.6464 ms| End time: 309.3286 ms | Train loss: 6.0120 | Val score: 0.8942\n",
      "====> Epoch 40 | Train time: 253.1428 ms| End time: 310.1845 ms | Train loss: 5.9444 | Val score: 0.9097\n",
      "====> Epoch 41 | Train time: 273.3049 ms| End time: 330.6017 ms | Train loss: 5.9755 | Val score: 0.9024\n",
      "====> Epoch 42 | Train time: 261.1222 ms| End time: 314.4798 ms | Train loss: 6.0164 | Val score: 0.8951\n",
      "====> Epoch 43 | Train time: 258.9414 ms| End time: 316.4539 ms | Train loss: 5.9451 | Val score: 0.9088\n",
      "====> Epoch 44 | Train time: 258.6150 ms| End time: 316.5233 ms | Train loss: 5.9878 | Val score: 0.9024\n",
      "====> Epoch 45 | Train time: 252.4965 ms| End time: 309.8445 ms | Train loss: 5.9375 | Val score: 0.8923\n",
      "====> Epoch 46 | Train time: 262.7146 ms| End time: 320.4541 ms | Train loss: 6.0151 | Val score: 0.8987\n",
      "====> Epoch 47 | Train time: 256.3405 ms| End time: 313.6704 ms | Train loss: 5.9401 | Val score: 0.8969\n",
      "====> Epoch 48 | Train time: 257.2718 ms| End time: 314.9731 ms | Train loss: 5.9860 | Val score: 0.8905\n",
      "====> Epoch 49 | Train time: 251.3430 ms| End time: 305.0880 ms | Train loss: 5.9672 | Val score: 0.9005\n",
      "====> Epoch 50 | Train time: 257.0646 ms| End time: 316.1340 ms | Train loss: 5.9775 | Val score: 0.8969\n",
      "====> Epoch 51 | Train time: 254.8401 ms| End time: 308.2118 ms | Train loss: 6.0002 | Val score: 0.9042\n",
      "====> Epoch 52 | Train time: 257.6230 ms| End time: 341.4345 ms | Train loss: 6.0516 | Val score: 0.8969\n",
      "====> Epoch 53 | Train time: 256.6261 ms| End time: 313.8573 ms | Train loss: 6.0648 | Val score: 0.8987\n",
      "====> Epoch 54 | Train time: 251.0109 ms| End time: 307.7490 ms | Train loss: 6.0086 | Val score: 0.8942\n",
      "====> Epoch 55 | Train time: 255.1339 ms| End time: 307.7595 ms | Train loss: 5.9227 | Val score: 0.8996\n",
      "====> Epoch 56 | Train time: 255.6248 ms| End time: 312.7987 ms | Train loss: 6.0769 | Val score: 0.9024\n",
      "====> Epoch 57 | Train time: 251.1790 ms| End time: 308.0051 ms | Train loss: 5.9986 | Val score: 0.8914\n",
      "====> Epoch 58 | Train time: 247.0877 ms| End time: 304.1549 ms | Train loss: 5.9705 | Val score: 0.8969\n",
      "====> Epoch 59 | Train time: 260.3962 ms| End time: 317.1718 ms | Train loss: 6.0080 | Val score: 0.8978\n",
      "====> Epoch 60 | Train time: 250.0792 ms| End time: 303.2091 ms | Train loss: 5.9687 | Val score: 0.8960\n",
      "====> Epoch 61 | Train time: 245.2180 ms| End time: 302.5024 ms | Train loss: 6.0343 | Val score: 0.9042\n",
      "====> Epoch 62 | Train time: 253.8929 ms| End time: 310.9367 ms | Train loss: 6.0718 | Val score: 0.8960\n",
      "====> Epoch 63 | Train time: 253.3925 ms| End time: 311.1634 ms | Train loss: 5.9883 | Val score: 0.8969\n",
      "====> Epoch 64 | Train time: 258.1725 ms| End time: 311.4696 ms | Train loss: 5.9705 | Val score: 0.9060\n",
      "====> Epoch 65 | Train time: 247.3545 ms| End time: 331.0876 ms | Train loss: 6.0412 | Val score: 0.8978\n",
      "====> Epoch 66 | Train time: 259.0208 ms| End time: 316.2417 ms | Train loss: 6.0095 | Val score: 0.8969\n",
      "====> Epoch 67 | Train time: 257.5278 ms| End time: 314.7483 ms | Train loss: 5.9924 | Val score: 0.8978\n",
      "====> Epoch 68 | Train time: 261.0164 ms| End time: 318.1324 ms | Train loss: 6.0107 | Val score: 0.8896\n",
      "====> Epoch 69 | Train time: 252.7461 ms| End time: 310.2922 ms | Train loss: 6.0484 | Val score: 0.9033\n",
      "====> Epoch 70 | Train time: 255.5006 ms| End time: 312.7174 ms | Train loss: 5.9536 | Val score: 0.8969\n"
     ]
    }
   ],
   "source": [
    "if args.train:\n",
    "    for epoch in range(1, args.epochs + 1):\n",
    "        init = time.time()\n",
    "        \n",
    "        #method 1 scheduler\n",
    "        scheduler.step()\n",
    "        \n",
    "        train_loss = train(epoch, model, optimizer)\n",
    "        end_train = time.time()\n",
    "        \n",
    "        val_score = val(model, missing_matrix_w_normalized_time_val, complete_matrix_w_normalized_time_val, \n",
    "                        avai_matrix_val, nan_matrix_val)\n",
    "        \n",
    "        \n",
    "        '''\n",
    "        #save_model(model, epoch, val_score)\n",
    "        if epoch == 1:\n",
    "            current_best = val_score\n",
    "            save_model(model, epoch, val_score)\n",
    "        \n",
    "        else:\n",
    "            if val_score < current_best:\n",
    "                current_best = val_score\n",
    "                save_model(model, epoch, val_score)\n",
    "        '''\n",
    "        #method 2 scheduler\n",
    "        #scheduler.step(val_score)\n",
    "        \n",
    "        end = time.time()\n",
    "        print('====> Epoch {} | Train time: {:.4f} ms| End time: {:.4f} ms | Train loss: {:.4f} | Val score: {:.4f}'.\n",
    "              format(epoch, (end_train-init)*1000, (end-init)*1000, train_loss, val_score))\n",
    "else:\n",
    "    load_model(model, args.model_name)"
   ]
  },
  {
   "cell_type": "markdown",
   "metadata": {
    "collapsed": true
   },
   "source": [
    "# Predict and evaluate"
   ]
  },
  {
   "cell_type": "code",
   "execution_count": 32,
   "metadata": {},
   "outputs": [
    {
     "name": "stdout",
     "output_type": "stream",
     "text": [
      "Predicting...\n",
      "\n",
      "\n",
      "Converting to dataframe...\n",
      "Transforming Normalized Time to Time...\n",
      "Getting submission...\n",
      "Fixing Time...\n"
     ]
    },
    {
     "name": "stderr",
     "output_type": "stream",
     "text": [
      "/home/pllab/miniconda2/envs/pydata/lib/python3.5/site-packages/pandas/core/indexing.py:517: SettingWithCopyWarning: \n",
      "A value is trying to be set on a copy of a slice from a DataFrame.\n",
      "Try using .loc[row_indexer,col_indexer] = value instead\n",
      "\n",
      "See the caveats in the documentation: http://pandas.pydata.org/pandas-docs/stable/indexing.html#indexing-view-versus-copy\n",
      "  self.obj[item] = s\n"
     ]
    },
    {
     "name": "stdout",
     "output_type": "stream",
     "text": [
      "Testing...\n",
      "Number of missing Time: 399\n",
      "Mean Absolute Error: 8.4585 day(s)\n",
      "Root Mean Squared Error: 14.2714 day(s)\n",
      "Number of missing Activity: 381\n",
      "Accuracy: 74.80%\n",
      "\n",
      "\n",
      "Saving submission...\n",
      "Done!\n"
     ]
    }
   ],
   "source": [
    "if args.test:\n",
    "    m_test = missing_matrix_w_normalized_time_test\n",
    "    m_test = Variable(torch.Tensor(m_test).float())\n",
    "    \n",
    "    if args.cuda:\n",
    "        m_test = m_test.cuda()\n",
    "    \n",
    "    print('Predicting...')\n",
    "    recon_test, mu, logvar = model(m_test)\n",
    "    \n",
    "    print('\\n')\n",
    "    print('Converting to dataframe...')\n",
    "    recon_df_w_normalized_time = convert2df(recon_test, pad_matrix_test, cols_w_normalized_time, test_row_num)\n",
    "    \n",
    "    print('Transforming Normalized Time to Time...')\n",
    "    recon_df_w_time = getDfWithTime(recon_df_w_normalized_time, missing_true_test, min_max_storage)\n",
    "    \n",
    "    print('Getting submission...')\n",
    "    submission_df = getSubmission(recon_df_w_time, missing_true_test, complete_true_test, first_timestamp)\n",
    "    \n",
    "    print('Fixing Time...')\n",
    "    submission = fixTime(submission_df)\n",
    "        \n",
    "    print('Testing...')\n",
    "    mae_time, rmse_time, acc = evaluation(submission, nan_time_index_test, nan_activity_index_test,show=True)\n",
    "    \n",
    "    print('\\n')\n",
    "    print('Saving submission...')\n",
    "    submission_df.to_csv(args.output_dir+'submission.csv', index=False)\n",
    "    print('Done!')"
   ]
  },
  {
   "cell_type": "code",
   "execution_count": 33,
   "metadata": {},
   "outputs": [
    {
     "data": {
      "text/html": [
       "<div>\n",
       "<style>\n",
       "    .dataframe thead tr:only-child th {\n",
       "        text-align: right;\n",
       "    }\n",
       "\n",
       "    .dataframe thead th {\n",
       "        text-align: left;\n",
       "    }\n",
       "\n",
       "    .dataframe tbody tr th {\n",
       "        vertical-align: top;\n",
       "    }\n",
       "</style>\n",
       "<table border=\"1\" class=\"dataframe\">\n",
       "  <thead>\n",
       "    <tr style=\"text-align: right;\">\n",
       "      <th></th>\n",
       "      <th>CaseID</th>\n",
       "      <th>TrueActivity</th>\n",
       "      <th>PredictedActivity</th>\n",
       "      <th>TrueTime</th>\n",
       "      <th>PredictedTime</th>\n",
       "      <th>TrueCompleteTimestamp</th>\n",
       "      <th>PredictedCompleteTimestamp</th>\n",
       "    </tr>\n",
       "  </thead>\n",
       "  <tbody>\n",
       "    <tr>\n",
       "      <th>0</th>\n",
       "      <td>1190</td>\n",
       "      <td>Accepted-In Progress</td>\n",
       "      <td>Accepted-In Progress</td>\n",
       "      <td>194135680.0</td>\n",
       "      <td>1.971568e+08</td>\n",
       "      <td>2012-03-07 22:24:22</td>\n",
       "      <td>2012-04-11 21:36:11.057616</td>\n",
       "    </tr>\n",
       "    <tr>\n",
       "      <th>1</th>\n",
       "      <td>1190</td>\n",
       "      <td>Completed-Closed</td>\n",
       "      <td>Completed-Closed</td>\n",
       "      <td>197156789.0</td>\n",
       "      <td>1.971568e+08</td>\n",
       "      <td>2012-04-11 21:36:11</td>\n",
       "      <td>2012-04-11 21:36:11</td>\n",
       "    </tr>\n",
       "    <tr>\n",
       "      <th>2</th>\n",
       "      <td>1191</td>\n",
       "      <td>Accepted-In Progress</td>\n",
       "      <td>Accepted-In Progress</td>\n",
       "      <td>194135786.0</td>\n",
       "      <td>1.941358e+08</td>\n",
       "      <td>2012-03-07 22:26:08</td>\n",
       "      <td>2012-03-07 22:26:08</td>\n",
       "    </tr>\n",
       "    <tr>\n",
       "      <th>3</th>\n",
       "      <td>1191</td>\n",
       "      <td>Completed-Closed</td>\n",
       "      <td>Completed-Closed</td>\n",
       "      <td>198348747.0</td>\n",
       "      <td>1.941358e+08</td>\n",
       "      <td>2012-04-25 16:42:09</td>\n",
       "      <td>2012-03-07 22:26:08.100000</td>\n",
       "    </tr>\n",
       "    <tr>\n",
       "      <th>4</th>\n",
       "      <td>1192</td>\n",
       "      <td>Accepted-In Progress</td>\n",
       "      <td>Accepted-In Progress</td>\n",
       "      <td>194141794.0</td>\n",
       "      <td>1.941418e+08</td>\n",
       "      <td>2012-03-08 00:06:16</td>\n",
       "      <td>2012-03-08 00:06:16</td>\n",
       "    </tr>\n",
       "    <tr>\n",
       "      <th>5</th>\n",
       "      <td>1192</td>\n",
       "      <td>Completed-Closed</td>\n",
       "      <td>Completed-Closed</td>\n",
       "      <td>194821332.0</td>\n",
       "      <td>1.948213e+08</td>\n",
       "      <td>2012-03-15 20:51:54</td>\n",
       "      <td>2012-03-15 20:51:54</td>\n",
       "    </tr>\n",
       "    <tr>\n",
       "      <th>6</th>\n",
       "      <td>1193</td>\n",
       "      <td>Accepted-In Progress</td>\n",
       "      <td>Queued-Awaiting Assignment</td>\n",
       "      <td>194163235.0</td>\n",
       "      <td>1.941632e+08</td>\n",
       "      <td>2012-03-08 06:03:37</td>\n",
       "      <td>2012-03-08 06:03:37</td>\n",
       "    </tr>\n",
       "    <tr>\n",
       "      <th>7</th>\n",
       "      <td>1193</td>\n",
       "      <td>Accepted-In Progress</td>\n",
       "      <td>Accepted-In Progress</td>\n",
       "      <td>194319293.0</td>\n",
       "      <td>1.943193e+08</td>\n",
       "      <td>2012-03-10 01:24:35</td>\n",
       "      <td>2012-03-10 01:24:35</td>\n",
       "    </tr>\n",
       "    <tr>\n",
       "      <th>8</th>\n",
       "      <td>1193</td>\n",
       "      <td>Accepted-Wait</td>\n",
       "      <td>Accepted-Wait</td>\n",
       "      <td>195953439.0</td>\n",
       "      <td>1.949735e+08</td>\n",
       "      <td>2012-03-28 23:20:21</td>\n",
       "      <td>2012-03-17 15:08:18.426378</td>\n",
       "    </tr>\n",
       "    <tr>\n",
       "      <th>9</th>\n",
       "      <td>1193</td>\n",
       "      <td>Accepted-In Progress</td>\n",
       "      <td>Accepted-In Progress</td>\n",
       "      <td>199039446.0</td>\n",
       "      <td>1.990394e+08</td>\n",
       "      <td>2012-05-03 16:33:48</td>\n",
       "      <td>2012-05-03 16:33:48</td>\n",
       "    </tr>\n",
       "  </tbody>\n",
       "</table>\n",
       "</div>"
      ],
      "text/plain": [
       "   CaseID          TrueActivity           PredictedActivity     TrueTime  \\\n",
       "0    1190  Accepted-In Progress        Accepted-In Progress  194135680.0   \n",
       "1    1190      Completed-Closed            Completed-Closed  197156789.0   \n",
       "2    1191  Accepted-In Progress        Accepted-In Progress  194135786.0   \n",
       "3    1191      Completed-Closed            Completed-Closed  198348747.0   \n",
       "4    1192  Accepted-In Progress        Accepted-In Progress  194141794.0   \n",
       "5    1192      Completed-Closed            Completed-Closed  194821332.0   \n",
       "6    1193  Accepted-In Progress  Queued-Awaiting Assignment  194163235.0   \n",
       "7    1193  Accepted-In Progress        Accepted-In Progress  194319293.0   \n",
       "8    1193         Accepted-Wait               Accepted-Wait  195953439.0   \n",
       "9    1193  Accepted-In Progress        Accepted-In Progress  199039446.0   \n",
       "\n",
       "   PredictedTime TrueCompleteTimestamp  PredictedCompleteTimestamp  \n",
       "0   1.971568e+08   2012-03-07 22:24:22  2012-04-11 21:36:11.057616  \n",
       "1   1.971568e+08   2012-04-11 21:36:11         2012-04-11 21:36:11  \n",
       "2   1.941358e+08   2012-03-07 22:26:08         2012-03-07 22:26:08  \n",
       "3   1.941358e+08   2012-04-25 16:42:09  2012-03-07 22:26:08.100000  \n",
       "4   1.941418e+08   2012-03-08 00:06:16         2012-03-08 00:06:16  \n",
       "5   1.948213e+08   2012-03-15 20:51:54         2012-03-15 20:51:54  \n",
       "6   1.941632e+08   2012-03-08 06:03:37         2012-03-08 06:03:37  \n",
       "7   1.943193e+08   2012-03-10 01:24:35         2012-03-10 01:24:35  \n",
       "8   1.949735e+08   2012-03-28 23:20:21  2012-03-17 15:08:18.426378  \n",
       "9   1.990394e+08   2012-05-03 16:33:48         2012-05-03 16:33:48  "
      ]
     },
     "execution_count": 33,
     "metadata": {},
     "output_type": "execute_result"
    }
   ],
   "source": [
    "submission_df.head(10)"
   ]
  },
  {
   "cell_type": "code",
   "execution_count": 34,
   "metadata": {},
   "outputs": [
    {
     "data": {
      "text/html": [
       "<div>\n",
       "<style>\n",
       "    .dataframe thead tr:only-child th {\n",
       "        text-align: right;\n",
       "    }\n",
       "\n",
       "    .dataframe thead th {\n",
       "        text-align: left;\n",
       "    }\n",
       "\n",
       "    .dataframe tbody tr th {\n",
       "        vertical-align: top;\n",
       "    }\n",
       "</style>\n",
       "<table border=\"1\" class=\"dataframe\">\n",
       "  <thead>\n",
       "    <tr style=\"text-align: right;\">\n",
       "      <th></th>\n",
       "      <th>CaseID</th>\n",
       "      <th>TrueActivity</th>\n",
       "      <th>PredictedActivity</th>\n",
       "      <th>TrueTime</th>\n",
       "      <th>PredictedTime</th>\n",
       "      <th>TrueCompleteTimestamp</th>\n",
       "      <th>PredictedCompleteTimestamp</th>\n",
       "    </tr>\n",
       "  </thead>\n",
       "  <tbody>\n",
       "    <tr>\n",
       "      <th>0</th>\n",
       "      <td>1190</td>\n",
       "      <td>Accepted-In Progress</td>\n",
       "      <td>Accepted-In Progress</td>\n",
       "      <td>194135680.0</td>\n",
       "      <td>1.971568e+08</td>\n",
       "      <td>2012-03-07 22:24:22</td>\n",
       "      <td>2012-04-11 21:36:11.057616</td>\n",
       "    </tr>\n",
       "    <tr>\n",
       "      <th>1</th>\n",
       "      <td>1190</td>\n",
       "      <td>Completed-Closed</td>\n",
       "      <td>Completed-Closed</td>\n",
       "      <td>197156789.0</td>\n",
       "      <td>1.971568e+08</td>\n",
       "      <td>2012-04-11 21:36:11</td>\n",
       "      <td>2012-04-11 21:36:11.057616</td>\n",
       "    </tr>\n",
       "    <tr>\n",
       "      <th>2</th>\n",
       "      <td>1191</td>\n",
       "      <td>Accepted-In Progress</td>\n",
       "      <td>Accepted-In Progress</td>\n",
       "      <td>194135786.0</td>\n",
       "      <td>1.941358e+08</td>\n",
       "      <td>2012-03-07 22:26:08</td>\n",
       "      <td>2012-03-07 22:26:08</td>\n",
       "    </tr>\n",
       "    <tr>\n",
       "      <th>3</th>\n",
       "      <td>1191</td>\n",
       "      <td>Completed-Closed</td>\n",
       "      <td>Completed-Closed</td>\n",
       "      <td>198348747.0</td>\n",
       "      <td>1.941358e+08</td>\n",
       "      <td>2012-04-25 16:42:09</td>\n",
       "      <td>2012-03-07 22:26:08.100000</td>\n",
       "    </tr>\n",
       "    <tr>\n",
       "      <th>4</th>\n",
       "      <td>1192</td>\n",
       "      <td>Accepted-In Progress</td>\n",
       "      <td>Accepted-In Progress</td>\n",
       "      <td>194141794.0</td>\n",
       "      <td>1.941418e+08</td>\n",
       "      <td>2012-03-08 00:06:16</td>\n",
       "      <td>2012-03-08 00:06:16</td>\n",
       "    </tr>\n",
       "    <tr>\n",
       "      <th>5</th>\n",
       "      <td>1192</td>\n",
       "      <td>Completed-Closed</td>\n",
       "      <td>Completed-Closed</td>\n",
       "      <td>194821332.0</td>\n",
       "      <td>1.948213e+08</td>\n",
       "      <td>2012-03-15 20:51:54</td>\n",
       "      <td>2012-03-15 20:51:54</td>\n",
       "    </tr>\n",
       "    <tr>\n",
       "      <th>6</th>\n",
       "      <td>1193</td>\n",
       "      <td>Accepted-In Progress</td>\n",
       "      <td>Queued-Awaiting Assignment</td>\n",
       "      <td>194163235.0</td>\n",
       "      <td>1.941632e+08</td>\n",
       "      <td>2012-03-08 06:03:37</td>\n",
       "      <td>2012-03-08 06:03:37</td>\n",
       "    </tr>\n",
       "    <tr>\n",
       "      <th>7</th>\n",
       "      <td>1193</td>\n",
       "      <td>Accepted-In Progress</td>\n",
       "      <td>Accepted-In Progress</td>\n",
       "      <td>194319293.0</td>\n",
       "      <td>1.943193e+08</td>\n",
       "      <td>2012-03-10 01:24:35</td>\n",
       "      <td>2012-03-10 01:24:35</td>\n",
       "    </tr>\n",
       "    <tr>\n",
       "      <th>8</th>\n",
       "      <td>1193</td>\n",
       "      <td>Accepted-Wait</td>\n",
       "      <td>Accepted-Wait</td>\n",
       "      <td>195953439.0</td>\n",
       "      <td>1.949735e+08</td>\n",
       "      <td>2012-03-28 23:20:21</td>\n",
       "      <td>2012-03-17 15:08:18.426378</td>\n",
       "    </tr>\n",
       "    <tr>\n",
       "      <th>9</th>\n",
       "      <td>1193</td>\n",
       "      <td>Accepted-In Progress</td>\n",
       "      <td>Accepted-In Progress</td>\n",
       "      <td>199039446.0</td>\n",
       "      <td>1.990394e+08</td>\n",
       "      <td>2012-05-03 16:33:48</td>\n",
       "      <td>2012-05-03 16:33:48</td>\n",
       "    </tr>\n",
       "    <tr>\n",
       "      <th>10</th>\n",
       "      <td>1193</td>\n",
       "      <td>Completed-Closed</td>\n",
       "      <td>Completed-Closed</td>\n",
       "      <td>199039455.0</td>\n",
       "      <td>1.990395e+08</td>\n",
       "      <td>2012-05-03 16:33:57</td>\n",
       "      <td>2012-05-03 16:33:57</td>\n",
       "    </tr>\n",
       "    <tr>\n",
       "      <th>11</th>\n",
       "      <td>1194</td>\n",
       "      <td>Accepted-In Progress</td>\n",
       "      <td>Accepted-In Progress</td>\n",
       "      <td>194207700.0</td>\n",
       "      <td>1.942077e+08</td>\n",
       "      <td>2012-03-08 18:24:42</td>\n",
       "      <td>2012-03-08 18:24:42</td>\n",
       "    </tr>\n",
       "    <tr>\n",
       "      <th>12</th>\n",
       "      <td>1194</td>\n",
       "      <td>Accepted-Assigned</td>\n",
       "      <td>Accepted-In Progress</td>\n",
       "      <td>194207796.0</td>\n",
       "      <td>1.942096e+08</td>\n",
       "      <td>2012-03-08 18:26:18</td>\n",
       "      <td>2012-03-08 18:55:38.074094</td>\n",
       "    </tr>\n",
       "    <tr>\n",
       "      <th>13</th>\n",
       "      <td>1194</td>\n",
       "      <td>Accepted-In Progress</td>\n",
       "      <td>Accepted-In Progress</td>\n",
       "      <td>194215685.0</td>\n",
       "      <td>1.942157e+08</td>\n",
       "      <td>2012-03-08 20:37:47</td>\n",
       "      <td>2012-03-08 20:37:47</td>\n",
       "    </tr>\n",
       "    <tr>\n",
       "      <th>14</th>\n",
       "      <td>1194</td>\n",
       "      <td>Completed-Closed</td>\n",
       "      <td>Completed-Closed</td>\n",
       "      <td>195431870.0</td>\n",
       "      <td>1.942157e+08</td>\n",
       "      <td>2012-03-22 22:27:32</td>\n",
       "      <td>2012-03-08 20:37:47.095241</td>\n",
       "    </tr>\n",
       "    <tr>\n",
       "      <th>15</th>\n",
       "      <td>1195</td>\n",
       "      <td>Accepted-In Progress</td>\n",
       "      <td>Accepted-In Progress</td>\n",
       "      <td>194209749.0</td>\n",
       "      <td>1.954371e+08</td>\n",
       "      <td>2012-03-08 18:58:51</td>\n",
       "      <td>2012-03-22 23:54:52.054439</td>\n",
       "    </tr>\n",
       "    <tr>\n",
       "      <th>16</th>\n",
       "      <td>1195</td>\n",
       "      <td>Completed-Closed</td>\n",
       "      <td>Completed-Closed</td>\n",
       "      <td>195437110.0</td>\n",
       "      <td>1.954371e+08</td>\n",
       "      <td>2012-03-22 23:54:52</td>\n",
       "      <td>2012-03-22 23:54:52.054439</td>\n",
       "    </tr>\n",
       "    <tr>\n",
       "      <th>17</th>\n",
       "      <td>1196</td>\n",
       "      <td>Accepted-In Progress</td>\n",
       "      <td>Accepted-In Progress</td>\n",
       "      <td>194211279.0</td>\n",
       "      <td>1.942113e+08</td>\n",
       "      <td>2012-03-08 19:24:21</td>\n",
       "      <td>2012-03-08 19:24:21</td>\n",
       "    </tr>\n",
       "    <tr>\n",
       "      <th>18</th>\n",
       "      <td>1196</td>\n",
       "      <td>Queued-Awaiting Assignment</td>\n",
       "      <td>Queued-Awaiting Assignment</td>\n",
       "      <td>194211478.0</td>\n",
       "      <td>1.943601e+08</td>\n",
       "      <td>2012-03-08 19:27:40</td>\n",
       "      <td>2012-03-10 12:44:56.619730</td>\n",
       "    </tr>\n",
       "    <tr>\n",
       "      <th>19</th>\n",
       "      <td>1196</td>\n",
       "      <td>Accepted-In Progress</td>\n",
       "      <td>Accepted-In Progress</td>\n",
       "      <td>194896440.0</td>\n",
       "      <td>1.943601e+08</td>\n",
       "      <td>2012-03-16 17:43:42</td>\n",
       "      <td>2012-03-10 12:44:56.619730</td>\n",
       "    </tr>\n",
       "  </tbody>\n",
       "</table>\n",
       "</div>"
      ],
      "text/plain": [
       "   CaseID                TrueActivity           PredictedActivity  \\\n",
       "0    1190        Accepted-In Progress        Accepted-In Progress   \n",
       "1    1190            Completed-Closed            Completed-Closed   \n",
       "2    1191        Accepted-In Progress        Accepted-In Progress   \n",
       "3    1191            Completed-Closed            Completed-Closed   \n",
       "4    1192        Accepted-In Progress        Accepted-In Progress   \n",
       "5    1192            Completed-Closed            Completed-Closed   \n",
       "6    1193        Accepted-In Progress  Queued-Awaiting Assignment   \n",
       "7    1193        Accepted-In Progress        Accepted-In Progress   \n",
       "8    1193               Accepted-Wait               Accepted-Wait   \n",
       "9    1193        Accepted-In Progress        Accepted-In Progress   \n",
       "10   1193            Completed-Closed            Completed-Closed   \n",
       "11   1194        Accepted-In Progress        Accepted-In Progress   \n",
       "12   1194           Accepted-Assigned        Accepted-In Progress   \n",
       "13   1194        Accepted-In Progress        Accepted-In Progress   \n",
       "14   1194            Completed-Closed            Completed-Closed   \n",
       "15   1195        Accepted-In Progress        Accepted-In Progress   \n",
       "16   1195            Completed-Closed            Completed-Closed   \n",
       "17   1196        Accepted-In Progress        Accepted-In Progress   \n",
       "18   1196  Queued-Awaiting Assignment  Queued-Awaiting Assignment   \n",
       "19   1196        Accepted-In Progress        Accepted-In Progress   \n",
       "\n",
       "       TrueTime  PredictedTime TrueCompleteTimestamp  \\\n",
       "0   194135680.0   1.971568e+08   2012-03-07 22:24:22   \n",
       "1   197156789.0   1.971568e+08   2012-04-11 21:36:11   \n",
       "2   194135786.0   1.941358e+08   2012-03-07 22:26:08   \n",
       "3   198348747.0   1.941358e+08   2012-04-25 16:42:09   \n",
       "4   194141794.0   1.941418e+08   2012-03-08 00:06:16   \n",
       "5   194821332.0   1.948213e+08   2012-03-15 20:51:54   \n",
       "6   194163235.0   1.941632e+08   2012-03-08 06:03:37   \n",
       "7   194319293.0   1.943193e+08   2012-03-10 01:24:35   \n",
       "8   195953439.0   1.949735e+08   2012-03-28 23:20:21   \n",
       "9   199039446.0   1.990394e+08   2012-05-03 16:33:48   \n",
       "10  199039455.0   1.990395e+08   2012-05-03 16:33:57   \n",
       "11  194207700.0   1.942077e+08   2012-03-08 18:24:42   \n",
       "12  194207796.0   1.942096e+08   2012-03-08 18:26:18   \n",
       "13  194215685.0   1.942157e+08   2012-03-08 20:37:47   \n",
       "14  195431870.0   1.942157e+08   2012-03-22 22:27:32   \n",
       "15  194209749.0   1.954371e+08   2012-03-08 18:58:51   \n",
       "16  195437110.0   1.954371e+08   2012-03-22 23:54:52   \n",
       "17  194211279.0   1.942113e+08   2012-03-08 19:24:21   \n",
       "18  194211478.0   1.943601e+08   2012-03-08 19:27:40   \n",
       "19  194896440.0   1.943601e+08   2012-03-16 17:43:42   \n",
       "\n",
       "    PredictedCompleteTimestamp  \n",
       "0   2012-04-11 21:36:11.057616  \n",
       "1   2012-04-11 21:36:11.057616  \n",
       "2          2012-03-07 22:26:08  \n",
       "3   2012-03-07 22:26:08.100000  \n",
       "4          2012-03-08 00:06:16  \n",
       "5          2012-03-15 20:51:54  \n",
       "6          2012-03-08 06:03:37  \n",
       "7          2012-03-10 01:24:35  \n",
       "8   2012-03-17 15:08:18.426378  \n",
       "9          2012-05-03 16:33:48  \n",
       "10         2012-05-03 16:33:57  \n",
       "11         2012-03-08 18:24:42  \n",
       "12  2012-03-08 18:55:38.074094  \n",
       "13         2012-03-08 20:37:47  \n",
       "14  2012-03-08 20:37:47.095241  \n",
       "15  2012-03-22 23:54:52.054439  \n",
       "16  2012-03-22 23:54:52.054439  \n",
       "17         2012-03-08 19:24:21  \n",
       "18  2012-03-10 12:44:56.619730  \n",
       "19  2012-03-10 12:44:56.619730  "
      ]
     },
     "execution_count": 34,
     "metadata": {},
     "output_type": "execute_result"
    }
   ],
   "source": [
    "submission.head(20)"
   ]
  },
  {
   "cell_type": "code",
   "execution_count": 35,
   "metadata": {},
   "outputs": [
    {
     "data": {
      "text/html": [
       "<div>\n",
       "<style>\n",
       "    .dataframe thead tr:only-child th {\n",
       "        text-align: right;\n",
       "    }\n",
       "\n",
       "    .dataframe thead th {\n",
       "        text-align: left;\n",
       "    }\n",
       "\n",
       "    .dataframe tbody tr th {\n",
       "        vertical-align: top;\n",
       "    }\n",
       "</style>\n",
       "<table border=\"1\" class=\"dataframe\">\n",
       "  <thead>\n",
       "    <tr style=\"text-align: right;\">\n",
       "      <th></th>\n",
       "      <th>CaseID</th>\n",
       "      <th>Activity</th>\n",
       "      <th>CompleteTimestamp</th>\n",
       "      <th>CumTimeInterval</th>\n",
       "      <th>NormalizedTime</th>\n",
       "    </tr>\n",
       "  </thead>\n",
       "  <tbody>\n",
       "    <tr>\n",
       "      <th>0</th>\n",
       "      <td>1190</td>\n",
       "      <td>NaN</td>\n",
       "      <td>NaN</td>\n",
       "      <td>NaN</td>\n",
       "      <td>NaN</td>\n",
       "    </tr>\n",
       "    <tr>\n",
       "      <th>1</th>\n",
       "      <td>1190</td>\n",
       "      <td>Completed-Closed</td>\n",
       "      <td>2012-04-11 21:36:11</td>\n",
       "      <td>197156789.0</td>\n",
       "      <td>0.000000</td>\n",
       "    </tr>\n",
       "    <tr>\n",
       "      <th>2</th>\n",
       "      <td>1191</td>\n",
       "      <td>NaN</td>\n",
       "      <td>2012-03-07 22:26:08</td>\n",
       "      <td>194135786.0</td>\n",
       "      <td>0.000000</td>\n",
       "    </tr>\n",
       "    <tr>\n",
       "      <th>3</th>\n",
       "      <td>1191</td>\n",
       "      <td>Completed-Closed</td>\n",
       "      <td>NaN</td>\n",
       "      <td>NaN</td>\n",
       "      <td>NaN</td>\n",
       "    </tr>\n",
       "    <tr>\n",
       "      <th>4</th>\n",
       "      <td>1192</td>\n",
       "      <td>Accepted-In Progress</td>\n",
       "      <td>2012-03-08 00:06:16</td>\n",
       "      <td>194141794.0</td>\n",
       "      <td>0.000000</td>\n",
       "    </tr>\n",
       "    <tr>\n",
       "      <th>5</th>\n",
       "      <td>1192</td>\n",
       "      <td>Completed-Closed</td>\n",
       "      <td>2012-03-15 20:51:54</td>\n",
       "      <td>194821332.0</td>\n",
       "      <td>1.000000</td>\n",
       "    </tr>\n",
       "    <tr>\n",
       "      <th>6</th>\n",
       "      <td>1193</td>\n",
       "      <td>NaN</td>\n",
       "      <td>2012-03-08 06:03:37</td>\n",
       "      <td>194163235.0</td>\n",
       "      <td>0.000000</td>\n",
       "    </tr>\n",
       "    <tr>\n",
       "      <th>7</th>\n",
       "      <td>1193</td>\n",
       "      <td>NaN</td>\n",
       "      <td>2012-03-10 01:24:35</td>\n",
       "      <td>194319293.0</td>\n",
       "      <td>0.032004</td>\n",
       "    </tr>\n",
       "    <tr>\n",
       "      <th>8</th>\n",
       "      <td>1193</td>\n",
       "      <td>Accepted-Wait</td>\n",
       "      <td>NaN</td>\n",
       "      <td>NaN</td>\n",
       "      <td>NaN</td>\n",
       "    </tr>\n",
       "    <tr>\n",
       "      <th>9</th>\n",
       "      <td>1193</td>\n",
       "      <td>NaN</td>\n",
       "      <td>2012-05-03 16:33:48</td>\n",
       "      <td>199039446.0</td>\n",
       "      <td>0.999998</td>\n",
       "    </tr>\n",
       "    <tr>\n",
       "      <th>10</th>\n",
       "      <td>1193</td>\n",
       "      <td>NaN</td>\n",
       "      <td>2012-05-03 16:33:57</td>\n",
       "      <td>199039455.0</td>\n",
       "      <td>1.000000</td>\n",
       "    </tr>\n",
       "    <tr>\n",
       "      <th>11</th>\n",
       "      <td>1194</td>\n",
       "      <td>NaN</td>\n",
       "      <td>2012-03-08 18:24:42</td>\n",
       "      <td>194207700.0</td>\n",
       "      <td>0.000000</td>\n",
       "    </tr>\n",
       "    <tr>\n",
       "      <th>12</th>\n",
       "      <td>1194</td>\n",
       "      <td>NaN</td>\n",
       "      <td>NaN</td>\n",
       "      <td>NaN</td>\n",
       "      <td>NaN</td>\n",
       "    </tr>\n",
       "    <tr>\n",
       "      <th>13</th>\n",
       "      <td>1194</td>\n",
       "      <td>NaN</td>\n",
       "      <td>2012-03-08 20:37:47</td>\n",
       "      <td>194215685.0</td>\n",
       "      <td>0.999987</td>\n",
       "    </tr>\n",
       "    <tr>\n",
       "      <th>14</th>\n",
       "      <td>1194</td>\n",
       "      <td>Completed-Closed</td>\n",
       "      <td>NaN</td>\n",
       "      <td>NaN</td>\n",
       "      <td>NaN</td>\n",
       "    </tr>\n",
       "    <tr>\n",
       "      <th>15</th>\n",
       "      <td>1195</td>\n",
       "      <td>NaN</td>\n",
       "      <td>NaN</td>\n",
       "      <td>NaN</td>\n",
       "      <td>NaN</td>\n",
       "    </tr>\n",
       "    <tr>\n",
       "      <th>16</th>\n",
       "      <td>1195</td>\n",
       "      <td>Completed-Closed</td>\n",
       "      <td>2012-03-22 23:54:52</td>\n",
       "      <td>195437110.0</td>\n",
       "      <td>0.000000</td>\n",
       "    </tr>\n",
       "    <tr>\n",
       "      <th>17</th>\n",
       "      <td>1196</td>\n",
       "      <td>Accepted-In Progress</td>\n",
       "      <td>2012-03-08 19:24:21</td>\n",
       "      <td>194211279.0</td>\n",
       "      <td>0.000000</td>\n",
       "    </tr>\n",
       "    <tr>\n",
       "      <th>18</th>\n",
       "      <td>1196</td>\n",
       "      <td>Queued-Awaiting Assignment</td>\n",
       "      <td>NaN</td>\n",
       "      <td>NaN</td>\n",
       "      <td>NaN</td>\n",
       "    </tr>\n",
       "    <tr>\n",
       "      <th>19</th>\n",
       "      <td>1196</td>\n",
       "      <td>NaN</td>\n",
       "      <td>NaN</td>\n",
       "      <td>NaN</td>\n",
       "      <td>NaN</td>\n",
       "    </tr>\n",
       "  </tbody>\n",
       "</table>\n",
       "</div>"
      ],
      "text/plain": [
       "    CaseID                    Activity    CompleteTimestamp  CumTimeInterval  \\\n",
       "0     1190                         NaN                  NaN              NaN   \n",
       "1     1190            Completed-Closed  2012-04-11 21:36:11      197156789.0   \n",
       "2     1191                         NaN  2012-03-07 22:26:08      194135786.0   \n",
       "3     1191            Completed-Closed                  NaN              NaN   \n",
       "4     1192        Accepted-In Progress  2012-03-08 00:06:16      194141794.0   \n",
       "5     1192            Completed-Closed  2012-03-15 20:51:54      194821332.0   \n",
       "6     1193                         NaN  2012-03-08 06:03:37      194163235.0   \n",
       "7     1193                         NaN  2012-03-10 01:24:35      194319293.0   \n",
       "8     1193               Accepted-Wait                  NaN              NaN   \n",
       "9     1193                         NaN  2012-05-03 16:33:48      199039446.0   \n",
       "10    1193                         NaN  2012-05-03 16:33:57      199039455.0   \n",
       "11    1194                         NaN  2012-03-08 18:24:42      194207700.0   \n",
       "12    1194                         NaN                  NaN              NaN   \n",
       "13    1194                         NaN  2012-03-08 20:37:47      194215685.0   \n",
       "14    1194            Completed-Closed                  NaN              NaN   \n",
       "15    1195                         NaN                  NaN              NaN   \n",
       "16    1195            Completed-Closed  2012-03-22 23:54:52      195437110.0   \n",
       "17    1196        Accepted-In Progress  2012-03-08 19:24:21      194211279.0   \n",
       "18    1196  Queued-Awaiting Assignment                  NaN              NaN   \n",
       "19    1196                         NaN                  NaN              NaN   \n",
       "\n",
       "    NormalizedTime  \n",
       "0              NaN  \n",
       "1         0.000000  \n",
       "2         0.000000  \n",
       "3              NaN  \n",
       "4         0.000000  \n",
       "5         1.000000  \n",
       "6         0.000000  \n",
       "7         0.032004  \n",
       "8              NaN  \n",
       "9         0.999998  \n",
       "10        1.000000  \n",
       "11        0.000000  \n",
       "12             NaN  \n",
       "13        0.999987  \n",
       "14             NaN  \n",
       "15             NaN  \n",
       "16        0.000000  \n",
       "17        0.000000  \n",
       "18             NaN  \n",
       "19             NaN  "
      ]
     },
     "execution_count": 35,
     "metadata": {},
     "output_type": "execute_result"
    }
   ],
   "source": [
    "missing_true_test.head(20)"
   ]
  },
  {
   "cell_type": "code",
   "execution_count": 36,
   "metadata": {},
   "outputs": [
    {
     "data": {
      "text/plain": [
       "Timestamp('2006-01-11 23:49:42')"
      ]
     },
     "execution_count": 36,
     "metadata": {},
     "output_type": "execute_result"
    }
   ],
   "source": [
    "first_timestamp"
   ]
  },
  {
   "cell_type": "code",
   "execution_count": null,
   "metadata": {
    "collapsed": true
   },
   "outputs": [],
   "source": []
  }
 ],
 "metadata": {
  "kernelspec": {
   "display_name": "Python 3",
   "language": "python",
   "name": "python3"
  },
  "language_info": {
   "codemirror_mode": {
    "name": "ipython",
    "version": 3
   },
   "file_extension": ".py",
   "mimetype": "text/x-python",
   "name": "python",
   "nbconvert_exporter": "python",
   "pygments_lexer": "ipython3",
   "version": "3.5.4"
  },
  "toc": {
   "colors": {
    "hover_highlight": "#DAA520",
    "running_highlight": "#FF0000",
    "selected_highlight": "#FFD700"
   },
   "moveMenuLeft": true,
   "nav_menu": {
    "height": "48px",
    "width": "252px"
   },
   "navigate_menu": true,
   "number_sections": true,
   "sideBar": true,
   "threshold": 4,
   "toc_cell": false,
   "toc_section_display": "block",
   "toc_window_display": false
  }
 },
 "nbformat": 4,
 "nbformat_minor": 2
}
