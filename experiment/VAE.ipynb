{
 "cells": [
  {
   "cell_type": "markdown",
   "metadata": {},
   "source": [
    "**Outline:**\n",
    "- Build model and loss function\n",
    "- Train model\n",
    "- Observe valdidate\n",
    "- Test"
   ]
  },
  {
   "cell_type": "markdown",
   "metadata": {},
   "source": [
    "**To do:**\n",
    "- Hyperparameter tuning\n",
    "    + lr\n",
    "    + layer1, layer2\n",
    "    + betas"
   ]
  },
  {
   "cell_type": "markdown",
   "metadata": {},
   "source": [
    "**Modification**\n",
    "- Weight initialization with xavier uniform\n",
    "- Adam optimization\n",
    "- LR decay"
   ]
  },
  {
   "cell_type": "markdown",
   "metadata": {},
   "source": [
    "**To do:**\n",
    "- Add dropout\n",
    "- Implement another loss function"
   ]
  },
  {
   "cell_type": "code",
   "execution_count": 1,
   "metadata": {
    "collapsed": true
   },
   "outputs": [],
   "source": [
    "import importlib\n",
    "import argparse\n",
    "import os, sys\n",
    "import argparse\n",
    "import pandas as pd\n",
    "import numpy as np\n",
    "import pickle"
   ]
  },
  {
   "cell_type": "code",
   "execution_count": 2,
   "metadata": {
    "collapsed": true
   },
   "outputs": [],
   "source": [
    "import torch\n",
    "import torch.utils.data\n",
    "import torch.nn.functional as F\n",
    "import torch.nn as nn\n",
    "import torch.optim as optim\n",
    "import torch.optim.lr_scheduler\n",
    "from torch.autograd import Variable\n",
    "from torchvision import transforms"
   ]
  },
  {
   "cell_type": "code",
   "execution_count": 3,
   "metadata": {
    "collapsed": true
   },
   "outputs": [],
   "source": [
    "sys.path.insert(0, './../utils/')\n",
    "from utils import *\n",
    "from models import *"
   ]
  },
  {
   "cell_type": "code",
   "execution_count": 4,
   "metadata": {
    "collapsed": true
   },
   "outputs": [],
   "source": [
    "#Define parser\n",
    "name = 'bpi_2012'\n",
    "#name = 'bpi_2013'\n",
    "#name = 'Road_Traffic_Fine_Management_Process' \n",
    "\n",
    "parser = {\n",
    "    'train': True,\n",
    "    'test': True,\n",
    "    'model_class': 'VAE',\n",
    "    'model_name': ' ',\n",
    "    'data_dir': '../data/',\n",
    "    'data_file': name + '.csv',\n",
    "    'nan_pct': 0.3,\n",
    "    'input_dir': '../input/{}/'.format(name), \n",
    "    'output_dir': './output/{}/'.format(name),\n",
    "    'batch_size' : 16,\n",
    "    'epochs' : 70,\n",
    "    'no_cuda' : False,\n",
    "    'seed' : 7,\n",
    "    'layer1': 1000,\n",
    "    'layer2': 100,\n",
    "    'early_stopping': 30,\n",
    "    'lr': 0.002,\n",
    "    'betas': (0.9, 0.99),   \n",
    "    'lr_decay': 0.90,\n",
    "}\n",
    "\n",
    "args = argparse.Namespace(**parser)"
   ]
  },
  {
   "cell_type": "code",
   "execution_count": 5,
   "metadata": {
    "collapsed": true
   },
   "outputs": [],
   "source": [
    "if not os.path.isdir(args.output_dir):\n",
    "    os.makedirs(args.output_dir)"
   ]
  },
  {
   "cell_type": "code",
   "execution_count": 6,
   "metadata": {
    "collapsed": true
   },
   "outputs": [],
   "source": [
    "args.cuda = not args.no_cuda and torch.cuda.is_available()"
   ]
  },
  {
   "cell_type": "code",
   "execution_count": 7,
   "metadata": {
    "collapsed": true
   },
   "outputs": [],
   "source": [
    "torch.manual_seed(args.seed)\n",
    "if args.cuda:\n",
    "    torch.cuda.manual_seed(args.seed)"
   ]
  },
  {
   "cell_type": "code",
   "execution_count": 8,
   "metadata": {
    "collapsed": true
   },
   "outputs": [],
   "source": [
    "kwargs = {'num_workers': 2, 'pin_memory': True} if args.cuda else {}"
   ]
  },
  {
   "cell_type": "code",
   "execution_count": 9,
   "metadata": {
    "collapsed": true
   },
   "outputs": [],
   "source": [
    "preprocessed_data_name = os.path.join(args.input_dir, 'preprocessed_data_{}.pkl'.format(args.nan_pct))\n",
    "with open(preprocessed_data_name, 'rb') as f:\n",
    "    min_max_storage = pickle.load(f)\n",
    "    complete_matrix_w_normalized_time_train = pickle.load(f)\n",
    "    missing_matrix_w_normalized_time_train = pickle.load(f)\n",
    "    avai_matrix_train = pickle.load(f)\n",
    "    nan_matrix_train = pickle.load(f)\n",
    "    complete_matrix_w_normalized_time_val = pickle.load(f)\n",
    "    missing_matrix_w_normalized_time_val = pickle.load(f)\n",
    "    avai_matrix_val = pickle.load(f)\n",
    "    nan_matrix_val = pickle.load(f)\n",
    "    pad_matrix_val = pickle.load(f)\n",
    "    complete_matrix_w_normalized_time_test = pickle.load(f)\n",
    "    missing_matrix_w_normalized_time_test = pickle.load(f)\n",
    "    avai_matrix_test = pickle.load(f)\n",
    "    nan_matrix_test = pickle.load(f)\n",
    "    pad_matrix_test = pickle.load(f)\n",
    "    cols_w_time = pickle.load(f)\n",
    "    cols_w_normalized_time = pickle.load(f)"
   ]
  },
  {
   "cell_type": "code",
   "execution_count": 10,
   "metadata": {
    "collapsed": true
   },
   "outputs": [],
   "source": [
    "file_name = os.path.join(args.input_dir, 'parameters_{}.pkl'.format(args.nan_pct))\n",
    "with open(file_name, 'rb') as f:\n",
    "    most_frequent_activity = pickle.load(f)\n",
    "    first_timestamp = pickle.load(f)\n",
    "    avai_instance = pickle.load(f)\n",
    "    nan_instance = pickle.load(f)\n",
    "    train_size = pickle.load(f)\n",
    "    val_size = pickle.load(f)\n",
    "    test_size = pickle.load(f)\n",
    "    train_row_num = pickle.load(f)\n",
    "    val_row_num = pickle.load(f)\n",
    "    test_row_num = pickle.load(f)"
   ]
  },
  {
   "cell_type": "markdown",
   "metadata": {},
   "source": [
    "# Load data"
   ]
  },
  {
   "cell_type": "markdown",
   "metadata": {},
   "source": [
    "## Train"
   ]
  },
  {
   "cell_type": "code",
   "execution_count": 11,
   "metadata": {
    "collapsed": true
   },
   "outputs": [],
   "source": [
    "complete_matrix_w_normalized_time_trainLoader = torch.utils.data.DataLoader(complete_matrix_w_normalized_time_train, \n",
    "                                                                            batch_size=args.batch_size, shuffle=False, \n",
    "                                                                            num_workers=2)\n",
    "missing_matrix_w_normalized_time_trainLoader = torch.utils.data.DataLoader(missing_matrix_w_normalized_time_train, \n",
    "                                                                           batch_size=args.batch_size, shuffle=False, \n",
    "                                                                           num_workers=2)\n",
    "avai_matrix_trainLoader = torch.utils.data.DataLoader(avai_matrix_train, \n",
    "                                                      batch_size=args.batch_size, shuffle=False, \n",
    "                                                      num_workers=2)"
   ]
  },
  {
   "cell_type": "markdown",
   "metadata": {},
   "source": [
    "## Validate and test"
   ]
  },
  {
   "cell_type": "code",
   "execution_count": 12,
   "metadata": {
    "collapsed": true
   },
   "outputs": [],
   "source": [
    "normalized_complete_df_name = os.path.join(args.input_dir, 'normalized_complete_df_{}.csv'.format(args.nan_pct))\n",
    "normalized_complete_df = pd.read_csv(normalized_complete_df_name)\n",
    "\n",
    "normalized_missing_df_name = os.path.join(args.input_dir, 'normalized_missing_df_{}.csv'.format(args.nan_pct))\n",
    "normalized_missing_df = pd.read_csv(normalized_missing_df_name)"
   ]
  },
  {
   "cell_type": "code",
   "execution_count": 13,
   "metadata": {
    "collapsed": true
   },
   "outputs": [],
   "source": [
    "missing_true_val = normalized_missing_df[train_row_num:-test_row_num].reset_index(drop=True)\n",
    "complete_true_val = normalized_complete_df[train_row_num:-test_row_num].reset_index(drop=True)"
   ]
  },
  {
   "cell_type": "code",
   "execution_count": 14,
   "metadata": {
    "collapsed": true
   },
   "outputs": [],
   "source": [
    "missing_true_test = normalized_missing_df[-test_row_num:].reset_index(drop=True)\n",
    "complete_true_test = normalized_complete_df[-test_row_num:].reset_index(drop=True)"
   ]
  },
  {
   "cell_type": "code",
   "execution_count": 15,
   "metadata": {},
   "outputs": [
    {
     "data": {
      "text/plain": [
       "((55671, 5), (47823, 5))"
      ]
     },
     "execution_count": 15,
     "metadata": {},
     "output_type": "execute_result"
    }
   ],
   "source": [
    "missing_true_val.shape, missing_true_test.shape"
   ]
  },
  {
   "cell_type": "code",
   "execution_count": 16,
   "metadata": {
    "collapsed": true
   },
   "outputs": [],
   "source": [
    "nan_time_index_val, nan_activity_index_val = getnanindex(missing_true_val)"
   ]
  },
  {
   "cell_type": "code",
   "execution_count": 17,
   "metadata": {
    "collapsed": true
   },
   "outputs": [],
   "source": [
    "nan_time_index_test, nan_activity_index_test = getnanindex(missing_true_test)"
   ]
  },
  {
   "cell_type": "code",
   "execution_count": 18,
   "metadata": {},
   "outputs": [
    {
     "data": {
      "text/plain": [
       "CaseID                   0\n",
       "Activity             78944\n",
       "CompleteTimestamp    78376\n",
       "CumTimeInterval      78376\n",
       "NormalizedTime       78376\n",
       "dtype: int64"
      ]
     },
     "execution_count": 18,
     "metadata": {},
     "output_type": "execute_result"
    }
   ],
   "source": [
    "pd.isnull(normalized_missing_df).sum()"
   ]
  },
  {
   "cell_type": "code",
   "execution_count": 19,
   "metadata": {},
   "outputs": [
    {
     "data": {
      "text/plain": [
       "CaseID                   0\n",
       "Activity             16971\n",
       "CompleteTimestamp    16546\n",
       "CumTimeInterval      16546\n",
       "NormalizedTime       16546\n",
       "dtype: int64"
      ]
     },
     "execution_count": 19,
     "metadata": {},
     "output_type": "execute_result"
    }
   ],
   "source": [
    "pd.isnull(missing_true_val).sum()"
   ]
  },
  {
   "cell_type": "code",
   "execution_count": 20,
   "metadata": {},
   "outputs": [
    {
     "data": {
      "text/plain": [
       "CaseID                   0\n",
       "Activity             14349\n",
       "CompleteTimestamp    14501\n",
       "CumTimeInterval      14501\n",
       "NormalizedTime       14501\n",
       "dtype: int64"
      ]
     },
     "execution_count": 20,
     "metadata": {},
     "output_type": "execute_result"
    }
   ],
   "source": [
    "pd.isnull(missing_true_test).sum()"
   ]
  },
  {
   "cell_type": "markdown",
   "metadata": {},
   "source": [
    "# Build model"
   ]
  },
  {
   "cell_type": "markdown",
   "metadata": {},
   "source": [
    "## Define model"
   ]
  },
  {
   "cell_type": "code",
   "execution_count": 21,
   "metadata": {
    "collapsed": true
   },
   "outputs": [],
   "source": [
    "if args.model_class == 'VAE':\n",
    "    model = VAE(complete_matrix_w_normalized_time_train.shape, args.layer1, args.layer2, args.cuda)\n",
    "\n",
    "if args.cuda:\n",
    "    model.cuda()"
   ]
  },
  {
   "cell_type": "markdown",
   "metadata": {},
   "source": [
    "## Define loss"
   ]
  },
  {
   "cell_type": "code",
   "execution_count": 22,
   "metadata": {
    "collapsed": true
   },
   "outputs": [],
   "source": [
    "# Define loss\n",
    "\n",
    "def loss_function(recon_x, x, mu, logvar, avai_mask): \n",
    "    BCE = F.binary_cross_entropy(recon_x, x, weight=avai_mask, size_average=False)\n",
    "    # see Appendix B from VAE paper:\n",
    "    # Kingma and Welling. Auto-Encoding Variational Bayes. ICLR, 2014\n",
    "    # https://arxiv.org/abs/1312.6114\n",
    "    # 0.5 * sum(1 + log(sigma^2) - mu^2 - sigma^2)\n",
    "    KLD_element = mu.pow(2).add_(logvar.exp()).mul_(-1).add_(1).add_(logvar)\n",
    "    KLD = torch.sum(KLD_element).mul_(-0.5)\n",
    "    \n",
    "    loss = BCE+KLD\n",
    "    return loss"
   ]
  },
  {
   "cell_type": "code",
   "execution_count": 23,
   "metadata": {
    "collapsed": true
   },
   "outputs": [],
   "source": [
    "optimizer = optim.Adam(model.parameters(), lr=args.lr, betas=args.betas)"
   ]
  },
  {
   "cell_type": "code",
   "execution_count": 24,
   "metadata": {
    "collapsed": true
   },
   "outputs": [],
   "source": [
    "#Adjust learning rate per epoch: http://pytorch.org/docs/master/optim.html?highlight=adam#torch.optim.Adam\n",
    "\n",
    "# Method 1:\n",
    "#lambda1 = lambda epoch: args.lr_decay ** epoch\n",
    "#scheduler = torch.optim.lr_scheduler.LambdaLR(optimizer, lr_lambda=[lambda1])\n",
    "\n",
    "# Method 2:\n",
    "scheduler = torch.optim.lr_scheduler.ReduceLROnPlateau(optimizer, 'min', patience=10)"
   ]
  },
  {
   "cell_type": "markdown",
   "metadata": {},
   "source": [
    "## Utils"
   ]
  },
  {
   "cell_type": "code",
   "execution_count": 25,
   "metadata": {
    "collapsed": true
   },
   "outputs": [],
   "source": [
    "def save_model(model, epoch, score):\n",
    "    model_file = os.path.join(args.output_dir, 'model_{}_epoch{}_score{:.4f}.pth'.format(args.model_class, epoch, score))\n",
    "    torch.save(model.state_dict(), model_file)"
   ]
  },
  {
   "cell_type": "code",
   "execution_count": 26,
   "metadata": {
    "collapsed": true
   },
   "outputs": [],
   "source": [
    "def load_model(model, model_name):\n",
    "    model_file = os.path.join(args.output_dir, model_name)\n",
    "    assert os.path.isfile(model_file), 'Error: no model found!'\n",
    "    model_state = torch.load(model_file)\n",
    "    model.load_state_dict(model_state)"
   ]
  },
  {
   "cell_type": "code",
   "execution_count": 27,
   "metadata": {
    "collapsed": true
   },
   "outputs": [],
   "source": [
    "def val(model, missing_matrix_w_normalized_time_val, complete_matrix_w_normalized_time_val, nan_matrix_val):\n",
    "    model.eval()\n",
    "    m_val = missing_matrix_w_normalized_time_val\n",
    "    m_val = Variable(torch.Tensor(m_val).float())\n",
    "    \n",
    "    c_val = complete_matrix_w_normalized_time_val\n",
    "    c_val = Variable(torch.Tensor(c_val).float())\n",
    "    \n",
    "    nan_matrix_val = Variable(torch.Tensor(nan_matrix_val).float())\n",
    "    \n",
    "    if args.cuda:\n",
    "        m_val = m_val.cuda()\n",
    "        c_val = c_val.cuda()\n",
    "        nan_matrix_val = nan_matrix_val.cuda()\n",
    "        \n",
    "    recon_data, mu, logvar = model(m_val)\n",
    "        \n",
    "    loss = loss_function(recon_data, c_val, mu, logvar, nan_matrix_val)\n",
    "    return loss.data[0]/missing_matrix_w_normalized_time_val.shape[0]"
   ]
  },
  {
   "cell_type": "markdown",
   "metadata": {
    "collapsed": true
   },
   "source": [
    "```python\n",
    "def val(model, missing_matrix_w_normalized_time_val, complete_true_val, missing_true_val,\n",
    "       pad_matrix_val, cols_w_normalized_time, val_row_num,\n",
    "       nan_time_index_val, nan_activity_index_val):\n",
    "    model.eval()\n",
    "    m_val = missing_matrix_w_normalized_time_val\n",
    "    m_val = Variable(torch.Tensor(m_val).float())\n",
    "    \n",
    "    if args.cuda:\n",
    "        m_val = m_val.cuda()\n",
    "        \n",
    "    recon_val, mu, logvar = model(m_val)\n",
    "    \n",
    "    recon_df_w_normalized_time = convert2df(recon_val, pad_matrix_val, cols_w_normalized_time, val_row_num)\n",
    "    recon_df_w_time = getDfWithTime(recon_df_w_normalized_time, missing_true_val, min_max_storage)\n",
    "    submission_df = getSubmission(recon_df_w_time, missing_true_val, complete_true_val, first_timestamp)\n",
    "    \n",
    "    #evaluate\n",
    "    mae_time, rmse_time, acc = evaluation(submission_df, nan_time_index_val, nan_activity_index_val)\n",
    "    \n",
    "    \n",
    "    return mae_time/86400+1/acc\n",
    " ```"
   ]
  },
  {
   "cell_type": "code",
   "execution_count": 28,
   "metadata": {},
   "outputs": [
    {
     "data": {
      "text/html": [
       "<div>\n",
       "<style>\n",
       "    .dataframe thead tr:only-child th {\n",
       "        text-align: right;\n",
       "    }\n",
       "\n",
       "    .dataframe thead th {\n",
       "        text-align: left;\n",
       "    }\n",
       "\n",
       "    .dataframe tbody tr th {\n",
       "        vertical-align: top;\n",
       "    }\n",
       "</style>\n",
       "<table border=\"1\" class=\"dataframe\">\n",
       "  <thead>\n",
       "    <tr style=\"text-align: right;\">\n",
       "      <th></th>\n",
       "      <th>CaseID</th>\n",
       "      <th>Activity</th>\n",
       "      <th>CompleteTimestamp</th>\n",
       "      <th>CumTimeInterval</th>\n",
       "      <th>NormalizedTime</th>\n",
       "    </tr>\n",
       "  </thead>\n",
       "  <tbody>\n",
       "    <tr>\n",
       "      <th>0</th>\n",
       "      <td>7853</td>\n",
       "      <td>A_SUBMITTED-COMPLETE</td>\n",
       "      <td>2012-01-05 06:57:15.554</td>\n",
       "      <td>8291911.008</td>\n",
       "      <td>0.000000e+00</td>\n",
       "    </tr>\n",
       "    <tr>\n",
       "      <th>1</th>\n",
       "      <td>7853</td>\n",
       "      <td>A_PARTLYSUBMITTED-COMPLETE</td>\n",
       "      <td>2012-01-05 06:57:15.858</td>\n",
       "      <td>8291911.312</td>\n",
       "      <td>7.524752e-01</td>\n",
       "    </tr>\n",
       "    <tr>\n",
       "      <th>2</th>\n",
       "      <td>7853</td>\n",
       "      <td>NaN</td>\n",
       "      <td>NaN</td>\n",
       "      <td>NaN</td>\n",
       "      <td>NaN</td>\n",
       "    </tr>\n",
       "    <tr>\n",
       "      <th>3</th>\n",
       "      <td>7854</td>\n",
       "      <td>A_SUBMITTED-COMPLETE</td>\n",
       "      <td>2012-01-05 06:59:14.543</td>\n",
       "      <td>8292029.997</td>\n",
       "      <td>0.000000e+00</td>\n",
       "    </tr>\n",
       "    <tr>\n",
       "      <th>4</th>\n",
       "      <td>7854</td>\n",
       "      <td>A_PARTLYSUBMITTED-COMPLETE</td>\n",
       "      <td>2012-01-05 06:59:15.103</td>\n",
       "      <td>8292030.557</td>\n",
       "      <td>5.115728e-07</td>\n",
       "    </tr>\n",
       "  </tbody>\n",
       "</table>\n",
       "</div>"
      ],
      "text/plain": [
       "   CaseID                    Activity        CompleteTimestamp  \\\n",
       "0    7853        A_SUBMITTED-COMPLETE  2012-01-05 06:57:15.554   \n",
       "1    7853  A_PARTLYSUBMITTED-COMPLETE  2012-01-05 06:57:15.858   \n",
       "2    7853                         NaN                      NaN   \n",
       "3    7854        A_SUBMITTED-COMPLETE  2012-01-05 06:59:14.543   \n",
       "4    7854  A_PARTLYSUBMITTED-COMPLETE  2012-01-05 06:59:15.103   \n",
       "\n",
       "   CumTimeInterval  NormalizedTime  \n",
       "0      8291911.008    0.000000e+00  \n",
       "1      8291911.312    7.524752e-01  \n",
       "2              NaN             NaN  \n",
       "3      8292029.997    0.000000e+00  \n",
       "4      8292030.557    5.115728e-07  "
      ]
     },
     "execution_count": 28,
     "metadata": {},
     "output_type": "execute_result"
    }
   ],
   "source": [
    "missing_true_val.head()"
   ]
  },
  {
   "cell_type": "code",
   "execution_count": 29,
   "metadata": {},
   "outputs": [
    {
     "data": {
      "text/html": [
       "<div>\n",
       "<style>\n",
       "    .dataframe thead tr:only-child th {\n",
       "        text-align: right;\n",
       "    }\n",
       "\n",
       "    .dataframe thead th {\n",
       "        text-align: left;\n",
       "    }\n",
       "\n",
       "    .dataframe tbody tr th {\n",
       "        vertical-align: top;\n",
       "    }\n",
       "</style>\n",
       "<table border=\"1\" class=\"dataframe\">\n",
       "  <thead>\n",
       "    <tr style=\"text-align: right;\">\n",
       "      <th></th>\n",
       "      <th>CaseID</th>\n",
       "      <th>Activity</th>\n",
       "      <th>CompleteTimestamp</th>\n",
       "      <th>CumTimeInterval</th>\n",
       "      <th>NormalizedTime</th>\n",
       "    </tr>\n",
       "  </thead>\n",
       "  <tbody>\n",
       "    <tr>\n",
       "      <th>0</th>\n",
       "      <td>7853</td>\n",
       "      <td>A_SUBMITTED-COMPLETE</td>\n",
       "      <td>2012-01-05 06:57:15.554</td>\n",
       "      <td>8291911.008</td>\n",
       "      <td>0.000000e+00</td>\n",
       "    </tr>\n",
       "    <tr>\n",
       "      <th>1</th>\n",
       "      <td>7853</td>\n",
       "      <td>A_PARTLYSUBMITTED-COMPLETE</td>\n",
       "      <td>2012-01-05 06:57:15.858</td>\n",
       "      <td>8291911.312</td>\n",
       "      <td>7.624972e-03</td>\n",
       "    </tr>\n",
       "    <tr>\n",
       "      <th>2</th>\n",
       "      <td>7853</td>\n",
       "      <td>A_DECLINED-COMPLETE</td>\n",
       "      <td>2012-01-05 06:57:55.323</td>\n",
       "      <td>8291950.777</td>\n",
       "      <td>9.974918e-01</td>\n",
       "    </tr>\n",
       "    <tr>\n",
       "      <th>3</th>\n",
       "      <td>7854</td>\n",
       "      <td>A_SUBMITTED-COMPLETE</td>\n",
       "      <td>2012-01-05 06:59:14.543</td>\n",
       "      <td>8292029.997</td>\n",
       "      <td>0.000000e+00</td>\n",
       "    </tr>\n",
       "    <tr>\n",
       "      <th>4</th>\n",
       "      <td>7854</td>\n",
       "      <td>A_PARTLYSUBMITTED-COMPLETE</td>\n",
       "      <td>2012-01-05 06:59:15.103</td>\n",
       "      <td>8292030.557</td>\n",
       "      <td>5.115717e-07</td>\n",
       "    </tr>\n",
       "  </tbody>\n",
       "</table>\n",
       "</div>"
      ],
      "text/plain": [
       "   CaseID                    Activity        CompleteTimestamp  \\\n",
       "0    7853        A_SUBMITTED-COMPLETE  2012-01-05 06:57:15.554   \n",
       "1    7853  A_PARTLYSUBMITTED-COMPLETE  2012-01-05 06:57:15.858   \n",
       "2    7853         A_DECLINED-COMPLETE  2012-01-05 06:57:55.323   \n",
       "3    7854        A_SUBMITTED-COMPLETE  2012-01-05 06:59:14.543   \n",
       "4    7854  A_PARTLYSUBMITTED-COMPLETE  2012-01-05 06:59:15.103   \n",
       "\n",
       "   CumTimeInterval  NormalizedTime  \n",
       "0      8291911.008    0.000000e+00  \n",
       "1      8291911.312    7.624972e-03  \n",
       "2      8291950.777    9.974918e-01  \n",
       "3      8292029.997    0.000000e+00  \n",
       "4      8292030.557    5.115717e-07  "
      ]
     },
     "execution_count": 29,
     "metadata": {},
     "output_type": "execute_result"
    }
   ],
   "source": [
    "complete_true_val.head()"
   ]
  },
  {
   "cell_type": "markdown",
   "metadata": {},
   "source": [
    "# Train model"
   ]
  },
  {
   "cell_type": "code",
   "execution_count": 30,
   "metadata": {
    "collapsed": true
   },
   "outputs": [],
   "source": [
    "def train(epoch, model, optimizer):\n",
    "    model.train()\n",
    "    train_loss = 0\n",
    "    for batch_idx, (m_data, c_data, avai_mask) in enumerate(zip(missing_matrix_w_normalized_time_trainLoader,\n",
    "                                                     complete_matrix_w_normalized_time_trainLoader,\n",
    "                                                     avai_matrix_trainLoader)):\n",
    "        c_data = Variable(c_data.float())\n",
    "        m_data = Variable(m_data.float())\n",
    "        avai_mask = Variable(avai_mask.float())\n",
    "      \n",
    "        #Transform: np --> Tensor/Variable: tensor --> tensor with wrapper\n",
    "        #Wraps a tensor and records the operations applied to it.\n",
    "        #Variable is a thin wrapper around a Tensor object, that also holds the gradient\n",
    "        if args.cuda:\n",
    "            c_data = c_data.cuda()\n",
    "            m_data = m_data.cuda()\n",
    "            avai_mask = avai_mask.cuda()\n",
    "            \n",
    "        optimizer.zero_grad()\n",
    "        \n",
    "        recon_data, mu, logvar = model(m_data)\n",
    "        \n",
    "        loss = loss_function(recon_data, c_data, mu, logvar, avai_mask)\n",
    "        loss.backward()\n",
    "        train_loss += loss.data[0]\n",
    "        optimizer.step()\n",
    "        \n",
    "    return train_loss / len(complete_matrix_w_normalized_time_trainLoader.dataset)"
   ]
  },
  {
   "cell_type": "code",
   "execution_count": 31,
   "metadata": {
    "scrolled": false
   },
   "outputs": [
    {
     "name": "stdout",
     "output_type": "stream",
     "text": [
      "====> Epoch 1 | Train loss: 54.7618 | Val score: 50.2967\n",
      "====> Epoch 2 | Train loss: 44.6378 | Val score: 48.0724\n",
      "====> Epoch 3 | Train loss: 42.3370 | Val score: 46.3080\n",
      "====> Epoch 4 | Train loss: 40.8504 | Val score: 45.4305\n",
      "====> Epoch 5 | Train loss: 39.3807 | Val score: 44.4358\n",
      "====> Epoch 6 | Train loss: 38.0240 | Val score: 44.0508\n",
      "====> Epoch 7 | Train loss: 37.1714 | Val score: 43.3626\n",
      "====> Epoch 8 | Train loss: 36.1637 | Val score: 42.9756\n",
      "====> Epoch 9 | Train loss: 35.4601 | Val score: 42.5446\n",
      "====> Epoch 10 | Train loss: 34.7912 | Val score: 42.1732\n",
      "====> Epoch 11 | Train loss: 34.4574 | Val score: 41.9322\n",
      "====> Epoch 12 | Train loss: 34.0657 | Val score: 41.9598\n",
      "====> Epoch 13 | Train loss: 33.5275 | Val score: 41.4928\n",
      "====> Epoch 14 | Train loss: 33.2924 | Val score: 41.6474\n",
      "====> Epoch 15 | Train loss: 33.0603 | Val score: 41.3309\n",
      "====> Epoch 16 | Train loss: 32.7704 | Val score: 41.2157\n",
      "====> Epoch 17 | Train loss: 32.5451 | Val score: 41.5579\n",
      "====> Epoch 18 | Train loss: 32.1529 | Val score: 41.5465\n",
      "====> Epoch 19 | Train loss: 32.0237 | Val score: 41.8888\n",
      "====> Epoch 20 | Train loss: 31.8339 | Val score: 41.8762\n",
      "====> Epoch 21 | Train loss: 31.4506 | Val score: 41.5869\n",
      "====> Epoch 22 | Train loss: 31.5460 | Val score: 42.1129\n",
      "====> Epoch 23 | Train loss: 31.4667 | Val score: 41.7865\n",
      "====> Epoch 24 | Train loss: 31.1896 | Val score: 42.4839\n",
      "====> Epoch 25 | Train loss: 31.1414 | Val score: 42.2751\n",
      "====> Epoch 26 | Train loss: 31.0408 | Val score: 42.1177\n",
      "====> Epoch 27 | Train loss: 30.7194 | Val score: 42.4287\n",
      "====> Epoch 28 | Train loss: 29.6470 | Val score: 41.0798\n",
      "====> Epoch 29 | Train loss: 28.8865 | Val score: 40.5951\n",
      "====> Epoch 30 | Train loss: 28.1751 | Val score: 40.5714\n",
      "====> Epoch 31 | Train loss: 27.9821 | Val score: 40.2518\n",
      "====> Epoch 32 | Train loss: 27.6802 | Val score: 40.1980\n",
      "====> Epoch 33 | Train loss: 27.4356 | Val score: 40.0171\n",
      "====> Epoch 34 | Train loss: 27.2498 | Val score: 39.8160\n",
      "====> Epoch 35 | Train loss: 27.1016 | Val score: 39.4964\n",
      "====> Epoch 36 | Train loss: 27.0148 | Val score: 40.1189\n",
      "====> Epoch 37 | Train loss: 26.9681 | Val score: 39.7908\n",
      "====> Epoch 38 | Train loss: 26.8821 | Val score: 39.8247\n",
      "====> Epoch 39 | Train loss: 26.6947 | Val score: 39.6432\n",
      "====> Epoch 40 | Train loss: 26.4702 | Val score: 39.8181\n",
      "====> Epoch 41 | Train loss: 26.4157 | Val score: 39.9692\n",
      "====> Epoch 42 | Train loss: 26.4646 | Val score: 39.6708\n",
      "====> Epoch 43 | Train loss: 26.4652 | Val score: 39.3579\n",
      "====> Epoch 44 | Train loss: 26.2297 | Val score: 39.7018\n",
      "====> Epoch 45 | Train loss: 26.1555 | Val score: 39.7846\n",
      "====> Epoch 46 | Train loss: 26.2838 | Val score: 39.4483\n",
      "====> Epoch 47 | Train loss: 26.1347 | Val score: 39.5287\n",
      "====> Epoch 48 | Train loss: 26.0045 | Val score: 39.4854\n",
      "====> Epoch 49 | Train loss: 26.0103 | Val score: 39.3116\n",
      "====> Epoch 50 | Train loss: 25.8972 | Val score: 39.6449\n",
      "====> Epoch 51 | Train loss: 26.0056 | Val score: 40.0362\n",
      "====> Epoch 52 | Train loss: 25.8529 | Val score: 39.5948\n",
      "====> Epoch 53 | Train loss: 25.7272 | Val score: 39.5485\n",
      "====> Epoch 54 | Train loss: 25.6900 | Val score: 39.6383\n",
      "====> Epoch 55 | Train loss: 25.7103 | Val score: 39.9103\n",
      "====> Epoch 56 | Train loss: 25.6399 | Val score: 39.8126\n",
      "====> Epoch 57 | Train loss: 25.5359 | Val score: 39.8580\n",
      "====> Epoch 58 | Train loss: 25.6456 | Val score: 39.5452\n",
      "====> Epoch 59 | Train loss: 25.5155 | Val score: 39.9111\n",
      "====> Epoch 60 | Train loss: 25.5233 | Val score: 39.3993\n",
      "====> Epoch 61 | Train loss: 25.4750 | Val score: 39.6295\n",
      "====> Epoch 62 | Train loss: 25.3028 | Val score: 39.5651\n",
      "====> Epoch 63 | Train loss: 25.2308 | Val score: 39.4746\n",
      "====> Epoch 64 | Train loss: 25.3057 | Val score: 39.6778\n",
      "====> Epoch 65 | Train loss: 25.3550 | Val score: 39.8602\n",
      "====> Epoch 66 | Train loss: 25.2849 | Val score: 39.3767\n",
      "====> Epoch 67 | Train loss: 25.2204 | Val score: 39.6812\n",
      "====> Epoch 68 | Train loss: 25.2289 | Val score: 39.6015\n",
      "====> Epoch 69 | Train loss: 25.3159 | Val score: 39.6016\n",
      "====> Epoch 70 | Train loss: 25.1997 | Val score: 39.5331\n"
     ]
    }
   ],
   "source": [
    "if args.train:\n",
    "    for epoch in range(1, args.epochs + 1):\n",
    "        #scheduler.step()\n",
    "        train_loss = train(epoch, model, optimizer)\n",
    "        #val_score = val(model, missing_matrix_w_normalized_time_val, complete_true_val, missing_true_val,\n",
    "        #                    pad_matrix_val, cols_w_normalized_time, val_row_num, \n",
    "        #                    nan_time_index_val, nan_activity_index_val)\n",
    "        val_score = val(model, missing_matrix_w_normalized_time_val, complete_matrix_w_normalized_time_val, avai_matrix_val)\n",
    "        \n",
    "        if epoch == 1:\n",
    "            current_best = val_score\n",
    "            save_model(model, epoch, val_score)\n",
    "        \n",
    "        else:\n",
    "            if val_score < current_best:\n",
    "                current_best = val_score\n",
    "                save_model(model, epoch, val_score)\n",
    "                \n",
    "        scheduler.step(val_score)        \n",
    "        print('====> Epoch {} | Train loss: {:.4f} | Val score: {:.4f}'.format(\n",
    "                          epoch, train_loss, val_score))\n",
    "else:\n",
    "    load_model(model, args.model_name)"
   ]
  },
  {
   "cell_type": "markdown",
   "metadata": {
    "collapsed": true
   },
   "source": [
    "# Predict and evaluate"
   ]
  },
  {
   "cell_type": "code",
   "execution_count": 32,
   "metadata": {},
   "outputs": [
    {
     "name": "stdout",
     "output_type": "stream",
     "text": [
      "Predicting...\n",
      "\n",
      "\n",
      "Converting to dataframe...\n",
      "Transforming Normalized Time to Time...\n",
      "Getting submission...\n"
     ]
    },
    {
     "name": "stderr",
     "output_type": "stream",
     "text": [
      "/home/pllab/miniconda2/envs/pydata/lib/python3.5/site-packages/pandas/core/indexing.py:517: SettingWithCopyWarning: \n",
      "A value is trying to be set on a copy of a slice from a DataFrame.\n",
      "Try using .loc[row_indexer,col_indexer] = value instead\n",
      "\n",
      "See the caveats in the documentation: http://pandas.pydata.org/pandas-docs/stable/indexing.html#indexing-view-versus-copy\n",
      "  self.obj[item] = s\n"
     ]
    },
    {
     "name": "stdout",
     "output_type": "stream",
     "text": [
      "Testing...\n",
      "Number of missing Time: 14501\n",
      "Mean Absolute Error: 0.9803 day(s)\n",
      "Root Mean Squared Error: 2.1182 day(s)\n",
      "Number of missing Activity: 14349\n",
      "Accuracy: 69.05%\n",
      "\n",
      "\n",
      "Saving submission...\n",
      "Done!\n"
     ]
    }
   ],
   "source": [
    "if args.test:\n",
    "    m_test = missing_matrix_w_normalized_time_test\n",
    "    m_test = Variable(torch.Tensor(m_test).float())\n",
    "    \n",
    "    if args.cuda:\n",
    "        m_test = m_test.cuda()\n",
    "    \n",
    "    print('Predicting...')\n",
    "    recon_test, mu, logvar = model(m_test)\n",
    "    \n",
    "    print('\\n')\n",
    "    print('Converting to dataframe...')\n",
    "    recon_df_w_normalized_time = convert2df(recon_test, pad_matrix_test, cols_w_normalized_time, test_row_num)\n",
    "    \n",
    "    print('Transforming Normalized Time to Time...')\n",
    "    recon_df_w_time = getDfWithTime(recon_df_w_normalized_time, missing_true_test, min_max_storage)\n",
    "    \n",
    "    print('Getting submission...')\n",
    "    submission_df = getSubmission(recon_df_w_time, missing_true_test, complete_true_test, first_timestamp)\n",
    "    submission = fixTime(submission_df)\n",
    "        \n",
    "    print('Testing...')\n",
    "    mae_time, rmse_time, acc = evaluation(submission, nan_time_index_test, nan_activity_index_test,show=True)\n",
    "    \n",
    "    print('\\n')\n",
    "    print('Saving submission...')\n",
    "    submission_df.to_csv(args.output_dir+'submission.csv', index=False)\n",
    "    print('Done!')"
   ]
  },
  {
   "cell_type": "code",
   "execution_count": 33,
   "metadata": {},
   "outputs": [
    {
     "data": {
      "text/html": [
       "<div>\n",
       "<style>\n",
       "    .dataframe thead tr:only-child th {\n",
       "        text-align: right;\n",
       "    }\n",
       "\n",
       "    .dataframe thead th {\n",
       "        text-align: left;\n",
       "    }\n",
       "\n",
       "    .dataframe tbody tr th {\n",
       "        vertical-align: top;\n",
       "    }\n",
       "</style>\n",
       "<table border=\"1\" class=\"dataframe\">\n",
       "  <thead>\n",
       "    <tr style=\"text-align: right;\">\n",
       "      <th></th>\n",
       "      <th>CaseID</th>\n",
       "      <th>TrueActivity</th>\n",
       "      <th>PredictedActivity</th>\n",
       "      <th>TrueTime</th>\n",
       "      <th>PredictedTime</th>\n",
       "      <th>TrueCompleteTimestamp</th>\n",
       "      <th>PredictedCompleteTimestamp</th>\n",
       "    </tr>\n",
       "  </thead>\n",
       "  <tbody>\n",
       "    <tr>\n",
       "      <th>0</th>\n",
       "      <td>10470</td>\n",
       "      <td>A_SUBMITTED-COMPLETE</td>\n",
       "      <td>A_SUBMITTED-COMPLETE</td>\n",
       "      <td>1.086351e+07</td>\n",
       "      <td>1.086351e+07</td>\n",
       "      <td>2012-02-04 01:17:11.047</td>\n",
       "      <td>2012-02-04 01:17:11.047</td>\n",
       "    </tr>\n",
       "    <tr>\n",
       "      <th>1</th>\n",
       "      <td>10470</td>\n",
       "      <td>A_PARTLYSUBMITTED-COMPLETE</td>\n",
       "      <td>A_PARTLYSUBMITTED-COMPLETE</td>\n",
       "      <td>1.086351e+07</td>\n",
       "      <td>1.086351e+07</td>\n",
       "      <td>2012-02-04 01:17:11.323</td>\n",
       "      <td>2012-02-04 01:17:11.097427</td>\n",
       "    </tr>\n",
       "    <tr>\n",
       "      <th>2</th>\n",
       "      <td>10470</td>\n",
       "      <td>A_DECLINED-COMPLETE</td>\n",
       "      <td>A_DECLINED-COMPLETE</td>\n",
       "      <td>1.086354e+07</td>\n",
       "      <td>1.086354e+07</td>\n",
       "      <td>2012-02-04 01:17:42.964</td>\n",
       "      <td>2012-02-04 01:17:42.964</td>\n",
       "    </tr>\n",
       "    <tr>\n",
       "      <th>3</th>\n",
       "      <td>10471</td>\n",
       "      <td>A_SUBMITTED-COMPLETE</td>\n",
       "      <td>A_SUBMITTED-COMPLETE</td>\n",
       "      <td>1.086390e+07</td>\n",
       "      <td>1.086390e+07</td>\n",
       "      <td>2012-02-04 01:23:41.949</td>\n",
       "      <td>2012-02-04 01:23:41.949</td>\n",
       "    </tr>\n",
       "    <tr>\n",
       "      <th>4</th>\n",
       "      <td>10471</td>\n",
       "      <td>A_PARTLYSUBMITTED-COMPLETE</td>\n",
       "      <td>A_PARTLYSUBMITTED-COMPLETE</td>\n",
       "      <td>1.086390e+07</td>\n",
       "      <td>1.086390e+07</td>\n",
       "      <td>2012-02-04 01:23:42.504</td>\n",
       "      <td>2012-02-04 01:23:42.504</td>\n",
       "    </tr>\n",
       "    <tr>\n",
       "      <th>5</th>\n",
       "      <td>10471</td>\n",
       "      <td>A_PREACCEPTED-COMPLETE</td>\n",
       "      <td>A_PREACCEPTED-COMPLETE</td>\n",
       "      <td>1.086394e+07</td>\n",
       "      <td>1.086394e+07</td>\n",
       "      <td>2012-02-04 01:24:23.379</td>\n",
       "      <td>2012-02-04 01:24:23.379</td>\n",
       "    </tr>\n",
       "    <tr>\n",
       "      <th>6</th>\n",
       "      <td>10471</td>\n",
       "      <td>W_Completeren aanvraag-SCHEDULE</td>\n",
       "      <td>W_Completeren aanvraag-SCHEDULE</td>\n",
       "      <td>1.086394e+07</td>\n",
       "      <td>1.086394e+07</td>\n",
       "      <td>2012-02-04 01:24:24.052</td>\n",
       "      <td>2012-02-04 01:24:24.052</td>\n",
       "    </tr>\n",
       "    <tr>\n",
       "      <th>7</th>\n",
       "      <td>10471</td>\n",
       "      <td>W_Completeren aanvraag-START</td>\n",
       "      <td>W_Completeren aanvraag-START</td>\n",
       "      <td>1.087644e+07</td>\n",
       "      <td>1.087644e+07</td>\n",
       "      <td>2012-02-04 04:52:43.090</td>\n",
       "      <td>2012-02-04 04:52:43.090</td>\n",
       "    </tr>\n",
       "    <tr>\n",
       "      <th>8</th>\n",
       "      <td>10471</td>\n",
       "      <td>W_Completeren aanvraag-COMPLETE</td>\n",
       "      <td>W_Completeren aanvraag-COMPLETE</td>\n",
       "      <td>1.087696e+07</td>\n",
       "      <td>1.087696e+07</td>\n",
       "      <td>2012-02-04 05:01:19.935</td>\n",
       "      <td>2012-02-04 05:01:19.935</td>\n",
       "    </tr>\n",
       "    <tr>\n",
       "      <th>9</th>\n",
       "      <td>10471</td>\n",
       "      <td>W_Completeren aanvraag-START</td>\n",
       "      <td>W_Completeren aanvraag-START</td>\n",
       "      <td>1.087697e+07</td>\n",
       "      <td>1.087697e+07</td>\n",
       "      <td>2012-02-04 05:01:31.267</td>\n",
       "      <td>2012-02-04 05:01:31.267</td>\n",
       "    </tr>\n",
       "  </tbody>\n",
       "</table>\n",
       "</div>"
      ],
      "text/plain": [
       "   CaseID                     TrueActivity                PredictedActivity  \\\n",
       "0   10470             A_SUBMITTED-COMPLETE             A_SUBMITTED-COMPLETE   \n",
       "1   10470       A_PARTLYSUBMITTED-COMPLETE       A_PARTLYSUBMITTED-COMPLETE   \n",
       "2   10470              A_DECLINED-COMPLETE              A_DECLINED-COMPLETE   \n",
       "3   10471             A_SUBMITTED-COMPLETE             A_SUBMITTED-COMPLETE   \n",
       "4   10471       A_PARTLYSUBMITTED-COMPLETE       A_PARTLYSUBMITTED-COMPLETE   \n",
       "5   10471           A_PREACCEPTED-COMPLETE           A_PREACCEPTED-COMPLETE   \n",
       "6   10471  W_Completeren aanvraag-SCHEDULE  W_Completeren aanvraag-SCHEDULE   \n",
       "7   10471     W_Completeren aanvraag-START     W_Completeren aanvraag-START   \n",
       "8   10471  W_Completeren aanvraag-COMPLETE  W_Completeren aanvraag-COMPLETE   \n",
       "9   10471     W_Completeren aanvraag-START     W_Completeren aanvraag-START   \n",
       "\n",
       "       TrueTime  PredictedTime    TrueCompleteTimestamp  \\\n",
       "0  1.086351e+07   1.086351e+07  2012-02-04 01:17:11.047   \n",
       "1  1.086351e+07   1.086351e+07  2012-02-04 01:17:11.323   \n",
       "2  1.086354e+07   1.086354e+07  2012-02-04 01:17:42.964   \n",
       "3  1.086390e+07   1.086390e+07  2012-02-04 01:23:41.949   \n",
       "4  1.086390e+07   1.086390e+07  2012-02-04 01:23:42.504   \n",
       "5  1.086394e+07   1.086394e+07  2012-02-04 01:24:23.379   \n",
       "6  1.086394e+07   1.086394e+07  2012-02-04 01:24:24.052   \n",
       "7  1.087644e+07   1.087644e+07  2012-02-04 04:52:43.090   \n",
       "8  1.087696e+07   1.087696e+07  2012-02-04 05:01:19.935   \n",
       "9  1.087697e+07   1.087697e+07  2012-02-04 05:01:31.267   \n",
       "\n",
       "   PredictedCompleteTimestamp  \n",
       "0     2012-02-04 01:17:11.047  \n",
       "1  2012-02-04 01:17:11.097427  \n",
       "2     2012-02-04 01:17:42.964  \n",
       "3     2012-02-04 01:23:41.949  \n",
       "4     2012-02-04 01:23:42.504  \n",
       "5     2012-02-04 01:24:23.379  \n",
       "6     2012-02-04 01:24:24.052  \n",
       "7     2012-02-04 04:52:43.090  \n",
       "8     2012-02-04 05:01:19.935  \n",
       "9     2012-02-04 05:01:31.267  "
      ]
     },
     "execution_count": 33,
     "metadata": {},
     "output_type": "execute_result"
    }
   ],
   "source": [
    "submission_df.head(10)"
   ]
  },
  {
   "cell_type": "code",
   "execution_count": 34,
   "metadata": {},
   "outputs": [
    {
     "data": {
      "text/html": [
       "<div>\n",
       "<style>\n",
       "    .dataframe thead tr:only-child th {\n",
       "        text-align: right;\n",
       "    }\n",
       "\n",
       "    .dataframe thead th {\n",
       "        text-align: left;\n",
       "    }\n",
       "\n",
       "    .dataframe tbody tr th {\n",
       "        vertical-align: top;\n",
       "    }\n",
       "</style>\n",
       "<table border=\"1\" class=\"dataframe\">\n",
       "  <thead>\n",
       "    <tr style=\"text-align: right;\">\n",
       "      <th></th>\n",
       "      <th>CaseID</th>\n",
       "      <th>TrueActivity</th>\n",
       "      <th>PredictedActivity</th>\n",
       "      <th>TrueTime</th>\n",
       "      <th>PredictedTime</th>\n",
       "      <th>TrueCompleteTimestamp</th>\n",
       "      <th>PredictedCompleteTimestamp</th>\n",
       "    </tr>\n",
       "  </thead>\n",
       "  <tbody>\n",
       "    <tr>\n",
       "      <th>0</th>\n",
       "      <td>10470</td>\n",
       "      <td>A_SUBMITTED-COMPLETE</td>\n",
       "      <td>A_SUBMITTED-COMPLETE</td>\n",
       "      <td>1.086351e+07</td>\n",
       "      <td>1.086351e+07</td>\n",
       "      <td>2012-02-04 01:17:11.047</td>\n",
       "      <td>2012-02-04 01:17:11.047</td>\n",
       "    </tr>\n",
       "    <tr>\n",
       "      <th>1</th>\n",
       "      <td>10470</td>\n",
       "      <td>A_PARTLYSUBMITTED-COMPLETE</td>\n",
       "      <td>A_PARTLYSUBMITTED-COMPLETE</td>\n",
       "      <td>1.086351e+07</td>\n",
       "      <td>1.086351e+07</td>\n",
       "      <td>2012-02-04 01:17:11.323</td>\n",
       "      <td>2012-02-04 01:17:11.097427</td>\n",
       "    </tr>\n",
       "    <tr>\n",
       "      <th>2</th>\n",
       "      <td>10470</td>\n",
       "      <td>A_DECLINED-COMPLETE</td>\n",
       "      <td>A_DECLINED-COMPLETE</td>\n",
       "      <td>1.086354e+07</td>\n",
       "      <td>1.086354e+07</td>\n",
       "      <td>2012-02-04 01:17:42.964</td>\n",
       "      <td>2012-02-04 01:17:42.964</td>\n",
       "    </tr>\n",
       "    <tr>\n",
       "      <th>3</th>\n",
       "      <td>10471</td>\n",
       "      <td>A_SUBMITTED-COMPLETE</td>\n",
       "      <td>A_SUBMITTED-COMPLETE</td>\n",
       "      <td>1.086390e+07</td>\n",
       "      <td>1.086390e+07</td>\n",
       "      <td>2012-02-04 01:23:41.949</td>\n",
       "      <td>2012-02-04 01:23:41.949</td>\n",
       "    </tr>\n",
       "    <tr>\n",
       "      <th>4</th>\n",
       "      <td>10471</td>\n",
       "      <td>A_PARTLYSUBMITTED-COMPLETE</td>\n",
       "      <td>A_PARTLYSUBMITTED-COMPLETE</td>\n",
       "      <td>1.086390e+07</td>\n",
       "      <td>1.086390e+07</td>\n",
       "      <td>2012-02-04 01:23:42.504</td>\n",
       "      <td>2012-02-04 01:23:42.504</td>\n",
       "    </tr>\n",
       "    <tr>\n",
       "      <th>5</th>\n",
       "      <td>10471</td>\n",
       "      <td>A_PREACCEPTED-COMPLETE</td>\n",
       "      <td>A_PREACCEPTED-COMPLETE</td>\n",
       "      <td>1.086394e+07</td>\n",
       "      <td>1.086394e+07</td>\n",
       "      <td>2012-02-04 01:24:23.379</td>\n",
       "      <td>2012-02-04 01:24:23.379</td>\n",
       "    </tr>\n",
       "    <tr>\n",
       "      <th>6</th>\n",
       "      <td>10471</td>\n",
       "      <td>W_Completeren aanvraag-SCHEDULE</td>\n",
       "      <td>W_Completeren aanvraag-SCHEDULE</td>\n",
       "      <td>1.086394e+07</td>\n",
       "      <td>1.086394e+07</td>\n",
       "      <td>2012-02-04 01:24:24.052</td>\n",
       "      <td>2012-02-04 01:24:24.052</td>\n",
       "    </tr>\n",
       "    <tr>\n",
       "      <th>7</th>\n",
       "      <td>10471</td>\n",
       "      <td>W_Completeren aanvraag-START</td>\n",
       "      <td>W_Completeren aanvraag-START</td>\n",
       "      <td>1.087644e+07</td>\n",
       "      <td>1.087644e+07</td>\n",
       "      <td>2012-02-04 04:52:43.090</td>\n",
       "      <td>2012-02-04 04:52:43.090</td>\n",
       "    </tr>\n",
       "    <tr>\n",
       "      <th>8</th>\n",
       "      <td>10471</td>\n",
       "      <td>W_Completeren aanvraag-COMPLETE</td>\n",
       "      <td>W_Completeren aanvraag-COMPLETE</td>\n",
       "      <td>1.087696e+07</td>\n",
       "      <td>1.087696e+07</td>\n",
       "      <td>2012-02-04 05:01:19.935</td>\n",
       "      <td>2012-02-04 05:01:19.935</td>\n",
       "    </tr>\n",
       "    <tr>\n",
       "      <th>9</th>\n",
       "      <td>10471</td>\n",
       "      <td>W_Completeren aanvraag-START</td>\n",
       "      <td>W_Completeren aanvraag-START</td>\n",
       "      <td>1.087697e+07</td>\n",
       "      <td>1.087697e+07</td>\n",
       "      <td>2012-02-04 05:01:31.267</td>\n",
       "      <td>2012-02-04 05:01:31.267</td>\n",
       "    </tr>\n",
       "  </tbody>\n",
       "</table>\n",
       "</div>"
      ],
      "text/plain": [
       "  CaseID                     TrueActivity                PredictedActivity  \\\n",
       "0  10470             A_SUBMITTED-COMPLETE             A_SUBMITTED-COMPLETE   \n",
       "1  10470       A_PARTLYSUBMITTED-COMPLETE       A_PARTLYSUBMITTED-COMPLETE   \n",
       "2  10470              A_DECLINED-COMPLETE              A_DECLINED-COMPLETE   \n",
       "3  10471             A_SUBMITTED-COMPLETE             A_SUBMITTED-COMPLETE   \n",
       "4  10471       A_PARTLYSUBMITTED-COMPLETE       A_PARTLYSUBMITTED-COMPLETE   \n",
       "5  10471           A_PREACCEPTED-COMPLETE           A_PREACCEPTED-COMPLETE   \n",
       "6  10471  W_Completeren aanvraag-SCHEDULE  W_Completeren aanvraag-SCHEDULE   \n",
       "7  10471     W_Completeren aanvraag-START     W_Completeren aanvraag-START   \n",
       "8  10471  W_Completeren aanvraag-COMPLETE  W_Completeren aanvraag-COMPLETE   \n",
       "9  10471     W_Completeren aanvraag-START     W_Completeren aanvraag-START   \n",
       "\n",
       "       TrueTime  PredictedTime    TrueCompleteTimestamp  \\\n",
       "0  1.086351e+07   1.086351e+07  2012-02-04 01:17:11.047   \n",
       "1  1.086351e+07   1.086351e+07  2012-02-04 01:17:11.323   \n",
       "2  1.086354e+07   1.086354e+07  2012-02-04 01:17:42.964   \n",
       "3  1.086390e+07   1.086390e+07  2012-02-04 01:23:41.949   \n",
       "4  1.086390e+07   1.086390e+07  2012-02-04 01:23:42.504   \n",
       "5  1.086394e+07   1.086394e+07  2012-02-04 01:24:23.379   \n",
       "6  1.086394e+07   1.086394e+07  2012-02-04 01:24:24.052   \n",
       "7  1.087644e+07   1.087644e+07  2012-02-04 04:52:43.090   \n",
       "8  1.087696e+07   1.087696e+07  2012-02-04 05:01:19.935   \n",
       "9  1.087697e+07   1.087697e+07  2012-02-04 05:01:31.267   \n",
       "\n",
       "   PredictedCompleteTimestamp  \n",
       "0     2012-02-04 01:17:11.047  \n",
       "1  2012-02-04 01:17:11.097427  \n",
       "2     2012-02-04 01:17:42.964  \n",
       "3     2012-02-04 01:23:41.949  \n",
       "4     2012-02-04 01:23:42.504  \n",
       "5     2012-02-04 01:24:23.379  \n",
       "6     2012-02-04 01:24:24.052  \n",
       "7     2012-02-04 04:52:43.090  \n",
       "8     2012-02-04 05:01:19.935  \n",
       "9     2012-02-04 05:01:31.267  "
      ]
     },
     "execution_count": 34,
     "metadata": {},
     "output_type": "execute_result"
    }
   ],
   "source": [
    "submission.head(10)"
   ]
  },
  {
   "cell_type": "code",
   "execution_count": 35,
   "metadata": {
    "collapsed": true
   },
   "outputs": [],
   "source": [
    "#bpi2013\n",
    "\n",
    "#30%\n",
    "#8.1\n",
    "#75%\n",
    "\n",
    "#40%\n",
    "#9.7\n",
    "#70%\n",
    "\n",
    "#50%\n",
    "#10.7\n",
    "#69%"
   ]
  },
  {
   "cell_type": "code",
   "execution_count": 36,
   "metadata": {
    "collapsed": true
   },
   "outputs": [],
   "source": [
    "#bpi2012\n",
    "#0.59\n",
    "#75%"
   ]
  },
  {
   "cell_type": "code",
   "execution_count": 37,
   "metadata": {
    "collapsed": true
   },
   "outputs": [],
   "source": [
    "#helpdesk\n",
    "#3.9\n",
    "#85"
   ]
  },
  {
   "cell_type": "code",
   "execution_count": null,
   "metadata": {
    "collapsed": true
   },
   "outputs": [],
   "source": []
  }
 ],
 "metadata": {
  "kernelspec": {
   "display_name": "Python 3",
   "language": "python",
   "name": "python3"
  },
  "language_info": {
   "codemirror_mode": {
    "name": "ipython",
    "version": 3
   },
   "file_extension": ".py",
   "mimetype": "text/x-python",
   "name": "python",
   "nbconvert_exporter": "python",
   "pygments_lexer": "ipython3",
   "version": "3.5.4"
  },
  "toc": {
   "colors": {
    "hover_highlight": "#DAA520",
    "running_highlight": "#FF0000",
    "selected_highlight": "#FFD700"
   },
   "moveMenuLeft": true,
   "nav_menu": {
    "height": "48px",
    "width": "252px"
   },
   "navigate_menu": true,
   "number_sections": true,
   "sideBar": true,
   "threshold": 4,
   "toc_cell": false,
   "toc_section_display": "block",
   "toc_window_display": false
  }
 },
 "nbformat": 4,
 "nbformat_minor": 2
}
