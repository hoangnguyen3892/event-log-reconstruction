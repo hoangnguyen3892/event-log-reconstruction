{
 "cells": [
  {
   "cell_type": "markdown",
   "metadata": {},
   "source": [
    "**Outline:**\n",
    "- Build model and loss function\n",
    "- Train model\n",
    "- Observe valdidate\n",
    "- Test"
   ]
  },
  {
   "cell_type": "markdown",
   "metadata": {},
   "source": [
    "**To do:**\n",
    "- Hyperparameter tuning\n",
    "    + lr\n",
    "    + layer1, layer2\n",
    "    + betas"
   ]
  },
  {
   "cell_type": "markdown",
   "metadata": {},
   "source": [
    "**Modification**\n",
    "- Weight initialization with xavier uniform\n",
    "- Adam optimization\n",
    "- LR decay"
   ]
  },
  {
   "cell_type": "markdown",
   "metadata": {},
   "source": [
    "**To do:**\n",
    "- Add dropout\n",
    "- Implement another loss function"
   ]
  },
  {
   "cell_type": "code",
   "execution_count": 1,
   "metadata": {
    "collapsed": true
   },
   "outputs": [],
   "source": [
    "import importlib\n",
    "import argparse\n",
    "import os, sys\n",
    "import argparse\n",
    "import pandas as pd\n",
    "import numpy as np\n",
    "import pickle\n",
    "import time"
   ]
  },
  {
   "cell_type": "code",
   "execution_count": 2,
   "metadata": {
    "collapsed": true
   },
   "outputs": [],
   "source": [
    "import torch\n",
    "import torch.utils.data\n",
    "import torch.nn.functional as F\n",
    "import torch.nn as nn\n",
    "import torch.optim as optim\n",
    "import torch.optim.lr_scheduler\n",
    "from torch.autograd import Variable\n",
    "from torchvision import transforms"
   ]
  },
  {
   "cell_type": "code",
   "execution_count": 3,
   "metadata": {
    "collapsed": true
   },
   "outputs": [],
   "source": [
    "sys.path.insert(0, './../utils/')\n",
    "from utils import *\n",
    "from models import *"
   ]
  },
  {
   "cell_type": "code",
   "execution_count": 4,
   "metadata": {
    "collapsed": true
   },
   "outputs": [],
   "source": [
    "#Define parser\n",
    "#name = 'bpi_2012'\n",
    "name = 'bpi_2013'\n",
    "#name = 'Road_Traffic_Fine_Management_Process' \n",
    "\n",
    "parser = {\n",
    "    'train': True,\n",
    "    'test': True,\n",
    "    'model_class': 'LSTMAE',\n",
    "    'model_name': ' ',\n",
    "    'data_dir': '../data/',\n",
    "    'data_file': name + '.csv',\n",
    "    'nan_pct': 0.5,\n",
    "    'input_dir': '../input/{}/'.format(name), \n",
    "    'batch_size' : 16,\n",
    "    'epochs' : 50,\n",
    "    'no_cuda' : False,\n",
    "    'seed' : 7,\n",
    "    'layer1': 1000,\n",
    "    'layer2': 100,\n",
    "    'early_stopping': 30,\n",
    "    'lr': 0.005,\n",
    "    'betas': (0.9, 0.99),   \n",
    "    'lr_decay': 0.99,\n",
    "}\n",
    "\n",
    "args = argparse.Namespace(**parser)\n",
    "args.output_dir = './output/{0}_{1}/'.format(name, args.model_class)"
   ]
  },
  {
   "cell_type": "code",
   "execution_count": 5,
   "metadata": {
    "collapsed": true
   },
   "outputs": [],
   "source": [
    "if not os.path.isdir(args.output_dir):\n",
    "    os.makedirs(args.output_dir)"
   ]
  },
  {
   "cell_type": "code",
   "execution_count": 6,
   "metadata": {
    "collapsed": true
   },
   "outputs": [],
   "source": [
    "args.cuda = not args.no_cuda and torch.cuda.is_available()"
   ]
  },
  {
   "cell_type": "code",
   "execution_count": 7,
   "metadata": {
    "collapsed": true
   },
   "outputs": [],
   "source": [
    "torch.manual_seed(args.seed)\n",
    "if args.cuda:\n",
    "    torch.cuda.manual_seed(args.seed)"
   ]
  },
  {
   "cell_type": "code",
   "execution_count": 8,
   "metadata": {
    "collapsed": true
   },
   "outputs": [],
   "source": [
    "kwargs = {'num_workers': 2, 'pin_memory': True} if args.cuda else {}"
   ]
  },
  {
   "cell_type": "code",
   "execution_count": 9,
   "metadata": {
    "collapsed": true
   },
   "outputs": [],
   "source": [
    "preprocessed_data_name = os.path.join(args.input_dir, 'preprocessed_data_{}.pkl'.format(args.nan_pct))\n",
    "with open(preprocessed_data_name, 'rb') as f:\n",
    "    min_max_storage = pickle.load(f)\n",
    "    complete_matrix_w_normalized_time_train = pickle.load(f)\n",
    "    missing_matrix_w_normalized_time_train = pickle.load(f)\n",
    "    avai_matrix_train = pickle.load(f)\n",
    "    nan_matrix_train = pickle.load(f)\n",
    "    complete_matrix_w_normalized_time_val = pickle.load(f)\n",
    "    missing_matrix_w_normalized_time_val = pickle.load(f)\n",
    "    avai_matrix_val = pickle.load(f)\n",
    "    nan_matrix_val = pickle.load(f)\n",
    "    pad_matrix_val = pickle.load(f)\n",
    "    complete_matrix_w_normalized_time_test = pickle.load(f)\n",
    "    missing_matrix_w_normalized_time_test = pickle.load(f)\n",
    "    avai_matrix_test = pickle.load(f)\n",
    "    nan_matrix_test = pickle.load(f)\n",
    "    pad_matrix_test = pickle.load(f)\n",
    "    cols_w_time = pickle.load(f)\n",
    "    cols_w_normalized_time = pickle.load(f)"
   ]
  },
  {
   "cell_type": "code",
   "execution_count": 10,
   "metadata": {
    "collapsed": true
   },
   "outputs": [],
   "source": [
    "file_name = os.path.join(args.input_dir, 'parameters_{}.pkl'.format(args.nan_pct))\n",
    "with open(file_name, 'rb') as f:\n",
    "    most_frequent_activity = pickle.load(f)\n",
    "    first_timestamp = pickle.load(f)\n",
    "    avai_instance = pickle.load(f)\n",
    "    nan_instance = pickle.load(f)\n",
    "    train_size = pickle.load(f)\n",
    "    val_size = pickle.load(f)\n",
    "    test_size = pickle.load(f)\n",
    "    train_row_num = pickle.load(f)\n",
    "    val_row_num = pickle.load(f)\n",
    "    test_row_num = pickle.load(f)"
   ]
  },
  {
   "cell_type": "markdown",
   "metadata": {},
   "source": [
    "# Load data"
   ]
  },
  {
   "cell_type": "markdown",
   "metadata": {},
   "source": [
    "## Train"
   ]
  },
  {
   "cell_type": "code",
   "execution_count": 11,
   "metadata": {
    "collapsed": true
   },
   "outputs": [],
   "source": [
    "complete_matrix_w_normalized_time_trainLoader = torch.utils.data.DataLoader(complete_matrix_w_normalized_time_train, \n",
    "                                                                            batch_size=args.batch_size, shuffle=False, \n",
    "                                                                            num_workers=2)\n",
    "missing_matrix_w_normalized_time_trainLoader = torch.utils.data.DataLoader(missing_matrix_w_normalized_time_train, \n",
    "                                                                           batch_size=args.batch_size, shuffle=False, \n",
    "                                                                           num_workers=2)\n",
    "avai_matrix_trainLoader = torch.utils.data.DataLoader(avai_matrix_train, \n",
    "                                                      batch_size=args.batch_size, shuffle=False, \n",
    "                                                      num_workers=2)"
   ]
  },
  {
   "cell_type": "code",
   "execution_count": 12,
   "metadata": {},
   "outputs": [
    {
     "data": {
      "text/plain": [
       "(892, 35, 8)"
      ]
     },
     "execution_count": 12,
     "metadata": {},
     "output_type": "execute_result"
    }
   ],
   "source": [
    "complete_matrix_w_normalized_time_train.shape"
   ]
  },
  {
   "cell_type": "markdown",
   "metadata": {},
   "source": [
    "## Validate and test"
   ]
  },
  {
   "cell_type": "code",
   "execution_count": 13,
   "metadata": {
    "collapsed": true
   },
   "outputs": [],
   "source": [
    "normalized_complete_df_name = os.path.join(args.input_dir, 'normalized_complete_df_{}.csv'.format(args.nan_pct))\n",
    "normalized_complete_df = pd.read_csv(normalized_complete_df_name)\n",
    "\n",
    "normalized_missing_df_name = os.path.join(args.input_dir, 'normalized_missing_df_{}.csv'.format(args.nan_pct))\n",
    "normalized_missing_df = pd.read_csv(normalized_missing_df_name)"
   ]
  },
  {
   "cell_type": "code",
   "execution_count": 14,
   "metadata": {
    "collapsed": true
   },
   "outputs": [],
   "source": [
    "missing_true_val = normalized_missing_df[train_row_num:-test_row_num].reset_index(drop=True)\n",
    "complete_true_val = normalized_complete_df[train_row_num:-test_row_num].reset_index(drop=True)"
   ]
  },
  {
   "cell_type": "code",
   "execution_count": 15,
   "metadata": {
    "collapsed": true
   },
   "outputs": [],
   "source": [
    "missing_true_test = normalized_missing_df[-test_row_num:].reset_index(drop=True)\n",
    "complete_true_test = normalized_complete_df[-test_row_num:].reset_index(drop=True)"
   ]
  },
  {
   "cell_type": "code",
   "execution_count": 16,
   "metadata": {},
   "outputs": [
    {
     "data": {
      "text/plain": [
       "((1096, 5), (1071, 5))"
      ]
     },
     "execution_count": 16,
     "metadata": {},
     "output_type": "execute_result"
    }
   ],
   "source": [
    "missing_true_val.shape, missing_true_test.shape"
   ]
  },
  {
   "cell_type": "code",
   "execution_count": 17,
   "metadata": {
    "collapsed": true
   },
   "outputs": [],
   "source": [
    "nan_time_index_val, nan_activity_index_val = getnanindex(missing_true_val)"
   ]
  },
  {
   "cell_type": "code",
   "execution_count": 18,
   "metadata": {
    "collapsed": true
   },
   "outputs": [],
   "source": [
    "nan_time_index_test, nan_activity_index_test = getnanindex(missing_true_test)"
   ]
  },
  {
   "cell_type": "code",
   "execution_count": 19,
   "metadata": {},
   "outputs": [
    {
     "data": {
      "text/plain": [
       "CaseID                  0\n",
       "Activity             3342\n",
       "CompleteTimestamp    3318\n",
       "CumTimeInterval      3318\n",
       "NormalizedTime       3318\n",
       "dtype: int64"
      ]
     },
     "execution_count": 19,
     "metadata": {},
     "output_type": "execute_result"
    }
   ],
   "source": [
    "pd.isnull(normalized_missing_df).sum()"
   ]
  },
  {
   "cell_type": "code",
   "execution_count": 20,
   "metadata": {},
   "outputs": [
    {
     "data": {
      "text/plain": [
       "CaseID                 0\n",
       "Activity             533\n",
       "CompleteTimestamp    516\n",
       "CumTimeInterval      516\n",
       "NormalizedTime       516\n",
       "dtype: int64"
      ]
     },
     "execution_count": 20,
     "metadata": {},
     "output_type": "execute_result"
    }
   ],
   "source": [
    "pd.isnull(missing_true_val).sum()"
   ]
  },
  {
   "cell_type": "code",
   "execution_count": 21,
   "metadata": {},
   "outputs": [
    {
     "data": {
      "text/plain": [
       "CaseID                 0\n",
       "Activity             545\n",
       "CompleteTimestamp    548\n",
       "CumTimeInterval      548\n",
       "NormalizedTime       548\n",
       "dtype: int64"
      ]
     },
     "execution_count": 21,
     "metadata": {},
     "output_type": "execute_result"
    }
   ],
   "source": [
    "pd.isnull(missing_true_test).sum()"
   ]
  },
  {
   "cell_type": "markdown",
   "metadata": {},
   "source": [
    "## Define model"
   ]
  },
  {
   "cell_type": "code",
   "execution_count": 22,
   "metadata": {
    "collapsed": true
   },
   "outputs": [],
   "source": [
    "if args.model_class == 'LSTMAE':\n",
    "    model = LSTMAE(complete_matrix_w_normalized_time_train.shape[2], args.layer1, 1, args.cuda)\n",
    "    \n",
    "if args.cuda:\n",
    "    model.cuda()"
   ]
  },
  {
   "cell_type": "code",
   "execution_count": 23,
   "metadata": {},
   "outputs": [
    {
     "data": {
      "text/plain": [
       "LSTMAE (\n",
       "  (encoder): EncoderRNN (\n",
       "    (lstm): LSTM(8, 1000, batch_first=True)\n",
       "    (relu): ReLU ()\n",
       "  )\n",
       "  (decoder): DecoderRNN (\n",
       "    (lstm): LSTM(1000, 8, batch_first=True)\n",
       "    (sigmoid): Sigmoid ()\n",
       "  )\n",
       ")"
      ]
     },
     "execution_count": 23,
     "metadata": {},
     "output_type": "execute_result"
    }
   ],
   "source": [
    "model"
   ]
  },
  {
   "cell_type": "markdown",
   "metadata": {},
   "source": [
    "## Define loss"
   ]
  },
  {
   "cell_type": "code",
   "execution_count": 24,
   "metadata": {
    "collapsed": true
   },
   "outputs": [],
   "source": [
    "# Define loss\n",
    "def loss_function(recon_x, x, avai_mask): \n",
    "    BCE = F.binary_cross_entropy(recon_x, x, weight=avai_mask, size_average=False)\n",
    "    return BCE"
   ]
  },
  {
   "cell_type": "code",
   "execution_count": 25,
   "metadata": {
    "collapsed": true
   },
   "outputs": [],
   "source": [
    "optimizer = optim.Adam(model.parameters(), lr=args.lr, betas=args.betas)"
   ]
  },
  {
   "cell_type": "code",
   "execution_count": 26,
   "metadata": {
    "collapsed": true
   },
   "outputs": [],
   "source": [
    "#Adjust learning rate per epoch: http://pytorch.org/docs/master/optim.html?highlight=adam#torch.optim.Adam\n",
    "\n",
    "# Method 1:\n",
    "lambda1 = lambda epoch: args.lr_decay ** epoch\n",
    "#lambda1 = lambda epoch: args.lr_decay // 1.1\n",
    "scheduler = torch.optim.lr_scheduler.LambdaLR(optimizer, lr_lambda=[lambda1])\n",
    "\n",
    "# Method 2:\n",
    "#scheduler = torch.optim.lr_scheduler.ReduceLROnPlateau(optimizer, 'min', patience=10)"
   ]
  },
  {
   "cell_type": "markdown",
   "metadata": {},
   "source": [
    "## Utils"
   ]
  },
  {
   "cell_type": "code",
   "execution_count": 27,
   "metadata": {
    "collapsed": true
   },
   "outputs": [],
   "source": [
    "def save_model(model, epoch, score):\n",
    "    model_file = os.path.join(args.output_dir, 'model_{}_epoch{}_score{:.4f}.pth'.format(args.model_class, epoch, score))\n",
    "    torch.save(model.state_dict(), model_file)"
   ]
  },
  {
   "cell_type": "code",
   "execution_count": 28,
   "metadata": {
    "collapsed": true
   },
   "outputs": [],
   "source": [
    "def load_model(model, model_name):\n",
    "    model_file = os.path.join(args.output_dir, model_name)\n",
    "    assert os.path.isfile(model_file), 'Error: no model found!'\n",
    "    model_state = torch.load(model_file)\n",
    "    model.load_state_dict(model_state)"
   ]
  },
  {
   "cell_type": "code",
   "execution_count": 29,
   "metadata": {
    "collapsed": true
   },
   "outputs": [],
   "source": [
    "def val(model, missing_matrix_w_normalized_time_val, complete_matrix_w_normalized_time_val, nan_matrix_val):\n",
    "    model.eval()\n",
    "    m_val = missing_matrix_w_normalized_time_val\n",
    "    m_val = Variable(torch.Tensor(m_val).float())\n",
    "    \n",
    "    c_val = complete_matrix_w_normalized_time_val\n",
    "    c_val = Variable(torch.Tensor(c_val).float())\n",
    "    \n",
    "    nan_matrix_val = Variable(torch.Tensor(nan_matrix_val).float())\n",
    "    \n",
    "    if args.cuda:\n",
    "        m_val = m_val.cuda()\n",
    "        c_val = c_val.cuda()\n",
    "        nan_matrix_val = nan_matrix_val.cuda()\n",
    "        \n",
    "    recon_data = model(m_val)\n",
    "        \n",
    "    loss = loss_function(recon_data, c_val, nan_matrix_val)\n",
    "    return loss.data[0]/missing_matrix_w_normalized_time_val.shape[0]"
   ]
  },
  {
   "cell_type": "code",
   "execution_count": 30,
   "metadata": {},
   "outputs": [
    {
     "data": {
      "text/html": [
       "<div>\n",
       "<style>\n",
       "    .dataframe thead tr:only-child th {\n",
       "        text-align: right;\n",
       "    }\n",
       "\n",
       "    .dataframe thead th {\n",
       "        text-align: left;\n",
       "    }\n",
       "\n",
       "    .dataframe tbody tr th {\n",
       "        vertical-align: top;\n",
       "    }\n",
       "</style>\n",
       "<table border=\"1\" class=\"dataframe\">\n",
       "  <thead>\n",
       "    <tr style=\"text-align: right;\">\n",
       "      <th></th>\n",
       "      <th>CaseID</th>\n",
       "      <th>Activity</th>\n",
       "      <th>CompleteTimestamp</th>\n",
       "      <th>CumTimeInterval</th>\n",
       "      <th>NormalizedTime</th>\n",
       "    </tr>\n",
       "  </thead>\n",
       "  <tbody>\n",
       "    <tr>\n",
       "      <th>0</th>\n",
       "      <td>893</td>\n",
       "      <td>Queued-Awaiting Assignment</td>\n",
       "      <td>2012-01-14 04:03:40</td>\n",
       "      <td>189490438.0</td>\n",
       "      <td>0.000000</td>\n",
       "    </tr>\n",
       "    <tr>\n",
       "      <th>1</th>\n",
       "      <td>893</td>\n",
       "      <td>NaN</td>\n",
       "      <td>NaN</td>\n",
       "      <td>NaN</td>\n",
       "      <td>NaN</td>\n",
       "    </tr>\n",
       "    <tr>\n",
       "      <th>2</th>\n",
       "      <td>893</td>\n",
       "      <td>NaN</td>\n",
       "      <td>NaN</td>\n",
       "      <td>NaN</td>\n",
       "      <td>NaN</td>\n",
       "    </tr>\n",
       "    <tr>\n",
       "      <th>3</th>\n",
       "      <td>893</td>\n",
       "      <td>NaN</td>\n",
       "      <td>2012-01-31 23:02:59</td>\n",
       "      <td>191027597.0</td>\n",
       "      <td>0.508222</td>\n",
       "    </tr>\n",
       "    <tr>\n",
       "      <th>4</th>\n",
       "      <td>893</td>\n",
       "      <td>Completed-Closed</td>\n",
       "      <td>2012-02-18 04:13:20</td>\n",
       "      <td>192515018.0</td>\n",
       "      <td>1.000000</td>\n",
       "    </tr>\n",
       "  </tbody>\n",
       "</table>\n",
       "</div>"
      ],
      "text/plain": [
       "   CaseID                    Activity    CompleteTimestamp  CumTimeInterval  \\\n",
       "0     893  Queued-Awaiting Assignment  2012-01-14 04:03:40      189490438.0   \n",
       "1     893                         NaN                  NaN              NaN   \n",
       "2     893                         NaN                  NaN              NaN   \n",
       "3     893                         NaN  2012-01-31 23:02:59      191027597.0   \n",
       "4     893            Completed-Closed  2012-02-18 04:13:20      192515018.0   \n",
       "\n",
       "   NormalizedTime  \n",
       "0        0.000000  \n",
       "1             NaN  \n",
       "2             NaN  \n",
       "3        0.508222  \n",
       "4        1.000000  "
      ]
     },
     "execution_count": 30,
     "metadata": {},
     "output_type": "execute_result"
    }
   ],
   "source": [
    "missing_true_val.head()"
   ]
  },
  {
   "cell_type": "code",
   "execution_count": 31,
   "metadata": {},
   "outputs": [
    {
     "data": {
      "text/html": [
       "<div>\n",
       "<style>\n",
       "    .dataframe thead tr:only-child th {\n",
       "        text-align: right;\n",
       "    }\n",
       "\n",
       "    .dataframe thead th {\n",
       "        text-align: left;\n",
       "    }\n",
       "\n",
       "    .dataframe tbody tr th {\n",
       "        vertical-align: top;\n",
       "    }\n",
       "</style>\n",
       "<table border=\"1\" class=\"dataframe\">\n",
       "  <thead>\n",
       "    <tr style=\"text-align: right;\">\n",
       "      <th></th>\n",
       "      <th>CaseID</th>\n",
       "      <th>Activity</th>\n",
       "      <th>CompleteTimestamp</th>\n",
       "      <th>CumTimeInterval</th>\n",
       "      <th>NormalizedTime</th>\n",
       "    </tr>\n",
       "  </thead>\n",
       "  <tbody>\n",
       "    <tr>\n",
       "      <th>0</th>\n",
       "      <td>893</td>\n",
       "      <td>Queued-Awaiting Assignment</td>\n",
       "      <td>2012-01-14 04:03:40</td>\n",
       "      <td>189490438.0</td>\n",
       "      <td>0.000000</td>\n",
       "    </tr>\n",
       "    <tr>\n",
       "      <th>1</th>\n",
       "      <td>893</td>\n",
       "      <td>Accepted-In Progress</td>\n",
       "      <td>2012-01-31 22:16:55</td>\n",
       "      <td>191024833.0</td>\n",
       "      <td>0.507308</td>\n",
       "    </tr>\n",
       "    <tr>\n",
       "      <th>2</th>\n",
       "      <td>893</td>\n",
       "      <td>Queued-Awaiting Assignment</td>\n",
       "      <td>2012-01-31 22:29:08</td>\n",
       "      <td>191025566.0</td>\n",
       "      <td>0.507551</td>\n",
       "    </tr>\n",
       "    <tr>\n",
       "      <th>3</th>\n",
       "      <td>893</td>\n",
       "      <td>Accepted-In Progress</td>\n",
       "      <td>2012-01-31 23:02:59</td>\n",
       "      <td>191027597.0</td>\n",
       "      <td>0.508222</td>\n",
       "    </tr>\n",
       "    <tr>\n",
       "      <th>4</th>\n",
       "      <td>893</td>\n",
       "      <td>Completed-Closed</td>\n",
       "      <td>2012-02-18 04:13:20</td>\n",
       "      <td>192515018.0</td>\n",
       "      <td>1.000000</td>\n",
       "    </tr>\n",
       "  </tbody>\n",
       "</table>\n",
       "</div>"
      ],
      "text/plain": [
       "   CaseID                    Activity    CompleteTimestamp  CumTimeInterval  \\\n",
       "0     893  Queued-Awaiting Assignment  2012-01-14 04:03:40      189490438.0   \n",
       "1     893        Accepted-In Progress  2012-01-31 22:16:55      191024833.0   \n",
       "2     893  Queued-Awaiting Assignment  2012-01-31 22:29:08      191025566.0   \n",
       "3     893        Accepted-In Progress  2012-01-31 23:02:59      191027597.0   \n",
       "4     893            Completed-Closed  2012-02-18 04:13:20      192515018.0   \n",
       "\n",
       "   NormalizedTime  \n",
       "0        0.000000  \n",
       "1        0.507308  \n",
       "2        0.507551  \n",
       "3        0.508222  \n",
       "4        1.000000  "
      ]
     },
     "execution_count": 31,
     "metadata": {},
     "output_type": "execute_result"
    }
   ],
   "source": [
    "complete_true_val.head()"
   ]
  },
  {
   "cell_type": "markdown",
   "metadata": {},
   "source": [
    "# Train model"
   ]
  },
  {
   "cell_type": "code",
   "execution_count": 32,
   "metadata": {
    "collapsed": true
   },
   "outputs": [],
   "source": [
    "def train(epoch, model, optimizer):\n",
    "    model.train()\n",
    "    train_loss = 0\n",
    "    for batch_idx, (m_data, c_data, avai_mask) in enumerate(zip(missing_matrix_w_normalized_time_trainLoader,\n",
    "                                                                complete_matrix_w_normalized_time_trainLoader,\n",
    "                                                                avai_matrix_trainLoader)):\n",
    "        \n",
    "        c_data = Variable(c_data.float())\n",
    "        m_data = Variable(m_data.float())\n",
    "        avai_mask = Variable(avai_mask.float())\n",
    "      \n",
    "        if args.cuda:\n",
    "            c_data = c_data.cuda()\n",
    "            m_data = m_data.cuda()\n",
    "            avai_mask = avai_mask.cuda()\n",
    "            \n",
    "        optimizer.zero_grad()\n",
    "        \n",
    "        recon_data = model(m_data)\n",
    "        \n",
    "        loss = loss_function(recon_data, c_data, avai_mask)\n",
    "        loss.backward()\n",
    "        train_loss += loss.data[0]\n",
    "        optimizer.step()\n",
    "        \n",
    "    return train_loss / len(complete_matrix_w_normalized_time_trainLoader.dataset)"
   ]
  },
  {
   "cell_type": "code",
   "execution_count": 33,
   "metadata": {
    "scrolled": false
   },
   "outputs": [
    {
     "name": "stdout",
     "output_type": "stream",
     "text": [
      "====> Epoch 1 | Time: 1171.5433597564697 ms| Train loss: 10.4866 | Val score: 7.8564\n",
      "====> Epoch 2 | Time: 1156.3374996185303 ms| Train loss: 10.2588 | Val score: 7.8564\n",
      "====> Epoch 3 | Time: 1157.8216552734375 ms| Train loss: 10.2587 | Val score: 7.8564\n",
      "====> Epoch 4 | Time: 1152.3807048797607 ms| Train loss: 10.2586 | Val score: 7.8564\n",
      "====> Epoch 5 | Time: 1152.2717475891113 ms| Train loss: 10.2584 | Val score: 7.8564\n",
      "====> Epoch 6 | Time: 1155.4532051086426 ms| Train loss: 10.2582 | Val score: 7.8560\n",
      "====> Epoch 7 | Time: 1158.0824851989746 ms| Train loss: 9.6249 | Val score: 7.2373\n",
      "====> Epoch 8 | Time: 1143.6409950256348 ms| Train loss: 9.5340 | Val score: 7.2373\n",
      "====> Epoch 9 | Time: 1154.3123722076416 ms| Train loss: 9.5338 | Val score: 7.2373\n",
      "====> Epoch 10 | Time: 1163.5427474975586 ms| Train loss: 9.5335 | Val score: 7.2369\n",
      "====> Epoch 11 | Time: 1149.3682861328125 ms| Train loss: 9.5280 | Val score: 7.2372\n",
      "====> Epoch 12 | Time: 1145.01953125 ms| Train loss: 9.5331 | Val score: 7.2370\n",
      "====> Epoch 13 | Time: 1152.9662609100342 ms| Train loss: 9.5207 | Val score: 7.2275\n",
      "====> Epoch 14 | Time: 1152.85062789917 ms| Train loss: 9.5115 | Val score: 7.2270\n",
      "====> Epoch 15 | Time: 1159.6267223358154 ms| Train loss: 9.5079 | Val score: 7.2261\n",
      "====> Epoch 16 | Time: 1157.6097011566162 ms| Train loss: 9.5067 | Val score: 7.2268\n",
      "====> Epoch 17 | Time: 1149.4793891906738 ms| Train loss: 9.5052 | Val score: 7.2272\n",
      "====> Epoch 18 | Time: 1154.8972129821777 ms| Train loss: 9.5057 | Val score: 7.2264\n",
      "====> Epoch 19 | Time: 1146.6388702392578 ms| Train loss: 9.5053 | Val score: 7.2271\n",
      "====> Epoch 20 | Time: 1148.2017040252686 ms| Train loss: 9.5046 | Val score: 7.2280\n",
      "====> Epoch 21 | Time: 1151.3745784759521 ms| Train loss: 9.5041 | Val score: 7.2274\n",
      "====> Epoch 22 | Time: 1152.8639793395996 ms| Train loss: 9.5038 | Val score: 7.2279\n",
      "====> Epoch 23 | Time: 1147.3021507263184 ms| Train loss: 9.5025 | Val score: 7.2286\n",
      "====> Epoch 24 | Time: 1153.5663604736328 ms| Train loss: 9.5003 | Val score: 7.2214\n",
      "====> Epoch 25 | Time: 1154.9427509307861 ms| Train loss: 9.4947 | Val score: 7.2050\n",
      "====> Epoch 26 | Time: 1171.9841957092285 ms| Train loss: 9.4810 | Val score: 7.1956\n",
      "====> Epoch 27 | Time: 1154.5021533966064 ms| Train loss: 9.4628 | Val score: 7.1795\n",
      "====> Epoch 28 | Time: 1169.8954105377197 ms| Train loss: 9.4349 | Val score: 7.1553\n",
      "====> Epoch 29 | Time: 1152.8732776641846 ms| Train loss: 9.4494 | Val score: 7.5844\n",
      "====> Epoch 30 | Time: 1156.484842300415 ms| Train loss: 9.9578 | Val score: 7.5844\n",
      "====> Epoch 31 | Time: 1155.9462547302246 ms| Train loss: 9.9574 | Val score: 7.5844\n",
      "====> Epoch 32 | Time: 1155.869960784912 ms| Train loss: 9.9574 | Val score: 7.5844\n",
      "====> Epoch 33 | Time: 1156.508207321167 ms| Train loss: 9.9574 | Val score: 7.5844\n",
      "====> Epoch 34 | Time: 1149.068832397461 ms| Train loss: 9.9574 | Val score: 7.5844\n",
      "====> Epoch 35 | Time: 1158.0045223236084 ms| Train loss: 9.9574 | Val score: 7.5844\n",
      "====> Epoch 36 | Time: 1156.7397117614746 ms| Train loss: 9.9574 | Val score: 7.5844\n",
      "====> Epoch 37 | Time: 1154.926061630249 ms| Train loss: 9.9574 | Val score: 7.5844\n",
      "====> Epoch 38 | Time: 1152.5745391845703 ms| Train loss: 9.9574 | Val score: 7.5844\n",
      "====> Epoch 39 | Time: 1150.4125595092773 ms| Train loss: 9.9574 | Val score: 7.5844\n",
      "====> Epoch 40 | Time: 1149.9779224395752 ms| Train loss: 9.9574 | Val score: 7.5844\n",
      "====> Epoch 41 | Time: 1147.512674331665 ms| Train loss: 9.9574 | Val score: 7.5844\n",
      "====> Epoch 42 | Time: 1152.6272296905518 ms| Train loss: 9.9574 | Val score: 7.5844\n",
      "====> Epoch 43 | Time: 1158.984661102295 ms| Train loss: 9.9574 | Val score: 7.5844\n",
      "====> Epoch 44 | Time: 1154.552936553955 ms| Train loss: 9.9574 | Val score: 7.5844\n",
      "====> Epoch 45 | Time: 1145.3921794891357 ms| Train loss: 9.9574 | Val score: 7.5844\n",
      "====> Epoch 46 | Time: 1151.7043113708496 ms| Train loss: 9.9574 | Val score: 7.5844\n",
      "====> Epoch 47 | Time: 1154.0417671203613 ms| Train loss: 9.9574 | Val score: 7.5844\n",
      "====> Epoch 48 | Time: 1143.7017917633057 ms| Train loss: 9.9574 | Val score: 7.5844\n",
      "====> Epoch 49 | Time: 1159.4336032867432 ms| Train loss: 9.9574 | Val score: 7.5844\n",
      "====> Epoch 50 | Time: 1151.7422199249268 ms| Train loss: 9.9574 | Val score: 7.5844\n"
     ]
    }
   ],
   "source": [
    "if args.train:\n",
    "    for epoch in range(1, args.epochs + 1):\n",
    "        init = time.time()\n",
    "        \n",
    "        #method 1 scheduler\n",
    "        scheduler.step()\n",
    "        \n",
    "        train_loss = train(epoch, model, optimizer)\n",
    "        val_score = val(model, missing_matrix_w_normalized_time_val, complete_matrix_w_normalized_time_val, avai_matrix_val)\n",
    "        \n",
    "        if epoch == 1:\n",
    "            current_best = val_score\n",
    "            save_model(model, epoch, val_score)\n",
    "        \n",
    "        else:\n",
    "            if val_score < current_best:\n",
    "                current_best = val_score\n",
    "                save_model(model, epoch, val_score)\n",
    "        \n",
    "        #method 2 scheduler\n",
    "        #scheduler.step(val_score)\n",
    "        \n",
    "        end = time.time()\n",
    "        print('====> Epoch {} | Time: {} ms| Train loss: {:.4f} | Val score: {:.4f}'.format(\n",
    "                          epoch, (end-init)*1000 ,train_loss, val_score))\n",
    "else:\n",
    "    load_model(model, args.model_name)"
   ]
  },
  {
   "cell_type": "markdown",
   "metadata": {
    "collapsed": true
   },
   "source": [
    "# Predict and evaluate"
   ]
  },
  {
   "cell_type": "code",
   "execution_count": 34,
   "metadata": {},
   "outputs": [
    {
     "name": "stdout",
     "output_type": "stream",
     "text": [
      "Predicting...\n",
      "\n",
      "\n",
      "Converting to dataframe...\n",
      "Transforming Normalized Time to Time...\n",
      "Getting submission...\n"
     ]
    },
    {
     "name": "stderr",
     "output_type": "stream",
     "text": [
      "/home/pllab/miniconda2/envs/pydata/lib/python3.5/site-packages/pandas/core/indexing.py:517: SettingWithCopyWarning: \n",
      "A value is trying to be set on a copy of a slice from a DataFrame.\n",
      "Try using .loc[row_indexer,col_indexer] = value instead\n",
      "\n",
      "See the caveats in the documentation: http://pandas.pydata.org/pandas-docs/stable/indexing.html#indexing-view-versus-copy\n",
      "  self.obj[item] = s\n"
     ]
    },
    {
     "name": "stdout",
     "output_type": "stream",
     "text": [
      "Testing...\n",
      "Number of missing Time: 548\n",
      "Mean Absolute Error: 8.9747 day(s)\n",
      "Root Mean Squared Error: 14.8248 day(s)\n",
      "Number of missing Activity: 545\n",
      "Accuracy: 47.52%\n",
      "\n",
      "\n",
      "Saving submission...\n",
      "Done!\n"
     ]
    }
   ],
   "source": [
    "if args.test:\n",
    "    m_test = missing_matrix_w_normalized_time_test\n",
    "    m_test = Variable(torch.Tensor(m_test).float())\n",
    "    \n",
    "    if args.cuda:\n",
    "        m_test = m_test.cuda()\n",
    "    \n",
    "    print('Predicting...')\n",
    "    recon_test = model(m_test)\n",
    "    \n",
    "    print('\\n')\n",
    "    print('Converting to dataframe...')\n",
    "    recon_df_w_normalized_time = convert2df(recon_test, pad_matrix_test, cols_w_normalized_time, test_row_num)\n",
    "    \n",
    "    print('Transforming Normalized Time to Time...')\n",
    "    recon_df_w_time = getDfWithTime(recon_df_w_normalized_time, missing_true_test, min_max_storage)\n",
    "    \n",
    "    print('Getting submission...')\n",
    "    submission_df = getSubmission(recon_df_w_time, missing_true_test, complete_true_test, first_timestamp)\n",
    "    submission = fixTime(submission_df)\n",
    "        \n",
    "    print('Testing...')\n",
    "    mae_time, rmse_time, acc = evaluation(submission, nan_time_index_test, nan_activity_index_test,show=True)\n",
    "    \n",
    "    print('\\n')\n",
    "    print('Saving submission...')\n",
    "    submission_df.to_csv(args.output_dir+'submission.csv', index=False)\n",
    "    print('Done!')"
   ]
  },
  {
   "cell_type": "code",
   "execution_count": 35,
   "metadata": {},
   "outputs": [
    {
     "data": {
      "text/html": [
       "<div>\n",
       "<style>\n",
       "    .dataframe thead tr:only-child th {\n",
       "        text-align: right;\n",
       "    }\n",
       "\n",
       "    .dataframe thead th {\n",
       "        text-align: left;\n",
       "    }\n",
       "\n",
       "    .dataframe tbody tr th {\n",
       "        vertical-align: top;\n",
       "    }\n",
       "</style>\n",
       "<table border=\"1\" class=\"dataframe\">\n",
       "  <thead>\n",
       "    <tr style=\"text-align: right;\">\n",
       "      <th></th>\n",
       "      <th>CaseID</th>\n",
       "      <th>TrueActivity</th>\n",
       "      <th>PredictedActivity</th>\n",
       "      <th>TrueTime</th>\n",
       "      <th>PredictedTime</th>\n",
       "      <th>TrueCompleteTimestamp</th>\n",
       "      <th>PredictedCompleteTimestamp</th>\n",
       "    </tr>\n",
       "  </thead>\n",
       "  <tbody>\n",
       "    <tr>\n",
       "      <th>0</th>\n",
       "      <td>1190</td>\n",
       "      <td>Accepted-In Progress</td>\n",
       "      <td>Accepted-In Progress</td>\n",
       "      <td>194135680.0</td>\n",
       "      <td>194135680.0</td>\n",
       "      <td>2012-03-07 22:24:22</td>\n",
       "      <td>2012-03-07 22:24:22</td>\n",
       "    </tr>\n",
       "    <tr>\n",
       "      <th>1</th>\n",
       "      <td>1190</td>\n",
       "      <td>Completed-Closed</td>\n",
       "      <td>Accepted-In Progress</td>\n",
       "      <td>197156789.0</td>\n",
       "      <td>197156789.0</td>\n",
       "      <td>2012-04-11 21:36:11</td>\n",
       "      <td>2012-04-11 21:36:11</td>\n",
       "    </tr>\n",
       "    <tr>\n",
       "      <th>2</th>\n",
       "      <td>1191</td>\n",
       "      <td>Accepted-In Progress</td>\n",
       "      <td>Accepted-In Progress</td>\n",
       "      <td>194135786.0</td>\n",
       "      <td>194135786.0</td>\n",
       "      <td>2012-03-07 22:26:08</td>\n",
       "      <td>2012-03-07 22:26:08</td>\n",
       "    </tr>\n",
       "    <tr>\n",
       "      <th>3</th>\n",
       "      <td>1191</td>\n",
       "      <td>Completed-Closed</td>\n",
       "      <td>Accepted-In Progress</td>\n",
       "      <td>198348747.0</td>\n",
       "      <td>198348747.0</td>\n",
       "      <td>2012-04-25 16:42:09</td>\n",
       "      <td>2012-04-25 16:42:09</td>\n",
       "    </tr>\n",
       "    <tr>\n",
       "      <th>4</th>\n",
       "      <td>1192</td>\n",
       "      <td>Accepted-In Progress</td>\n",
       "      <td>Accepted-In Progress</td>\n",
       "      <td>194141794.0</td>\n",
       "      <td>194141794.0</td>\n",
       "      <td>2012-03-08 00:06:16</td>\n",
       "      <td>2012-03-08 00:06:16</td>\n",
       "    </tr>\n",
       "    <tr>\n",
       "      <th>5</th>\n",
       "      <td>1192</td>\n",
       "      <td>Completed-Closed</td>\n",
       "      <td>Completed-Closed</td>\n",
       "      <td>194821332.0</td>\n",
       "      <td>194821332.0</td>\n",
       "      <td>2012-03-15 20:51:54</td>\n",
       "      <td>2012-03-15 20:51:54</td>\n",
       "    </tr>\n",
       "    <tr>\n",
       "      <th>6</th>\n",
       "      <td>1193</td>\n",
       "      <td>Accepted-In Progress</td>\n",
       "      <td>Accepted-In Progress</td>\n",
       "      <td>194163235.0</td>\n",
       "      <td>194163235.0</td>\n",
       "      <td>2012-03-08 06:03:37</td>\n",
       "      <td>2012-03-08 06:03:37</td>\n",
       "    </tr>\n",
       "    <tr>\n",
       "      <th>7</th>\n",
       "      <td>1193</td>\n",
       "      <td>Accepted-In Progress</td>\n",
       "      <td>Accepted-In Progress</td>\n",
       "      <td>194319293.0</td>\n",
       "      <td>194319293.0</td>\n",
       "      <td>2012-03-10 01:24:35</td>\n",
       "      <td>2012-03-10 01:24:35</td>\n",
       "    </tr>\n",
       "    <tr>\n",
       "      <th>8</th>\n",
       "      <td>1193</td>\n",
       "      <td>Accepted-Wait</td>\n",
       "      <td>Accepted-Wait</td>\n",
       "      <td>195953439.0</td>\n",
       "      <td>195953439.0</td>\n",
       "      <td>2012-03-28 23:20:21</td>\n",
       "      <td>2012-03-28 23:20:21</td>\n",
       "    </tr>\n",
       "    <tr>\n",
       "      <th>9</th>\n",
       "      <td>1193</td>\n",
       "      <td>Accepted-In Progress</td>\n",
       "      <td>Accepted-In Progress</td>\n",
       "      <td>199039446.0</td>\n",
       "      <td>199039446.0</td>\n",
       "      <td>2012-05-03 16:33:48</td>\n",
       "      <td>2012-05-03 16:33:48</td>\n",
       "    </tr>\n",
       "  </tbody>\n",
       "</table>\n",
       "</div>"
      ],
      "text/plain": [
       "   CaseID          TrueActivity     PredictedActivity     TrueTime  \\\n",
       "0    1190  Accepted-In Progress  Accepted-In Progress  194135680.0   \n",
       "1    1190      Completed-Closed  Accepted-In Progress  197156789.0   \n",
       "2    1191  Accepted-In Progress  Accepted-In Progress  194135786.0   \n",
       "3    1191      Completed-Closed  Accepted-In Progress  198348747.0   \n",
       "4    1192  Accepted-In Progress  Accepted-In Progress  194141794.0   \n",
       "5    1192      Completed-Closed      Completed-Closed  194821332.0   \n",
       "6    1193  Accepted-In Progress  Accepted-In Progress  194163235.0   \n",
       "7    1193  Accepted-In Progress  Accepted-In Progress  194319293.0   \n",
       "8    1193         Accepted-Wait         Accepted-Wait  195953439.0   \n",
       "9    1193  Accepted-In Progress  Accepted-In Progress  199039446.0   \n",
       "\n",
       "   PredictedTime TrueCompleteTimestamp PredictedCompleteTimestamp  \n",
       "0    194135680.0   2012-03-07 22:24:22        2012-03-07 22:24:22  \n",
       "1    197156789.0   2012-04-11 21:36:11        2012-04-11 21:36:11  \n",
       "2    194135786.0   2012-03-07 22:26:08        2012-03-07 22:26:08  \n",
       "3    198348747.0   2012-04-25 16:42:09        2012-04-25 16:42:09  \n",
       "4    194141794.0   2012-03-08 00:06:16        2012-03-08 00:06:16  \n",
       "5    194821332.0   2012-03-15 20:51:54        2012-03-15 20:51:54  \n",
       "6    194163235.0   2012-03-08 06:03:37        2012-03-08 06:03:37  \n",
       "7    194319293.0   2012-03-10 01:24:35        2012-03-10 01:24:35  \n",
       "8    195953439.0   2012-03-28 23:20:21        2012-03-28 23:20:21  \n",
       "9    199039446.0   2012-05-03 16:33:48        2012-05-03 16:33:48  "
      ]
     },
     "execution_count": 35,
     "metadata": {},
     "output_type": "execute_result"
    }
   ],
   "source": [
    "submission_df.head(10)"
   ]
  },
  {
   "cell_type": "code",
   "execution_count": 36,
   "metadata": {},
   "outputs": [
    {
     "data": {
      "text/html": [
       "<div>\n",
       "<style>\n",
       "    .dataframe thead tr:only-child th {\n",
       "        text-align: right;\n",
       "    }\n",
       "\n",
       "    .dataframe thead th {\n",
       "        text-align: left;\n",
       "    }\n",
       "\n",
       "    .dataframe tbody tr th {\n",
       "        vertical-align: top;\n",
       "    }\n",
       "</style>\n",
       "<table border=\"1\" class=\"dataframe\">\n",
       "  <thead>\n",
       "    <tr style=\"text-align: right;\">\n",
       "      <th></th>\n",
       "      <th>CaseID</th>\n",
       "      <th>TrueActivity</th>\n",
       "      <th>PredictedActivity</th>\n",
       "      <th>TrueTime</th>\n",
       "      <th>PredictedTime</th>\n",
       "      <th>TrueCompleteTimestamp</th>\n",
       "      <th>PredictedCompleteTimestamp</th>\n",
       "    </tr>\n",
       "  </thead>\n",
       "  <tbody>\n",
       "    <tr>\n",
       "      <th>0</th>\n",
       "      <td>1190</td>\n",
       "      <td>Accepted-In Progress</td>\n",
       "      <td>Accepted-In Progress</td>\n",
       "      <td>194135680.0</td>\n",
       "      <td>1.941357e+08</td>\n",
       "      <td>2012-03-07 22:24:22</td>\n",
       "      <td>2012-03-07 22:24:22</td>\n",
       "    </tr>\n",
       "    <tr>\n",
       "      <th>1</th>\n",
       "      <td>1190</td>\n",
       "      <td>Completed-Closed</td>\n",
       "      <td>Accepted-In Progress</td>\n",
       "      <td>197156789.0</td>\n",
       "      <td>1.971568e+08</td>\n",
       "      <td>2012-04-11 21:36:11</td>\n",
       "      <td>2012-04-11 21:36:11</td>\n",
       "    </tr>\n",
       "    <tr>\n",
       "      <th>2</th>\n",
       "      <td>1191</td>\n",
       "      <td>Accepted-In Progress</td>\n",
       "      <td>Accepted-In Progress</td>\n",
       "      <td>194135786.0</td>\n",
       "      <td>1.941358e+08</td>\n",
       "      <td>2012-03-07 22:26:08</td>\n",
       "      <td>2012-03-07 22:26:08</td>\n",
       "    </tr>\n",
       "    <tr>\n",
       "      <th>3</th>\n",
       "      <td>1191</td>\n",
       "      <td>Completed-Closed</td>\n",
       "      <td>Accepted-In Progress</td>\n",
       "      <td>198348747.0</td>\n",
       "      <td>1.983487e+08</td>\n",
       "      <td>2012-04-25 16:42:09</td>\n",
       "      <td>2012-04-25 16:42:09</td>\n",
       "    </tr>\n",
       "    <tr>\n",
       "      <th>4</th>\n",
       "      <td>1192</td>\n",
       "      <td>Accepted-In Progress</td>\n",
       "      <td>Accepted-In Progress</td>\n",
       "      <td>194141794.0</td>\n",
       "      <td>1.941418e+08</td>\n",
       "      <td>2012-03-08 00:06:16</td>\n",
       "      <td>2012-03-08 00:06:16</td>\n",
       "    </tr>\n",
       "    <tr>\n",
       "      <th>5</th>\n",
       "      <td>1192</td>\n",
       "      <td>Completed-Closed</td>\n",
       "      <td>Completed-Closed</td>\n",
       "      <td>194821332.0</td>\n",
       "      <td>1.948213e+08</td>\n",
       "      <td>2012-03-15 20:51:54</td>\n",
       "      <td>2012-03-15 20:51:54</td>\n",
       "    </tr>\n",
       "    <tr>\n",
       "      <th>6</th>\n",
       "      <td>1193</td>\n",
       "      <td>Accepted-In Progress</td>\n",
       "      <td>Accepted-In Progress</td>\n",
       "      <td>194163235.0</td>\n",
       "      <td>1.941632e+08</td>\n",
       "      <td>2012-03-08 06:03:37</td>\n",
       "      <td>2012-03-08 06:03:37</td>\n",
       "    </tr>\n",
       "    <tr>\n",
       "      <th>7</th>\n",
       "      <td>1193</td>\n",
       "      <td>Accepted-In Progress</td>\n",
       "      <td>Accepted-In Progress</td>\n",
       "      <td>194319293.0</td>\n",
       "      <td>1.943193e+08</td>\n",
       "      <td>2012-03-10 01:24:35</td>\n",
       "      <td>2012-03-10 01:24:35</td>\n",
       "    </tr>\n",
       "    <tr>\n",
       "      <th>8</th>\n",
       "      <td>1193</td>\n",
       "      <td>Accepted-Wait</td>\n",
       "      <td>Accepted-Wait</td>\n",
       "      <td>195953439.0</td>\n",
       "      <td>1.959534e+08</td>\n",
       "      <td>2012-03-28 23:20:21</td>\n",
       "      <td>2012-03-28 23:20:21</td>\n",
       "    </tr>\n",
       "    <tr>\n",
       "      <th>9</th>\n",
       "      <td>1193</td>\n",
       "      <td>Accepted-In Progress</td>\n",
       "      <td>Accepted-In Progress</td>\n",
       "      <td>199039446.0</td>\n",
       "      <td>1.990394e+08</td>\n",
       "      <td>2012-05-03 16:33:48</td>\n",
       "      <td>2012-05-03 16:33:48</td>\n",
       "    </tr>\n",
       "    <tr>\n",
       "      <th>10</th>\n",
       "      <td>1193</td>\n",
       "      <td>Completed-Closed</td>\n",
       "      <td>Completed-Closed</td>\n",
       "      <td>199039455.0</td>\n",
       "      <td>1.990395e+08</td>\n",
       "      <td>2012-05-03 16:33:57</td>\n",
       "      <td>2012-05-03 16:33:57</td>\n",
       "    </tr>\n",
       "    <tr>\n",
       "      <th>11</th>\n",
       "      <td>1194</td>\n",
       "      <td>Accepted-In Progress</td>\n",
       "      <td>Accepted-In Progress</td>\n",
       "      <td>194207700.0</td>\n",
       "      <td>1.942157e+08</td>\n",
       "      <td>2012-03-08 18:24:42</td>\n",
       "      <td>2012-03-08 20:37:47.031830</td>\n",
       "    </tr>\n",
       "    <tr>\n",
       "      <th>12</th>\n",
       "      <td>1194</td>\n",
       "      <td>Accepted-Assigned</td>\n",
       "      <td>Accepted-Assigned</td>\n",
       "      <td>194207796.0</td>\n",
       "      <td>1.942157e+08</td>\n",
       "      <td>2012-03-08 18:26:18</td>\n",
       "      <td>2012-03-08 20:37:47.031830</td>\n",
       "    </tr>\n",
       "    <tr>\n",
       "      <th>13</th>\n",
       "      <td>1194</td>\n",
       "      <td>Accepted-In Progress</td>\n",
       "      <td>Accepted-In Progress</td>\n",
       "      <td>194215685.0</td>\n",
       "      <td>1.942157e+08</td>\n",
       "      <td>2012-03-08 20:37:47</td>\n",
       "      <td>2012-03-08 20:37:47.031830</td>\n",
       "    </tr>\n",
       "    <tr>\n",
       "      <th>14</th>\n",
       "      <td>1194</td>\n",
       "      <td>Completed-Closed</td>\n",
       "      <td>Completed-Closed</td>\n",
       "      <td>195431870.0</td>\n",
       "      <td>1.942157e+08</td>\n",
       "      <td>2012-03-22 22:27:32</td>\n",
       "      <td>2012-03-08 20:37:47.031830</td>\n",
       "    </tr>\n",
       "    <tr>\n",
       "      <th>15</th>\n",
       "      <td>1195</td>\n",
       "      <td>Accepted-In Progress</td>\n",
       "      <td>Accepted-In Progress</td>\n",
       "      <td>194209749.0</td>\n",
       "      <td>1.942097e+08</td>\n",
       "      <td>2012-03-08 18:58:51</td>\n",
       "      <td>2012-03-08 18:58:51</td>\n",
       "    </tr>\n",
       "    <tr>\n",
       "      <th>16</th>\n",
       "      <td>1195</td>\n",
       "      <td>Completed-Closed</td>\n",
       "      <td>Accepted-In Progress</td>\n",
       "      <td>195437110.0</td>\n",
       "      <td>1.954371e+08</td>\n",
       "      <td>2012-03-22 23:54:52</td>\n",
       "      <td>2012-03-22 23:54:52</td>\n",
       "    </tr>\n",
       "    <tr>\n",
       "      <th>17</th>\n",
       "      <td>1196</td>\n",
       "      <td>Accepted-In Progress</td>\n",
       "      <td>Accepted-In Progress</td>\n",
       "      <td>194211279.0</td>\n",
       "      <td>1.964159e+08</td>\n",
       "      <td>2012-03-08 19:24:21</td>\n",
       "      <td>2012-04-03 07:47:39.915792</td>\n",
       "    </tr>\n",
       "    <tr>\n",
       "      <th>18</th>\n",
       "      <td>1196</td>\n",
       "      <td>Queued-Awaiting Assignment</td>\n",
       "      <td>Accepted-In Progress</td>\n",
       "      <td>194211478.0</td>\n",
       "      <td>1.964159e+08</td>\n",
       "      <td>2012-03-08 19:27:40</td>\n",
       "      <td>2012-04-03 07:47:39.915792</td>\n",
       "    </tr>\n",
       "    <tr>\n",
       "      <th>19</th>\n",
       "      <td>1196</td>\n",
       "      <td>Accepted-In Progress</td>\n",
       "      <td>Accepted-In Progress</td>\n",
       "      <td>194896440.0</td>\n",
       "      <td>1.964159e+08</td>\n",
       "      <td>2012-03-16 17:43:42</td>\n",
       "      <td>2012-04-03 07:47:39.915792</td>\n",
       "    </tr>\n",
       "  </tbody>\n",
       "</table>\n",
       "</div>"
      ],
      "text/plain": [
       "   CaseID                TrueActivity     PredictedActivity     TrueTime  \\\n",
       "0    1190        Accepted-In Progress  Accepted-In Progress  194135680.0   \n",
       "1    1190            Completed-Closed  Accepted-In Progress  197156789.0   \n",
       "2    1191        Accepted-In Progress  Accepted-In Progress  194135786.0   \n",
       "3    1191            Completed-Closed  Accepted-In Progress  198348747.0   \n",
       "4    1192        Accepted-In Progress  Accepted-In Progress  194141794.0   \n",
       "5    1192            Completed-Closed      Completed-Closed  194821332.0   \n",
       "6    1193        Accepted-In Progress  Accepted-In Progress  194163235.0   \n",
       "7    1193        Accepted-In Progress  Accepted-In Progress  194319293.0   \n",
       "8    1193               Accepted-Wait         Accepted-Wait  195953439.0   \n",
       "9    1193        Accepted-In Progress  Accepted-In Progress  199039446.0   \n",
       "10   1193            Completed-Closed      Completed-Closed  199039455.0   \n",
       "11   1194        Accepted-In Progress  Accepted-In Progress  194207700.0   \n",
       "12   1194           Accepted-Assigned     Accepted-Assigned  194207796.0   \n",
       "13   1194        Accepted-In Progress  Accepted-In Progress  194215685.0   \n",
       "14   1194            Completed-Closed      Completed-Closed  195431870.0   \n",
       "15   1195        Accepted-In Progress  Accepted-In Progress  194209749.0   \n",
       "16   1195            Completed-Closed  Accepted-In Progress  195437110.0   \n",
       "17   1196        Accepted-In Progress  Accepted-In Progress  194211279.0   \n",
       "18   1196  Queued-Awaiting Assignment  Accepted-In Progress  194211478.0   \n",
       "19   1196        Accepted-In Progress  Accepted-In Progress  194896440.0   \n",
       "\n",
       "    PredictedTime TrueCompleteTimestamp  PredictedCompleteTimestamp  \n",
       "0    1.941357e+08   2012-03-07 22:24:22         2012-03-07 22:24:22  \n",
       "1    1.971568e+08   2012-04-11 21:36:11         2012-04-11 21:36:11  \n",
       "2    1.941358e+08   2012-03-07 22:26:08         2012-03-07 22:26:08  \n",
       "3    1.983487e+08   2012-04-25 16:42:09         2012-04-25 16:42:09  \n",
       "4    1.941418e+08   2012-03-08 00:06:16         2012-03-08 00:06:16  \n",
       "5    1.948213e+08   2012-03-15 20:51:54         2012-03-15 20:51:54  \n",
       "6    1.941632e+08   2012-03-08 06:03:37         2012-03-08 06:03:37  \n",
       "7    1.943193e+08   2012-03-10 01:24:35         2012-03-10 01:24:35  \n",
       "8    1.959534e+08   2012-03-28 23:20:21         2012-03-28 23:20:21  \n",
       "9    1.990394e+08   2012-05-03 16:33:48         2012-05-03 16:33:48  \n",
       "10   1.990395e+08   2012-05-03 16:33:57         2012-05-03 16:33:57  \n",
       "11   1.942157e+08   2012-03-08 18:24:42  2012-03-08 20:37:47.031830  \n",
       "12   1.942157e+08   2012-03-08 18:26:18  2012-03-08 20:37:47.031830  \n",
       "13   1.942157e+08   2012-03-08 20:37:47  2012-03-08 20:37:47.031830  \n",
       "14   1.942157e+08   2012-03-22 22:27:32  2012-03-08 20:37:47.031830  \n",
       "15   1.942097e+08   2012-03-08 18:58:51         2012-03-08 18:58:51  \n",
       "16   1.954371e+08   2012-03-22 23:54:52         2012-03-22 23:54:52  \n",
       "17   1.964159e+08   2012-03-08 19:24:21  2012-04-03 07:47:39.915792  \n",
       "18   1.964159e+08   2012-03-08 19:27:40  2012-04-03 07:47:39.915792  \n",
       "19   1.964159e+08   2012-03-16 17:43:42  2012-04-03 07:47:39.915792  "
      ]
     },
     "execution_count": 36,
     "metadata": {},
     "output_type": "execute_result"
    }
   ],
   "source": [
    "submission.head(20)"
   ]
  },
  {
   "cell_type": "code",
   "execution_count": 37,
   "metadata": {},
   "outputs": [
    {
     "data": {
      "text/html": [
       "<div>\n",
       "<style>\n",
       "    .dataframe thead tr:only-child th {\n",
       "        text-align: right;\n",
       "    }\n",
       "\n",
       "    .dataframe thead th {\n",
       "        text-align: left;\n",
       "    }\n",
       "\n",
       "    .dataframe tbody tr th {\n",
       "        vertical-align: top;\n",
       "    }\n",
       "</style>\n",
       "<table border=\"1\" class=\"dataframe\">\n",
       "  <thead>\n",
       "    <tr style=\"text-align: right;\">\n",
       "      <th></th>\n",
       "      <th>CaseID</th>\n",
       "      <th>Activity</th>\n",
       "      <th>CompleteTimestamp</th>\n",
       "      <th>CumTimeInterval</th>\n",
       "      <th>NormalizedTime</th>\n",
       "    </tr>\n",
       "  </thead>\n",
       "  <tbody>\n",
       "    <tr>\n",
       "      <th>0</th>\n",
       "      <td>1190</td>\n",
       "      <td>NaN</td>\n",
       "      <td>2012-03-07 22:24:22</td>\n",
       "      <td>194135680.0</td>\n",
       "      <td>0.000000</td>\n",
       "    </tr>\n",
       "    <tr>\n",
       "      <th>1</th>\n",
       "      <td>1190</td>\n",
       "      <td>NaN</td>\n",
       "      <td>2012-04-11 21:36:11</td>\n",
       "      <td>197156789.0</td>\n",
       "      <td>1.000000</td>\n",
       "    </tr>\n",
       "    <tr>\n",
       "      <th>2</th>\n",
       "      <td>1191</td>\n",
       "      <td>Accepted-In Progress</td>\n",
       "      <td>2012-03-07 22:26:08</td>\n",
       "      <td>194135786.0</td>\n",
       "      <td>0.000000</td>\n",
       "    </tr>\n",
       "    <tr>\n",
       "      <th>3</th>\n",
       "      <td>1191</td>\n",
       "      <td>NaN</td>\n",
       "      <td>2012-04-25 16:42:09</td>\n",
       "      <td>198348747.0</td>\n",
       "      <td>1.000000</td>\n",
       "    </tr>\n",
       "    <tr>\n",
       "      <th>4</th>\n",
       "      <td>1192</td>\n",
       "      <td>NaN</td>\n",
       "      <td>2012-03-08 00:06:16</td>\n",
       "      <td>194141794.0</td>\n",
       "      <td>0.000000</td>\n",
       "    </tr>\n",
       "    <tr>\n",
       "      <th>5</th>\n",
       "      <td>1192</td>\n",
       "      <td>Completed-Closed</td>\n",
       "      <td>2012-03-15 20:51:54</td>\n",
       "      <td>194821332.0</td>\n",
       "      <td>1.000000</td>\n",
       "    </tr>\n",
       "    <tr>\n",
       "      <th>6</th>\n",
       "      <td>1193</td>\n",
       "      <td>NaN</td>\n",
       "      <td>2012-03-08 06:03:37</td>\n",
       "      <td>194163235.0</td>\n",
       "      <td>0.000000</td>\n",
       "    </tr>\n",
       "    <tr>\n",
       "      <th>7</th>\n",
       "      <td>1193</td>\n",
       "      <td>NaN</td>\n",
       "      <td>2012-03-10 01:24:35</td>\n",
       "      <td>194319293.0</td>\n",
       "      <td>0.032004</td>\n",
       "    </tr>\n",
       "    <tr>\n",
       "      <th>8</th>\n",
       "      <td>1193</td>\n",
       "      <td>Accepted-Wait</td>\n",
       "      <td>2012-03-28 23:20:21</td>\n",
       "      <td>195953439.0</td>\n",
       "      <td>0.367129</td>\n",
       "    </tr>\n",
       "    <tr>\n",
       "      <th>9</th>\n",
       "      <td>1193</td>\n",
       "      <td>Accepted-In Progress</td>\n",
       "      <td>2012-05-03 16:33:48</td>\n",
       "      <td>199039446.0</td>\n",
       "      <td>0.999998</td>\n",
       "    </tr>\n",
       "    <tr>\n",
       "      <th>10</th>\n",
       "      <td>1193</td>\n",
       "      <td>Completed-Closed</td>\n",
       "      <td>2012-05-03 16:33:57</td>\n",
       "      <td>199039455.0</td>\n",
       "      <td>1.000000</td>\n",
       "    </tr>\n",
       "    <tr>\n",
       "      <th>11</th>\n",
       "      <td>1194</td>\n",
       "      <td>Accepted-In Progress</td>\n",
       "      <td>NaN</td>\n",
       "      <td>NaN</td>\n",
       "      <td>NaN</td>\n",
       "    </tr>\n",
       "    <tr>\n",
       "      <th>12</th>\n",
       "      <td>1194</td>\n",
       "      <td>Accepted-Assigned</td>\n",
       "      <td>NaN</td>\n",
       "      <td>NaN</td>\n",
       "      <td>NaN</td>\n",
       "    </tr>\n",
       "    <tr>\n",
       "      <th>13</th>\n",
       "      <td>1194</td>\n",
       "      <td>NaN</td>\n",
       "      <td>2012-03-08 20:37:47</td>\n",
       "      <td>194215685.0</td>\n",
       "      <td>0.000000</td>\n",
       "    </tr>\n",
       "    <tr>\n",
       "      <th>14</th>\n",
       "      <td>1194</td>\n",
       "      <td>Completed-Closed</td>\n",
       "      <td>NaN</td>\n",
       "      <td>NaN</td>\n",
       "      <td>NaN</td>\n",
       "    </tr>\n",
       "    <tr>\n",
       "      <th>15</th>\n",
       "      <td>1195</td>\n",
       "      <td>Accepted-In Progress</td>\n",
       "      <td>2012-03-08 18:58:51</td>\n",
       "      <td>194209749.0</td>\n",
       "      <td>0.000000</td>\n",
       "    </tr>\n",
       "    <tr>\n",
       "      <th>16</th>\n",
       "      <td>1195</td>\n",
       "      <td>NaN</td>\n",
       "      <td>2012-03-22 23:54:52</td>\n",
       "      <td>195437110.0</td>\n",
       "      <td>1.000000</td>\n",
       "    </tr>\n",
       "    <tr>\n",
       "      <th>17</th>\n",
       "      <td>1196</td>\n",
       "      <td>NaN</td>\n",
       "      <td>NaN</td>\n",
       "      <td>NaN</td>\n",
       "      <td>NaN</td>\n",
       "    </tr>\n",
       "    <tr>\n",
       "      <th>18</th>\n",
       "      <td>1196</td>\n",
       "      <td>NaN</td>\n",
       "      <td>NaN</td>\n",
       "      <td>NaN</td>\n",
       "      <td>NaN</td>\n",
       "    </tr>\n",
       "    <tr>\n",
       "      <th>19</th>\n",
       "      <td>1196</td>\n",
       "      <td>NaN</td>\n",
       "      <td>2012-03-16 17:43:42</td>\n",
       "      <td>194896440.0</td>\n",
       "      <td>0.000000</td>\n",
       "    </tr>\n",
       "  </tbody>\n",
       "</table>\n",
       "</div>"
      ],
      "text/plain": [
       "    CaseID              Activity    CompleteTimestamp  CumTimeInterval  \\\n",
       "0     1190                   NaN  2012-03-07 22:24:22      194135680.0   \n",
       "1     1190                   NaN  2012-04-11 21:36:11      197156789.0   \n",
       "2     1191  Accepted-In Progress  2012-03-07 22:26:08      194135786.0   \n",
       "3     1191                   NaN  2012-04-25 16:42:09      198348747.0   \n",
       "4     1192                   NaN  2012-03-08 00:06:16      194141794.0   \n",
       "5     1192      Completed-Closed  2012-03-15 20:51:54      194821332.0   \n",
       "6     1193                   NaN  2012-03-08 06:03:37      194163235.0   \n",
       "7     1193                   NaN  2012-03-10 01:24:35      194319293.0   \n",
       "8     1193         Accepted-Wait  2012-03-28 23:20:21      195953439.0   \n",
       "9     1193  Accepted-In Progress  2012-05-03 16:33:48      199039446.0   \n",
       "10    1193      Completed-Closed  2012-05-03 16:33:57      199039455.0   \n",
       "11    1194  Accepted-In Progress                  NaN              NaN   \n",
       "12    1194     Accepted-Assigned                  NaN              NaN   \n",
       "13    1194                   NaN  2012-03-08 20:37:47      194215685.0   \n",
       "14    1194      Completed-Closed                  NaN              NaN   \n",
       "15    1195  Accepted-In Progress  2012-03-08 18:58:51      194209749.0   \n",
       "16    1195                   NaN  2012-03-22 23:54:52      195437110.0   \n",
       "17    1196                   NaN                  NaN              NaN   \n",
       "18    1196                   NaN                  NaN              NaN   \n",
       "19    1196                   NaN  2012-03-16 17:43:42      194896440.0   \n",
       "\n",
       "    NormalizedTime  \n",
       "0         0.000000  \n",
       "1         1.000000  \n",
       "2         0.000000  \n",
       "3         1.000000  \n",
       "4         0.000000  \n",
       "5         1.000000  \n",
       "6         0.000000  \n",
       "7         0.032004  \n",
       "8         0.367129  \n",
       "9         0.999998  \n",
       "10        1.000000  \n",
       "11             NaN  \n",
       "12             NaN  \n",
       "13        0.000000  \n",
       "14             NaN  \n",
       "15        0.000000  \n",
       "16        1.000000  \n",
       "17             NaN  \n",
       "18             NaN  \n",
       "19        0.000000  "
      ]
     },
     "execution_count": 37,
     "metadata": {},
     "output_type": "execute_result"
    }
   ],
   "source": [
    "missing_true_test.head(20)"
   ]
  },
  {
   "cell_type": "code",
   "execution_count": null,
   "metadata": {
    "collapsed": true
   },
   "outputs": [],
   "source": []
  }
 ],
 "metadata": {
  "kernelspec": {
   "display_name": "Python 3",
   "language": "python",
   "name": "python3"
  },
  "language_info": {
   "codemirror_mode": {
    "name": "ipython",
    "version": 3
   },
   "file_extension": ".py",
   "mimetype": "text/x-python",
   "name": "python",
   "nbconvert_exporter": "python",
   "pygments_lexer": "ipython3",
   "version": "3.5.4"
  },
  "toc": {
   "colors": {
    "hover_highlight": "#DAA520",
    "running_highlight": "#FF0000",
    "selected_highlight": "#FFD700"
   },
   "moveMenuLeft": true,
   "nav_menu": {
    "height": "48px",
    "width": "252px"
   },
   "navigate_menu": true,
   "number_sections": true,
   "sideBar": true,
   "threshold": 4,
   "toc_cell": false,
   "toc_section_display": "block",
   "toc_window_display": false
  }
 },
 "nbformat": 4,
 "nbformat_minor": 2
}
