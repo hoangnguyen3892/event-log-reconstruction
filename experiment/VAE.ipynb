{
 "cells": [
  {
   "cell_type": "markdown",
   "metadata": {},
   "source": [
    "**Outline:**\n",
    "- Build model and loss function\n",
    "- Train model\n",
    "- Observe valdidate\n",
    "- Test"
   ]
  },
  {
   "cell_type": "markdown",
   "metadata": {},
   "source": [
    "**To do:**\n",
    "- Hyperparameter tuning\n",
    "    + lr\n",
    "    + layer1, layer2\n",
    "    + betas"
   ]
  },
  {
   "cell_type": "markdown",
   "metadata": {},
   "source": [
    "**Modification**\n",
    "- Weight initialization with xavier uniform\n",
    "- Adam optimization\n",
    "- LR decay"
   ]
  },
  {
   "cell_type": "markdown",
   "metadata": {},
   "source": [
    "**To do:**\n",
    "- Add dropout\n",
    "- Implement another loss function"
   ]
  },
  {
   "cell_type": "code",
   "execution_count": 1,
   "metadata": {
    "collapsed": true
   },
   "outputs": [],
   "source": [
    "import importlib\n",
    "import argparse\n",
    "import os, sys\n",
    "import argparse\n",
    "import pandas as pd\n",
    "import numpy as np\n",
    "import pickle\n",
    "import time"
   ]
  },
  {
   "cell_type": "code",
   "execution_count": 2,
   "metadata": {
    "collapsed": true
   },
   "outputs": [],
   "source": [
    "import torch\n",
    "import torch.utils.data\n",
    "import torch.nn.functional as F\n",
    "import torch.nn as nn\n",
    "import torch.optim as optim\n",
    "import torch.optim.lr_scheduler\n",
    "from torch.autograd import Variable\n",
    "from torchvision import transforms"
   ]
  },
  {
   "cell_type": "code",
   "execution_count": 3,
   "metadata": {
    "collapsed": true
   },
   "outputs": [],
   "source": [
    "sys.path.insert(0, './../utils/')\n",
    "from utils import *\n",
    "from models import *"
   ]
  },
  {
   "cell_type": "code",
   "execution_count": 4,
   "metadata": {
    "collapsed": true
   },
   "outputs": [],
   "source": [
    "#Define parser\n",
    "name = 'bpi_2012'\n",
    "#name = 'bpi_2013'\n",
    "\n",
    "parser = {\n",
    "    'train': True,\n",
    "    'test': True,\n",
    "    'model_class': 'VAE',\n",
    "    'model_name': '',\n",
    "    'data_dir': '../data/',\n",
    "    'data_file': name + '.csv',\n",
    "    'nan_pct': 0.3,\n",
    "    'input_dir': '../input/{}/'.format(name), \n",
    "    'batch_size' : 16,\n",
    "    'epochs' : 20,\n",
    "    'no_cuda' : False,\n",
    "    'seed' : 7,\n",
    "    'layer1': 300,\n",
    "    'layer2': 100,\n",
    "    'early_stopping': 30,\n",
    "    'lr': 0.0005,\n",
    "    'betas': (0.9, 0.99),   \n",
    "    'lr_decay': 0.90,\n",
    "}\n",
    "\n",
    "args = argparse.Namespace(**parser)\n",
    "args.output_dir = './output/{0}_{1}_{2}/'.format(name, args.nan_pct, args.model_class)"
   ]
  },
  {
   "cell_type": "code",
   "execution_count": 5,
   "metadata": {
    "collapsed": true
   },
   "outputs": [],
   "source": [
    "if not os.path.isdir(args.output_dir):\n",
    "    os.makedirs(args.output_dir)"
   ]
  },
  {
   "cell_type": "code",
   "execution_count": 6,
   "metadata": {
    "collapsed": true
   },
   "outputs": [],
   "source": [
    "args.cuda = not args.no_cuda and torch.cuda.is_available()"
   ]
  },
  {
   "cell_type": "code",
   "execution_count": 7,
   "metadata": {
    "collapsed": true
   },
   "outputs": [],
   "source": [
    "torch.manual_seed(args.seed)\n",
    "if args.cuda:\n",
    "    torch.cuda.manual_seed(args.seed)"
   ]
  },
  {
   "cell_type": "code",
   "execution_count": 8,
   "metadata": {
    "collapsed": true
   },
   "outputs": [],
   "source": [
    "kwargs = {'num_workers': 2, 'pin_memory': True} if args.cuda else {}"
   ]
  },
  {
   "cell_type": "code",
   "execution_count": 9,
   "metadata": {
    "collapsed": true
   },
   "outputs": [],
   "source": [
    "preprocessed_data_name = os.path.join(args.input_dir, 'preprocessed_data_{}.pkl'.format(args.nan_pct))\n",
    "with open(preprocessed_data_name, 'rb') as f:\n",
    "    min_max_storage = pickle.load(f)\n",
    "    complete_matrix_w_normalized_time_train = pickle.load(f)\n",
    "    missing_matrix_w_normalized_time_train = pickle.load(f)\n",
    "    avai_matrix_train = pickle.load(f)\n",
    "    nan_matrix_train = pickle.load(f)\n",
    "    complete_matrix_w_normalized_time_val = pickle.load(f)\n",
    "    missing_matrix_w_normalized_time_val = pickle.load(f)\n",
    "    avai_matrix_val = pickle.load(f)\n",
    "    nan_matrix_val = pickle.load(f)\n",
    "    pad_matrix_val = pickle.load(f)\n",
    "    complete_matrix_w_normalized_time_test = pickle.load(f)\n",
    "    missing_matrix_w_normalized_time_test = pickle.load(f)\n",
    "    avai_matrix_test = pickle.load(f)\n",
    "    nan_matrix_test = pickle.load(f)\n",
    "    pad_matrix_test = pickle.load(f)\n",
    "    cols_w_time = pickle.load(f)\n",
    "    cols_w_normalized_time = pickle.load(f)"
   ]
  },
  {
   "cell_type": "code",
   "execution_count": 10,
   "metadata": {
    "collapsed": true
   },
   "outputs": [],
   "source": [
    "file_name = os.path.join(args.input_dir, 'parameters_{}.pkl'.format(args.nan_pct))\n",
    "with open(file_name, 'rb') as f:\n",
    "    most_frequent_activity = pickle.load(f)\n",
    "    first_timestamp = pickle.load(f)\n",
    "    avai_instance = pickle.load(f)\n",
    "    nan_instance = pickle.load(f)\n",
    "    train_size = pickle.load(f)\n",
    "    val_size = pickle.load(f)\n",
    "    test_size = pickle.load(f)\n",
    "    train_row_num = pickle.load(f)\n",
    "    val_row_num = pickle.load(f)\n",
    "    test_row_num = pickle.load(f)"
   ]
  },
  {
   "cell_type": "markdown",
   "metadata": {},
   "source": [
    "# Load data"
   ]
  },
  {
   "cell_type": "markdown",
   "metadata": {},
   "source": [
    "## Train"
   ]
  },
  {
   "cell_type": "code",
   "execution_count": 11,
   "metadata": {
    "collapsed": true
   },
   "outputs": [],
   "source": [
    "complete_matrix_w_normalized_time_trainLoader = torch.utils.data.DataLoader(complete_matrix_w_normalized_time_train, \n",
    "                                                                            batch_size=args.batch_size, shuffle=False, \n",
    "                                                                            num_workers=2)\n",
    "missing_matrix_w_normalized_time_trainLoader = torch.utils.data.DataLoader(missing_matrix_w_normalized_time_train, \n",
    "                                                                           batch_size=args.batch_size, shuffle=False, \n",
    "                                                                           num_workers=2)\n",
    "avai_matrix_trainLoader = torch.utils.data.DataLoader(avai_matrix_train, \n",
    "                                                      batch_size=args.batch_size, shuffle=False, \n",
    "                                                      num_workers=2)"
   ]
  },
  {
   "cell_type": "markdown",
   "metadata": {},
   "source": [
    "## Validate and test"
   ]
  },
  {
   "cell_type": "code",
   "execution_count": 12,
   "metadata": {
    "collapsed": true
   },
   "outputs": [],
   "source": [
    "normalized_complete_df_name = os.path.join(args.input_dir, 'normalized_complete_df_{}.csv'.format(args.nan_pct))\n",
    "normalized_complete_df = pd.read_csv(normalized_complete_df_name)\n",
    "\n",
    "normalized_missing_df_name = os.path.join(args.input_dir, 'normalized_missing_df_{}.csv'.format(args.nan_pct))\n",
    "normalized_missing_df = pd.read_csv(normalized_missing_df_name)"
   ]
  },
  {
   "cell_type": "code",
   "execution_count": 13,
   "metadata": {
    "collapsed": true
   },
   "outputs": [],
   "source": [
    "missing_true_val = normalized_missing_df[train_row_num:-test_row_num].reset_index(drop=True)\n",
    "complete_true_val = normalized_complete_df[train_row_num:-test_row_num].reset_index(drop=True)"
   ]
  },
  {
   "cell_type": "code",
   "execution_count": 14,
   "metadata": {
    "collapsed": true
   },
   "outputs": [],
   "source": [
    "missing_true_test = normalized_missing_df[-test_row_num:].reset_index(drop=True)\n",
    "complete_true_test = normalized_complete_df[-test_row_num:].reset_index(drop=True)"
   ]
  },
  {
   "cell_type": "code",
   "execution_count": 15,
   "metadata": {},
   "outputs": [
    {
     "data": {
      "text/plain": [
       "((55671, 5), (47823, 5))"
      ]
     },
     "execution_count": 15,
     "metadata": {},
     "output_type": "execute_result"
    }
   ],
   "source": [
    "missing_true_val.shape, missing_true_test.shape"
   ]
  },
  {
   "cell_type": "code",
   "execution_count": 16,
   "metadata": {
    "collapsed": true
   },
   "outputs": [],
   "source": [
    "nan_time_index_val, nan_activity_index_val = getnanindex(missing_true_val)"
   ]
  },
  {
   "cell_type": "code",
   "execution_count": 17,
   "metadata": {
    "collapsed": true
   },
   "outputs": [],
   "source": [
    "nan_time_index_test, nan_activity_index_test = getnanindex(missing_true_test)"
   ]
  },
  {
   "cell_type": "code",
   "execution_count": 18,
   "metadata": {},
   "outputs": [
    {
     "data": {
      "text/plain": [
       "CaseID                   0\n",
       "Activity             78944\n",
       "CompleteTimestamp    78376\n",
       "CumTimeInterval      78376\n",
       "NormalizedTime       78376\n",
       "dtype: int64"
      ]
     },
     "execution_count": 18,
     "metadata": {},
     "output_type": "execute_result"
    }
   ],
   "source": [
    "pd.isnull(normalized_missing_df).sum()"
   ]
  },
  {
   "cell_type": "code",
   "execution_count": 19,
   "metadata": {},
   "outputs": [
    {
     "data": {
      "text/plain": [
       "CaseID                   0\n",
       "Activity             16971\n",
       "CompleteTimestamp    16546\n",
       "CumTimeInterval      16546\n",
       "NormalizedTime       16546\n",
       "dtype: int64"
      ]
     },
     "execution_count": 19,
     "metadata": {},
     "output_type": "execute_result"
    }
   ],
   "source": [
    "pd.isnull(missing_true_val).sum()"
   ]
  },
  {
   "cell_type": "code",
   "execution_count": 20,
   "metadata": {},
   "outputs": [
    {
     "data": {
      "text/plain": [
       "CaseID                   0\n",
       "Activity             14349\n",
       "CompleteTimestamp    14501\n",
       "CumTimeInterval      14501\n",
       "NormalizedTime       14501\n",
       "dtype: int64"
      ]
     },
     "execution_count": 20,
     "metadata": {},
     "output_type": "execute_result"
    }
   ],
   "source": [
    "pd.isnull(missing_true_test).sum()"
   ]
  },
  {
   "cell_type": "markdown",
   "metadata": {},
   "source": [
    "# Build model"
   ]
  },
  {
   "cell_type": "markdown",
   "metadata": {},
   "source": [
    "## Define model"
   ]
  },
  {
   "cell_type": "code",
   "execution_count": 21,
   "metadata": {
    "collapsed": true
   },
   "outputs": [],
   "source": [
    "if args.model_class == 'VAE':\n",
    "    model = VAE(complete_matrix_w_normalized_time_train.shape, args.layer1, args.layer2, args.cuda)\n",
    "if args.model_class == 'VAE_dropout':\n",
    "    model = VAE_dropout(complete_matrix_w_normalized_time_train.shape, args.layer1, args.layer2, args.cuda)\n",
    "    \n",
    "if args.cuda:\n",
    "    model.cuda()"
   ]
  },
  {
   "cell_type": "markdown",
   "metadata": {},
   "source": [
    "## Define loss"
   ]
  },
  {
   "cell_type": "code",
   "execution_count": 22,
   "metadata": {
    "collapsed": true
   },
   "outputs": [],
   "source": [
    "# Define loss\n",
    "\n",
    "def loss_function(recon_x, x, mu, logvar, avai_mask): \n",
    "    BCE = F.binary_cross_entropy(recon_x, x, weight=avai_mask, size_average=False)\n",
    "    #MSE = F.mse_loss(recon_x*avai_mask, x*avai_mask, size_average=False)\n",
    "    KLD_element = mu.pow(2).add_(logvar.exp()).mul_(-1).add_(1).add_(logvar)\n",
    "    KLD = torch.sum(KLD_element).mul_(-0.5)\n",
    "    #loss = MSE+KLD\n",
    "    loss = BCE+KLD\n",
    "    return loss"
   ]
  },
  {
   "cell_type": "code",
   "execution_count": 23,
   "metadata": {
    "collapsed": true
   },
   "outputs": [],
   "source": [
    "optimizer = optim.Adam(model.parameters(), lr=args.lr, betas=args.betas)"
   ]
  },
  {
   "cell_type": "code",
   "execution_count": 24,
   "metadata": {
    "collapsed": true
   },
   "outputs": [],
   "source": [
    "#Adjust learning rate per epoch: http://pytorch.org/docs/master/optim.html?highlight=adam#torch.optim.Adam\n",
    "\n",
    "# Method 1:\n",
    "lambda1 = lambda epoch: args.lr_decay ** epoch\n",
    "scheduler = torch.optim.lr_scheduler.LambdaLR(optimizer, lr_lambda=[lambda1])\n",
    "\n",
    "# Method 2:\n",
    "#scheduler = torch.optim.lr_scheduler.ReduceLROnPlateau(optimizer, 'min', patience=10)"
   ]
  },
  {
   "cell_type": "markdown",
   "metadata": {},
   "source": [
    "## Utils"
   ]
  },
  {
   "cell_type": "code",
   "execution_count": 25,
   "metadata": {
    "collapsed": true
   },
   "outputs": [],
   "source": [
    "def save_model(model, epoch, score):\n",
    "    model_file = os.path.join(args.output_dir, 'model_{}_epoch{}_score{:.4f}.pth'.format(args.model_class, epoch, score))\n",
    "    torch.save(model.state_dict(), model_file)"
   ]
  },
  {
   "cell_type": "code",
   "execution_count": 26,
   "metadata": {
    "collapsed": true
   },
   "outputs": [],
   "source": [
    "def load_model(model, model_name):\n",
    "    model_file = os.path.join(args.output_dir, model_name)\n",
    "    assert os.path.isfile(model_file), 'Error: no model found!'\n",
    "    model_state = torch.load(model_file)\n",
    "    model.load_state_dict(model_state)"
   ]
  },
  {
   "cell_type": "code",
   "execution_count": 27,
   "metadata": {
    "collapsed": true
   },
   "outputs": [],
   "source": [
    "def val(model, missing_matrix_w_normalized_time_val, \n",
    "        complete_matrix_w_normalized_time_val, \n",
    "        avai_matrix_val, nan_matrix_val):\n",
    "    \n",
    "    model.eval()\n",
    "    m_val = missing_matrix_w_normalized_time_val\n",
    "    m_val = Variable(torch.Tensor(m_val).float())\n",
    "    \n",
    "    c_val = complete_matrix_w_normalized_time_val\n",
    "    c_val = Variable(torch.Tensor(c_val).float())\n",
    "    \n",
    "    avai_matrix_val = Variable(torch.Tensor(avai_matrix_val).float())\n",
    "    nan_matrix_val = Variable(torch.Tensor(nan_matrix_val).float())\n",
    "    \n",
    "    if args.cuda:\n",
    "        m_val = m_val.cuda()\n",
    "        c_val = c_val.cuda()\n",
    "        avai_matrix_val = avai_matrix_val.cuda()\n",
    "        nan_matrix_val = nan_matrix_val.cuda()\n",
    "        \n",
    "    recon_data, mu, logvar = model(m_val)\n",
    "        \n",
    "    recon = getProbability(recon_data)\n",
    "    \n",
    "    recon_2d = recon.view(recon.size(0)*recon.size(1), recon.size(2))\n",
    "    gt_2d = c_val.view(recon.size(0)*recon.size(1), recon.size(2))\n",
    "    avai_matrix_2d = avai_matrix_val.view(recon.size(0)*recon.size(1), recon.size(2))\n",
    "    nan_matrix_2d = nan_matrix_val.view(recon.size(0)*recon.size(1), recon.size(2))\n",
    "    \n",
    "    submission = torch.add(recon_2d*nan_matrix_2d, gt_2d*avai_matrix_2d)\n",
    "    \n",
    "    #Time\n",
    "    predicted_time = submission.data[:, 0].cpu().numpy()\n",
    "    gt_time = gt_2d.data[:, 0].cpu().numpy()\n",
    "    mae = mean_absolute_error(gt_time, predicted_time)\n",
    "    \n",
    "    #Activity\n",
    "    predicted_act = submission.data[:, 1:].cpu().numpy()\n",
    "    gt_act = gt_2d.data[:, 1:].cpu().numpy()\n",
    "    \n",
    "    a = predicted_act[np.any(predicted_act != 0, axis=1)]\n",
    "    b = gt_act[np.any(gt_act != 0, axis=1)]   \n",
    "    \n",
    "    predicted_labels = np.argmax(a, axis=1)\n",
    "    gt_labels = np.argmax(b, axis=1)\n",
    "    acc = accuracy_score(gt_labels, predicted_labels)\n",
    "    \n",
    "    return mae+1/acc"
   ]
  },
  {
   "cell_type": "code",
   "execution_count": 28,
   "metadata": {},
   "outputs": [
    {
     "data": {
      "text/html": [
       "<div>\n",
       "<style>\n",
       "    .dataframe thead tr:only-child th {\n",
       "        text-align: right;\n",
       "    }\n",
       "\n",
       "    .dataframe thead th {\n",
       "        text-align: left;\n",
       "    }\n",
       "\n",
       "    .dataframe tbody tr th {\n",
       "        vertical-align: top;\n",
       "    }\n",
       "</style>\n",
       "<table border=\"1\" class=\"dataframe\">\n",
       "  <thead>\n",
       "    <tr style=\"text-align: right;\">\n",
       "      <th></th>\n",
       "      <th>CaseID</th>\n",
       "      <th>Activity</th>\n",
       "      <th>CompleteTimestamp</th>\n",
       "      <th>CumTimeInterval</th>\n",
       "      <th>NormalizedTime</th>\n",
       "    </tr>\n",
       "  </thead>\n",
       "  <tbody>\n",
       "    <tr>\n",
       "      <th>0</th>\n",
       "      <td>7853</td>\n",
       "      <td>A_SUBMITTED-COMPLETE</td>\n",
       "      <td>2012-01-05 06:57:15.554</td>\n",
       "      <td>8291911.008</td>\n",
       "      <td>0.000000e+00</td>\n",
       "    </tr>\n",
       "    <tr>\n",
       "      <th>1</th>\n",
       "      <td>7853</td>\n",
       "      <td>A_PARTLYSUBMITTED-COMPLETE</td>\n",
       "      <td>2012-01-05 06:57:15.858</td>\n",
       "      <td>8291911.312</td>\n",
       "      <td>7.524752e-01</td>\n",
       "    </tr>\n",
       "    <tr>\n",
       "      <th>2</th>\n",
       "      <td>7853</td>\n",
       "      <td>NaN</td>\n",
       "      <td>NaN</td>\n",
       "      <td>NaN</td>\n",
       "      <td>NaN</td>\n",
       "    </tr>\n",
       "    <tr>\n",
       "      <th>3</th>\n",
       "      <td>7854</td>\n",
       "      <td>A_SUBMITTED-COMPLETE</td>\n",
       "      <td>2012-01-05 06:59:14.543</td>\n",
       "      <td>8292029.997</td>\n",
       "      <td>0.000000e+00</td>\n",
       "    </tr>\n",
       "    <tr>\n",
       "      <th>4</th>\n",
       "      <td>7854</td>\n",
       "      <td>A_PARTLYSUBMITTED-COMPLETE</td>\n",
       "      <td>2012-01-05 06:59:15.103</td>\n",
       "      <td>8292030.557</td>\n",
       "      <td>5.115728e-07</td>\n",
       "    </tr>\n",
       "  </tbody>\n",
       "</table>\n",
       "</div>"
      ],
      "text/plain": [
       "   CaseID                    Activity        CompleteTimestamp  \\\n",
       "0    7853        A_SUBMITTED-COMPLETE  2012-01-05 06:57:15.554   \n",
       "1    7853  A_PARTLYSUBMITTED-COMPLETE  2012-01-05 06:57:15.858   \n",
       "2    7853                         NaN                      NaN   \n",
       "3    7854        A_SUBMITTED-COMPLETE  2012-01-05 06:59:14.543   \n",
       "4    7854  A_PARTLYSUBMITTED-COMPLETE  2012-01-05 06:59:15.103   \n",
       "\n",
       "   CumTimeInterval  NormalizedTime  \n",
       "0      8291911.008    0.000000e+00  \n",
       "1      8291911.312    7.524752e-01  \n",
       "2              NaN             NaN  \n",
       "3      8292029.997    0.000000e+00  \n",
       "4      8292030.557    5.115728e-07  "
      ]
     },
     "execution_count": 28,
     "metadata": {},
     "output_type": "execute_result"
    }
   ],
   "source": [
    "missing_true_val.head()"
   ]
  },
  {
   "cell_type": "code",
   "execution_count": 29,
   "metadata": {},
   "outputs": [
    {
     "data": {
      "text/html": [
       "<div>\n",
       "<style>\n",
       "    .dataframe thead tr:only-child th {\n",
       "        text-align: right;\n",
       "    }\n",
       "\n",
       "    .dataframe thead th {\n",
       "        text-align: left;\n",
       "    }\n",
       "\n",
       "    .dataframe tbody tr th {\n",
       "        vertical-align: top;\n",
       "    }\n",
       "</style>\n",
       "<table border=\"1\" class=\"dataframe\">\n",
       "  <thead>\n",
       "    <tr style=\"text-align: right;\">\n",
       "      <th></th>\n",
       "      <th>CaseID</th>\n",
       "      <th>Activity</th>\n",
       "      <th>CompleteTimestamp</th>\n",
       "      <th>CumTimeInterval</th>\n",
       "      <th>NormalizedTime</th>\n",
       "    </tr>\n",
       "  </thead>\n",
       "  <tbody>\n",
       "    <tr>\n",
       "      <th>0</th>\n",
       "      <td>7853</td>\n",
       "      <td>A_SUBMITTED-COMPLETE</td>\n",
       "      <td>2012-01-05 06:57:15.554</td>\n",
       "      <td>8291911.008</td>\n",
       "      <td>0.000000e+00</td>\n",
       "    </tr>\n",
       "    <tr>\n",
       "      <th>1</th>\n",
       "      <td>7853</td>\n",
       "      <td>A_PARTLYSUBMITTED-COMPLETE</td>\n",
       "      <td>2012-01-05 06:57:15.858</td>\n",
       "      <td>8291911.312</td>\n",
       "      <td>7.624972e-03</td>\n",
       "    </tr>\n",
       "    <tr>\n",
       "      <th>2</th>\n",
       "      <td>7853</td>\n",
       "      <td>A_DECLINED-COMPLETE</td>\n",
       "      <td>2012-01-05 06:57:55.323</td>\n",
       "      <td>8291950.777</td>\n",
       "      <td>9.974918e-01</td>\n",
       "    </tr>\n",
       "    <tr>\n",
       "      <th>3</th>\n",
       "      <td>7854</td>\n",
       "      <td>A_SUBMITTED-COMPLETE</td>\n",
       "      <td>2012-01-05 06:59:14.543</td>\n",
       "      <td>8292029.997</td>\n",
       "      <td>0.000000e+00</td>\n",
       "    </tr>\n",
       "    <tr>\n",
       "      <th>4</th>\n",
       "      <td>7854</td>\n",
       "      <td>A_PARTLYSUBMITTED-COMPLETE</td>\n",
       "      <td>2012-01-05 06:59:15.103</td>\n",
       "      <td>8292030.557</td>\n",
       "      <td>5.115717e-07</td>\n",
       "    </tr>\n",
       "  </tbody>\n",
       "</table>\n",
       "</div>"
      ],
      "text/plain": [
       "   CaseID                    Activity        CompleteTimestamp  \\\n",
       "0    7853        A_SUBMITTED-COMPLETE  2012-01-05 06:57:15.554   \n",
       "1    7853  A_PARTLYSUBMITTED-COMPLETE  2012-01-05 06:57:15.858   \n",
       "2    7853         A_DECLINED-COMPLETE  2012-01-05 06:57:55.323   \n",
       "3    7854        A_SUBMITTED-COMPLETE  2012-01-05 06:59:14.543   \n",
       "4    7854  A_PARTLYSUBMITTED-COMPLETE  2012-01-05 06:59:15.103   \n",
       "\n",
       "   CumTimeInterval  NormalizedTime  \n",
       "0      8291911.008    0.000000e+00  \n",
       "1      8291911.312    7.624972e-03  \n",
       "2      8291950.777    9.974918e-01  \n",
       "3      8292029.997    0.000000e+00  \n",
       "4      8292030.557    5.115717e-07  "
      ]
     },
     "execution_count": 29,
     "metadata": {},
     "output_type": "execute_result"
    }
   ],
   "source": [
    "complete_true_val.head()"
   ]
  },
  {
   "cell_type": "markdown",
   "metadata": {},
   "source": [
    "# Train model"
   ]
  },
  {
   "cell_type": "code",
   "execution_count": 30,
   "metadata": {
    "collapsed": true
   },
   "outputs": [],
   "source": [
    "def train(epoch, model, optimizer):\n",
    "    model.train()\n",
    "    train_loss = 0\n",
    "    for batch_idx, (m_data, c_data, avai_mask) in enumerate(zip(missing_matrix_w_normalized_time_trainLoader,\n",
    "                                                                complete_matrix_w_normalized_time_trainLoader,\n",
    "                                                                avai_matrix_trainLoader)):\n",
    "        \n",
    "        c_data = Variable(c_data.float())\n",
    "        m_data = Variable(m_data.float())\n",
    "        avai_mask = Variable(avai_mask.float())\n",
    "      \n",
    "        if args.cuda:\n",
    "            c_data = c_data.cuda()\n",
    "            m_data = m_data.cuda()\n",
    "            avai_mask = avai_mask.cuda()\n",
    "            \n",
    "        optimizer.zero_grad()\n",
    "        \n",
    "        recon_data, mu, logvar = model(m_data)\n",
    "        \n",
    "        loss = loss_function(recon_data, c_data, mu, logvar, avai_mask)\n",
    "        loss.backward()\n",
    "        train_loss += loss.data[0]\n",
    "        optimizer.step()\n",
    "        \n",
    "    return train_loss / len(complete_matrix_w_normalized_time_trainLoader.dataset)"
   ]
  },
  {
   "cell_type": "code",
   "execution_count": 31,
   "metadata": {
    "scrolled": false
   },
   "outputs": [
    {
     "name": "stdout",
     "output_type": "stream",
     "text": [
      "====> Epoch 1 | Train time: 2281.7142 ms| End time: 6114.3520 ms | Train loss: 76.5341 | Val score: 1.2690\n",
      "====> Epoch 2 | Train time: 2207.4692 ms| End time: 5744.3895 ms | Train loss: 50.4310 | Val score: 1.2225\n",
      "====> Epoch 3 | Train time: 2196.4302 ms| End time: 5698.7324 ms | Train loss: 45.6892 | Val score: 1.2040\n",
      "====> Epoch 4 | Train time: 2213.1772 ms| End time: 5728.7829 ms | Train loss: 43.5405 | Val score: 1.1883\n",
      "====> Epoch 5 | Train time: 2219.9466 ms| End time: 5708.0269 ms | Train loss: 42.3435 | Val score: 1.1843\n",
      "====> Epoch 6 | Train time: 2176.5051 ms| End time: 5684.4854 ms | Train loss: 41.2707 | Val score: 1.1796\n",
      "====> Epoch 7 | Train time: 2223.3083 ms| End time: 5722.8639 ms | Train loss: 40.3225 | Val score: 1.1716\n",
      "====> Epoch 8 | Train time: 2208.3468 ms| End time: 5705.2715 ms | Train loss: 39.7293 | Val score: 1.1678\n",
      "====> Epoch 9 | Train time: 2210.9046 ms| End time: 5714.0779 ms | Train loss: 39.0302 | Val score: 1.1677\n",
      "====> Epoch 10 | Train time: 2128.4642 ms| End time: 5632.6895 ms | Train loss: 38.6071 | Val score: 1.1599\n",
      "====> Epoch 11 | Train time: 2135.4306 ms| End time: 5638.0401 ms | Train loss: 38.2082 | Val score: 1.1612\n",
      "====> Epoch 12 | Train time: 2233.8357 ms| End time: 5739.4083 ms | Train loss: 37.7915 | Val score: 1.1589\n",
      "====> Epoch 13 | Train time: 2223.2127 ms| End time: 5761.8647 ms | Train loss: 37.4571 | Val score: 1.1579\n",
      "====> Epoch 14 | Train time: 2221.2095 ms| End time: 5739.5043 ms | Train loss: 37.1371 | Val score: 1.1526\n",
      "====> Epoch 15 | Train time: 2192.5664 ms| End time: 5716.6319 ms | Train loss: 36.9988 | Val score: 1.1566\n",
      "====> Epoch 16 | Train time: 2198.4963 ms| End time: 5768.8582 ms | Train loss: 36.6469 | Val score: 1.1537\n",
      "====> Epoch 17 | Train time: 2237.0708 ms| End time: 5783.5181 ms | Train loss: 36.5554 | Val score: 1.1516\n",
      "====> Epoch 18 | Train time: 2202.0752 ms| End time: 5756.3927 ms | Train loss: 36.4636 | Val score: 1.1508\n",
      "====> Epoch 19 | Train time: 2240.5436 ms| End time: 5798.6858 ms | Train loss: 36.2400 | Val score: 1.1486\n",
      "====> Epoch 20 | Train time: 2198.2820 ms| End time: 5759.8360 ms | Train loss: 36.1873 | Val score: 1.1501\n"
     ]
    }
   ],
   "source": [
    "if args.train:\n",
    "    for epoch in range(1, args.epochs + 1):\n",
    "        init = time.time()\n",
    "        \n",
    "        #method 1 scheduler\n",
    "        scheduler.step()\n",
    "        \n",
    "        train_loss = train(epoch, model, optimizer)\n",
    "        end_train = time.time()\n",
    "        \n",
    "        val_score = val(model, missing_matrix_w_normalized_time_val, complete_matrix_w_normalized_time_val, \n",
    "                        avai_matrix_val, nan_matrix_val)\n",
    "        save_model(model, epoch, val_score)\n",
    "        \n",
    "        '''\n",
    "        if epoch == 1:\n",
    "            current_best = val_score\n",
    "            save_model(model, epoch, val_score)\n",
    "        \n",
    "        else:\n",
    "            if val_score < current_best:\n",
    "                current_best = val_score\n",
    "                save_model(model, epoch, val_score)\n",
    "        '''\n",
    "        #method 2 scheduler\n",
    "        #scheduler.step(val_score)\n",
    "        \n",
    "        end = time.time()\n",
    "        print('====> Epoch {} | Train time: {:.4f} ms| End time: {:.4f} ms | Train loss: {:.4f} | Val score: {:.4f}'.\n",
    "              format(epoch, (end_train-init)*1000, (end-init)*1000, train_loss, val_score))\n",
    "else:\n",
    "    load_model(model, args.model_name)"
   ]
  },
  {
   "cell_type": "markdown",
   "metadata": {
    "collapsed": true
   },
   "source": [
    "# Predict and evaluate"
   ]
  },
  {
   "cell_type": "code",
   "execution_count": 32,
   "metadata": {},
   "outputs": [
    {
     "name": "stdout",
     "output_type": "stream",
     "text": [
      "Predicting...\n",
      "\n",
      "\n",
      "Converting to dataframe...\n",
      "Transforming Normalized Time to Time...\n",
      "Getting submission...\n",
      "Fixing Time...\n"
     ]
    },
    {
     "name": "stderr",
     "output_type": "stream",
     "text": [
      "/home/pllab/miniconda2/envs/pydata/lib/python3.5/site-packages/pandas/core/indexing.py:517: SettingWithCopyWarning: \n",
      "A value is trying to be set on a copy of a slice from a DataFrame.\n",
      "Try using .loc[row_indexer,col_indexer] = value instead\n",
      "\n",
      "See the caveats in the documentation: http://pandas.pydata.org/pandas-docs/stable/indexing.html#indexing-view-versus-copy\n",
      "  self.obj[item] = s\n"
     ]
    },
    {
     "name": "stdout",
     "output_type": "stream",
     "text": [
      "Testing...\n",
      "Number of missing Time: 14501\n",
      "Mean Absolute Error: 1.0159 day(s)\n",
      "Root Mean Squared Error: 2.1986 day(s)\n",
      "Number of missing Activity: 14349\n",
      "Accuracy: 57.56%\n",
      "\n",
      "\n",
      "Saving submission...\n",
      "Done!\n"
     ]
    }
   ],
   "source": [
    "if args.test:\n",
    "    m_test = missing_matrix_w_normalized_time_test\n",
    "    m_test = Variable(torch.Tensor(m_test).float())\n",
    "    \n",
    "    if args.cuda:\n",
    "        m_test = m_test.cuda()\n",
    "    \n",
    "    print('Predicting...')\n",
    "    recon_test, mu, logvar = model(m_test)\n",
    "    \n",
    "    print('\\n')\n",
    "    print('Converting to dataframe...')\n",
    "    recon_df_w_normalized_time = convert2df(recon_test, pad_matrix_test, cols_w_normalized_time, test_row_num)\n",
    "    \n",
    "    print('Transforming Normalized Time to Time...')\n",
    "    recon_df_w_time = getDfWithTime(recon_df_w_normalized_time, missing_true_test, min_max_storage)\n",
    "    \n",
    "    print('Getting submission...')\n",
    "    submission_df = getSubmission(recon_df_w_time, missing_true_test, complete_true_test, first_timestamp)\n",
    "    \n",
    "    print('Fixing Time...')\n",
    "    submission = fixTime(submission_df)\n",
    "        \n",
    "    print('Testing...')\n",
    "    mae_time, rmse_time, acc = evaluation(submission, nan_time_index_test, nan_activity_index_test,show=True)\n",
    "    \n",
    "    print('\\n')\n",
    "    print('Saving submission...')\n",
    "    submission_df.to_csv(args.output_dir+'submission.csv', index=False)\n",
    "    print('Done!')"
   ]
  },
  {
   "cell_type": "code",
   "execution_count": 33,
   "metadata": {},
   "outputs": [
    {
     "data": {
      "text/html": [
       "<div>\n",
       "<style>\n",
       "    .dataframe thead tr:only-child th {\n",
       "        text-align: right;\n",
       "    }\n",
       "\n",
       "    .dataframe thead th {\n",
       "        text-align: left;\n",
       "    }\n",
       "\n",
       "    .dataframe tbody tr th {\n",
       "        vertical-align: top;\n",
       "    }\n",
       "</style>\n",
       "<table border=\"1\" class=\"dataframe\">\n",
       "  <thead>\n",
       "    <tr style=\"text-align: right;\">\n",
       "      <th></th>\n",
       "      <th>CaseID</th>\n",
       "      <th>TrueActivity</th>\n",
       "      <th>PredictedActivity</th>\n",
       "      <th>TrueTime</th>\n",
       "      <th>PredictedTime</th>\n",
       "      <th>TrueCompleteTimestamp</th>\n",
       "      <th>PredictedCompleteTimestamp</th>\n",
       "    </tr>\n",
       "  </thead>\n",
       "  <tbody>\n",
       "    <tr>\n",
       "      <th>0</th>\n",
       "      <td>10470</td>\n",
       "      <td>A_SUBMITTED-COMPLETE</td>\n",
       "      <td>A_SUBMITTED-COMPLETE</td>\n",
       "      <td>1.086351e+07</td>\n",
       "      <td>1.086351e+07</td>\n",
       "      <td>2012-02-04 01:17:11.047</td>\n",
       "      <td>2012-02-04 01:17:11.047</td>\n",
       "    </tr>\n",
       "    <tr>\n",
       "      <th>1</th>\n",
       "      <td>10470</td>\n",
       "      <td>A_PARTLYSUBMITTED-COMPLETE</td>\n",
       "      <td>A_PARTLYSUBMITTED-COMPLETE</td>\n",
       "      <td>1.086351e+07</td>\n",
       "      <td>1.086351e+07</td>\n",
       "      <td>2012-02-04 01:17:11.323</td>\n",
       "      <td>2012-02-04 01:17:11.386812</td>\n",
       "    </tr>\n",
       "    <tr>\n",
       "      <th>2</th>\n",
       "      <td>10470</td>\n",
       "      <td>A_DECLINED-COMPLETE</td>\n",
       "      <td>A_DECLINED-COMPLETE</td>\n",
       "      <td>1.086354e+07</td>\n",
       "      <td>1.086354e+07</td>\n",
       "      <td>2012-02-04 01:17:42.964</td>\n",
       "      <td>2012-02-04 01:17:42.964</td>\n",
       "    </tr>\n",
       "    <tr>\n",
       "      <th>3</th>\n",
       "      <td>10471</td>\n",
       "      <td>A_SUBMITTED-COMPLETE</td>\n",
       "      <td>A_SUBMITTED-COMPLETE</td>\n",
       "      <td>1.086390e+07</td>\n",
       "      <td>1.086390e+07</td>\n",
       "      <td>2012-02-04 01:23:41.949</td>\n",
       "      <td>2012-02-04 01:23:41.949</td>\n",
       "    </tr>\n",
       "    <tr>\n",
       "      <th>4</th>\n",
       "      <td>10471</td>\n",
       "      <td>A_PARTLYSUBMITTED-COMPLETE</td>\n",
       "      <td>A_PARTLYSUBMITTED-COMPLETE</td>\n",
       "      <td>1.086390e+07</td>\n",
       "      <td>1.086390e+07</td>\n",
       "      <td>2012-02-04 01:23:42.504</td>\n",
       "      <td>2012-02-04 01:23:42.504</td>\n",
       "    </tr>\n",
       "    <tr>\n",
       "      <th>5</th>\n",
       "      <td>10471</td>\n",
       "      <td>A_PREACCEPTED-COMPLETE</td>\n",
       "      <td>A_PREACCEPTED-COMPLETE</td>\n",
       "      <td>1.086394e+07</td>\n",
       "      <td>1.086394e+07</td>\n",
       "      <td>2012-02-04 01:24:23.379</td>\n",
       "      <td>2012-02-04 01:24:23.379</td>\n",
       "    </tr>\n",
       "    <tr>\n",
       "      <th>6</th>\n",
       "      <td>10471</td>\n",
       "      <td>W_Completeren aanvraag-SCHEDULE</td>\n",
       "      <td>W_Completeren aanvraag-SCHEDULE</td>\n",
       "      <td>1.086394e+07</td>\n",
       "      <td>1.086394e+07</td>\n",
       "      <td>2012-02-04 01:24:24.052</td>\n",
       "      <td>2012-02-04 01:24:24.052</td>\n",
       "    </tr>\n",
       "    <tr>\n",
       "      <th>7</th>\n",
       "      <td>10471</td>\n",
       "      <td>W_Completeren aanvraag-START</td>\n",
       "      <td>W_Completeren aanvraag-START</td>\n",
       "      <td>1.087644e+07</td>\n",
       "      <td>1.087644e+07</td>\n",
       "      <td>2012-02-04 04:52:43.090</td>\n",
       "      <td>2012-02-04 04:52:43.090</td>\n",
       "    </tr>\n",
       "    <tr>\n",
       "      <th>8</th>\n",
       "      <td>10471</td>\n",
       "      <td>W_Completeren aanvraag-COMPLETE</td>\n",
       "      <td>W_Completeren aanvraag-COMPLETE</td>\n",
       "      <td>1.087696e+07</td>\n",
       "      <td>1.087696e+07</td>\n",
       "      <td>2012-02-04 05:01:19.935</td>\n",
       "      <td>2012-02-04 05:01:19.935</td>\n",
       "    </tr>\n",
       "    <tr>\n",
       "      <th>9</th>\n",
       "      <td>10471</td>\n",
       "      <td>W_Completeren aanvraag-START</td>\n",
       "      <td>W_Completeren aanvraag-START</td>\n",
       "      <td>1.087697e+07</td>\n",
       "      <td>1.087697e+07</td>\n",
       "      <td>2012-02-04 05:01:31.267</td>\n",
       "      <td>2012-02-04 05:01:31.267</td>\n",
       "    </tr>\n",
       "  </tbody>\n",
       "</table>\n",
       "</div>"
      ],
      "text/plain": [
       "   CaseID                     TrueActivity                PredictedActivity  \\\n",
       "0   10470             A_SUBMITTED-COMPLETE             A_SUBMITTED-COMPLETE   \n",
       "1   10470       A_PARTLYSUBMITTED-COMPLETE       A_PARTLYSUBMITTED-COMPLETE   \n",
       "2   10470              A_DECLINED-COMPLETE              A_DECLINED-COMPLETE   \n",
       "3   10471             A_SUBMITTED-COMPLETE             A_SUBMITTED-COMPLETE   \n",
       "4   10471       A_PARTLYSUBMITTED-COMPLETE       A_PARTLYSUBMITTED-COMPLETE   \n",
       "5   10471           A_PREACCEPTED-COMPLETE           A_PREACCEPTED-COMPLETE   \n",
       "6   10471  W_Completeren aanvraag-SCHEDULE  W_Completeren aanvraag-SCHEDULE   \n",
       "7   10471     W_Completeren aanvraag-START     W_Completeren aanvraag-START   \n",
       "8   10471  W_Completeren aanvraag-COMPLETE  W_Completeren aanvraag-COMPLETE   \n",
       "9   10471     W_Completeren aanvraag-START     W_Completeren aanvraag-START   \n",
       "\n",
       "       TrueTime  PredictedTime    TrueCompleteTimestamp  \\\n",
       "0  1.086351e+07   1.086351e+07  2012-02-04 01:17:11.047   \n",
       "1  1.086351e+07   1.086351e+07  2012-02-04 01:17:11.323   \n",
       "2  1.086354e+07   1.086354e+07  2012-02-04 01:17:42.964   \n",
       "3  1.086390e+07   1.086390e+07  2012-02-04 01:23:41.949   \n",
       "4  1.086390e+07   1.086390e+07  2012-02-04 01:23:42.504   \n",
       "5  1.086394e+07   1.086394e+07  2012-02-04 01:24:23.379   \n",
       "6  1.086394e+07   1.086394e+07  2012-02-04 01:24:24.052   \n",
       "7  1.087644e+07   1.087644e+07  2012-02-04 04:52:43.090   \n",
       "8  1.087696e+07   1.087696e+07  2012-02-04 05:01:19.935   \n",
       "9  1.087697e+07   1.087697e+07  2012-02-04 05:01:31.267   \n",
       "\n",
       "   PredictedCompleteTimestamp  \n",
       "0     2012-02-04 01:17:11.047  \n",
       "1  2012-02-04 01:17:11.386812  \n",
       "2     2012-02-04 01:17:42.964  \n",
       "3     2012-02-04 01:23:41.949  \n",
       "4     2012-02-04 01:23:42.504  \n",
       "5     2012-02-04 01:24:23.379  \n",
       "6     2012-02-04 01:24:24.052  \n",
       "7     2012-02-04 04:52:43.090  \n",
       "8     2012-02-04 05:01:19.935  \n",
       "9     2012-02-04 05:01:31.267  "
      ]
     },
     "execution_count": 33,
     "metadata": {},
     "output_type": "execute_result"
    }
   ],
   "source": [
    "submission_df.head(10)"
   ]
  },
  {
   "cell_type": "code",
   "execution_count": 34,
   "metadata": {},
   "outputs": [
    {
     "data": {
      "text/html": [
       "<div>\n",
       "<style>\n",
       "    .dataframe thead tr:only-child th {\n",
       "        text-align: right;\n",
       "    }\n",
       "\n",
       "    .dataframe thead th {\n",
       "        text-align: left;\n",
       "    }\n",
       "\n",
       "    .dataframe tbody tr th {\n",
       "        vertical-align: top;\n",
       "    }\n",
       "</style>\n",
       "<table border=\"1\" class=\"dataframe\">\n",
       "  <thead>\n",
       "    <tr style=\"text-align: right;\">\n",
       "      <th></th>\n",
       "      <th>CaseID</th>\n",
       "      <th>TrueActivity</th>\n",
       "      <th>PredictedActivity</th>\n",
       "      <th>TrueTime</th>\n",
       "      <th>PredictedTime</th>\n",
       "      <th>TrueCompleteTimestamp</th>\n",
       "      <th>PredictedCompleteTimestamp</th>\n",
       "    </tr>\n",
       "  </thead>\n",
       "  <tbody>\n",
       "    <tr>\n",
       "      <th>0</th>\n",
       "      <td>10470</td>\n",
       "      <td>A_SUBMITTED-COMPLETE</td>\n",
       "      <td>A_SUBMITTED-COMPLETE</td>\n",
       "      <td>1.086351e+07</td>\n",
       "      <td>1.086351e+07</td>\n",
       "      <td>2012-02-04 01:17:11.047</td>\n",
       "      <td>2012-02-04 01:17:11.047</td>\n",
       "    </tr>\n",
       "    <tr>\n",
       "      <th>1</th>\n",
       "      <td>10470</td>\n",
       "      <td>A_PARTLYSUBMITTED-COMPLETE</td>\n",
       "      <td>A_PARTLYSUBMITTED-COMPLETE</td>\n",
       "      <td>1.086351e+07</td>\n",
       "      <td>1.086351e+07</td>\n",
       "      <td>2012-02-04 01:17:11.323</td>\n",
       "      <td>2012-02-04 01:17:11.386812</td>\n",
       "    </tr>\n",
       "    <tr>\n",
       "      <th>2</th>\n",
       "      <td>10470</td>\n",
       "      <td>A_DECLINED-COMPLETE</td>\n",
       "      <td>A_DECLINED-COMPLETE</td>\n",
       "      <td>1.086354e+07</td>\n",
       "      <td>1.086354e+07</td>\n",
       "      <td>2012-02-04 01:17:42.964</td>\n",
       "      <td>2012-02-04 01:17:42.964</td>\n",
       "    </tr>\n",
       "    <tr>\n",
       "      <th>3</th>\n",
       "      <td>10471</td>\n",
       "      <td>A_SUBMITTED-COMPLETE</td>\n",
       "      <td>A_SUBMITTED-COMPLETE</td>\n",
       "      <td>1.086390e+07</td>\n",
       "      <td>1.086390e+07</td>\n",
       "      <td>2012-02-04 01:23:41.949</td>\n",
       "      <td>2012-02-04 01:23:41.949</td>\n",
       "    </tr>\n",
       "    <tr>\n",
       "      <th>4</th>\n",
       "      <td>10471</td>\n",
       "      <td>A_PARTLYSUBMITTED-COMPLETE</td>\n",
       "      <td>A_PARTLYSUBMITTED-COMPLETE</td>\n",
       "      <td>1.086390e+07</td>\n",
       "      <td>1.086390e+07</td>\n",
       "      <td>2012-02-04 01:23:42.504</td>\n",
       "      <td>2012-02-04 01:23:42.504</td>\n",
       "    </tr>\n",
       "    <tr>\n",
       "      <th>5</th>\n",
       "      <td>10471</td>\n",
       "      <td>A_PREACCEPTED-COMPLETE</td>\n",
       "      <td>A_PREACCEPTED-COMPLETE</td>\n",
       "      <td>1.086394e+07</td>\n",
       "      <td>1.086394e+07</td>\n",
       "      <td>2012-02-04 01:24:23.379</td>\n",
       "      <td>2012-02-04 01:24:23.379</td>\n",
       "    </tr>\n",
       "    <tr>\n",
       "      <th>6</th>\n",
       "      <td>10471</td>\n",
       "      <td>W_Completeren aanvraag-SCHEDULE</td>\n",
       "      <td>W_Completeren aanvraag-SCHEDULE</td>\n",
       "      <td>1.086394e+07</td>\n",
       "      <td>1.086394e+07</td>\n",
       "      <td>2012-02-04 01:24:24.052</td>\n",
       "      <td>2012-02-04 01:24:24.052</td>\n",
       "    </tr>\n",
       "    <tr>\n",
       "      <th>7</th>\n",
       "      <td>10471</td>\n",
       "      <td>W_Completeren aanvraag-START</td>\n",
       "      <td>W_Completeren aanvraag-START</td>\n",
       "      <td>1.087644e+07</td>\n",
       "      <td>1.087644e+07</td>\n",
       "      <td>2012-02-04 04:52:43.090</td>\n",
       "      <td>2012-02-04 04:52:43.090</td>\n",
       "    </tr>\n",
       "    <tr>\n",
       "      <th>8</th>\n",
       "      <td>10471</td>\n",
       "      <td>W_Completeren aanvraag-COMPLETE</td>\n",
       "      <td>W_Completeren aanvraag-COMPLETE</td>\n",
       "      <td>1.087696e+07</td>\n",
       "      <td>1.087696e+07</td>\n",
       "      <td>2012-02-04 05:01:19.935</td>\n",
       "      <td>2012-02-04 05:01:19.935</td>\n",
       "    </tr>\n",
       "    <tr>\n",
       "      <th>9</th>\n",
       "      <td>10471</td>\n",
       "      <td>W_Completeren aanvraag-START</td>\n",
       "      <td>W_Completeren aanvraag-START</td>\n",
       "      <td>1.087697e+07</td>\n",
       "      <td>1.087697e+07</td>\n",
       "      <td>2012-02-04 05:01:31.267</td>\n",
       "      <td>2012-02-04 05:01:31.267</td>\n",
       "    </tr>\n",
       "    <tr>\n",
       "      <th>10</th>\n",
       "      <td>10471</td>\n",
       "      <td>A_DECLINED-COMPLETE</td>\n",
       "      <td>A_DECLINED-COMPLETE</td>\n",
       "      <td>1.087726e+07</td>\n",
       "      <td>1.087726e+07</td>\n",
       "      <td>2012-02-04 05:06:24.391</td>\n",
       "      <td>2012-02-04 05:06:24.391</td>\n",
       "    </tr>\n",
       "    <tr>\n",
       "      <th>11</th>\n",
       "      <td>10471</td>\n",
       "      <td>W_Completeren aanvraag-COMPLETE</td>\n",
       "      <td>W_Completeren aanvraag-COMPLETE</td>\n",
       "      <td>1.087726e+07</td>\n",
       "      <td>1.087726e+07</td>\n",
       "      <td>2012-02-04 05:06:28.094</td>\n",
       "      <td>2012-02-04 05:06:28.094</td>\n",
       "    </tr>\n",
       "    <tr>\n",
       "      <th>12</th>\n",
       "      <td>10472</td>\n",
       "      <td>A_SUBMITTED-COMPLETE</td>\n",
       "      <td>W_Afhandelen leads-START</td>\n",
       "      <td>1.086395e+07</td>\n",
       "      <td>1.086395e+07</td>\n",
       "      <td>2012-02-04 01:24:30.409</td>\n",
       "      <td>2012-02-04 01:24:30.409</td>\n",
       "    </tr>\n",
       "    <tr>\n",
       "      <th>13</th>\n",
       "      <td>10472</td>\n",
       "      <td>A_PARTLYSUBMITTED-COMPLETE</td>\n",
       "      <td>A_PARTLYSUBMITTED-COMPLETE</td>\n",
       "      <td>1.086395e+07</td>\n",
       "      <td>1.086395e+07</td>\n",
       "      <td>2012-02-04 01:24:30.620</td>\n",
       "      <td>2012-02-04 01:24:30.620</td>\n",
       "    </tr>\n",
       "    <tr>\n",
       "      <th>14</th>\n",
       "      <td>10472</td>\n",
       "      <td>A_DECLINED-COMPLETE</td>\n",
       "      <td>W_Afhandelen leads-COMPLETE</td>\n",
       "      <td>1.086398e+07</td>\n",
       "      <td>1.086395e+07</td>\n",
       "      <td>2012-02-04 01:25:04.870</td>\n",
       "      <td>2012-02-04 01:24:30.719428</td>\n",
       "    </tr>\n",
       "    <tr>\n",
       "      <th>15</th>\n",
       "      <td>10473</td>\n",
       "      <td>A_SUBMITTED-COMPLETE</td>\n",
       "      <td>A_SUBMITTED-COMPLETE</td>\n",
       "      <td>1.086511e+07</td>\n",
       "      <td>1.086511e+07</td>\n",
       "      <td>2012-02-04 01:43:51.563</td>\n",
       "      <td>2012-02-04 01:43:51.563</td>\n",
       "    </tr>\n",
       "    <tr>\n",
       "      <th>16</th>\n",
       "      <td>10473</td>\n",
       "      <td>A_PARTLYSUBMITTED-COMPLETE</td>\n",
       "      <td>A_PARTLYSUBMITTED-COMPLETE</td>\n",
       "      <td>1.086511e+07</td>\n",
       "      <td>1.086511e+07</td>\n",
       "      <td>2012-02-04 01:43:51.928</td>\n",
       "      <td>2012-02-04 01:43:51.928</td>\n",
       "    </tr>\n",
       "    <tr>\n",
       "      <th>17</th>\n",
       "      <td>10473</td>\n",
       "      <td>A_PREACCEPTED-COMPLETE</td>\n",
       "      <td>A_PREACCEPTED-COMPLETE</td>\n",
       "      <td>1.086515e+07</td>\n",
       "      <td>1.086515e+07</td>\n",
       "      <td>2012-02-04 01:44:29.883</td>\n",
       "      <td>2012-02-04 01:44:29.883</td>\n",
       "    </tr>\n",
       "    <tr>\n",
       "      <th>18</th>\n",
       "      <td>10473</td>\n",
       "      <td>W_Completeren aanvraag-SCHEDULE</td>\n",
       "      <td>W_Completeren aanvraag-COMPLETE</td>\n",
       "      <td>1.086515e+07</td>\n",
       "      <td>1.086515e+07</td>\n",
       "      <td>2012-02-04 01:44:30.436</td>\n",
       "      <td>2012-02-04 01:44:30.436</td>\n",
       "    </tr>\n",
       "    <tr>\n",
       "      <th>19</th>\n",
       "      <td>10473</td>\n",
       "      <td>W_Completeren aanvraag-START</td>\n",
       "      <td>W_Completeren aanvraag-START</td>\n",
       "      <td>1.092748e+07</td>\n",
       "      <td>1.092748e+07</td>\n",
       "      <td>2012-02-04 19:03:24.495</td>\n",
       "      <td>2012-02-04 19:03:24.495</td>\n",
       "    </tr>\n",
       "  </tbody>\n",
       "</table>\n",
       "</div>"
      ],
      "text/plain": [
       "   CaseID                     TrueActivity                PredictedActivity  \\\n",
       "0   10470             A_SUBMITTED-COMPLETE             A_SUBMITTED-COMPLETE   \n",
       "1   10470       A_PARTLYSUBMITTED-COMPLETE       A_PARTLYSUBMITTED-COMPLETE   \n",
       "2   10470              A_DECLINED-COMPLETE              A_DECLINED-COMPLETE   \n",
       "3   10471             A_SUBMITTED-COMPLETE             A_SUBMITTED-COMPLETE   \n",
       "4   10471       A_PARTLYSUBMITTED-COMPLETE       A_PARTLYSUBMITTED-COMPLETE   \n",
       "5   10471           A_PREACCEPTED-COMPLETE           A_PREACCEPTED-COMPLETE   \n",
       "6   10471  W_Completeren aanvraag-SCHEDULE  W_Completeren aanvraag-SCHEDULE   \n",
       "7   10471     W_Completeren aanvraag-START     W_Completeren aanvraag-START   \n",
       "8   10471  W_Completeren aanvraag-COMPLETE  W_Completeren aanvraag-COMPLETE   \n",
       "9   10471     W_Completeren aanvraag-START     W_Completeren aanvraag-START   \n",
       "10  10471              A_DECLINED-COMPLETE              A_DECLINED-COMPLETE   \n",
       "11  10471  W_Completeren aanvraag-COMPLETE  W_Completeren aanvraag-COMPLETE   \n",
       "12  10472             A_SUBMITTED-COMPLETE         W_Afhandelen leads-START   \n",
       "13  10472       A_PARTLYSUBMITTED-COMPLETE       A_PARTLYSUBMITTED-COMPLETE   \n",
       "14  10472              A_DECLINED-COMPLETE      W_Afhandelen leads-COMPLETE   \n",
       "15  10473             A_SUBMITTED-COMPLETE             A_SUBMITTED-COMPLETE   \n",
       "16  10473       A_PARTLYSUBMITTED-COMPLETE       A_PARTLYSUBMITTED-COMPLETE   \n",
       "17  10473           A_PREACCEPTED-COMPLETE           A_PREACCEPTED-COMPLETE   \n",
       "18  10473  W_Completeren aanvraag-SCHEDULE  W_Completeren aanvraag-COMPLETE   \n",
       "19  10473     W_Completeren aanvraag-START     W_Completeren aanvraag-START   \n",
       "\n",
       "        TrueTime  PredictedTime    TrueCompleteTimestamp  \\\n",
       "0   1.086351e+07   1.086351e+07  2012-02-04 01:17:11.047   \n",
       "1   1.086351e+07   1.086351e+07  2012-02-04 01:17:11.323   \n",
       "2   1.086354e+07   1.086354e+07  2012-02-04 01:17:42.964   \n",
       "3   1.086390e+07   1.086390e+07  2012-02-04 01:23:41.949   \n",
       "4   1.086390e+07   1.086390e+07  2012-02-04 01:23:42.504   \n",
       "5   1.086394e+07   1.086394e+07  2012-02-04 01:24:23.379   \n",
       "6   1.086394e+07   1.086394e+07  2012-02-04 01:24:24.052   \n",
       "7   1.087644e+07   1.087644e+07  2012-02-04 04:52:43.090   \n",
       "8   1.087696e+07   1.087696e+07  2012-02-04 05:01:19.935   \n",
       "9   1.087697e+07   1.087697e+07  2012-02-04 05:01:31.267   \n",
       "10  1.087726e+07   1.087726e+07  2012-02-04 05:06:24.391   \n",
       "11  1.087726e+07   1.087726e+07  2012-02-04 05:06:28.094   \n",
       "12  1.086395e+07   1.086395e+07  2012-02-04 01:24:30.409   \n",
       "13  1.086395e+07   1.086395e+07  2012-02-04 01:24:30.620   \n",
       "14  1.086398e+07   1.086395e+07  2012-02-04 01:25:04.870   \n",
       "15  1.086511e+07   1.086511e+07  2012-02-04 01:43:51.563   \n",
       "16  1.086511e+07   1.086511e+07  2012-02-04 01:43:51.928   \n",
       "17  1.086515e+07   1.086515e+07  2012-02-04 01:44:29.883   \n",
       "18  1.086515e+07   1.086515e+07  2012-02-04 01:44:30.436   \n",
       "19  1.092748e+07   1.092748e+07  2012-02-04 19:03:24.495   \n",
       "\n",
       "    PredictedCompleteTimestamp  \n",
       "0      2012-02-04 01:17:11.047  \n",
       "1   2012-02-04 01:17:11.386812  \n",
       "2      2012-02-04 01:17:42.964  \n",
       "3      2012-02-04 01:23:41.949  \n",
       "4      2012-02-04 01:23:42.504  \n",
       "5      2012-02-04 01:24:23.379  \n",
       "6      2012-02-04 01:24:24.052  \n",
       "7      2012-02-04 04:52:43.090  \n",
       "8      2012-02-04 05:01:19.935  \n",
       "9      2012-02-04 05:01:31.267  \n",
       "10     2012-02-04 05:06:24.391  \n",
       "11     2012-02-04 05:06:28.094  \n",
       "12     2012-02-04 01:24:30.409  \n",
       "13     2012-02-04 01:24:30.620  \n",
       "14  2012-02-04 01:24:30.719428  \n",
       "15     2012-02-04 01:43:51.563  \n",
       "16     2012-02-04 01:43:51.928  \n",
       "17     2012-02-04 01:44:29.883  \n",
       "18     2012-02-04 01:44:30.436  \n",
       "19     2012-02-04 19:03:24.495  "
      ]
     },
     "execution_count": 34,
     "metadata": {},
     "output_type": "execute_result"
    }
   ],
   "source": [
    "submission.head(20)"
   ]
  },
  {
   "cell_type": "code",
   "execution_count": 35,
   "metadata": {},
   "outputs": [
    {
     "data": {
      "text/html": [
       "<div>\n",
       "<style>\n",
       "    .dataframe thead tr:only-child th {\n",
       "        text-align: right;\n",
       "    }\n",
       "\n",
       "    .dataframe thead th {\n",
       "        text-align: left;\n",
       "    }\n",
       "\n",
       "    .dataframe tbody tr th {\n",
       "        vertical-align: top;\n",
       "    }\n",
       "</style>\n",
       "<table border=\"1\" class=\"dataframe\">\n",
       "  <thead>\n",
       "    <tr style=\"text-align: right;\">\n",
       "      <th></th>\n",
       "      <th>CaseID</th>\n",
       "      <th>Activity</th>\n",
       "      <th>CompleteTimestamp</th>\n",
       "      <th>CumTimeInterval</th>\n",
       "      <th>NormalizedTime</th>\n",
       "    </tr>\n",
       "  </thead>\n",
       "  <tbody>\n",
       "    <tr>\n",
       "      <th>0</th>\n",
       "      <td>10470</td>\n",
       "      <td>A_SUBMITTED-COMPLETE</td>\n",
       "      <td>2012-02-04 01:17:11.047</td>\n",
       "      <td>1.086351e+07</td>\n",
       "      <td>0.000000e+00</td>\n",
       "    </tr>\n",
       "    <tr>\n",
       "      <th>1</th>\n",
       "      <td>10470</td>\n",
       "      <td>NaN</td>\n",
       "      <td>NaN</td>\n",
       "      <td>NaN</td>\n",
       "      <td>NaN</td>\n",
       "    </tr>\n",
       "    <tr>\n",
       "      <th>2</th>\n",
       "      <td>10470</td>\n",
       "      <td>A_DECLINED-COMPLETE</td>\n",
       "      <td>2012-02-04 01:17:42.964</td>\n",
       "      <td>1.086354e+07</td>\n",
       "      <td>9.968767e-01</td>\n",
       "    </tr>\n",
       "    <tr>\n",
       "      <th>3</th>\n",
       "      <td>10471</td>\n",
       "      <td>A_SUBMITTED-COMPLETE</td>\n",
       "      <td>2012-02-04 01:23:41.949</td>\n",
       "      <td>1.086390e+07</td>\n",
       "      <td>0.000000e+00</td>\n",
       "    </tr>\n",
       "    <tr>\n",
       "      <th>4</th>\n",
       "      <td>10471</td>\n",
       "      <td>A_PARTLYSUBMITTED-COMPLETE</td>\n",
       "      <td>2012-02-04 01:23:42.504</td>\n",
       "      <td>1.086390e+07</td>\n",
       "      <td>4.152251e-05</td>\n",
       "    </tr>\n",
       "    <tr>\n",
       "      <th>5</th>\n",
       "      <td>10471</td>\n",
       "      <td>A_PREACCEPTED-COMPLETE</td>\n",
       "      <td>2012-02-04 01:24:23.379</td>\n",
       "      <td>1.086394e+07</td>\n",
       "      <td>3.099599e-03</td>\n",
       "    </tr>\n",
       "    <tr>\n",
       "      <th>6</th>\n",
       "      <td>10471</td>\n",
       "      <td>W_Completeren aanvraag-SCHEDULE</td>\n",
       "      <td>2012-02-04 01:24:24.052</td>\n",
       "      <td>1.086394e+07</td>\n",
       "      <td>3.149950e-03</td>\n",
       "    </tr>\n",
       "    <tr>\n",
       "      <th>7</th>\n",
       "      <td>10471</td>\n",
       "      <td>W_Completeren aanvraag-START</td>\n",
       "      <td>2012-02-04 04:52:43.090</td>\n",
       "      <td>1.087644e+07</td>\n",
       "      <td>9.382696e-01</td>\n",
       "    </tr>\n",
       "    <tr>\n",
       "      <th>8</th>\n",
       "      <td>10471</td>\n",
       "      <td>W_Completeren aanvraag-COMPLETE</td>\n",
       "      <td>2012-02-04 05:01:19.935</td>\n",
       "      <td>1.087696e+07</td>\n",
       "      <td>9.769375e-01</td>\n",
       "    </tr>\n",
       "    <tr>\n",
       "      <th>9</th>\n",
       "      <td>10471</td>\n",
       "      <td>W_Completeren aanvraag-START</td>\n",
       "      <td>2012-02-04 05:01:31.267</td>\n",
       "      <td>1.087697e+07</td>\n",
       "      <td>9.777853e-01</td>\n",
       "    </tr>\n",
       "    <tr>\n",
       "      <th>10</th>\n",
       "      <td>10471</td>\n",
       "      <td>A_DECLINED-COMPLETE</td>\n",
       "      <td>2012-02-04 05:06:24.391</td>\n",
       "      <td>1.087726e+07</td>\n",
       "      <td>9.997155e-01</td>\n",
       "    </tr>\n",
       "    <tr>\n",
       "      <th>11</th>\n",
       "      <td>10471</td>\n",
       "      <td>W_Completeren aanvraag-COMPLETE</td>\n",
       "      <td>2012-02-04 05:06:28.094</td>\n",
       "      <td>1.087726e+07</td>\n",
       "      <td>9.999925e-01</td>\n",
       "    </tr>\n",
       "    <tr>\n",
       "      <th>12</th>\n",
       "      <td>10472</td>\n",
       "      <td>NaN</td>\n",
       "      <td>2012-02-04 01:24:30.409</td>\n",
       "      <td>1.086395e+07</td>\n",
       "      <td>0.000000e+00</td>\n",
       "    </tr>\n",
       "    <tr>\n",
       "      <th>13</th>\n",
       "      <td>10472</td>\n",
       "      <td>NaN</td>\n",
       "      <td>2012-02-04 01:24:30.620</td>\n",
       "      <td>1.086395e+07</td>\n",
       "      <td>6.784566e-01</td>\n",
       "    </tr>\n",
       "    <tr>\n",
       "      <th>14</th>\n",
       "      <td>10472</td>\n",
       "      <td>NaN</td>\n",
       "      <td>NaN</td>\n",
       "      <td>NaN</td>\n",
       "      <td>NaN</td>\n",
       "    </tr>\n",
       "    <tr>\n",
       "      <th>15</th>\n",
       "      <td>10473</td>\n",
       "      <td>A_SUBMITTED-COMPLETE</td>\n",
       "      <td>2012-02-04 01:43:51.563</td>\n",
       "      <td>1.086511e+07</td>\n",
       "      <td>0.000000e+00</td>\n",
       "    </tr>\n",
       "    <tr>\n",
       "      <th>16</th>\n",
       "      <td>10473</td>\n",
       "      <td>A_PARTLYSUBMITTED-COMPLETE</td>\n",
       "      <td>2012-02-04 01:43:51.928</td>\n",
       "      <td>1.086511e+07</td>\n",
       "      <td>1.255548e-07</td>\n",
       "    </tr>\n",
       "    <tr>\n",
       "      <th>17</th>\n",
       "      <td>10473</td>\n",
       "      <td>A_PREACCEPTED-COMPLETE</td>\n",
       "      <td>2012-02-04 01:44:29.883</td>\n",
       "      <td>1.086515e+07</td>\n",
       "      <td>1.318153e-05</td>\n",
       "    </tr>\n",
       "    <tr>\n",
       "      <th>18</th>\n",
       "      <td>10473</td>\n",
       "      <td>NaN</td>\n",
       "      <td>2012-02-04 01:44:30.436</td>\n",
       "      <td>1.086515e+07</td>\n",
       "      <td>1.337176e-05</td>\n",
       "    </tr>\n",
       "    <tr>\n",
       "      <th>19</th>\n",
       "      <td>10473</td>\n",
       "      <td>NaN</td>\n",
       "      <td>2012-02-04 19:03:24.495</td>\n",
       "      <td>1.092748e+07</td>\n",
       "      <td>2.145540e-02</td>\n",
       "    </tr>\n",
       "  </tbody>\n",
       "</table>\n",
       "</div>"
      ],
      "text/plain": [
       "    CaseID                         Activity        CompleteTimestamp  \\\n",
       "0    10470             A_SUBMITTED-COMPLETE  2012-02-04 01:17:11.047   \n",
       "1    10470                              NaN                      NaN   \n",
       "2    10470              A_DECLINED-COMPLETE  2012-02-04 01:17:42.964   \n",
       "3    10471             A_SUBMITTED-COMPLETE  2012-02-04 01:23:41.949   \n",
       "4    10471       A_PARTLYSUBMITTED-COMPLETE  2012-02-04 01:23:42.504   \n",
       "5    10471           A_PREACCEPTED-COMPLETE  2012-02-04 01:24:23.379   \n",
       "6    10471  W_Completeren aanvraag-SCHEDULE  2012-02-04 01:24:24.052   \n",
       "7    10471     W_Completeren aanvraag-START  2012-02-04 04:52:43.090   \n",
       "8    10471  W_Completeren aanvraag-COMPLETE  2012-02-04 05:01:19.935   \n",
       "9    10471     W_Completeren aanvraag-START  2012-02-04 05:01:31.267   \n",
       "10   10471              A_DECLINED-COMPLETE  2012-02-04 05:06:24.391   \n",
       "11   10471  W_Completeren aanvraag-COMPLETE  2012-02-04 05:06:28.094   \n",
       "12   10472                              NaN  2012-02-04 01:24:30.409   \n",
       "13   10472                              NaN  2012-02-04 01:24:30.620   \n",
       "14   10472                              NaN                      NaN   \n",
       "15   10473             A_SUBMITTED-COMPLETE  2012-02-04 01:43:51.563   \n",
       "16   10473       A_PARTLYSUBMITTED-COMPLETE  2012-02-04 01:43:51.928   \n",
       "17   10473           A_PREACCEPTED-COMPLETE  2012-02-04 01:44:29.883   \n",
       "18   10473                              NaN  2012-02-04 01:44:30.436   \n",
       "19   10473                              NaN  2012-02-04 19:03:24.495   \n",
       "\n",
       "    CumTimeInterval  NormalizedTime  \n",
       "0      1.086351e+07    0.000000e+00  \n",
       "1               NaN             NaN  \n",
       "2      1.086354e+07    9.968767e-01  \n",
       "3      1.086390e+07    0.000000e+00  \n",
       "4      1.086390e+07    4.152251e-05  \n",
       "5      1.086394e+07    3.099599e-03  \n",
       "6      1.086394e+07    3.149950e-03  \n",
       "7      1.087644e+07    9.382696e-01  \n",
       "8      1.087696e+07    9.769375e-01  \n",
       "9      1.087697e+07    9.777853e-01  \n",
       "10     1.087726e+07    9.997155e-01  \n",
       "11     1.087726e+07    9.999925e-01  \n",
       "12     1.086395e+07    0.000000e+00  \n",
       "13     1.086395e+07    6.784566e-01  \n",
       "14              NaN             NaN  \n",
       "15     1.086511e+07    0.000000e+00  \n",
       "16     1.086511e+07    1.255548e-07  \n",
       "17     1.086515e+07    1.318153e-05  \n",
       "18     1.086515e+07    1.337176e-05  \n",
       "19     1.092748e+07    2.145540e-02  "
      ]
     },
     "execution_count": 35,
     "metadata": {},
     "output_type": "execute_result"
    }
   ],
   "source": [
    "missing_true_test.head(20)"
   ]
  },
  {
   "cell_type": "code",
   "execution_count": 36,
   "metadata": {},
   "outputs": [
    {
     "data": {
      "text/plain": [
       "Timestamp('2011-10-01 07:38:44.546000')"
      ]
     },
     "execution_count": 36,
     "metadata": {},
     "output_type": "execute_result"
    }
   ],
   "source": [
    "first_timestamp"
   ]
  },
  {
   "cell_type": "code",
   "execution_count": null,
   "metadata": {
    "collapsed": true
   },
   "outputs": [],
   "source": []
  }
 ],
 "metadata": {
  "kernelspec": {
   "display_name": "Python 3",
   "language": "python",
   "name": "python3"
  },
  "language_info": {
   "codemirror_mode": {
    "name": "ipython",
    "version": 3
   },
   "file_extension": ".py",
   "mimetype": "text/x-python",
   "name": "python",
   "nbconvert_exporter": "python",
   "pygments_lexer": "ipython3",
   "version": "3.5.4"
  },
  "toc": {
   "colors": {
    "hover_highlight": "#DAA520",
    "running_highlight": "#FF0000",
    "selected_highlight": "#FFD700"
   },
   "moveMenuLeft": true,
   "nav_menu": {
    "height": "48px",
    "width": "252px"
   },
   "navigate_menu": true,
   "number_sections": true,
   "sideBar": true,
   "threshold": 4,
   "toc_cell": false,
   "toc_section_display": "block",
   "toc_window_display": false
  }
 },
 "nbformat": 4,
 "nbformat_minor": 2
}
