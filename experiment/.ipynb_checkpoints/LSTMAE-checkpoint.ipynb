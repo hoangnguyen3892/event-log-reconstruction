{
 "cells": [
  {
   "cell_type": "markdown",
   "metadata": {},
   "source": [
    "**Outline:**\n",
    "- Build model and loss function\n",
    "- Train model\n",
    "- Observe valdidate\n",
    "- Test"
   ]
  },
  {
   "cell_type": "markdown",
   "metadata": {},
   "source": [
    "**To do:**\n",
    "- Hyperparameter tuning\n",
    "    + lr\n",
    "    + layer1, layer2\n",
    "    + betas"
   ]
  },
  {
   "cell_type": "markdown",
   "metadata": {},
   "source": [
    "**Modification**\n",
    "- Weight initialization with xavier uniform\n",
    "- Adam optimization\n",
    "- LR decay"
   ]
  },
  {
   "cell_type": "markdown",
   "metadata": {},
   "source": [
    "**To do:**\n",
    "- Add dropout\n",
    "- Implement another loss function"
   ]
  },
  {
   "cell_type": "code",
   "execution_count": 1,
   "metadata": {
    "collapsed": true
   },
   "outputs": [],
   "source": [
    "import importlib\n",
    "import argparse\n",
    "import os, sys\n",
    "import argparse\n",
    "import pandas as pd\n",
    "import numpy as np\n",
    "import pickle\n",
    "import time"
   ]
  },
  {
   "cell_type": "code",
   "execution_count": 2,
   "metadata": {
    "collapsed": true
   },
   "outputs": [],
   "source": [
    "import torch\n",
    "import torch.utils.data\n",
    "import torch.nn.functional as F\n",
    "import torch.nn as nn\n",
    "import torch.optim as optim\n",
    "import torch.optim.lr_scheduler\n",
    "from torch.autograd import Variable\n",
    "from torchvision import transforms"
   ]
  },
  {
   "cell_type": "code",
   "execution_count": 3,
   "metadata": {
    "collapsed": true
   },
   "outputs": [],
   "source": [
    "sys.path.insert(0, './../utils/')\n",
    "from utils import *\n",
    "from models import *"
   ]
  },
  {
   "cell_type": "code",
   "execution_count": 4,
   "metadata": {
    "collapsed": true
   },
   "outputs": [],
   "source": [
    "#Define parser\n",
    "#name = 'bpi_2012'\n",
    "#name = 'bpi_2013'\n",
    "name = 'small_log'\n",
    "#name = 'large_log'\n",
    "\n",
    "parser = {\n",
    "    'train': True,\n",
    "    'test': True,\n",
    "    'model_class': 'LSTMAE',\n",
    "    'model_name': ' ',\n",
    "    'data_dir': '../data/',\n",
    "    'data_file': name + '.csv',\n",
    "    'nan_pct': 0.3,\n",
    "    'input_dir': '../input/{}/'.format(name), \n",
    "    'batch_size' : 16,\n",
    "    'epochs' : 20,\n",
    "    'no_cuda' : False,\n",
    "    'seed' : 7,\n",
    "    'layer1': 20,\n",
    "#    'layer2': 100,\n",
    "    'early_stopping': 30,\n",
    "    'lr': 0.001,\n",
    "    'betas': (0.9, 0.99),   \n",
    "    'lr_decay': 0.99,\n",
    "}\n",
    "\n",
    "args = argparse.Namespace(**parser)\n",
    "args.output_dir = './output/{0}_{1}_{2}/'.format(name, args.nan_pct, args.model_class)"
   ]
  },
  {
   "cell_type": "code",
   "execution_count": 5,
   "metadata": {
    "collapsed": true
   },
   "outputs": [],
   "source": [
    "if not os.path.isdir(args.output_dir):\n",
    "    os.makedirs(args.output_dir)"
   ]
  },
  {
   "cell_type": "code",
   "execution_count": 6,
   "metadata": {
    "collapsed": true
   },
   "outputs": [],
   "source": [
    "args.cuda = not args.no_cuda and torch.cuda.is_available()"
   ]
  },
  {
   "cell_type": "code",
   "execution_count": 7,
   "metadata": {
    "collapsed": true
   },
   "outputs": [],
   "source": [
    "torch.manual_seed(args.seed)\n",
    "if args.cuda:\n",
    "    torch.cuda.manual_seed(args.seed)"
   ]
  },
  {
   "cell_type": "code",
   "execution_count": 8,
   "metadata": {
    "collapsed": true
   },
   "outputs": [],
   "source": [
    "kwargs = {'num_workers': 2, 'pin_memory': True} if args.cuda else {}"
   ]
  },
  {
   "cell_type": "code",
   "execution_count": 9,
   "metadata": {
    "collapsed": true
   },
   "outputs": [],
   "source": [
    "preprocessed_data_name = os.path.join(args.input_dir, 'preprocessed_data_{}.pkl'.format(args.nan_pct))\n",
    "with open(preprocessed_data_name, 'rb') as f:\n",
    "    min_max_storage = pickle.load(f)\n",
    "    complete_matrix_w_normalized_time_train = pickle.load(f)\n",
    "    missing_matrix_w_normalized_time_train = pickle.load(f)\n",
    "    avai_matrix_train = pickle.load(f)\n",
    "    nan_matrix_train = pickle.load(f)\n",
    "    complete_matrix_w_normalized_time_val = pickle.load(f)\n",
    "    missing_matrix_w_normalized_time_val = pickle.load(f)\n",
    "    avai_matrix_val = pickle.load(f)\n",
    "    nan_matrix_val = pickle.load(f)\n",
    "    pad_matrix_val = pickle.load(f)\n",
    "    complete_matrix_w_normalized_time_test = pickle.load(f)\n",
    "    missing_matrix_w_normalized_time_test = pickle.load(f)\n",
    "    avai_matrix_test = pickle.load(f)\n",
    "    nan_matrix_test = pickle.load(f)\n",
    "    pad_matrix_test = pickle.load(f)\n",
    "    cols_w_time = pickle.load(f)\n",
    "    cols_w_normalized_time = pickle.load(f)"
   ]
  },
  {
   "cell_type": "code",
   "execution_count": 10,
   "metadata": {
    "collapsed": true
   },
   "outputs": [],
   "source": [
    "file_name = os.path.join(args.input_dir, 'parameters_{}.pkl'.format(args.nan_pct))\n",
    "with open(file_name, 'rb') as f:\n",
    "    most_frequent_activity = pickle.load(f)\n",
    "    first_timestamp = pickle.load(f)\n",
    "    avai_instance = pickle.load(f)\n",
    "    nan_instance = pickle.load(f)\n",
    "    train_size = pickle.load(f)\n",
    "    val_size = pickle.load(f)\n",
    "    test_size = pickle.load(f)\n",
    "    train_row_num = pickle.load(f)\n",
    "    val_row_num = pickle.load(f)\n",
    "    test_row_num = pickle.load(f)"
   ]
  },
  {
   "cell_type": "markdown",
   "metadata": {},
   "source": [
    "# Load data"
   ]
  },
  {
   "cell_type": "markdown",
   "metadata": {},
   "source": [
    "## Train"
   ]
  },
  {
   "cell_type": "code",
   "execution_count": 11,
   "metadata": {
    "collapsed": true
   },
   "outputs": [],
   "source": [
    "complete_matrix_w_normalized_time_trainLoader = torch.utils.data.DataLoader(complete_matrix_w_normalized_time_train, \n",
    "                                                                            batch_size=args.batch_size, shuffle=False, \n",
    "                                                                            num_workers=2)\n",
    "missing_matrix_w_normalized_time_trainLoader = torch.utils.data.DataLoader(missing_matrix_w_normalized_time_train, \n",
    "                                                                           batch_size=args.batch_size, shuffle=False, \n",
    "                                                                           num_workers=2)\n",
    "avai_matrix_trainLoader = torch.utils.data.DataLoader(avai_matrix_train, \n",
    "                                                      batch_size=args.batch_size, shuffle=False, \n",
    "                                                      num_workers=2)"
   ]
  },
  {
   "cell_type": "code",
   "execution_count": 12,
   "metadata": {},
   "outputs": [
    {
     "data": {
      "text/plain": [
       "(1200, 14, 15)"
      ]
     },
     "execution_count": 12,
     "metadata": {},
     "output_type": "execute_result"
    }
   ],
   "source": [
    "complete_matrix_w_normalized_time_train.shape"
   ]
  },
  {
   "cell_type": "markdown",
   "metadata": {},
   "source": [
    "## Validate and test"
   ]
  },
  {
   "cell_type": "code",
   "execution_count": 13,
   "metadata": {
    "collapsed": true
   },
   "outputs": [],
   "source": [
    "normalized_complete_df_name = os.path.join(args.input_dir, 'normalized_complete_df_{}.csv'.format(args.nan_pct))\n",
    "normalized_complete_df = pd.read_csv(normalized_complete_df_name)\n",
    "\n",
    "normalized_missing_df_name = os.path.join(args.input_dir, 'normalized_missing_df_{}.csv'.format(args.nan_pct))\n",
    "normalized_missing_df = pd.read_csv(normalized_missing_df_name)"
   ]
  },
  {
   "cell_type": "code",
   "execution_count": 14,
   "metadata": {
    "collapsed": true
   },
   "outputs": [],
   "source": [
    "missing_true_val = normalized_missing_df[train_row_num:-test_row_num].reset_index(drop=True)\n",
    "complete_true_val = normalized_complete_df[train_row_num:-test_row_num].reset_index(drop=True)"
   ]
  },
  {
   "cell_type": "code",
   "execution_count": 15,
   "metadata": {
    "collapsed": true
   },
   "outputs": [],
   "source": [
    "missing_true_test = normalized_missing_df[-test_row_num:].reset_index(drop=True)\n",
    "complete_true_test = normalized_complete_df[-test_row_num:].reset_index(drop=True)"
   ]
  },
  {
   "cell_type": "code",
   "execution_count": 16,
   "metadata": {},
   "outputs": [
    {
     "data": {
      "text/plain": [
       "((5600, 5), (5600, 5))"
      ]
     },
     "execution_count": 16,
     "metadata": {},
     "output_type": "execute_result"
    }
   ],
   "source": [
    "missing_true_val.shape, missing_true_test.shape"
   ]
  },
  {
   "cell_type": "code",
   "execution_count": 17,
   "metadata": {
    "collapsed": true
   },
   "outputs": [],
   "source": [
    "nan_time_index_val, nan_activity_index_val = getnanindex(missing_true_val)"
   ]
  },
  {
   "cell_type": "code",
   "execution_count": 18,
   "metadata": {
    "collapsed": true
   },
   "outputs": [],
   "source": [
    "nan_time_index_test, nan_activity_index_test = getnanindex(missing_true_test)"
   ]
  },
  {
   "cell_type": "code",
   "execution_count": 19,
   "metadata": {},
   "outputs": [
    {
     "data": {
      "text/plain": [
       "CaseID                  0\n",
       "Activity             8381\n",
       "CompleteTimestamp    8419\n",
       "CumTimeInterval      8419\n",
       "NormalizedTime       8419\n",
       "dtype: int64"
      ]
     },
     "execution_count": 19,
     "metadata": {},
     "output_type": "execute_result"
    }
   ],
   "source": [
    "pd.isnull(normalized_missing_df).sum()"
   ]
  },
  {
   "cell_type": "code",
   "execution_count": 20,
   "metadata": {},
   "outputs": [
    {
     "data": {
      "text/plain": [
       "CaseID                  0\n",
       "Activity             1711\n",
       "CompleteTimestamp    1649\n",
       "CumTimeInterval      1649\n",
       "NormalizedTime       1649\n",
       "dtype: int64"
      ]
     },
     "execution_count": 20,
     "metadata": {},
     "output_type": "execute_result"
    }
   ],
   "source": [
    "pd.isnull(missing_true_val).sum()"
   ]
  },
  {
   "cell_type": "code",
   "execution_count": 21,
   "metadata": {},
   "outputs": [
    {
     "data": {
      "text/plain": [
       "CaseID                  0\n",
       "Activity             1648\n",
       "CompleteTimestamp    1714\n",
       "CumTimeInterval      1714\n",
       "NormalizedTime       1714\n",
       "dtype: int64"
      ]
     },
     "execution_count": 21,
     "metadata": {},
     "output_type": "execute_result"
    }
   ],
   "source": [
    "pd.isnull(missing_true_test).sum()"
   ]
  },
  {
   "cell_type": "markdown",
   "metadata": {},
   "source": [
    "## Define model"
   ]
  },
  {
   "cell_type": "code",
   "execution_count": 22,
   "metadata": {
    "collapsed": true
   },
   "outputs": [],
   "source": [
    "if args.model_class == 'LSTMAE':\n",
    "    model = LSTMAE(complete_matrix_w_normalized_time_train.shape[2], args.layer1, 1, args.cuda)\n",
    "    \n",
    "if args.cuda:\n",
    "    model.cuda()"
   ]
  },
  {
   "cell_type": "code",
   "execution_count": 23,
   "metadata": {},
   "outputs": [
    {
     "data": {
      "text/plain": [
       "<bound method Module.parameters of LSTMAE (\n",
       "  (encoder): EncoderRNN (\n",
       "    (lstm): LSTM(15, 20, batch_first=True)\n",
       "  )\n",
       "  (decoder): DecoderRNN (\n",
       "    (lstm): LSTM(20, 20, batch_first=True)\n",
       "    (linear): Linear (20 -> 15)\n",
       "    (sigmoid): Sigmoid ()\n",
       "  )\n",
       ")>"
      ]
     },
     "execution_count": 23,
     "metadata": {},
     "output_type": "execute_result"
    }
   ],
   "source": [
    "model.parameters"
   ]
  },
  {
   "cell_type": "markdown",
   "metadata": {},
   "source": [
    "## Define loss"
   ]
  },
  {
   "cell_type": "code",
   "execution_count": 24,
   "metadata": {
    "collapsed": true
   },
   "outputs": [],
   "source": [
    "# Define loss\n",
    "def loss_function(recon_x, x, avai_mask): \n",
    "    BCE = F.binary_cross_entropy(recon_x, x, weight=avai_mask, size_average=False)\n",
    "    return BCE"
   ]
  },
  {
   "cell_type": "code",
   "execution_count": 25,
   "metadata": {
    "collapsed": true
   },
   "outputs": [],
   "source": [
    "optimizer = optim.Adam(model.parameters(), lr=args.lr, betas=args.betas)"
   ]
  },
  {
   "cell_type": "code",
   "execution_count": 26,
   "metadata": {
    "collapsed": true
   },
   "outputs": [],
   "source": [
    "#Adjust learning rate per epoch: http://pytorch.org/docs/master/optim.html?highlight=adam#torch.optim.Adam\n",
    "\n",
    "# Method 1:\n",
    "lambda1 = lambda epoch: args.lr_decay ** epoch\n",
    "scheduler = torch.optim.lr_scheduler.LambdaLR(optimizer, lr_lambda=[lambda1])\n",
    "\n",
    "# Method 2:\n",
    "#scheduler = torch.optim.lr_scheduler.ReduceLROnPlateau(optimizer, 'min', patience=10)"
   ]
  },
  {
   "cell_type": "markdown",
   "metadata": {},
   "source": [
    "## Utils"
   ]
  },
  {
   "cell_type": "code",
   "execution_count": 27,
   "metadata": {
    "collapsed": true
   },
   "outputs": [],
   "source": [
    "def save_model(model, epoch, score):\n",
    "    model_file = os.path.join(args.output_dir, 'model_{}_epoch{}_score{:.4f}.pth'.format(args.model_class, epoch, score))\n",
    "    torch.save(model.state_dict(), model_file)"
   ]
  },
  {
   "cell_type": "code",
   "execution_count": 28,
   "metadata": {
    "collapsed": true
   },
   "outputs": [],
   "source": [
    "def load_model(model, model_name):\n",
    "    model_file = os.path.join(args.output_dir, model_name)\n",
    "    assert os.path.isfile(model_file), 'Error: no model found!'\n",
    "    model_state = torch.load(model_file)\n",
    "    model.load_state_dict(model_state)"
   ]
  },
  {
   "cell_type": "code",
   "execution_count": 29,
   "metadata": {
    "collapsed": true
   },
   "outputs": [],
   "source": [
    "def val(model, missing_matrix_w_normalized_time_val, \n",
    "        complete_matrix_w_normalized_time_val, \n",
    "        avai_matrix_val, nan_matrix_val):\n",
    "    \n",
    "    model.eval()\n",
    "    m_val = missing_matrix_w_normalized_time_val\n",
    "    m_val = Variable(torch.Tensor(m_val).float())\n",
    "    \n",
    "    c_val = complete_matrix_w_normalized_time_val\n",
    "    c_val = Variable(torch.Tensor(c_val).float())\n",
    "    \n",
    "    avai_matrix_val = Variable(torch.Tensor(avai_matrix_val).float())\n",
    "    nan_matrix_val = Variable(torch.Tensor(nan_matrix_val).float())\n",
    "    \n",
    "    if args.cuda:\n",
    "        m_val = m_val.cuda()\n",
    "        c_val = c_val.cuda()\n",
    "        avai_matrix_val = avai_matrix_val.cuda()\n",
    "        nan_matrix_val = nan_matrix_val.cuda()\n",
    "        \n",
    "    recon_data = model(m_val)\n",
    "        \n",
    "    recon = getProbability(recon_data)\n",
    "    \n",
    "    recon_2d = recon.view(recon.size(0)*recon.size(1), recon.size(2))\n",
    "    gt_2d = c_val.view(recon.size(0)*recon.size(1), recon.size(2))\n",
    "    avai_matrix_2d = avai_matrix_val.view(recon.size(0)*recon.size(1), recon.size(2))\n",
    "    nan_matrix_2d = nan_matrix_val.view(recon.size(0)*recon.size(1), recon.size(2))\n",
    "    \n",
    "    submission = torch.add(recon_2d*nan_matrix_2d, gt_2d*avai_matrix_2d)\n",
    "    \n",
    "    #Time\n",
    "    predicted_time = submission.data[:, 0].cpu().numpy()\n",
    "    gt_time = gt_2d.data[:, 0].cpu().numpy()\n",
    "    mae = mean_absolute_error(gt_time, predicted_time)\n",
    "    \n",
    "    #Activity\n",
    "    predicted_act = submission.data[:, 1:].cpu().numpy()\n",
    "    gt_act = gt_2d.data[:, 1:].cpu().numpy()\n",
    "    \n",
    "    a = predicted_act[np.any(predicted_act != 0, axis=1)]\n",
    "    b = gt_act[np.any(gt_act != 0, axis=1)]   \n",
    "    \n",
    "    predicted_labels = np.argmax(a, axis=1)\n",
    "    gt_labels = np.argmax(b, axis=1)\n",
    "    acc = accuracy_score(gt_labels, predicted_labels)\n",
    "    \n",
    "    return mae+1/acc"
   ]
  },
  {
   "cell_type": "code",
   "execution_count": 30,
   "metadata": {},
   "outputs": [
    {
     "data": {
      "text/html": [
       "<div>\n",
       "<style>\n",
       "    .dataframe thead tr:only-child th {\n",
       "        text-align: right;\n",
       "    }\n",
       "\n",
       "    .dataframe thead th {\n",
       "        text-align: left;\n",
       "    }\n",
       "\n",
       "    .dataframe tbody tr th {\n",
       "        vertical-align: top;\n",
       "    }\n",
       "</style>\n",
       "<table border=\"1\" class=\"dataframe\">\n",
       "  <thead>\n",
       "    <tr style=\"text-align: right;\">\n",
       "      <th></th>\n",
       "      <th>CaseID</th>\n",
       "      <th>Activity</th>\n",
       "      <th>CompleteTimestamp</th>\n",
       "      <th>CumTimeInterval</th>\n",
       "      <th>NormalizedTime</th>\n",
       "    </tr>\n",
       "  </thead>\n",
       "  <tbody>\n",
       "    <tr>\n",
       "      <th>0</th>\n",
       "      <td>1201</td>\n",
       "      <td>Activity A</td>\n",
       "      <td>1970-01-01 09:00:00</td>\n",
       "      <td>0.0</td>\n",
       "      <td>0.000000</td>\n",
       "    </tr>\n",
       "    <tr>\n",
       "      <th>1</th>\n",
       "      <td>1201</td>\n",
       "      <td>Activity B</td>\n",
       "      <td>1970-01-01 10:00:00</td>\n",
       "      <td>3600.0</td>\n",
       "      <td>0.125000</td>\n",
       "    </tr>\n",
       "    <tr>\n",
       "      <th>2</th>\n",
       "      <td>1201</td>\n",
       "      <td>NaN</td>\n",
       "      <td>1970-01-01 11:00:00</td>\n",
       "      <td>7200.0</td>\n",
       "      <td>0.249999</td>\n",
       "    </tr>\n",
       "    <tr>\n",
       "      <th>3</th>\n",
       "      <td>1201</td>\n",
       "      <td>Activity D</td>\n",
       "      <td>1970-01-01 12:00:00</td>\n",
       "      <td>10800.0</td>\n",
       "      <td>0.374999</td>\n",
       "    </tr>\n",
       "    <tr>\n",
       "      <th>4</th>\n",
       "      <td>1201</td>\n",
       "      <td>Activity E</td>\n",
       "      <td>1970-01-01 13:00:00</td>\n",
       "      <td>14400.0</td>\n",
       "      <td>0.499998</td>\n",
       "    </tr>\n",
       "  </tbody>\n",
       "</table>\n",
       "</div>"
      ],
      "text/plain": [
       "   CaseID    Activity    CompleteTimestamp  CumTimeInterval  NormalizedTime\n",
       "0    1201  Activity A  1970-01-01 09:00:00              0.0        0.000000\n",
       "1    1201  Activity B  1970-01-01 10:00:00           3600.0        0.125000\n",
       "2    1201         NaN  1970-01-01 11:00:00           7200.0        0.249999\n",
       "3    1201  Activity D  1970-01-01 12:00:00          10800.0        0.374999\n",
       "4    1201  Activity E  1970-01-01 13:00:00          14400.0        0.499998"
      ]
     },
     "execution_count": 30,
     "metadata": {},
     "output_type": "execute_result"
    }
   ],
   "source": [
    "missing_true_val.head()"
   ]
  },
  {
   "cell_type": "code",
   "execution_count": 31,
   "metadata": {},
   "outputs": [
    {
     "data": {
      "text/html": [
       "<div>\n",
       "<style>\n",
       "    .dataframe thead tr:only-child th {\n",
       "        text-align: right;\n",
       "    }\n",
       "\n",
       "    .dataframe thead th {\n",
       "        text-align: left;\n",
       "    }\n",
       "\n",
       "    .dataframe tbody tr th {\n",
       "        vertical-align: top;\n",
       "    }\n",
       "</style>\n",
       "<table border=\"1\" class=\"dataframe\">\n",
       "  <thead>\n",
       "    <tr style=\"text-align: right;\">\n",
       "      <th></th>\n",
       "      <th>CaseID</th>\n",
       "      <th>Activity</th>\n",
       "      <th>CompleteTimestamp</th>\n",
       "      <th>CumTimeInterval</th>\n",
       "      <th>NormalizedTime</th>\n",
       "    </tr>\n",
       "  </thead>\n",
       "  <tbody>\n",
       "    <tr>\n",
       "      <th>0</th>\n",
       "      <td>1201</td>\n",
       "      <td>Activity A</td>\n",
       "      <td>1970-01-01 09:00:00</td>\n",
       "      <td>0.0</td>\n",
       "      <td>0.000000</td>\n",
       "    </tr>\n",
       "    <tr>\n",
       "      <th>1</th>\n",
       "      <td>1201</td>\n",
       "      <td>Activity B</td>\n",
       "      <td>1970-01-01 10:00:00</td>\n",
       "      <td>3600.0</td>\n",
       "      <td>0.125000</td>\n",
       "    </tr>\n",
       "    <tr>\n",
       "      <th>2</th>\n",
       "      <td>1201</td>\n",
       "      <td>Activity C</td>\n",
       "      <td>1970-01-01 11:00:00</td>\n",
       "      <td>7200.0</td>\n",
       "      <td>0.249999</td>\n",
       "    </tr>\n",
       "    <tr>\n",
       "      <th>3</th>\n",
       "      <td>1201</td>\n",
       "      <td>Activity D</td>\n",
       "      <td>1970-01-01 12:00:00</td>\n",
       "      <td>10800.0</td>\n",
       "      <td>0.374999</td>\n",
       "    </tr>\n",
       "    <tr>\n",
       "      <th>4</th>\n",
       "      <td>1201</td>\n",
       "      <td>Activity E</td>\n",
       "      <td>1970-01-01 13:00:00</td>\n",
       "      <td>14400.0</td>\n",
       "      <td>0.499998</td>\n",
       "    </tr>\n",
       "  </tbody>\n",
       "</table>\n",
       "</div>"
      ],
      "text/plain": [
       "   CaseID    Activity    CompleteTimestamp  CumTimeInterval  NormalizedTime\n",
       "0    1201  Activity A  1970-01-01 09:00:00              0.0        0.000000\n",
       "1    1201  Activity B  1970-01-01 10:00:00           3600.0        0.125000\n",
       "2    1201  Activity C  1970-01-01 11:00:00           7200.0        0.249999\n",
       "3    1201  Activity D  1970-01-01 12:00:00          10800.0        0.374999\n",
       "4    1201  Activity E  1970-01-01 13:00:00          14400.0        0.499998"
      ]
     },
     "execution_count": 31,
     "metadata": {},
     "output_type": "execute_result"
    }
   ],
   "source": [
    "complete_true_val.head()"
   ]
  },
  {
   "cell_type": "markdown",
   "metadata": {},
   "source": [
    "# Train model"
   ]
  },
  {
   "cell_type": "code",
   "execution_count": 32,
   "metadata": {
    "collapsed": true
   },
   "outputs": [],
   "source": [
    "def train(epoch, model, optimizer):\n",
    "    model.train()\n",
    "    train_loss = 0\n",
    "    for batch_idx, (m_data, c_data, avai_mask) in enumerate(zip(missing_matrix_w_normalized_time_trainLoader,\n",
    "                                                                complete_matrix_w_normalized_time_trainLoader,\n",
    "                                                                avai_matrix_trainLoader)):\n",
    "        \n",
    "        c_data = Variable(c_data.float())\n",
    "        m_data = Variable(m_data.float())\n",
    "        avai_mask = Variable(avai_mask.float())\n",
    "      \n",
    "        if args.cuda:\n",
    "            c_data = c_data.cuda()\n",
    "            m_data = m_data.cuda()\n",
    "            avai_mask = avai_mask.cuda()\n",
    "            \n",
    "        optimizer.zero_grad()\n",
    "        \n",
    "        recon_data = model(m_data)\n",
    "        \n",
    "        loss = loss_function(recon_data, c_data, avai_mask)\n",
    "        loss.backward()\n",
    "        train_loss += loss.data[0]\n",
    "        optimizer.step()\n",
    "        \n",
    "    return train_loss / len(complete_matrix_w_normalized_time_trainLoader.dataset)"
   ]
  },
  {
   "cell_type": "code",
   "execution_count": 33,
   "metadata": {
    "scrolled": false
   },
   "outputs": [
    {
     "name": "stdout",
     "output_type": "stream",
     "text": [
      "====> Epoch 1 | Train time: 475.5094 ms| End time: 545.9228 ms | Train loss: 77.6448 | Val score: 1.4417\n",
      "====> Epoch 2 | Train time: 365.1736 ms| End time: 432.9326 ms | Train loss: 42.7822 | Val score: 1.4198\n",
      "====> Epoch 3 | Train time: 368.4940 ms| End time: 437.5484 ms | Train loss: 36.6686 | Val score: 1.2507\n",
      "====> Epoch 4 | Train time: 379.0486 ms| End time: 447.7403 ms | Train loss: 33.2917 | Val score: 1.2260\n",
      "====> Epoch 5 | Train time: 379.3921 ms| End time: 447.7327 ms | Train loss: 30.3590 | Val score: 1.1932\n",
      "====> Epoch 6 | Train time: 368.8996 ms| End time: 437.1231 ms | Train loss: 27.9024 | Val score: 1.1682\n",
      "====> Epoch 7 | Train time: 373.8098 ms| End time: 436.4302 ms | Train loss: 25.9457 | Val score: 1.1377\n",
      "====> Epoch 8 | Train time: 364.8400 ms| End time: 458.6463 ms | Train loss: 24.2831 | Val score: 1.1367\n",
      "====> Epoch 9 | Train time: 362.3147 ms| End time: 430.0632 ms | Train loss: 22.7272 | Val score: 1.1340\n",
      "====> Epoch 10 | Train time: 377.8789 ms| End time: 445.6153 ms | Train loss: 21.2896 | Val score: 1.1304\n",
      "====> Epoch 11 | Train time: 370.6906 ms| End time: 438.5281 ms | Train loss: 19.9533 | Val score: 1.1269\n",
      "====> Epoch 12 | Train time: 363.8175 ms| End time: 431.9596 ms | Train loss: 18.6353 | Val score: 1.1229\n",
      "====> Epoch 13 | Train time: 371.7062 ms| End time: 434.8738 ms | Train loss: 17.2777 | Val score: 1.1158\n",
      "====> Epoch 14 | Train time: 372.9253 ms| End time: 436.9295 ms | Train loss: 15.9311 | Val score: 1.1131\n",
      "====> Epoch 15 | Train time: 367.7602 ms| End time: 436.0981 ms | Train loss: 14.6706 | Val score: 1.1100\n",
      "====> Epoch 16 | Train time: 363.4093 ms| End time: 453.3265 ms | Train loss: 13.4870 | Val score: 1.1074\n",
      "====> Epoch 17 | Train time: 366.3769 ms| End time: 439.1947 ms | Train loss: 12.3612 | Val score: 1.1066\n",
      "====> Epoch 18 | Train time: 366.7495 ms| End time: 434.4113 ms | Train loss: 11.3171 | Val score: 1.1084\n",
      "====> Epoch 19 | Train time: 361.7356 ms| End time: 429.9045 ms | Train loss: 10.3584 | Val score: 1.1131\n",
      "====> Epoch 20 | Train time: 378.5610 ms| End time: 446.5551 ms | Train loss: 9.5208 | Val score: 1.1157\n"
     ]
    }
   ],
   "source": [
    "if args.train:\n",
    "    for epoch in range(1, args.epochs + 1):\n",
    "        init = time.time()\n",
    "        \n",
    "        #method 1 scheduler\n",
    "        scheduler.step()\n",
    "        train_loss = train(epoch, model, optimizer)\n",
    "        end_train = time.time()\n",
    "        \n",
    "        val_score = val(model, missing_matrix_w_normalized_time_val, complete_matrix_w_normalized_time_val, \n",
    "                        avai_matrix_val, nan_matrix_val)\n",
    "        \n",
    "        '''\n",
    "        #save_model(model, epoch, val_score)\n",
    "        if epoch == 1:\n",
    "            current_best = val_score\n",
    "            save_model(model, epoch, val_score)\n",
    "        \n",
    "        else:\n",
    "            if val_score < current_best:\n",
    "                current_best = val_score\n",
    "                save_model(model, epoch, val_score)\n",
    "        \n",
    "        #method 2 scheduler\n",
    "        #scheduler.step(val_score)\n",
    "        '''\n",
    "        \n",
    "        end = time.time()\n",
    "        print('====> Epoch {} | Train time: {:.4f} ms| End time: {:.4f} ms | Train loss: {:.4f} | Val score: {:.4f}'.\n",
    "              format(epoch, (end_train-init)*1000, (end-init)*1000, train_loss, val_score))\n",
    "else:\n",
    "    load_model(model, args.model_name)"
   ]
  },
  {
   "cell_type": "markdown",
   "metadata": {
    "collapsed": true
   },
   "source": [
    "# Predict and evaluate"
   ]
  },
  {
   "cell_type": "code",
   "execution_count": 34,
   "metadata": {},
   "outputs": [
    {
     "name": "stdout",
     "output_type": "stream",
     "text": [
      "Predicting...\n",
      "\n",
      "\n",
      "Converting to dataframe...\n",
      "Transforming Normalized Time to Time...\n",
      "Getting submission...\n"
     ]
    },
    {
     "name": "stderr",
     "output_type": "stream",
     "text": [
      "/home/pllab/miniconda2/envs/pydata/lib/python3.5/site-packages/pandas/core/indexing.py:517: SettingWithCopyWarning: \n",
      "A value is trying to be set on a copy of a slice from a DataFrame.\n",
      "Try using .loc[row_indexer,col_indexer] = value instead\n",
      "\n",
      "See the caveats in the documentation: http://pandas.pydata.org/pandas-docs/stable/indexing.html#indexing-view-versus-copy\n",
      "  self.obj[item] = s\n"
     ]
    },
    {
     "name": "stdout",
     "output_type": "stream",
     "text": [
      "Testing...\n",
      "Number of missing Time: 1714\n",
      "Mean Absolute Error: 0.0212 day(s)\n",
      "Root Mean Squared Error: 0.0341 day(s)\n",
      "Number of missing Activity: 1648\n",
      "Accuracy: 68.99%\n",
      "\n",
      "\n",
      "Saving submission...\n",
      "Done!\n"
     ]
    }
   ],
   "source": [
    "if args.test:\n",
    "    m_test = missing_matrix_w_normalized_time_test\n",
    "    m_test = Variable(torch.Tensor(m_test).float())\n",
    "    \n",
    "    if args.cuda:\n",
    "        m_test = m_test.cuda()\n",
    "    \n",
    "    print('Predicting...')\n",
    "    recon_test = model(m_test)\n",
    "    \n",
    "    print('\\n')\n",
    "    print('Converting to dataframe...')\n",
    "    recon_df_w_normalized_time = convert2df(recon_test, pad_matrix_test, cols_w_normalized_time, test_row_num)\n",
    "    \n",
    "    print('Transforming Normalized Time to Time...')\n",
    "    recon_df_w_time = getDfWithTime(recon_df_w_normalized_time, missing_true_test, min_max_storage)\n",
    "    \n",
    "    print('Getting submission...')\n",
    "    submission_df = getSubmission(recon_df_w_time, missing_true_test, complete_true_test, first_timestamp)\n",
    "    submission = fixTime(submission_df)\n",
    "        \n",
    "    print('Testing...')\n",
    "    mae_time, rmse_time, acc = evaluation(submission, nan_time_index_test, nan_activity_index_test,show=True)\n",
    "    \n",
    "    print('\\n')\n",
    "    print('Saving submission...')\n",
    "    submission_df.to_csv(args.output_dir+'submission.csv', index=False)\n",
    "    print('Done!')"
   ]
  },
  {
   "cell_type": "code",
   "execution_count": 35,
   "metadata": {},
   "outputs": [
    {
     "data": {
      "text/html": [
       "<div>\n",
       "<style>\n",
       "    .dataframe thead tr:only-child th {\n",
       "        text-align: right;\n",
       "    }\n",
       "\n",
       "    .dataframe thead th {\n",
       "        text-align: left;\n",
       "    }\n",
       "\n",
       "    .dataframe tbody tr th {\n",
       "        vertical-align: top;\n",
       "    }\n",
       "</style>\n",
       "<table border=\"1\" class=\"dataframe\">\n",
       "  <thead>\n",
       "    <tr style=\"text-align: right;\">\n",
       "      <th></th>\n",
       "      <th>CaseID</th>\n",
       "      <th>TrueActivity</th>\n",
       "      <th>PredictedActivity</th>\n",
       "      <th>TrueTime</th>\n",
       "      <th>PredictedTime</th>\n",
       "      <th>TrueCompleteTimestamp</th>\n",
       "      <th>PredictedCompleteTimestamp</th>\n",
       "    </tr>\n",
       "  </thead>\n",
       "  <tbody>\n",
       "    <tr>\n",
       "      <th>0</th>\n",
       "      <td>1601</td>\n",
       "      <td>Activity A</td>\n",
       "      <td>Activity A</td>\n",
       "      <td>0.0</td>\n",
       "      <td>7380.644009</td>\n",
       "      <td>1970-01-01 09:00:00</td>\n",
       "      <td>1970-01-01 11:03:00.644009</td>\n",
       "    </tr>\n",
       "    <tr>\n",
       "      <th>1</th>\n",
       "      <td>1601</td>\n",
       "      <td>Activity B</td>\n",
       "      <td>Activity B</td>\n",
       "      <td>3600.0</td>\n",
       "      <td>9419.941149</td>\n",
       "      <td>1970-01-01 10:00:00</td>\n",
       "      <td>1970-01-01 11:36:59.941149</td>\n",
       "    </tr>\n",
       "    <tr>\n",
       "      <th>2</th>\n",
       "      <td>1601</td>\n",
       "      <td>Activity C</td>\n",
       "      <td>Activity C</td>\n",
       "      <td>7200.0</td>\n",
       "      <td>7200.000000</td>\n",
       "      <td>1970-01-01 11:00:00</td>\n",
       "      <td>1970-01-01 11:00:00</td>\n",
       "    </tr>\n",
       "    <tr>\n",
       "      <th>3</th>\n",
       "      <td>1601</td>\n",
       "      <td>Activity D</td>\n",
       "      <td>Activity D</td>\n",
       "      <td>10800.0</td>\n",
       "      <td>10800.000000</td>\n",
       "      <td>1970-01-01 12:00:00</td>\n",
       "      <td>1970-01-01 12:00:00</td>\n",
       "    </tr>\n",
       "    <tr>\n",
       "      <th>4</th>\n",
       "      <td>1601</td>\n",
       "      <td>Activity E</td>\n",
       "      <td>Activity E</td>\n",
       "      <td>14400.0</td>\n",
       "      <td>14400.000000</td>\n",
       "      <td>1970-01-01 13:00:00</td>\n",
       "      <td>1970-01-01 13:00:00</td>\n",
       "    </tr>\n",
       "    <tr>\n",
       "      <th>5</th>\n",
       "      <td>1601</td>\n",
       "      <td>Activity G</td>\n",
       "      <td>Activity G</td>\n",
       "      <td>18000.0</td>\n",
       "      <td>18343.631855</td>\n",
       "      <td>1970-01-01 14:00:00</td>\n",
       "      <td>1970-01-01 14:05:43.631855</td>\n",
       "    </tr>\n",
       "    <tr>\n",
       "      <th>6</th>\n",
       "      <td>1601</td>\n",
       "      <td>Activity M</td>\n",
       "      <td>Activity M</td>\n",
       "      <td>18000.0</td>\n",
       "      <td>18000.000000</td>\n",
       "      <td>1970-01-01 14:00:00</td>\n",
       "      <td>1970-01-01 14:00:00</td>\n",
       "    </tr>\n",
       "    <tr>\n",
       "      <th>7</th>\n",
       "      <td>1601</td>\n",
       "      <td>Activity K</td>\n",
       "      <td>Activity K</td>\n",
       "      <td>18000.0</td>\n",
       "      <td>18000.000000</td>\n",
       "      <td>1970-01-01 14:00:00</td>\n",
       "      <td>1970-01-01 14:00:00</td>\n",
       "    </tr>\n",
       "    <tr>\n",
       "      <th>8</th>\n",
       "      <td>1601</td>\n",
       "      <td>Activity I</td>\n",
       "      <td>Activity I</td>\n",
       "      <td>21600.0</td>\n",
       "      <td>21600.000000</td>\n",
       "      <td>1970-01-01 15:00:00</td>\n",
       "      <td>1970-01-01 15:00:00</td>\n",
       "    </tr>\n",
       "    <tr>\n",
       "      <th>9</th>\n",
       "      <td>1601</td>\n",
       "      <td>Activity J</td>\n",
       "      <td>Activity J</td>\n",
       "      <td>21600.0</td>\n",
       "      <td>20430.926705</td>\n",
       "      <td>1970-01-01 15:00:00</td>\n",
       "      <td>1970-01-01 14:40:30.926705</td>\n",
       "    </tr>\n",
       "    <tr>\n",
       "      <th>10</th>\n",
       "      <td>1601</td>\n",
       "      <td>Activity N</td>\n",
       "      <td>Activity L</td>\n",
       "      <td>21600.0</td>\n",
       "      <td>21600.000000</td>\n",
       "      <td>1970-01-01 15:00:00</td>\n",
       "      <td>1970-01-01 15:00:00</td>\n",
       "    </tr>\n",
       "    <tr>\n",
       "      <th>11</th>\n",
       "      <td>1601</td>\n",
       "      <td>Activity L</td>\n",
       "      <td>Activity L</td>\n",
       "      <td>21600.0</td>\n",
       "      <td>20948.024070</td>\n",
       "      <td>1970-01-01 15:00:00</td>\n",
       "      <td>1970-01-01 14:49:08.024070</td>\n",
       "    </tr>\n",
       "    <tr>\n",
       "      <th>12</th>\n",
       "      <td>1601</td>\n",
       "      <td>Activity H</td>\n",
       "      <td>Activity H</td>\n",
       "      <td>25200.0</td>\n",
       "      <td>25200.000000</td>\n",
       "      <td>1970-01-01 16:00:00</td>\n",
       "      <td>1970-01-01 16:00:00</td>\n",
       "    </tr>\n",
       "    <tr>\n",
       "      <th>13</th>\n",
       "      <td>1601</td>\n",
       "      <td>Activity F</td>\n",
       "      <td>Activity F</td>\n",
       "      <td>28800.0</td>\n",
       "      <td>24795.707538</td>\n",
       "      <td>1970-01-01 17:00:00</td>\n",
       "      <td>1970-01-01 15:53:15.707538</td>\n",
       "    </tr>\n",
       "    <tr>\n",
       "      <th>14</th>\n",
       "      <td>1602</td>\n",
       "      <td>Activity A</td>\n",
       "      <td>Activity A</td>\n",
       "      <td>0.0</td>\n",
       "      <td>0.000000</td>\n",
       "      <td>1970-01-01 09:00:00</td>\n",
       "      <td>1970-01-01 09:00:00</td>\n",
       "    </tr>\n",
       "    <tr>\n",
       "      <th>15</th>\n",
       "      <td>1602</td>\n",
       "      <td>Activity B</td>\n",
       "      <td>Activity B</td>\n",
       "      <td>3600.0</td>\n",
       "      <td>2832.559841</td>\n",
       "      <td>1970-01-01 10:00:00</td>\n",
       "      <td>1970-01-01 09:47:12.559841</td>\n",
       "    </tr>\n",
       "    <tr>\n",
       "      <th>16</th>\n",
       "      <td>1602</td>\n",
       "      <td>Activity C</td>\n",
       "      <td>Activity C</td>\n",
       "      <td>7200.0</td>\n",
       "      <td>7200.000000</td>\n",
       "      <td>1970-01-01 11:00:00</td>\n",
       "      <td>1970-01-01 11:00:00</td>\n",
       "    </tr>\n",
       "    <tr>\n",
       "      <th>17</th>\n",
       "      <td>1602</td>\n",
       "      <td>Activity D</td>\n",
       "      <td>Activity D</td>\n",
       "      <td>10800.0</td>\n",
       "      <td>10800.000000</td>\n",
       "      <td>1970-01-01 12:00:00</td>\n",
       "      <td>1970-01-01 12:00:00</td>\n",
       "    </tr>\n",
       "    <tr>\n",
       "      <th>18</th>\n",
       "      <td>1602</td>\n",
       "      <td>Activity E</td>\n",
       "      <td>Activity E</td>\n",
       "      <td>14400.0</td>\n",
       "      <td>14400.000000</td>\n",
       "      <td>1970-01-01 13:00:00</td>\n",
       "      <td>1970-01-01 13:00:00</td>\n",
       "    </tr>\n",
       "    <tr>\n",
       "      <th>19</th>\n",
       "      <td>1602</td>\n",
       "      <td>Activity K</td>\n",
       "      <td>Activity G</td>\n",
       "      <td>18000.0</td>\n",
       "      <td>15065.365207</td>\n",
       "      <td>1970-01-01 14:00:00</td>\n",
       "      <td>1970-01-01 13:11:05.365207</td>\n",
       "    </tr>\n",
       "  </tbody>\n",
       "</table>\n",
       "</div>"
      ],
      "text/plain": [
       "    CaseID TrueActivity PredictedActivity  TrueTime  PredictedTime  \\\n",
       "0     1601   Activity A        Activity A       0.0    7380.644009   \n",
       "1     1601   Activity B        Activity B    3600.0    9419.941149   \n",
       "2     1601   Activity C        Activity C    7200.0    7200.000000   \n",
       "3     1601   Activity D        Activity D   10800.0   10800.000000   \n",
       "4     1601   Activity E        Activity E   14400.0   14400.000000   \n",
       "5     1601   Activity G        Activity G   18000.0   18343.631855   \n",
       "6     1601   Activity M        Activity M   18000.0   18000.000000   \n",
       "7     1601   Activity K        Activity K   18000.0   18000.000000   \n",
       "8     1601   Activity I        Activity I   21600.0   21600.000000   \n",
       "9     1601   Activity J        Activity J   21600.0   20430.926705   \n",
       "10    1601   Activity N        Activity L   21600.0   21600.000000   \n",
       "11    1601   Activity L        Activity L   21600.0   20948.024070   \n",
       "12    1601   Activity H        Activity H   25200.0   25200.000000   \n",
       "13    1601   Activity F        Activity F   28800.0   24795.707538   \n",
       "14    1602   Activity A        Activity A       0.0       0.000000   \n",
       "15    1602   Activity B        Activity B    3600.0    2832.559841   \n",
       "16    1602   Activity C        Activity C    7200.0    7200.000000   \n",
       "17    1602   Activity D        Activity D   10800.0   10800.000000   \n",
       "18    1602   Activity E        Activity E   14400.0   14400.000000   \n",
       "19    1602   Activity K        Activity G   18000.0   15065.365207   \n",
       "\n",
       "   TrueCompleteTimestamp  PredictedCompleteTimestamp  \n",
       "0    1970-01-01 09:00:00  1970-01-01 11:03:00.644009  \n",
       "1    1970-01-01 10:00:00  1970-01-01 11:36:59.941149  \n",
       "2    1970-01-01 11:00:00         1970-01-01 11:00:00  \n",
       "3    1970-01-01 12:00:00         1970-01-01 12:00:00  \n",
       "4    1970-01-01 13:00:00         1970-01-01 13:00:00  \n",
       "5    1970-01-01 14:00:00  1970-01-01 14:05:43.631855  \n",
       "6    1970-01-01 14:00:00         1970-01-01 14:00:00  \n",
       "7    1970-01-01 14:00:00         1970-01-01 14:00:00  \n",
       "8    1970-01-01 15:00:00         1970-01-01 15:00:00  \n",
       "9    1970-01-01 15:00:00  1970-01-01 14:40:30.926705  \n",
       "10   1970-01-01 15:00:00         1970-01-01 15:00:00  \n",
       "11   1970-01-01 15:00:00  1970-01-01 14:49:08.024070  \n",
       "12   1970-01-01 16:00:00         1970-01-01 16:00:00  \n",
       "13   1970-01-01 17:00:00  1970-01-01 15:53:15.707538  \n",
       "14   1970-01-01 09:00:00         1970-01-01 09:00:00  \n",
       "15   1970-01-01 10:00:00  1970-01-01 09:47:12.559841  \n",
       "16   1970-01-01 11:00:00         1970-01-01 11:00:00  \n",
       "17   1970-01-01 12:00:00         1970-01-01 12:00:00  \n",
       "18   1970-01-01 13:00:00         1970-01-01 13:00:00  \n",
       "19   1970-01-01 14:00:00  1970-01-01 13:11:05.365207  "
      ]
     },
     "execution_count": 35,
     "metadata": {},
     "output_type": "execute_result"
    }
   ],
   "source": [
    "submission_df.head(20)"
   ]
  },
  {
   "cell_type": "code",
   "execution_count": 36,
   "metadata": {},
   "outputs": [
    {
     "data": {
      "text/html": [
       "<div>\n",
       "<style>\n",
       "    .dataframe thead tr:only-child th {\n",
       "        text-align: right;\n",
       "    }\n",
       "\n",
       "    .dataframe thead th {\n",
       "        text-align: left;\n",
       "    }\n",
       "\n",
       "    .dataframe tbody tr th {\n",
       "        vertical-align: top;\n",
       "    }\n",
       "</style>\n",
       "<table border=\"1\" class=\"dataframe\">\n",
       "  <thead>\n",
       "    <tr style=\"text-align: right;\">\n",
       "      <th></th>\n",
       "      <th>CaseID</th>\n",
       "      <th>Activity</th>\n",
       "      <th>CompleteTimestamp</th>\n",
       "      <th>CumTimeInterval</th>\n",
       "      <th>NormalizedTime</th>\n",
       "    </tr>\n",
       "  </thead>\n",
       "  <tbody>\n",
       "    <tr>\n",
       "      <th>0</th>\n",
       "      <td>1601</td>\n",
       "      <td>Activity A</td>\n",
       "      <td>NaN</td>\n",
       "      <td>NaN</td>\n",
       "      <td>NaN</td>\n",
       "    </tr>\n",
       "    <tr>\n",
       "      <th>1</th>\n",
       "      <td>1601</td>\n",
       "      <td>Activity B</td>\n",
       "      <td>NaN</td>\n",
       "      <td>NaN</td>\n",
       "      <td>NaN</td>\n",
       "    </tr>\n",
       "    <tr>\n",
       "      <th>2</th>\n",
       "      <td>1601</td>\n",
       "      <td>NaN</td>\n",
       "      <td>1970-01-01 11:00:00</td>\n",
       "      <td>7200.0</td>\n",
       "      <td>0.000000</td>\n",
       "    </tr>\n",
       "    <tr>\n",
       "      <th>3</th>\n",
       "      <td>1601</td>\n",
       "      <td>NaN</td>\n",
       "      <td>1970-01-01 12:00:00</td>\n",
       "      <td>10800.0</td>\n",
       "      <td>0.199999</td>\n",
       "    </tr>\n",
       "    <tr>\n",
       "      <th>4</th>\n",
       "      <td>1601</td>\n",
       "      <td>Activity E</td>\n",
       "      <td>1970-01-01 13:00:00</td>\n",
       "      <td>14400.0</td>\n",
       "      <td>0.399998</td>\n",
       "    </tr>\n",
       "    <tr>\n",
       "      <th>5</th>\n",
       "      <td>1601</td>\n",
       "      <td>Activity G</td>\n",
       "      <td>NaN</td>\n",
       "      <td>NaN</td>\n",
       "      <td>NaN</td>\n",
       "    </tr>\n",
       "    <tr>\n",
       "      <th>6</th>\n",
       "      <td>1601</td>\n",
       "      <td>Activity M</td>\n",
       "      <td>1970-01-01 14:00:00</td>\n",
       "      <td>18000.0</td>\n",
       "      <td>0.599997</td>\n",
       "    </tr>\n",
       "    <tr>\n",
       "      <th>7</th>\n",
       "      <td>1601</td>\n",
       "      <td>Activity K</td>\n",
       "      <td>1970-01-01 14:00:00</td>\n",
       "      <td>18000.0</td>\n",
       "      <td>0.599997</td>\n",
       "    </tr>\n",
       "    <tr>\n",
       "      <th>8</th>\n",
       "      <td>1601</td>\n",
       "      <td>NaN</td>\n",
       "      <td>1970-01-01 15:00:00</td>\n",
       "      <td>21600.0</td>\n",
       "      <td>0.799996</td>\n",
       "    </tr>\n",
       "    <tr>\n",
       "      <th>9</th>\n",
       "      <td>1601</td>\n",
       "      <td>NaN</td>\n",
       "      <td>NaN</td>\n",
       "      <td>NaN</td>\n",
       "      <td>NaN</td>\n",
       "    </tr>\n",
       "    <tr>\n",
       "      <th>10</th>\n",
       "      <td>1601</td>\n",
       "      <td>NaN</td>\n",
       "      <td>1970-01-01 15:00:00</td>\n",
       "      <td>21600.0</td>\n",
       "      <td>0.799996</td>\n",
       "    </tr>\n",
       "    <tr>\n",
       "      <th>11</th>\n",
       "      <td>1601</td>\n",
       "      <td>Activity L</td>\n",
       "      <td>NaN</td>\n",
       "      <td>NaN</td>\n",
       "      <td>NaN</td>\n",
       "    </tr>\n",
       "    <tr>\n",
       "      <th>12</th>\n",
       "      <td>1601</td>\n",
       "      <td>Activity H</td>\n",
       "      <td>1970-01-01 16:00:00</td>\n",
       "      <td>25200.0</td>\n",
       "      <td>0.999994</td>\n",
       "    </tr>\n",
       "    <tr>\n",
       "      <th>13</th>\n",
       "      <td>1601</td>\n",
       "      <td>Activity F</td>\n",
       "      <td>NaN</td>\n",
       "      <td>NaN</td>\n",
       "      <td>NaN</td>\n",
       "    </tr>\n",
       "    <tr>\n",
       "      <th>14</th>\n",
       "      <td>1602</td>\n",
       "      <td>NaN</td>\n",
       "      <td>1970-01-01 09:00:00</td>\n",
       "      <td>0.0</td>\n",
       "      <td>0.000000</td>\n",
       "    </tr>\n",
       "    <tr>\n",
       "      <th>15</th>\n",
       "      <td>1602</td>\n",
       "      <td>Activity B</td>\n",
       "      <td>NaN</td>\n",
       "      <td>NaN</td>\n",
       "      <td>NaN</td>\n",
       "    </tr>\n",
       "    <tr>\n",
       "      <th>16</th>\n",
       "      <td>1602</td>\n",
       "      <td>Activity C</td>\n",
       "      <td>1970-01-01 11:00:00</td>\n",
       "      <td>7200.0</td>\n",
       "      <td>0.285713</td>\n",
       "    </tr>\n",
       "    <tr>\n",
       "      <th>17</th>\n",
       "      <td>1602</td>\n",
       "      <td>NaN</td>\n",
       "      <td>1970-01-01 12:00:00</td>\n",
       "      <td>10800.0</td>\n",
       "      <td>0.428570</td>\n",
       "    </tr>\n",
       "    <tr>\n",
       "      <th>18</th>\n",
       "      <td>1602</td>\n",
       "      <td>Activity E</td>\n",
       "      <td>1970-01-01 13:00:00</td>\n",
       "      <td>14400.0</td>\n",
       "      <td>0.571426</td>\n",
       "    </tr>\n",
       "    <tr>\n",
       "      <th>19</th>\n",
       "      <td>1602</td>\n",
       "      <td>NaN</td>\n",
       "      <td>NaN</td>\n",
       "      <td>NaN</td>\n",
       "      <td>NaN</td>\n",
       "    </tr>\n",
       "  </tbody>\n",
       "</table>\n",
       "</div>"
      ],
      "text/plain": [
       "    CaseID    Activity    CompleteTimestamp  CumTimeInterval  NormalizedTime\n",
       "0     1601  Activity A                  NaN              NaN             NaN\n",
       "1     1601  Activity B                  NaN              NaN             NaN\n",
       "2     1601         NaN  1970-01-01 11:00:00           7200.0        0.000000\n",
       "3     1601         NaN  1970-01-01 12:00:00          10800.0        0.199999\n",
       "4     1601  Activity E  1970-01-01 13:00:00          14400.0        0.399998\n",
       "5     1601  Activity G                  NaN              NaN             NaN\n",
       "6     1601  Activity M  1970-01-01 14:00:00          18000.0        0.599997\n",
       "7     1601  Activity K  1970-01-01 14:00:00          18000.0        0.599997\n",
       "8     1601         NaN  1970-01-01 15:00:00          21600.0        0.799996\n",
       "9     1601         NaN                  NaN              NaN             NaN\n",
       "10    1601         NaN  1970-01-01 15:00:00          21600.0        0.799996\n",
       "11    1601  Activity L                  NaN              NaN             NaN\n",
       "12    1601  Activity H  1970-01-01 16:00:00          25200.0        0.999994\n",
       "13    1601  Activity F                  NaN              NaN             NaN\n",
       "14    1602         NaN  1970-01-01 09:00:00              0.0        0.000000\n",
       "15    1602  Activity B                  NaN              NaN             NaN\n",
       "16    1602  Activity C  1970-01-01 11:00:00           7200.0        0.285713\n",
       "17    1602         NaN  1970-01-01 12:00:00          10800.0        0.428570\n",
       "18    1602  Activity E  1970-01-01 13:00:00          14400.0        0.571426\n",
       "19    1602         NaN                  NaN              NaN             NaN"
      ]
     },
     "execution_count": 36,
     "metadata": {},
     "output_type": "execute_result"
    }
   ],
   "source": [
    "missing_true_test.head(20)"
   ]
  },
  {
   "cell_type": "code",
   "execution_count": null,
   "metadata": {
    "collapsed": true
   },
   "outputs": [],
   "source": []
  }
 ],
 "metadata": {
  "kernelspec": {
   "display_name": "Python 3",
   "language": "python",
   "name": "python3"
  },
  "language_info": {
   "codemirror_mode": {
    "name": "ipython",
    "version": 3
   },
   "file_extension": ".py",
   "mimetype": "text/x-python",
   "name": "python",
   "nbconvert_exporter": "python",
   "pygments_lexer": "ipython3",
   "version": "3.5.4"
  },
  "toc": {
   "colors": {
    "hover_highlight": "#DAA520",
    "running_highlight": "#FF0000",
    "selected_highlight": "#FFD700"
   },
   "moveMenuLeft": true,
   "nav_menu": {
    "height": "48px",
    "width": "252px"
   },
   "navigate_menu": true,
   "number_sections": true,
   "sideBar": true,
   "threshold": 4,
   "toc_cell": false,
   "toc_section_display": "block",
   "toc_window_display": false
  }
 },
 "nbformat": 4,
 "nbformat_minor": 2
}
