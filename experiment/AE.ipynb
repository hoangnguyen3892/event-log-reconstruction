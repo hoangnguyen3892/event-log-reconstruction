{
 "cells": [
  {
   "cell_type": "markdown",
   "metadata": {
    "deletable": true,
    "editable": true
   },
   "source": [
    "**Outline:**\n",
    "- Build model and loss function\n",
    "- Train model\n",
    "- Observe valdidate\n",
    "- Test"
   ]
  },
  {
   "cell_type": "markdown",
   "metadata": {
    "deletable": true,
    "editable": true
   },
   "source": [
    "**To do:**\n",
    "- Hyperparameter tuning\n",
    "    + lr\n",
    "    + layer1, layer2\n",
    "    + betas"
   ]
  },
  {
   "cell_type": "markdown",
   "metadata": {
    "deletable": true,
    "editable": true
   },
   "source": [
    "**Modification**\n",
    "- Weight initialization with xavier uniform\n",
    "- Adam optimization\n",
    "- LR decay"
   ]
  },
  {
   "cell_type": "code",
   "execution_count": 1,
   "metadata": {
    "collapsed": true,
    "deletable": true,
    "editable": true
   },
   "outputs": [],
   "source": [
    "import importlib\n",
    "import argparse\n",
    "import os, sys\n",
    "import argparse\n",
    "import pandas as pd\n",
    "import numpy as np\n",
    "import pickle\n",
    "import time"
   ]
  },
  {
   "cell_type": "code",
   "execution_count": 2,
   "metadata": {
    "collapsed": true,
    "deletable": true,
    "editable": true
   },
   "outputs": [],
   "source": [
    "import torch\n",
    "import torch.utils.data\n",
    "import torch.nn.functional as F\n",
    "import torch.nn as nn\n",
    "import torch.optim as optim\n",
    "import torch.optim.lr_scheduler\n",
    "from torch.autograd import Variable\n",
    "from torchvision import transforms"
   ]
  },
  {
   "cell_type": "code",
   "execution_count": 3,
   "metadata": {
    "collapsed": true,
    "deletable": true,
    "editable": true
   },
   "outputs": [],
   "source": [
    "sys.path.insert(0, './../utils/')\n",
    "from utils import *\n",
    "from models import *"
   ]
  },
  {
   "cell_type": "code",
   "execution_count": 4,
   "metadata": {
    "collapsed": true,
    "deletable": true,
    "editable": true
   },
   "outputs": [],
   "source": [
    "#Define parser\n",
    "#name = 'bpi_2012'\n",
    "name = 'bpi_2013'\n",
    "#name = 'Road_Traffic_Fine_Management_Process'  \n",
    "\n",
    "parser = {\n",
    "    'train': True,\n",
    "    'test': True,\n",
    "    'model_class': 'AE',\n",
    "    'model_name': '',\n",
    "    'data_dir': '../data/',\n",
    "    'data_file': name + '.csv',\n",
    "    'nan_pct': 0.3,\n",
    "    'input_dir': '../input/{}/'.format(name), \n",
    "    'output_dir': './output/{}/'.format(name),\n",
    "    'batch_size' : 16,\n",
    "    'epochs' : 100,\n",
    "    'no_cuda' : False,\n",
    "    'seed' : 7,\n",
    "    'layer1': 1000,\n",
    "    'layer2': 100,\n",
    "    'lr': 0.002,\n",
    "    'betas': (0.9, 0.999),   \n",
    "    'lr_decay': 0.90,\n",
    "}\n",
    "\n",
    "args = argparse.Namespace(**parser)"
   ]
  },
  {
   "cell_type": "code",
   "execution_count": 5,
   "metadata": {
    "collapsed": true,
    "deletable": true,
    "editable": true
   },
   "outputs": [],
   "source": [
    "if not os.path.isdir(args.output_dir):\n",
    "    os.makedirs(args.output_dir)"
   ]
  },
  {
   "cell_type": "code",
   "execution_count": 6,
   "metadata": {
    "collapsed": true,
    "deletable": true,
    "editable": true
   },
   "outputs": [],
   "source": [
    "args.cuda = not args.no_cuda and torch.cuda.is_available()"
   ]
  },
  {
   "cell_type": "code",
   "execution_count": 7,
   "metadata": {
    "collapsed": true,
    "deletable": true,
    "editable": true
   },
   "outputs": [],
   "source": [
    "torch.manual_seed(args.seed)\n",
    "if args.cuda:\n",
    "    torch.cuda.manual_seed(args.seed)"
   ]
  },
  {
   "cell_type": "code",
   "execution_count": 8,
   "metadata": {
    "collapsed": true,
    "deletable": true,
    "editable": true
   },
   "outputs": [],
   "source": [
    "kwargs = {'num_workers': 2, 'pin_memory': True} if args.cuda else {}"
   ]
  },
  {
   "cell_type": "code",
   "execution_count": 9,
   "metadata": {
    "collapsed": false,
    "deletable": true,
    "editable": true
   },
   "outputs": [],
   "source": [
    "preprocessed_data_name = os.path.join(args.input_dir, 'preprocessed_data_{}.pkl'.format(args.nan_pct))\n",
    "with open(preprocessed_data_name, 'rb') as f:\n",
    "    min_max_storage = pickle.load(f)\n",
    "    complete_matrix_w_normalized_time_train = pickle.load(f)\n",
    "    missing_matrix_w_normalized_time_train = pickle.load(f)\n",
    "    avai_matrix_train = pickle.load(f)\n",
    "    nan_matrix_train = pickle.load(f)\n",
    "    complete_matrix_w_normalized_time_val = pickle.load(f)\n",
    "    missing_matrix_w_normalized_time_val = pickle.load(f)\n",
    "    avai_matrix_val = pickle.load(f)\n",
    "    nan_matrix_val = pickle.load(f)\n",
    "    pad_matrix_val = pickle.load(f)\n",
    "    complete_matrix_w_normalized_time_test = pickle.load(f)\n",
    "    missing_matrix_w_normalized_time_test = pickle.load(f)\n",
    "    avai_matrix_test = pickle.load(f)\n",
    "    nan_matrix_test = pickle.load(f)\n",
    "    pad_matrix_test = pickle.load(f)\n",
    "    cols_w_time = pickle.load(f)\n",
    "    cols_w_normalized_time = pickle.load(f)"
   ]
  },
  {
   "cell_type": "code",
   "execution_count": 10,
   "metadata": {
    "collapsed": true,
    "deletable": true,
    "editable": true
   },
   "outputs": [],
   "source": [
    "file_name = os.path.join(args.input_dir, 'parameters_{}.pkl'.format(args.nan_pct))\n",
    "with open(file_name, 'rb') as f:\n",
    "    most_frequent_activity = pickle.load(f)\n",
    "    first_timestamp = pickle.load(f)\n",
    "    avai_instance = pickle.load(f)\n",
    "    nan_instance = pickle.load(f)\n",
    "    train_size = pickle.load(f)\n",
    "    val_size = pickle.load(f)\n",
    "    test_size = pickle.load(f)\n",
    "    train_row_num = pickle.load(f)\n",
    "    val_row_num = pickle.load(f)\n",
    "    test_row_num = pickle.load(f)"
   ]
  },
  {
   "cell_type": "markdown",
   "metadata": {
    "deletable": true,
    "editable": true
   },
   "source": [
    "# Load data"
   ]
  },
  {
   "cell_type": "markdown",
   "metadata": {
    "deletable": true,
    "editable": true
   },
   "source": [
    "## Train"
   ]
  },
  {
   "cell_type": "code",
   "execution_count": 11,
   "metadata": {
    "collapsed": true,
    "deletable": true,
    "editable": true
   },
   "outputs": [],
   "source": [
    "complete_matrix_w_normalized_time_trainLoader = torch.utils.data.DataLoader(complete_matrix_w_normalized_time_train, \n",
    "                                                                            batch_size=args.batch_size, shuffle=False, \n",
    "                                                                            num_workers=2)\n",
    "missing_matrix_w_normalized_time_trainLoader = torch.utils.data.DataLoader(missing_matrix_w_normalized_time_train, \n",
    "                                                                           batch_size=args.batch_size, shuffle=False, \n",
    "                                                                           num_workers=2)\n",
    "avai_matrix_trainLoader = torch.utils.data.DataLoader(avai_matrix_train, \n",
    "                                                      batch_size=args.batch_size, shuffle=False, \n",
    "                                                      num_workers=2)"
   ]
  },
  {
   "cell_type": "markdown",
   "metadata": {
    "deletable": true,
    "editable": true
   },
   "source": [
    "## Validate and test"
   ]
  },
  {
   "cell_type": "code",
   "execution_count": 12,
   "metadata": {
    "collapsed": true,
    "deletable": true,
    "editable": true
   },
   "outputs": [],
   "source": [
    "normalized_complete_df_name = os.path.join(args.input_dir, 'normalized_complete_df_{}.csv'.format(args.nan_pct))\n",
    "normalized_complete_df = pd.read_csv(normalized_complete_df_name)\n",
    "\n",
    "normalized_missing_df_name = os.path.join(args.input_dir, 'normalized_missing_df_{}.csv'.format(args.nan_pct))\n",
    "normalized_missing_df = pd.read_csv(normalized_missing_df_name)"
   ]
  },
  {
   "cell_type": "code",
   "execution_count": 13,
   "metadata": {
    "collapsed": true,
    "deletable": true,
    "editable": true
   },
   "outputs": [],
   "source": [
    "missing_true_val = normalized_missing_df[train_row_num:-test_row_num].reset_index(drop=True)\n",
    "complete_true_val = normalized_complete_df[train_row_num:-test_row_num].reset_index(drop=True)"
   ]
  },
  {
   "cell_type": "code",
   "execution_count": 14,
   "metadata": {
    "collapsed": true,
    "deletable": true,
    "editable": true
   },
   "outputs": [],
   "source": [
    "missing_true_test = normalized_missing_df[-test_row_num:].reset_index(drop=True)\n",
    "complete_true_test = normalized_complete_df[-test_row_num:].reset_index(drop=True)"
   ]
  },
  {
   "cell_type": "code",
   "execution_count": 15,
   "metadata": {
    "collapsed": false,
    "deletable": true,
    "editable": true
   },
   "outputs": [
    {
     "data": {
      "text/plain": [
       "((1096, 5), (1071, 5))"
      ]
     },
     "execution_count": 15,
     "metadata": {},
     "output_type": "execute_result"
    }
   ],
   "source": [
    "missing_true_val.shape, missing_true_test.shape"
   ]
  },
  {
   "cell_type": "code",
   "execution_count": 16,
   "metadata": {
    "collapsed": false,
    "deletable": true,
    "editable": true
   },
   "outputs": [],
   "source": [
    "nan_time_index_val, nan_activity_index_val = getnanindex(missing_true_val)"
   ]
  },
  {
   "cell_type": "code",
   "execution_count": 17,
   "metadata": {
    "collapsed": false,
    "deletable": true,
    "editable": true
   },
   "outputs": [],
   "source": [
    "nan_time_index_test, nan_activity_index_test = getnanindex(missing_true_test)"
   ]
  },
  {
   "cell_type": "code",
   "execution_count": 18,
   "metadata": {
    "collapsed": false,
    "deletable": true,
    "editable": true
   },
   "outputs": [
    {
     "data": {
      "text/plain": [
       "CaseID                  0\n",
       "Activity             2022\n",
       "CompleteTimestamp    1974\n",
       "CumTimeInterval      1974\n",
       "NormalizedTime       1974\n",
       "dtype: int64"
      ]
     },
     "execution_count": 18,
     "metadata": {},
     "output_type": "execute_result"
    }
   ],
   "source": [
    "pd.isnull(normalized_missing_df).sum()"
   ]
  },
  {
   "cell_type": "code",
   "execution_count": 19,
   "metadata": {
    "collapsed": false,
    "deletable": true,
    "editable": true
   },
   "outputs": [
    {
     "data": {
      "text/plain": [
       "CaseID                 0\n",
       "Activity             342\n",
       "CompleteTimestamp    309\n",
       "CumTimeInterval      309\n",
       "NormalizedTime       309\n",
       "dtype: int64"
      ]
     },
     "execution_count": 19,
     "metadata": {},
     "output_type": "execute_result"
    }
   ],
   "source": [
    "pd.isnull(missing_true_val).sum()"
   ]
  },
  {
   "cell_type": "code",
   "execution_count": 20,
   "metadata": {
    "collapsed": false,
    "deletable": true,
    "editable": true
   },
   "outputs": [
    {
     "data": {
      "text/plain": [
       "CaseID                 0\n",
       "Activity             325\n",
       "CompleteTimestamp    307\n",
       "CumTimeInterval      307\n",
       "NormalizedTime       307\n",
       "dtype: int64"
      ]
     },
     "execution_count": 20,
     "metadata": {},
     "output_type": "execute_result"
    }
   ],
   "source": [
    "pd.isnull(missing_true_test).sum()"
   ]
  },
  {
   "cell_type": "markdown",
   "metadata": {
    "deletable": true,
    "editable": true
   },
   "source": [
    "# Build model"
   ]
  },
  {
   "cell_type": "markdown",
   "metadata": {
    "deletable": true,
    "editable": true
   },
   "source": [
    "## Define model"
   ]
  },
  {
   "cell_type": "code",
   "execution_count": 21,
   "metadata": {
    "collapsed": true,
    "deletable": true,
    "editable": true
   },
   "outputs": [],
   "source": [
    "if args.model_class == 'AE':\n",
    "    model = AE(complete_matrix_w_normalized_time_train.shape, args.layer1, args.layer2)\n",
    "\n",
    "if args.cuda:\n",
    "    model.cuda()"
   ]
  },
  {
   "cell_type": "markdown",
   "metadata": {
    "deletable": true,
    "editable": true
   },
   "source": [
    "## Define loss"
   ]
  },
  {
   "cell_type": "code",
   "execution_count": 22,
   "metadata": {
    "collapsed": true,
    "deletable": true,
    "editable": true
   },
   "outputs": [],
   "source": [
    "# Define loss\n",
    "\n",
    "def loss_function(recon_x, x, avai_mask):\n",
    "    BCE = F.binary_cross_entropy(recon_x, x, weight=avai_mask, size_average=False) \n",
    "    return BCE"
   ]
  },
  {
   "cell_type": "code",
   "execution_count": 23,
   "metadata": {
    "collapsed": true,
    "deletable": true,
    "editable": true
   },
   "outputs": [],
   "source": [
    "optimizer = optim.Adam(model.parameters(), lr=args.lr, betas=args.betas)"
   ]
  },
  {
   "cell_type": "code",
   "execution_count": 24,
   "metadata": {
    "collapsed": true,
    "deletable": true,
    "editable": true
   },
   "outputs": [],
   "source": [
    "#Adjust learning rate per epoch: http://pytorch.org/docs/master/optim.html?highlight=adam#torch.optim.Adam\n",
    "\n",
    "# Method 1:\n",
    "#lambda1 = lambda epoch: args.lr_decay ** epoch\n",
    "#scheduler = torch.optim.lr_scheduler.LambdaLR(optimizer, lr_lambda=[lambda1])\n",
    "\n",
    "# Method 2:\n",
    "scheduler = torch.optim.lr_scheduler.ReduceLROnPlateau(optimizer, 'min', patience=10)"
   ]
  },
  {
   "cell_type": "markdown",
   "metadata": {
    "deletable": true,
    "editable": true
   },
   "source": [
    "## Utils"
   ]
  },
  {
   "cell_type": "code",
   "execution_count": 25,
   "metadata": {
    "collapsed": true,
    "deletable": true,
    "editable": true
   },
   "outputs": [],
   "source": [
    "def save_model(model, epoch, score):\n",
    "    model_file = os.path.join(args.output_dir, 'model_{}_epoch{}_score{:.4f}.pth'.format(args.model_class, epoch, score))\n",
    "    torch.save(model.state_dict(), model_file)"
   ]
  },
  {
   "cell_type": "code",
   "execution_count": 26,
   "metadata": {
    "collapsed": true,
    "deletable": true,
    "editable": true
   },
   "outputs": [],
   "source": [
    "def load_model(model, model_name):\n",
    "    model_file = os.path.join(args.output_dir, model_name)\n",
    "    assert os.path.isfile(model_file), 'Error: no model found!'\n",
    "    model_state = torch.load(model_file)\n",
    "    model.load_state_dict(model_state)"
   ]
  },
  {
   "cell_type": "code",
   "execution_count": 27,
   "metadata": {
    "collapsed": true,
    "deletable": true,
    "editable": true
   },
   "outputs": [],
   "source": [
    "def val(model, missing_matrix_w_normalized_time_val, complete_matrix_w_normalized_time_val, nan_matrix_val):\n",
    "    model.eval()\n",
    "    m_val = missing_matrix_w_normalized_time_val\n",
    "    m_val = Variable(torch.Tensor(m_val).float())\n",
    "    \n",
    "    c_val = complete_matrix_w_normalized_time_val\n",
    "    c_val = Variable(torch.Tensor(c_val).float())\n",
    "    \n",
    "    nan_matrix_val = Variable(torch.Tensor(nan_matrix_val).float())\n",
    "    \n",
    "    if args.cuda:\n",
    "        m_val = m_val.cuda()\n",
    "        c_val = c_val.cuda()\n",
    "        nan_matrix_val = nan_matrix_val.cuda()\n",
    "        \n",
    "    recon_data = model(m_val)\n",
    "        \n",
    "    loss = loss_function(recon_data, c_val, nan_matrix_val)\n",
    "    return loss.data[0]/missing_matrix_w_normalized_time_val.shape[0]"
   ]
  },
  {
   "cell_type": "markdown",
   "metadata": {
    "collapsed": true,
    "deletable": true,
    "editable": true
   },
   "source": [
    "```python\n",
    "def val(model, missing_matrix_w_normalized_time_val, complete_true_val, missing_true_val,\n",
    "       pad_matrix_val, cols_w_normalized_time, val_row_num,\n",
    "       nan_time_index_val, nan_activity_index_val):\n",
    "    model.eval()\n",
    "    m_val = missing_matrix_w_normalized_time_val\n",
    "    m_val = Variable(torch.Tensor(m_val).float())\n",
    "    \n",
    "    if args.cuda:\n",
    "        m_val = m_val.cuda()\n",
    "        \n",
    "    recon_val = model(m_val)\n",
    "    \n",
    "    recon_df_w_normalized_time = convert2df(recon_val, pad_matrix_val, cols_w_normalized_time, val_row_num)\n",
    "    recon_df_w_time = getDfWithTime(recon_df_w_normalized_time, missing_true_val, min_max_storage)\n",
    "    submission_df = getSubmission(recon_df_w_time, missing_true_val, complete_true_val, first_timestamp)\n",
    "    \n",
    "    #evaluate\n",
    "    time, acc = evaluation(submission_df, nan_time_index_val, nan_activity_index_val)\n",
    "    \n",
    "    \n",
    "    return time/86400+1/acc\n",
    "```"
   ]
  },
  {
   "cell_type": "code",
   "execution_count": 28,
   "metadata": {
    "collapsed": false,
    "deletable": true,
    "editable": true
   },
   "outputs": [
    {
     "data": {
      "text/html": [
       "<div>\n",
       "<style>\n",
       "    .dataframe thead tr:only-child th {\n",
       "        text-align: right;\n",
       "    }\n",
       "\n",
       "    .dataframe thead th {\n",
       "        text-align: left;\n",
       "    }\n",
       "\n",
       "    .dataframe tbody tr th {\n",
       "        vertical-align: top;\n",
       "    }\n",
       "</style>\n",
       "<table border=\"1\" class=\"dataframe\">\n",
       "  <thead>\n",
       "    <tr style=\"text-align: right;\">\n",
       "      <th></th>\n",
       "      <th>CaseID</th>\n",
       "      <th>Activity</th>\n",
       "      <th>CompleteTimestamp</th>\n",
       "      <th>CumTimeInterval</th>\n",
       "      <th>NormalizedTime</th>\n",
       "    </tr>\n",
       "  </thead>\n",
       "  <tbody>\n",
       "    <tr>\n",
       "      <th>0</th>\n",
       "      <td>893</td>\n",
       "      <td>NaN</td>\n",
       "      <td>2012-01-14 04:03:40</td>\n",
       "      <td>189490438.0</td>\n",
       "      <td>0.000000</td>\n",
       "    </tr>\n",
       "    <tr>\n",
       "      <th>1</th>\n",
       "      <td>893</td>\n",
       "      <td>Accepted-In Progress</td>\n",
       "      <td>2012-01-31 22:16:55</td>\n",
       "      <td>191024833.0</td>\n",
       "      <td>0.507308</td>\n",
       "    </tr>\n",
       "    <tr>\n",
       "      <th>2</th>\n",
       "      <td>893</td>\n",
       "      <td>Queued-Awaiting Assignment</td>\n",
       "      <td>NaN</td>\n",
       "      <td>NaN</td>\n",
       "      <td>NaN</td>\n",
       "    </tr>\n",
       "    <tr>\n",
       "      <th>3</th>\n",
       "      <td>893</td>\n",
       "      <td>Accepted-In Progress</td>\n",
       "      <td>2012-01-31 23:02:59</td>\n",
       "      <td>191027597.0</td>\n",
       "      <td>0.508222</td>\n",
       "    </tr>\n",
       "    <tr>\n",
       "      <th>4</th>\n",
       "      <td>893</td>\n",
       "      <td>Completed-Closed</td>\n",
       "      <td>2012-02-18 04:13:20</td>\n",
       "      <td>192515018.0</td>\n",
       "      <td>1.000000</td>\n",
       "    </tr>\n",
       "  </tbody>\n",
       "</table>\n",
       "</div>"
      ],
      "text/plain": [
       "   CaseID                    Activity    CompleteTimestamp  CumTimeInterval  \\\n",
       "0     893                         NaN  2012-01-14 04:03:40      189490438.0   \n",
       "1     893        Accepted-In Progress  2012-01-31 22:16:55      191024833.0   \n",
       "2     893  Queued-Awaiting Assignment                  NaN              NaN   \n",
       "3     893        Accepted-In Progress  2012-01-31 23:02:59      191027597.0   \n",
       "4     893            Completed-Closed  2012-02-18 04:13:20      192515018.0   \n",
       "\n",
       "   NormalizedTime  \n",
       "0        0.000000  \n",
       "1        0.507308  \n",
       "2             NaN  \n",
       "3        0.508222  \n",
       "4        1.000000  "
      ]
     },
     "execution_count": 28,
     "metadata": {},
     "output_type": "execute_result"
    }
   ],
   "source": [
    "missing_true_val.head()"
   ]
  },
  {
   "cell_type": "code",
   "execution_count": 29,
   "metadata": {
    "collapsed": false,
    "deletable": true,
    "editable": true
   },
   "outputs": [
    {
     "data": {
      "text/html": [
       "<div>\n",
       "<style>\n",
       "    .dataframe thead tr:only-child th {\n",
       "        text-align: right;\n",
       "    }\n",
       "\n",
       "    .dataframe thead th {\n",
       "        text-align: left;\n",
       "    }\n",
       "\n",
       "    .dataframe tbody tr th {\n",
       "        vertical-align: top;\n",
       "    }\n",
       "</style>\n",
       "<table border=\"1\" class=\"dataframe\">\n",
       "  <thead>\n",
       "    <tr style=\"text-align: right;\">\n",
       "      <th></th>\n",
       "      <th>CaseID</th>\n",
       "      <th>Activity</th>\n",
       "      <th>CompleteTimestamp</th>\n",
       "      <th>CumTimeInterval</th>\n",
       "      <th>NormalizedTime</th>\n",
       "    </tr>\n",
       "  </thead>\n",
       "  <tbody>\n",
       "    <tr>\n",
       "      <th>0</th>\n",
       "      <td>893</td>\n",
       "      <td>Queued-Awaiting Assignment</td>\n",
       "      <td>2012-01-14 04:03:40</td>\n",
       "      <td>189490438.0</td>\n",
       "      <td>0.000000</td>\n",
       "    </tr>\n",
       "    <tr>\n",
       "      <th>1</th>\n",
       "      <td>893</td>\n",
       "      <td>Accepted-In Progress</td>\n",
       "      <td>2012-01-31 22:16:55</td>\n",
       "      <td>191024833.0</td>\n",
       "      <td>0.507308</td>\n",
       "    </tr>\n",
       "    <tr>\n",
       "      <th>2</th>\n",
       "      <td>893</td>\n",
       "      <td>Queued-Awaiting Assignment</td>\n",
       "      <td>2012-01-31 22:29:08</td>\n",
       "      <td>191025566.0</td>\n",
       "      <td>0.507551</td>\n",
       "    </tr>\n",
       "    <tr>\n",
       "      <th>3</th>\n",
       "      <td>893</td>\n",
       "      <td>Accepted-In Progress</td>\n",
       "      <td>2012-01-31 23:02:59</td>\n",
       "      <td>191027597.0</td>\n",
       "      <td>0.508222</td>\n",
       "    </tr>\n",
       "    <tr>\n",
       "      <th>4</th>\n",
       "      <td>893</td>\n",
       "      <td>Completed-Closed</td>\n",
       "      <td>2012-02-18 04:13:20</td>\n",
       "      <td>192515018.0</td>\n",
       "      <td>1.000000</td>\n",
       "    </tr>\n",
       "  </tbody>\n",
       "</table>\n",
       "</div>"
      ],
      "text/plain": [
       "   CaseID                    Activity    CompleteTimestamp  CumTimeInterval  \\\n",
       "0     893  Queued-Awaiting Assignment  2012-01-14 04:03:40      189490438.0   \n",
       "1     893        Accepted-In Progress  2012-01-31 22:16:55      191024833.0   \n",
       "2     893  Queued-Awaiting Assignment  2012-01-31 22:29:08      191025566.0   \n",
       "3     893        Accepted-In Progress  2012-01-31 23:02:59      191027597.0   \n",
       "4     893            Completed-Closed  2012-02-18 04:13:20      192515018.0   \n",
       "\n",
       "   NormalizedTime  \n",
       "0        0.000000  \n",
       "1        0.507308  \n",
       "2        0.507551  \n",
       "3        0.508222  \n",
       "4        1.000000  "
      ]
     },
     "execution_count": 29,
     "metadata": {},
     "output_type": "execute_result"
    }
   ],
   "source": [
    "complete_true_val.head()"
   ]
  },
  {
   "cell_type": "markdown",
   "metadata": {
    "deletable": true,
    "editable": true
   },
   "source": [
    "# Train model"
   ]
  },
  {
   "cell_type": "code",
   "execution_count": 30,
   "metadata": {
    "collapsed": true,
    "deletable": true,
    "editable": true
   },
   "outputs": [],
   "source": [
    "def train(epoch, model, optimizer):\n",
    "    model.train()\n",
    "    train_loss = 0\n",
    "    for batch_idx, (m_data, c_data, avai_mask) in enumerate(zip(missing_matrix_w_normalized_time_trainLoader, \n",
    "                                                     complete_matrix_w_normalized_time_trainLoader,\n",
    "                                                     avai_matrix_trainLoader)):\n",
    "        c_data = Variable(c_data.float())\n",
    "        m_data = Variable(m_data.float())\n",
    "        avai_mask = Variable(avai_mask.float())\n",
    "\n",
    "        if args.cuda:\n",
    "            c_data = c_data.cuda()\n",
    "            m_data = m_data.cuda()\n",
    "            avai_mask = avai_mask.cuda()\n",
    "\n",
    "            \n",
    "        optimizer.zero_grad()\n",
    "        \n",
    "        recon_data = model(m_data)\n",
    "        \n",
    "        loss = loss_function(recon_data, c_data, avai_mask)\n",
    "        \n",
    "        loss.backward()\n",
    "        train_loss += loss.data[0]\n",
    "        optimizer.step()\n",
    "        \n",
    "    return train_loss / len(complete_matrix_w_normalized_time_trainLoader.dataset)"
   ]
  },
  {
   "cell_type": "code",
   "execution_count": 31,
   "metadata": {
    "collapsed": false,
    "deletable": true,
    "editable": true
   },
   "outputs": [
    {
     "name": "stdout",
     "output_type": "stream",
     "text": [
      "====> Epoch 1 | Time: 1.0503931045532227 | Train loss: 6.3136 | Val score: 2.6610\n",
      "====> Epoch 2 | Time: 0.9569730758666992 | Train loss: 3.6080 | Val score: 2.0651\n",
      "====> Epoch 3 | Time: 0.9770889282226562 | Train loss: 2.5382 | Val score: 1.7231\n",
      "====> Epoch 4 | Time: 0.9992790222167969 | Train loss: 1.9047 | Val score: 1.6004\n",
      "====> Epoch 5 | Time: 0.9386320114135742 | Train loss: 1.4941 | Val score: 1.5097\n",
      "====> Epoch 6 | Time: 0.7934360504150391 | Train loss: 1.2358 | Val score: 1.4769\n",
      "====> Epoch 7 | Time: 0.7972898483276367 | Train loss: 1.0794 | Val score: 1.4542\n",
      "====> Epoch 8 | Time: 0.7946658134460449 | Train loss: 0.9964 | Val score: 1.5320\n",
      "====> Epoch 9 | Time: 0.7819509506225586 | Train loss: 0.9117 | Val score: 1.4580\n",
      "====> Epoch 10 | Time: 0.8105800151824951 | Train loss: 0.8291 | Val score: 1.4232\n",
      "====> Epoch 11 | Time: 0.8077678680419922 | Train loss: 0.7878 | Val score: 1.4684\n",
      "====> Epoch 12 | Time: 0.7846889495849609 | Train loss: 0.7568 | Val score: 1.4392\n",
      "====> Epoch 13 | Time: 0.7944412231445312 | Train loss: 0.7400 | Val score: 1.4547\n",
      "====> Epoch 14 | Time: 0.8063290119171143 | Train loss: 0.7209 | Val score: 1.3801\n",
      "====> Epoch 15 | Time: 0.7999401092529297 | Train loss: 0.7240 | Val score: 1.3860\n",
      "====> Epoch 16 | Time: 0.79703688621521 | Train loss: 0.7157 | Val score: 1.4281\n",
      "====> Epoch 17 | Time: 0.7815811634063721 | Train loss: 0.6920 | Val score: 1.3939\n",
      "====> Epoch 18 | Time: 0.7826859951019287 | Train loss: 0.6697 | Val score: 1.4160\n",
      "====> Epoch 19 | Time: 0.8170759677886963 | Train loss: 0.6666 | Val score: 1.4440\n",
      "====> Epoch 20 | Time: 1.002600908279419 | Train loss: 0.6590 | Val score: 1.4331\n",
      "====> Epoch 21 | Time: 1.0073471069335938 | Train loss: 0.6638 | Val score: 1.4556\n",
      "====> Epoch 22 | Time: 0.9180619716644287 | Train loss: 0.6394 | Val score: 1.4919\n",
      "====> Epoch 23 | Time: 0.9171900749206543 | Train loss: 0.6466 | Val score: 1.5166\n",
      "====> Epoch 24 | Time: 0.8824169635772705 | Train loss: 0.6569 | Val score: 1.5864\n",
      "====> Epoch 25 | Time: 0.866520881652832 | Train loss: 0.6519 | Val score: 1.5026\n",
      "====> Epoch 26 | Time: 0.9147078990936279 | Train loss: 0.6391 | Val score: 1.4336\n",
      "====> Epoch 27 | Time: 0.8182971477508545 | Train loss: 0.5967 | Val score: 1.4338\n",
      "====> Epoch 28 | Time: 0.8091330528259277 | Train loss: 0.5855 | Val score: 1.4338\n",
      "====> Epoch 29 | Time: 0.9712131023406982 | Train loss: 0.5784 | Val score: 1.4345\n",
      "====> Epoch 30 | Time: 0.9054431915283203 | Train loss: 0.5731 | Val score: 1.4357\n",
      "====> Epoch 31 | Time: 0.7977409362792969 | Train loss: 0.5690 | Val score: 1.4374\n",
      "====> Epoch 32 | Time: 1.1001780033111572 | Train loss: 0.5656 | Val score: 1.4396\n",
      "====> Epoch 33 | Time: 0.8826248645782471 | Train loss: 0.5628 | Val score: 1.4421\n",
      "====> Epoch 34 | Time: 0.8142130374908447 | Train loss: 0.5603 | Val score: 1.4449\n",
      "====> Epoch 35 | Time: 0.9594841003417969 | Train loss: 0.5582 | Val score: 1.4480\n",
      "====> Epoch 36 | Time: 1.0197350978851318 | Train loss: 0.5563 | Val score: 1.4513\n",
      "====> Epoch 37 | Time: 1.0227200984954834 | Train loss: 0.5519 | Val score: 1.4557\n",
      "====> Epoch 38 | Time: 0.9467489719390869 | Train loss: 0.5490 | Val score: 1.4588\n",
      "====> Epoch 39 | Time: 0.9716110229492188 | Train loss: 0.5483 | Val score: 1.4603\n",
      "====> Epoch 40 | Time: 0.8862459659576416 | Train loss: 0.5480 | Val score: 1.4613\n",
      "====> Epoch 41 | Time: 0.8624660968780518 | Train loss: 0.5478 | Val score: 1.4620\n",
      "====> Epoch 42 | Time: 0.9972879886627197 | Train loss: 0.5476 | Val score: 1.4627\n",
      "====> Epoch 43 | Time: 1.0475311279296875 | Train loss: 0.5473 | Val score: 1.4634\n",
      "====> Epoch 44 | Time: 0.9516329765319824 | Train loss: 0.5471 | Val score: 1.4640\n",
      "====> Epoch 45 | Time: 0.9002749919891357 | Train loss: 0.5469 | Val score: 1.4646\n",
      "====> Epoch 46 | Time: 1.1257061958312988 | Train loss: 0.5467 | Val score: 1.4652\n",
      "====> Epoch 47 | Time: 0.9858529567718506 | Train loss: 0.5465 | Val score: 1.4658\n",
      "====> Epoch 48 | Time: 0.863102912902832 | Train loss: 0.5455 | Val score: 1.4660\n",
      "====> Epoch 49 | Time: 0.8767831325531006 | Train loss: 0.5455 | Val score: 1.4662\n",
      "====> Epoch 50 | Time: 0.8431899547576904 | Train loss: 0.5454 | Val score: 1.4663\n",
      "====> Epoch 51 | Time: 0.8161530494689941 | Train loss: 0.5454 | Val score: 1.4665\n",
      "====> Epoch 52 | Time: 0.8625450134277344 | Train loss: 0.5454 | Val score: 1.4666\n",
      "====> Epoch 53 | Time: 1.2044360637664795 | Train loss: 0.5453 | Val score: 1.4668\n",
      "====> Epoch 54 | Time: 1.0497009754180908 | Train loss: 0.5453 | Val score: 1.4669\n",
      "====> Epoch 55 | Time: 0.9687819480895996 | Train loss: 0.5453 | Val score: 1.4670\n",
      "====> Epoch 56 | Time: 0.8816790580749512 | Train loss: 0.5453 | Val score: 1.4671\n",
      "====> Epoch 57 | Time: 0.8709499835968018 | Train loss: 0.5452 | Val score: 1.4673\n",
      "====> Epoch 58 | Time: 0.8832368850708008 | Train loss: 0.5452 | Val score: 1.4674\n",
      "====> Epoch 59 | Time: 0.9281671047210693 | Train loss: 0.5451 | Val score: 1.4674\n",
      "====> Epoch 60 | Time: 1.0320019721984863 | Train loss: 0.5451 | Val score: 1.4674\n",
      "====> Epoch 61 | Time: 1.0043301582336426 | Train loss: 0.5451 | Val score: 1.4674\n",
      "====> Epoch 62 | Time: 1.1123180389404297 | Train loss: 0.5451 | Val score: 1.4674\n",
      "====> Epoch 63 | Time: 1.1745998859405518 | Train loss: 0.5451 | Val score: 1.4674\n",
      "====> Epoch 64 | Time: 1.0621681213378906 | Train loss: 0.5451 | Val score: 1.4674\n",
      "====> Epoch 65 | Time: 1.1373960971832275 | Train loss: 0.5451 | Val score: 1.4674\n",
      "====> Epoch 66 | Time: 1.0542290210723877 | Train loss: 0.5451 | Val score: 1.4675\n",
      "====> Epoch 67 | Time: 1.1361708641052246 | Train loss: 0.5451 | Val score: 1.4675\n",
      "====> Epoch 68 | Time: 1.0048561096191406 | Train loss: 0.5451 | Val score: 1.4675\n",
      "====> Epoch 69 | Time: 1.1188418865203857 | Train loss: 0.5451 | Val score: 1.4675\n",
      "====> Epoch 70 | Time: 1.218778133392334 | Train loss: 0.5451 | Val score: 1.4675\n",
      "====> Epoch 71 | Time: 1.2212879657745361 | Train loss: 0.5451 | Val score: 1.4675\n",
      "====> Epoch 72 | Time: 1.161581039428711 | Train loss: 0.5451 | Val score: 1.4675\n",
      "====> Epoch 73 | Time: 1.0854618549346924 | Train loss: 0.5451 | Val score: 1.4675\n",
      "====> Epoch 74 | Time: 1.167983055114746 | Train loss: 0.5451 | Val score: 1.4675\n",
      "====> Epoch 75 | Time: 0.9215760231018066 | Train loss: 0.5451 | Val score: 1.4675\n",
      "====> Epoch 76 | Time: 0.8802490234375 | Train loss: 0.5451 | Val score: 1.4675\n",
      "====> Epoch 77 | Time: 0.8346331119537354 | Train loss: 0.5451 | Val score: 1.4675\n",
      "====> Epoch 78 | Time: 0.8629560470581055 | Train loss: 0.5451 | Val score: 1.4675\n",
      "====> Epoch 79 | Time: 0.8578228950500488 | Train loss: 0.5451 | Val score: 1.4675\n",
      "====> Epoch 80 | Time: 0.8273491859436035 | Train loss: 0.5451 | Val score: 1.4675\n",
      "====> Epoch 81 | Time: 0.8498690128326416 | Train loss: 0.5451 | Val score: 1.4675\n",
      "====> Epoch 82 | Time: 0.878424882888794 | Train loss: 0.5451 | Val score: 1.4675\n",
      "====> Epoch 83 | Time: 0.8873670101165771 | Train loss: 0.5451 | Val score: 1.4675\n",
      "====> Epoch 84 | Time: 0.8838779926300049 | Train loss: 0.5451 | Val score: 1.4675\n",
      "====> Epoch 85 | Time: 0.8511350154876709 | Train loss: 0.5451 | Val score: 1.4675\n",
      "====> Epoch 86 | Time: 0.8361809253692627 | Train loss: 0.5451 | Val score: 1.4675\n",
      "====> Epoch 87 | Time: 0.8665289878845215 | Train loss: 0.5451 | Val score: 1.4675\n",
      "====> Epoch 88 | Time: 0.8916559219360352 | Train loss: 0.5451 | Val score: 1.4675\n",
      "====> Epoch 89 | Time: 0.9008378982543945 | Train loss: 0.5451 | Val score: 1.4675\n",
      "====> Epoch 90 | Time: 0.9182741641998291 | Train loss: 0.5451 | Val score: 1.4675\n",
      "====> Epoch 91 | Time: 1.0136268138885498 | Train loss: 0.5451 | Val score: 1.4675\n",
      "====> Epoch 92 | Time: 0.8865070343017578 | Train loss: 0.5451 | Val score: 1.4675\n",
      "====> Epoch 93 | Time: 0.9370629787445068 | Train loss: 0.5451 | Val score: 1.4675\n",
      "====> Epoch 94 | Time: 1.1566760540008545 | Train loss: 0.5451 | Val score: 1.4675\n",
      "====> Epoch 95 | Time: 1.3681859970092773 | Train loss: 0.5451 | Val score: 1.4675\n",
      "====> Epoch 96 | Time: 1.2036528587341309 | Train loss: 0.5451 | Val score: 1.4675\n",
      "====> Epoch 97 | Time: 1.0030879974365234 | Train loss: 0.5451 | Val score: 1.4675\n",
      "====> Epoch 98 | Time: 0.8368220329284668 | Train loss: 0.5451 | Val score: 1.4675\n",
      "====> Epoch 99 | Time: 0.8485219478607178 | Train loss: 0.5451 | Val score: 1.4675\n",
      "====> Epoch 100 | Time: 0.9259800910949707 | Train loss: 0.5451 | Val score: 1.4675\n"
     ]
    }
   ],
   "source": [
    "if args.train:\n",
    "    for epoch in range(1, args.epochs + 1):\n",
    "        init = time.time()\n",
    "        \n",
    "        #method 1 scheduler\n",
    "        #scheduler.step()\n",
    "        train_loss = train(epoch, model, optimizer)\n",
    "        #val_score = val(model, missing_matrix_w_normalized_time_val, complete_true_val, missing_true_val,\n",
    "        #                    pad_matrix_val, cols_w_normalized_time, val_row_num, \n",
    "        #                    nan_time_index_val, nan_activity_index_val)\n",
    "        val_score = val(model, missing_matrix_w_normalized_time_val, complete_matrix_w_normalized_time_val, avai_matrix_val)\n",
    "        \n",
    "        if epoch == 1:\n",
    "            current_best = val_score\n",
    "            save_model(model, epoch, val_score)\n",
    "        \n",
    "        else:\n",
    "            if val_score < current_best:\n",
    "                current_best = val_score\n",
    "                save_model(model, epoch, val_score)\n",
    "        \n",
    "        #method 2 scheduler\n",
    "        scheduler.step(val_score)\n",
    "        \n",
    "        end = time.time()\n",
    "        print('====> Epoch {} | Time: {} ms| Train loss: {:.4f} | Val score: {:.4f}'.format(\n",
    "                          epoch, (end-init)*1000 ,train_loss, val_score))\n",
    "else:\n",
    "    load_model(model, args.model_name)"
   ]
  },
  {
   "cell_type": "markdown",
   "metadata": {
    "collapsed": true,
    "deletable": true,
    "editable": true
   },
   "source": [
    "# Predict and evaluate"
   ]
  },
  {
   "cell_type": "code",
   "execution_count": 32,
   "metadata": {
    "collapsed": false,
    "deletable": true,
    "editable": true
   },
   "outputs": [
    {
     "name": "stdout",
     "output_type": "stream",
     "text": [
      "Predicting...\n",
      "\n",
      "\n",
      "Converting to dataframe...\n",
      "Transforming Normalized Time to Time...\n",
      "Getting submission...\n"
     ]
    },
    {
     "name": "stderr",
     "output_type": "stream",
     "text": [
      "/Users/hoangnguyen/miniconda3/envs/pydata/lib/python3.5/site-packages/pandas/core/indexing.py:517: SettingWithCopyWarning: \n",
      "A value is trying to be set on a copy of a slice from a DataFrame.\n",
      "Try using .loc[row_indexer,col_indexer] = value instead\n",
      "\n",
      "See the caveats in the documentation: http://pandas.pydata.org/pandas-docs/stable/indexing.html#indexing-view-versus-copy\n",
      "  self.obj[item] = s\n"
     ]
    },
    {
     "name": "stdout",
     "output_type": "stream",
     "text": [
      "Testing...\n",
      "Number of missing Time: 307\n",
      "Mean Absolute Error: 8.0397 day(s)\n",
      "Root Mean Squared Error: 15.8874 day(s)\n",
      "Number of missing Activity: 325\n",
      "Accuracy: 70.46%\n",
      "\n",
      "\n",
      "Saving submission...\n",
      "Done!\n"
     ]
    }
   ],
   "source": [
    "if args.test:\n",
    "    m_test = missing_matrix_w_normalized_time_test\n",
    "    m_test = Variable(torch.Tensor(m_test).float())\n",
    "    \n",
    "    if args.cuda:\n",
    "        m_test = m_test.cuda()\n",
    "    \n",
    "    print('Predicting...')\n",
    "    recon_test = model(m_test)\n",
    "    \n",
    "    print('\\n')\n",
    "    print('Converting to dataframe...')\n",
    "    recon_df_w_normalized_time = convert2df(recon_test, pad_matrix_test, cols_w_normalized_time, test_row_num)\n",
    "    \n",
    "    print('Transforming Normalized Time to Time...')\n",
    "    recon_df_w_time = getDfWithTime(recon_df_w_normalized_time, missing_true_test, min_max_storage)\n",
    "    \n",
    "    print('Getting submission...')\n",
    "    submission_df = getSubmission(recon_df_w_time, missing_true_test, complete_true_test, first_timestamp)\n",
    "    submission = fixTime(submission_df)\n",
    "    \n",
    "    print('Testing...')\n",
    "    mae_time, rmse_time, acc = evaluation(submission, nan_time_index_test, nan_activity_index_test,show=True)\n",
    "    print('\\n')\n",
    "    \n",
    "    print('Saving submission...')\n",
    "    submission_df.to_csv(args.output_dir+'submission.csv', index=False)\n",
    "    print('Done!')"
   ]
  },
  {
   "cell_type": "code",
   "execution_count": 33,
   "metadata": {
    "collapsed": false,
    "deletable": true,
    "editable": true
   },
   "outputs": [
    {
     "data": {
      "text/html": [
       "<div>\n",
       "<style>\n",
       "    .dataframe thead tr:only-child th {\n",
       "        text-align: right;\n",
       "    }\n",
       "\n",
       "    .dataframe thead th {\n",
       "        text-align: left;\n",
       "    }\n",
       "\n",
       "    .dataframe tbody tr th {\n",
       "        vertical-align: top;\n",
       "    }\n",
       "</style>\n",
       "<table border=\"1\" class=\"dataframe\">\n",
       "  <thead>\n",
       "    <tr style=\"text-align: right;\">\n",
       "      <th></th>\n",
       "      <th>CaseID</th>\n",
       "      <th>TrueActivity</th>\n",
       "      <th>PredictedActivity</th>\n",
       "      <th>TrueTime</th>\n",
       "      <th>PredictedTime</th>\n",
       "      <th>TrueCompleteTimestamp</th>\n",
       "      <th>PredictedCompleteTimestamp</th>\n",
       "    </tr>\n",
       "  </thead>\n",
       "  <tbody>\n",
       "    <tr>\n",
       "      <th>0</th>\n",
       "      <td>1190</td>\n",
       "      <td>Accepted-In Progress</td>\n",
       "      <td>Accepted-In Progress</td>\n",
       "      <td>194135680.0</td>\n",
       "      <td>1.971568e+08</td>\n",
       "      <td>2012-03-07 22:24:22</td>\n",
       "      <td>2012-04-11 21:36:11.001838</td>\n",
       "    </tr>\n",
       "    <tr>\n",
       "      <th>1</th>\n",
       "      <td>1190</td>\n",
       "      <td>Completed-Closed</td>\n",
       "      <td>Completed-Closed</td>\n",
       "      <td>197156789.0</td>\n",
       "      <td>1.971568e+08</td>\n",
       "      <td>2012-04-11 21:36:11</td>\n",
       "      <td>2012-04-11 21:36:11</td>\n",
       "    </tr>\n",
       "    <tr>\n",
       "      <th>2</th>\n",
       "      <td>1191</td>\n",
       "      <td>Accepted-In Progress</td>\n",
       "      <td>Accepted-In Progress</td>\n",
       "      <td>194135786.0</td>\n",
       "      <td>1.941358e+08</td>\n",
       "      <td>2012-03-07 22:26:08</td>\n",
       "      <td>2012-03-07 22:26:08</td>\n",
       "    </tr>\n",
       "    <tr>\n",
       "      <th>3</th>\n",
       "      <td>1191</td>\n",
       "      <td>Completed-Closed</td>\n",
       "      <td>Completed-Closed</td>\n",
       "      <td>198348747.0</td>\n",
       "      <td>1.941358e+08</td>\n",
       "      <td>2012-04-25 16:42:09</td>\n",
       "      <td>2012-03-07 22:26:08.099999</td>\n",
       "    </tr>\n",
       "    <tr>\n",
       "      <th>4</th>\n",
       "      <td>1192</td>\n",
       "      <td>Accepted-In Progress</td>\n",
       "      <td>Accepted-In Progress</td>\n",
       "      <td>194141794.0</td>\n",
       "      <td>1.941418e+08</td>\n",
       "      <td>2012-03-08 00:06:16</td>\n",
       "      <td>2012-03-08 00:06:16</td>\n",
       "    </tr>\n",
       "    <tr>\n",
       "      <th>5</th>\n",
       "      <td>1192</td>\n",
       "      <td>Completed-Closed</td>\n",
       "      <td>Completed-Closed</td>\n",
       "      <td>194821332.0</td>\n",
       "      <td>1.948213e+08</td>\n",
       "      <td>2012-03-15 20:51:54</td>\n",
       "      <td>2012-03-15 20:51:54</td>\n",
       "    </tr>\n",
       "    <tr>\n",
       "      <th>6</th>\n",
       "      <td>1193</td>\n",
       "      <td>Accepted-In Progress</td>\n",
       "      <td>Accepted-In Progress</td>\n",
       "      <td>194163235.0</td>\n",
       "      <td>1.941632e+08</td>\n",
       "      <td>2012-03-08 06:03:37</td>\n",
       "      <td>2012-03-08 06:03:37</td>\n",
       "    </tr>\n",
       "    <tr>\n",
       "      <th>7</th>\n",
       "      <td>1193</td>\n",
       "      <td>Accepted-In Progress</td>\n",
       "      <td>Accepted-In Progress</td>\n",
       "      <td>194319293.0</td>\n",
       "      <td>1.943193e+08</td>\n",
       "      <td>2012-03-10 01:24:35</td>\n",
       "      <td>2012-03-10 01:24:35</td>\n",
       "    </tr>\n",
       "    <tr>\n",
       "      <th>8</th>\n",
       "      <td>1193</td>\n",
       "      <td>Accepted-Wait</td>\n",
       "      <td>Accepted-Assigned</td>\n",
       "      <td>195953439.0</td>\n",
       "      <td>1.941663e+08</td>\n",
       "      <td>2012-03-28 23:20:21</td>\n",
       "      <td>2012-03-08 06:54:20.199579</td>\n",
       "    </tr>\n",
       "    <tr>\n",
       "      <th>9</th>\n",
       "      <td>1193</td>\n",
       "      <td>Accepted-In Progress</td>\n",
       "      <td>Accepted-In Progress</td>\n",
       "      <td>199039446.0</td>\n",
       "      <td>1.941900e+08</td>\n",
       "      <td>2012-05-03 16:33:48</td>\n",
       "      <td>2012-03-08 13:30:16.317510</td>\n",
       "    </tr>\n",
       "  </tbody>\n",
       "</table>\n",
       "</div>"
      ],
      "text/plain": [
       "   CaseID          TrueActivity     PredictedActivity     TrueTime  \\\n",
       "0    1190  Accepted-In Progress  Accepted-In Progress  194135680.0   \n",
       "1    1190      Completed-Closed      Completed-Closed  197156789.0   \n",
       "2    1191  Accepted-In Progress  Accepted-In Progress  194135786.0   \n",
       "3    1191      Completed-Closed      Completed-Closed  198348747.0   \n",
       "4    1192  Accepted-In Progress  Accepted-In Progress  194141794.0   \n",
       "5    1192      Completed-Closed      Completed-Closed  194821332.0   \n",
       "6    1193  Accepted-In Progress  Accepted-In Progress  194163235.0   \n",
       "7    1193  Accepted-In Progress  Accepted-In Progress  194319293.0   \n",
       "8    1193         Accepted-Wait     Accepted-Assigned  195953439.0   \n",
       "9    1193  Accepted-In Progress  Accepted-In Progress  199039446.0   \n",
       "\n",
       "   PredictedTime TrueCompleteTimestamp  PredictedCompleteTimestamp  \n",
       "0   1.971568e+08   2012-03-07 22:24:22  2012-04-11 21:36:11.001838  \n",
       "1   1.971568e+08   2012-04-11 21:36:11         2012-04-11 21:36:11  \n",
       "2   1.941358e+08   2012-03-07 22:26:08         2012-03-07 22:26:08  \n",
       "3   1.941358e+08   2012-04-25 16:42:09  2012-03-07 22:26:08.099999  \n",
       "4   1.941418e+08   2012-03-08 00:06:16         2012-03-08 00:06:16  \n",
       "5   1.948213e+08   2012-03-15 20:51:54         2012-03-15 20:51:54  \n",
       "6   1.941632e+08   2012-03-08 06:03:37         2012-03-08 06:03:37  \n",
       "7   1.943193e+08   2012-03-10 01:24:35         2012-03-10 01:24:35  \n",
       "8   1.941663e+08   2012-03-28 23:20:21  2012-03-08 06:54:20.199579  \n",
       "9   1.941900e+08   2012-05-03 16:33:48  2012-03-08 13:30:16.317510  "
      ]
     },
     "execution_count": 33,
     "metadata": {},
     "output_type": "execute_result"
    }
   ],
   "source": [
    "submission_df.head(10)"
   ]
  },
  {
   "cell_type": "code",
   "execution_count": 34,
   "metadata": {
    "collapsed": false,
    "deletable": true,
    "editable": true
   },
   "outputs": [
    {
     "data": {
      "text/html": [
       "<div>\n",
       "<style>\n",
       "    .dataframe thead tr:only-child th {\n",
       "        text-align: right;\n",
       "    }\n",
       "\n",
       "    .dataframe thead th {\n",
       "        text-align: left;\n",
       "    }\n",
       "\n",
       "    .dataframe tbody tr th {\n",
       "        vertical-align: top;\n",
       "    }\n",
       "</style>\n",
       "<table border=\"1\" class=\"dataframe\">\n",
       "  <thead>\n",
       "    <tr style=\"text-align: right;\">\n",
       "      <th></th>\n",
       "      <th>CaseID</th>\n",
       "      <th>TrueActivity</th>\n",
       "      <th>PredictedActivity</th>\n",
       "      <th>TrueTime</th>\n",
       "      <th>PredictedTime</th>\n",
       "      <th>TrueCompleteTimestamp</th>\n",
       "      <th>PredictedCompleteTimestamp</th>\n",
       "    </tr>\n",
       "  </thead>\n",
       "  <tbody>\n",
       "    <tr>\n",
       "      <th>0</th>\n",
       "      <td>1190</td>\n",
       "      <td>Accepted-In Progress</td>\n",
       "      <td>Accepted-In Progress</td>\n",
       "      <td>194135680.0</td>\n",
       "      <td>1.971568e+08</td>\n",
       "      <td>2012-03-07 22:24:22</td>\n",
       "      <td>2012-04-11 21:36:11.001838</td>\n",
       "    </tr>\n",
       "    <tr>\n",
       "      <th>1</th>\n",
       "      <td>1190</td>\n",
       "      <td>Completed-Closed</td>\n",
       "      <td>Completed-Closed</td>\n",
       "      <td>197156789.0</td>\n",
       "      <td>1.971568e+08</td>\n",
       "      <td>2012-04-11 21:36:11</td>\n",
       "      <td>2012-04-11 21:36:11.001838</td>\n",
       "    </tr>\n",
       "    <tr>\n",
       "      <th>2</th>\n",
       "      <td>1191</td>\n",
       "      <td>Accepted-In Progress</td>\n",
       "      <td>Accepted-In Progress</td>\n",
       "      <td>194135786.0</td>\n",
       "      <td>1.941358e+08</td>\n",
       "      <td>2012-03-07 22:26:08</td>\n",
       "      <td>2012-03-07 22:26:08</td>\n",
       "    </tr>\n",
       "    <tr>\n",
       "      <th>3</th>\n",
       "      <td>1191</td>\n",
       "      <td>Completed-Closed</td>\n",
       "      <td>Completed-Closed</td>\n",
       "      <td>198348747.0</td>\n",
       "      <td>1.941358e+08</td>\n",
       "      <td>2012-04-25 16:42:09</td>\n",
       "      <td>2012-03-07 22:26:08.099999</td>\n",
       "    </tr>\n",
       "    <tr>\n",
       "      <th>4</th>\n",
       "      <td>1192</td>\n",
       "      <td>Accepted-In Progress</td>\n",
       "      <td>Accepted-In Progress</td>\n",
       "      <td>194141794.0</td>\n",
       "      <td>1.941418e+08</td>\n",
       "      <td>2012-03-08 00:06:16</td>\n",
       "      <td>2012-03-08 00:06:16</td>\n",
       "    </tr>\n",
       "    <tr>\n",
       "      <th>5</th>\n",
       "      <td>1192</td>\n",
       "      <td>Completed-Closed</td>\n",
       "      <td>Completed-Closed</td>\n",
       "      <td>194821332.0</td>\n",
       "      <td>1.948213e+08</td>\n",
       "      <td>2012-03-15 20:51:54</td>\n",
       "      <td>2012-03-15 20:51:54</td>\n",
       "    </tr>\n",
       "    <tr>\n",
       "      <th>6</th>\n",
       "      <td>1193</td>\n",
       "      <td>Accepted-In Progress</td>\n",
       "      <td>Accepted-In Progress</td>\n",
       "      <td>194163235.0</td>\n",
       "      <td>1.941632e+08</td>\n",
       "      <td>2012-03-08 06:03:37</td>\n",
       "      <td>2012-03-08 06:03:37</td>\n",
       "    </tr>\n",
       "    <tr>\n",
       "      <th>7</th>\n",
       "      <td>1193</td>\n",
       "      <td>Accepted-In Progress</td>\n",
       "      <td>Accepted-In Progress</td>\n",
       "      <td>194319293.0</td>\n",
       "      <td>1.943193e+08</td>\n",
       "      <td>2012-03-10 01:24:35</td>\n",
       "      <td>2012-03-10 01:24:35</td>\n",
       "    </tr>\n",
       "    <tr>\n",
       "      <th>8</th>\n",
       "      <td>1193</td>\n",
       "      <td>Accepted-Wait</td>\n",
       "      <td>Accepted-Assigned</td>\n",
       "      <td>195953439.0</td>\n",
       "      <td>1.943193e+08</td>\n",
       "      <td>2012-03-28 23:20:21</td>\n",
       "      <td>2012-03-10 01:24:35</td>\n",
       "    </tr>\n",
       "    <tr>\n",
       "      <th>9</th>\n",
       "      <td>1193</td>\n",
       "      <td>Accepted-In Progress</td>\n",
       "      <td>Accepted-In Progress</td>\n",
       "      <td>199039446.0</td>\n",
       "      <td>1.943193e+08</td>\n",
       "      <td>2012-05-03 16:33:48</td>\n",
       "      <td>2012-03-10 01:24:35</td>\n",
       "    </tr>\n",
       "  </tbody>\n",
       "</table>\n",
       "</div>"
      ],
      "text/plain": [
       "  CaseID          TrueActivity     PredictedActivity     TrueTime  \\\n",
       "0   1190  Accepted-In Progress  Accepted-In Progress  194135680.0   \n",
       "1   1190      Completed-Closed      Completed-Closed  197156789.0   \n",
       "2   1191  Accepted-In Progress  Accepted-In Progress  194135786.0   \n",
       "3   1191      Completed-Closed      Completed-Closed  198348747.0   \n",
       "4   1192  Accepted-In Progress  Accepted-In Progress  194141794.0   \n",
       "5   1192      Completed-Closed      Completed-Closed  194821332.0   \n",
       "6   1193  Accepted-In Progress  Accepted-In Progress  194163235.0   \n",
       "7   1193  Accepted-In Progress  Accepted-In Progress  194319293.0   \n",
       "8   1193         Accepted-Wait     Accepted-Assigned  195953439.0   \n",
       "9   1193  Accepted-In Progress  Accepted-In Progress  199039446.0   \n",
       "\n",
       "   PredictedTime TrueCompleteTimestamp  PredictedCompleteTimestamp  \n",
       "0   1.971568e+08   2012-03-07 22:24:22  2012-04-11 21:36:11.001838  \n",
       "1   1.971568e+08   2012-04-11 21:36:11  2012-04-11 21:36:11.001838  \n",
       "2   1.941358e+08   2012-03-07 22:26:08         2012-03-07 22:26:08  \n",
       "3   1.941358e+08   2012-04-25 16:42:09  2012-03-07 22:26:08.099999  \n",
       "4   1.941418e+08   2012-03-08 00:06:16         2012-03-08 00:06:16  \n",
       "5   1.948213e+08   2012-03-15 20:51:54         2012-03-15 20:51:54  \n",
       "6   1.941632e+08   2012-03-08 06:03:37         2012-03-08 06:03:37  \n",
       "7   1.943193e+08   2012-03-10 01:24:35         2012-03-10 01:24:35  \n",
       "8   1.943193e+08   2012-03-28 23:20:21         2012-03-10 01:24:35  \n",
       "9   1.943193e+08   2012-05-03 16:33:48         2012-03-10 01:24:35  "
      ]
     },
     "execution_count": 34,
     "metadata": {},
     "output_type": "execute_result"
    }
   ],
   "source": [
    "submission.head(10)"
   ]
  },
  {
   "cell_type": "code",
   "execution_count": 35,
   "metadata": {
    "collapsed": true,
    "deletable": true,
    "editable": true
   },
   "outputs": [],
   "source": [
    "#bpi2013\n",
    "#7.6\n",
    "#75%"
   ]
  },
  {
   "cell_type": "code",
   "execution_count": 36,
   "metadata": {
    "collapsed": true,
    "deletable": true,
    "editable": true
   },
   "outputs": [],
   "source": [
    "#bpi2012\n",
    "#0.59\n",
    "#75%"
   ]
  },
  {
   "cell_type": "code",
   "execution_count": 37,
   "metadata": {
    "collapsed": true,
    "deletable": true,
    "editable": true
   },
   "outputs": [],
   "source": [
    "#helpdesk\n",
    "#3.9\n",
    "#85"
   ]
  }
 ],
 "metadata": {
  "kernelspec": {
   "display_name": "Python 3",
   "language": "python",
   "name": "python3"
  },
  "language_info": {
   "codemirror_mode": {
    "name": "ipython",
    "version": 3
   },
   "file_extension": ".py",
   "mimetype": "text/x-python",
   "name": "python",
   "nbconvert_exporter": "python",
   "pygments_lexer": "ipython3",
   "version": "3.5.2"
  },
  "toc": {
   "colors": {
    "hover_highlight": "#DAA520",
    "running_highlight": "#FF0000",
    "selected_highlight": "#FFD700"
   },
   "moveMenuLeft": true,
   "nav_menu": {
    "height": "48px",
    "width": "252px"
   },
   "navigate_menu": true,
   "number_sections": true,
   "sideBar": true,
   "threshold": 4,
   "toc_cell": false,
   "toc_section_display": "block",
   "toc_window_display": false
  }
 },
 "nbformat": 4,
 "nbformat_minor": 2
}
