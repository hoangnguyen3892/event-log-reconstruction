{
 "cells": [
  {
   "cell_type": "markdown",
   "metadata": {},
   "source": [
    "**Outline:**\n",
    "- Build model and loss function\n",
    "- Train model\n",
    "- Observe valdidate\n",
    "- Test"
   ]
  },
  {
   "cell_type": "markdown",
   "metadata": {},
   "source": [
    "**To do:**\n",
    "- Hyperparameter tuning\n",
    "    + lr\n",
    "    + layer1, layer2\n",
    "    + betas"
   ]
  },
  {
   "cell_type": "markdown",
   "metadata": {},
   "source": [
    "**Modification**\n",
    "- Weight initialization with xavier uniform\n",
    "- Adam optimization\n",
    "- LR decay"
   ]
  },
  {
   "cell_type": "markdown",
   "metadata": {},
   "source": [
    "**To do:**\n",
    "- Add dropout\n",
    "- Implement another loss function"
   ]
  },
  {
   "cell_type": "code",
   "execution_count": 1,
   "metadata": {
    "collapsed": true
   },
   "outputs": [],
   "source": [
    "import importlib\n",
    "import argparse\n",
    "import os, sys\n",
    "import argparse\n",
    "import pandas as pd\n",
    "import numpy as np\n",
    "import pickle"
   ]
  },
  {
   "cell_type": "code",
   "execution_count": 2,
   "metadata": {
    "collapsed": true
   },
   "outputs": [],
   "source": [
    "import torch\n",
    "import torch.utils.data\n",
    "import torch.nn.functional as F\n",
    "import torch.nn as nn\n",
    "import torch.optim as optim\n",
    "import torch.optim.lr_scheduler\n",
    "from torch.autograd import Variable\n",
    "from torchvision import transforms"
   ]
  },
  {
   "cell_type": "code",
   "execution_count": 3,
   "metadata": {
    "collapsed": true
   },
   "outputs": [],
   "source": [
    "sys.path.insert(0, './../utils/')\n",
    "from utils import *\n",
    "from models import *"
   ]
  },
  {
   "cell_type": "code",
   "execution_count": 4,
   "metadata": {
    "collapsed": true
   },
   "outputs": [],
   "source": [
    "#Define parser\n",
    "#name = 'bpi_2012'\n",
    "name = 'bpi_2013'\n",
    "#name = 'helpdesk'  \n",
    "\n",
    "parser = {\n",
    "    'train': True,\n",
    "    'test': True,\n",
    "    'model_class': 'VAE',\n",
    "    'model_name': ' ',\n",
    "    'data_dir': '../data/',\n",
    "    'data_file': name + '.csv',\n",
    "    'nan_pct': 0.5,\n",
    "    'input_dir': '../input/{}/'.format(name), \n",
    "    'output_dir': './output/{}/'.format(name),\n",
    "    'batch_size' : 16,\n",
    "    'epochs' : 30,\n",
    "    'no_cuda' : False,\n",
    "    'seed' : 7,\n",
    "    'layer1': 1000,\n",
    "    'layer2': 100,\n",
    "    'early_stopping': 30,\n",
    "    'lr': 0.003,\n",
    "    'betas': (0.9, 0.99),   \n",
    "    'lr_decay': 0.90,\n",
    "}\n",
    "\n",
    "args = argparse.Namespace(**parser)"
   ]
  },
  {
   "cell_type": "code",
   "execution_count": 5,
   "metadata": {
    "collapsed": true
   },
   "outputs": [],
   "source": [
    "if not os.path.isdir(args.output_dir):\n",
    "    os.makedirs(args.output_dir)"
   ]
  },
  {
   "cell_type": "code",
   "execution_count": 6,
   "metadata": {
    "collapsed": true
   },
   "outputs": [],
   "source": [
    "args.cuda = not args.no_cuda and torch.cuda.is_available()"
   ]
  },
  {
   "cell_type": "code",
   "execution_count": 7,
   "metadata": {
    "collapsed": true
   },
   "outputs": [],
   "source": [
    "torch.manual_seed(args.seed)\n",
    "if args.cuda:\n",
    "    torch.cuda.manual_seed(args.seed)"
   ]
  },
  {
   "cell_type": "code",
   "execution_count": 8,
   "metadata": {
    "collapsed": true
   },
   "outputs": [],
   "source": [
    "kwargs = {'num_workers': 2, 'pin_memory': True} if args.cuda else {}"
   ]
  },
  {
   "cell_type": "code",
   "execution_count": 9,
   "metadata": {
    "collapsed": true
   },
   "outputs": [],
   "source": [
    "preprocessed_data_name = os.path.join(args.input_dir, 'preprocessed_data_{}.pkl'.format(args.nan_pct))\n",
    "with open(preprocessed_data_name, 'rb') as f:\n",
    "    min_max_storage = pickle.load(f)\n",
    "    complete_matrix_w_normalized_time_train = pickle.load(f)\n",
    "    missing_matrix_w_normalized_time_train = pickle.load(f)\n",
    "    avai_matrix_train = pickle.load(f)\n",
    "    nan_matrix_train = pickle.load(f)\n",
    "    complete_matrix_w_normalized_time_val = pickle.load(f)\n",
    "    missing_matrix_w_normalized_time_val = pickle.load(f)\n",
    "    avai_matrix_val = pickle.load(f)\n",
    "    nan_matrix_val = pickle.load(f)\n",
    "    pad_matrix_val = pickle.load(f)\n",
    "    complete_matrix_w_normalized_time_test = pickle.load(f)\n",
    "    missing_matrix_w_normalized_time_test = pickle.load(f)\n",
    "    avai_matrix_test = pickle.load(f)\n",
    "    nan_matrix_test = pickle.load(f)\n",
    "    pad_matrix_test = pickle.load(f)\n",
    "    cols_w_time = pickle.load(f)\n",
    "    cols_w_normalized_time = pickle.load(f)"
   ]
  },
  {
   "cell_type": "code",
   "execution_count": 10,
   "metadata": {
    "collapsed": true
   },
   "outputs": [],
   "source": [
    "file_name = os.path.join(args.input_dir, 'parameters_{}.pkl'.format(args.nan_pct))\n",
    "with open(file_name, 'rb') as f:\n",
    "    most_frequent_activity = pickle.load(f)\n",
    "    first_timestamp = pickle.load(f)\n",
    "    avai_instance = pickle.load(f)\n",
    "    nan_instance = pickle.load(f)\n",
    "    train_size = pickle.load(f)\n",
    "    val_size = pickle.load(f)\n",
    "    test_size = pickle.load(f)\n",
    "    train_row_num = pickle.load(f)\n",
    "    val_row_num = pickle.load(f)\n",
    "    test_row_num = pickle.load(f)"
   ]
  },
  {
   "cell_type": "markdown",
   "metadata": {},
   "source": [
    "# Load data"
   ]
  },
  {
   "cell_type": "markdown",
   "metadata": {},
   "source": [
    "## Train"
   ]
  },
  {
   "cell_type": "code",
   "execution_count": 11,
   "metadata": {
    "collapsed": true
   },
   "outputs": [],
   "source": [
    "complete_matrix_w_normalized_time_trainLoader = torch.utils.data.DataLoader(complete_matrix_w_normalized_time_train, \n",
    "                                                                            batch_size=args.batch_size, shuffle=False, \n",
    "                                                                            num_workers=2)\n",
    "missing_matrix_w_normalized_time_trainLoader = torch.utils.data.DataLoader(missing_matrix_w_normalized_time_train, \n",
    "                                                                           batch_size=args.batch_size, shuffle=False, \n",
    "                                                                           num_workers=2)\n",
    "avai_matrix_trainLoader = torch.utils.data.DataLoader(avai_matrix_train, \n",
    "                                                      batch_size=args.batch_size, shuffle=False, \n",
    "                                                      num_workers=2)"
   ]
  },
  {
   "cell_type": "markdown",
   "metadata": {},
   "source": [
    "## Validate and test"
   ]
  },
  {
   "cell_type": "code",
   "execution_count": 12,
   "metadata": {
    "collapsed": true
   },
   "outputs": [],
   "source": [
    "normalized_complete_df_name = os.path.join(args.input_dir, 'normalized_complete_df_{}.pkl'.format(args.nan_pct))\n",
    "normalized_complete_df = pd.read_csv(normalized_complete_df_name)\n",
    "\n",
    "normalized_missing_df_name = os.path.join(args.input_dir, 'normalized_missing_df_{}.pkl'.format(args.nan_pct))\n",
    "normalized_missing_df = pd.read_csv(normalized_missing_df_name)"
   ]
  },
  {
   "cell_type": "code",
   "execution_count": 13,
   "metadata": {
    "collapsed": true
   },
   "outputs": [],
   "source": [
    "missing_true_val = normalized_missing_df[train_row_num:-test_row_num].reset_index(drop=True)\n",
    "complete_true_val = normalized_complete_df[train_row_num:-test_row_num].reset_index(drop=True)"
   ]
  },
  {
   "cell_type": "code",
   "execution_count": 14,
   "metadata": {
    "collapsed": true
   },
   "outputs": [],
   "source": [
    "missing_true_test = normalized_missing_df[-test_row_num:].reset_index(drop=True)\n",
    "complete_true_test = normalized_complete_df[-test_row_num:].reset_index(drop=True)"
   ]
  },
  {
   "cell_type": "code",
   "execution_count": 15,
   "metadata": {},
   "outputs": [
    {
     "data": {
      "text/plain": [
       "((1096, 5), (1071, 5))"
      ]
     },
     "execution_count": 15,
     "metadata": {},
     "output_type": "execute_result"
    }
   ],
   "source": [
    "missing_true_val.shape, missing_true_test.shape"
   ]
  },
  {
   "cell_type": "code",
   "execution_count": 16,
   "metadata": {
    "collapsed": true
   },
   "outputs": [],
   "source": [
    "nan_time_index_val, nan_activity_index_val = getnanindex(missing_true_val)"
   ]
  },
  {
   "cell_type": "code",
   "execution_count": 17,
   "metadata": {
    "collapsed": true
   },
   "outputs": [],
   "source": [
    "nan_time_index_test, nan_activity_index_test = getnanindex(missing_true_test)"
   ]
  },
  {
   "cell_type": "markdown",
   "metadata": {},
   "source": [
    "# Build model"
   ]
  },
  {
   "cell_type": "markdown",
   "metadata": {},
   "source": [
    "## Define model"
   ]
  },
  {
   "cell_type": "code",
   "execution_count": 18,
   "metadata": {
    "collapsed": true
   },
   "outputs": [],
   "source": [
    "if args.model_class == 'VAE':\n",
    "    model = VAE(complete_matrix_w_normalized_time_train.shape, args.layer1, args.layer2, args.cuda)\n",
    "\n",
    "if args.cuda:\n",
    "    model.cuda()"
   ]
  },
  {
   "cell_type": "markdown",
   "metadata": {},
   "source": [
    "## Define loss"
   ]
  },
  {
   "cell_type": "code",
   "execution_count": 19,
   "metadata": {
    "collapsed": true
   },
   "outputs": [],
   "source": [
    "# Define loss\n",
    "\n",
    "def loss_function(recon_x, x, mu, logvar, avai_mask): \n",
    "    BCE = F.binary_cross_entropy(recon_x, x, weight=avai_mask, size_average=False)\n",
    "    # see Appendix B from VAE paper:\n",
    "    # Kingma and Welling. Auto-Encoding Variational Bayes. ICLR, 2014\n",
    "    # https://arxiv.org/abs/1312.6114\n",
    "    # 0.5 * sum(1 + log(sigma^2) - mu^2 - sigma^2)\n",
    "    KLD_element = mu.pow(2).add_(logvar.exp()).mul_(-1).add_(1).add_(logvar)\n",
    "    KLD = torch.sum(KLD_element).mul_(-0.5)\n",
    "    \n",
    "    loss = BCE+KLD\n",
    "    return loss"
   ]
  },
  {
   "cell_type": "code",
   "execution_count": 20,
   "metadata": {
    "collapsed": true
   },
   "outputs": [],
   "source": [
    "optimizer = optim.Adam(model.parameters(), lr=args.lr, betas=args.betas)"
   ]
  },
  {
   "cell_type": "code",
   "execution_count": 21,
   "metadata": {
    "collapsed": true
   },
   "outputs": [],
   "source": [
    "#Adjust learning rate per epoch: http://pytorch.org/docs/master/optim.html?highlight=adam#torch.optim.Adam\n",
    "\n",
    "# Method 1:\n",
    "#lambda1 = lambda epoch: args.lr_decay ** epoch\n",
    "#scheduler = torch.optim.lr_scheduler.LambdaLR(optimizer, lr_lambda=[lambda1])\n",
    "\n",
    "# Method 2:\n",
    "scheduler = torch.optim.lr_scheduler.ReduceLROnPlateau(optimizer, 'min', patience=10)"
   ]
  },
  {
   "cell_type": "markdown",
   "metadata": {},
   "source": [
    "## Utils"
   ]
  },
  {
   "cell_type": "code",
   "execution_count": 22,
   "metadata": {
    "collapsed": true
   },
   "outputs": [],
   "source": [
    "def save_model(model, epoch, score):\n",
    "    model_file = os.path.join(args.output_dir, 'model_{}_epoch{}_score{:.4f}.pth'.format(args.model_class, epoch, score))\n",
    "    torch.save(model.state_dict(), model_file)"
   ]
  },
  {
   "cell_type": "code",
   "execution_count": 23,
   "metadata": {
    "collapsed": true
   },
   "outputs": [],
   "source": [
    "def load_model(model, model_name):\n",
    "    model_file = os.path.join(args.output_dir, model_name)\n",
    "    assert os.path.isfile(model_file), 'Error: no model found!'\n",
    "    model_state = torch.load(model_file)\n",
    "    model.load_state_dict(model_state)"
   ]
  },
  {
   "cell_type": "code",
   "execution_count": 24,
   "metadata": {
    "collapsed": true
   },
   "outputs": [],
   "source": [
    "def val(model, missing_matrix_w_normalized_time_val, complete_matrix_w_normalized_time_val, nan_matrix_val):\n",
    "    model.eval()\n",
    "    m_val = missing_matrix_w_normalized_time_val\n",
    "    m_val = Variable(torch.Tensor(m_val).float())\n",
    "    \n",
    "    c_val = complete_matrix_w_normalized_time_val\n",
    "    c_val = Variable(torch.Tensor(c_val).float())\n",
    "    \n",
    "    nan_matrix_val = Variable(torch.Tensor(nan_matrix_val).float())\n",
    "    \n",
    "    if args.cuda:\n",
    "        m_val = m_val.cuda()\n",
    "        c_val = c_val.cuda()\n",
    "        nan_matrix_val = nan_matrix_val.cuda()\n",
    "        \n",
    "    recon_data, mu, logvar = model(m_val)\n",
    "        \n",
    "    loss = loss_function(recon_data, c_val, mu, logvar, nan_matrix_val)\n",
    "    return loss.data[0]/missing_matrix_w_normalized_time_val.shape[0]"
   ]
  },
  {
   "cell_type": "markdown",
   "metadata": {
    "collapsed": true
   },
   "source": [
    "```python\n",
    "def val(model, missing_matrix_w_normalized_time_val, complete_true_val, missing_true_val,\n",
    "       pad_matrix_val, cols_w_normalized_time, val_row_num,\n",
    "       nan_time_index_val, nan_activity_index_val):\n",
    "    model.eval()\n",
    "    m_val = missing_matrix_w_normalized_time_val\n",
    "    m_val = Variable(torch.Tensor(m_val).float())\n",
    "    \n",
    "    if args.cuda:\n",
    "        m_val = m_val.cuda()\n",
    "        \n",
    "    recon_val, mu, logvar = model(m_val)\n",
    "    \n",
    "    recon_df_w_normalized_time = convert2df(recon_val, pad_matrix_val, cols_w_normalized_time, val_row_num)\n",
    "    recon_df_w_time = getDfWithTime(recon_df_w_normalized_time, missing_true_val, min_max_storage)\n",
    "    submission_df = getSubmission(recon_df_w_time, missing_true_val, complete_true_val, first_timestamp)\n",
    "    \n",
    "    #evaluate\n",
    "    mae_time, rmse_time, acc = evaluation(submission_df, nan_time_index_val, nan_activity_index_val)\n",
    "    \n",
    "    \n",
    "    return mae_time/86400+1/acc\n",
    " ```"
   ]
  },
  {
   "cell_type": "code",
   "execution_count": 25,
   "metadata": {},
   "outputs": [
    {
     "data": {
      "text/html": [
       "<div>\n",
       "<style>\n",
       "    .dataframe thead tr:only-child th {\n",
       "        text-align: right;\n",
       "    }\n",
       "\n",
       "    .dataframe thead th {\n",
       "        text-align: left;\n",
       "    }\n",
       "\n",
       "    .dataframe tbody tr th {\n",
       "        vertical-align: top;\n",
       "    }\n",
       "</style>\n",
       "<table border=\"1\" class=\"dataframe\">\n",
       "  <thead>\n",
       "    <tr style=\"text-align: right;\">\n",
       "      <th></th>\n",
       "      <th>CaseID</th>\n",
       "      <th>Activity</th>\n",
       "      <th>CompleteTimestamp</th>\n",
       "      <th>CumTimeInterval</th>\n",
       "      <th>NormalizedTime</th>\n",
       "    </tr>\n",
       "  </thead>\n",
       "  <tbody>\n",
       "    <tr>\n",
       "      <th>0</th>\n",
       "      <td>893</td>\n",
       "      <td>Queued-Awaiting Assignment</td>\n",
       "      <td>2012-01-14 04:03:40</td>\n",
       "      <td>189490438.0</td>\n",
       "      <td>0.000000</td>\n",
       "    </tr>\n",
       "    <tr>\n",
       "      <th>1</th>\n",
       "      <td>893</td>\n",
       "      <td>NaN</td>\n",
       "      <td>NaN</td>\n",
       "      <td>NaN</td>\n",
       "      <td>NaN</td>\n",
       "    </tr>\n",
       "    <tr>\n",
       "      <th>2</th>\n",
       "      <td>893</td>\n",
       "      <td>NaN</td>\n",
       "      <td>NaN</td>\n",
       "      <td>NaN</td>\n",
       "      <td>NaN</td>\n",
       "    </tr>\n",
       "    <tr>\n",
       "      <th>3</th>\n",
       "      <td>893</td>\n",
       "      <td>NaN</td>\n",
       "      <td>2012-01-31 23:02:59</td>\n",
       "      <td>191027597.0</td>\n",
       "      <td>0.508222</td>\n",
       "    </tr>\n",
       "    <tr>\n",
       "      <th>4</th>\n",
       "      <td>893</td>\n",
       "      <td>Completed-Closed</td>\n",
       "      <td>2012-02-18 04:13:20</td>\n",
       "      <td>192515018.0</td>\n",
       "      <td>1.000000</td>\n",
       "    </tr>\n",
       "  </tbody>\n",
       "</table>\n",
       "</div>"
      ],
      "text/plain": [
       "   CaseID                    Activity    CompleteTimestamp  CumTimeInterval  \\\n",
       "0     893  Queued-Awaiting Assignment  2012-01-14 04:03:40      189490438.0   \n",
       "1     893                         NaN                  NaN              NaN   \n",
       "2     893                         NaN                  NaN              NaN   \n",
       "3     893                         NaN  2012-01-31 23:02:59      191027597.0   \n",
       "4     893            Completed-Closed  2012-02-18 04:13:20      192515018.0   \n",
       "\n",
       "   NormalizedTime  \n",
       "0        0.000000  \n",
       "1             NaN  \n",
       "2             NaN  \n",
       "3        0.508222  \n",
       "4        1.000000  "
      ]
     },
     "execution_count": 25,
     "metadata": {},
     "output_type": "execute_result"
    }
   ],
   "source": [
    "missing_true_val.head()"
   ]
  },
  {
   "cell_type": "code",
   "execution_count": 26,
   "metadata": {},
   "outputs": [
    {
     "data": {
      "text/html": [
       "<div>\n",
       "<style>\n",
       "    .dataframe thead tr:only-child th {\n",
       "        text-align: right;\n",
       "    }\n",
       "\n",
       "    .dataframe thead th {\n",
       "        text-align: left;\n",
       "    }\n",
       "\n",
       "    .dataframe tbody tr th {\n",
       "        vertical-align: top;\n",
       "    }\n",
       "</style>\n",
       "<table border=\"1\" class=\"dataframe\">\n",
       "  <thead>\n",
       "    <tr style=\"text-align: right;\">\n",
       "      <th></th>\n",
       "      <th>CaseID</th>\n",
       "      <th>Activity</th>\n",
       "      <th>CompleteTimestamp</th>\n",
       "      <th>CumTimeInterval</th>\n",
       "      <th>NormalizedTime</th>\n",
       "    </tr>\n",
       "  </thead>\n",
       "  <tbody>\n",
       "    <tr>\n",
       "      <th>0</th>\n",
       "      <td>893</td>\n",
       "      <td>Queued-Awaiting Assignment</td>\n",
       "      <td>2012-01-14 04:03:40</td>\n",
       "      <td>189490438.0</td>\n",
       "      <td>0.000000</td>\n",
       "    </tr>\n",
       "    <tr>\n",
       "      <th>1</th>\n",
       "      <td>893</td>\n",
       "      <td>Accepted-In Progress</td>\n",
       "      <td>2012-01-31 22:16:55</td>\n",
       "      <td>191024833.0</td>\n",
       "      <td>0.507308</td>\n",
       "    </tr>\n",
       "    <tr>\n",
       "      <th>2</th>\n",
       "      <td>893</td>\n",
       "      <td>Queued-Awaiting Assignment</td>\n",
       "      <td>2012-01-31 22:29:08</td>\n",
       "      <td>191025566.0</td>\n",
       "      <td>0.507551</td>\n",
       "    </tr>\n",
       "    <tr>\n",
       "      <th>3</th>\n",
       "      <td>893</td>\n",
       "      <td>Accepted-In Progress</td>\n",
       "      <td>2012-01-31 23:02:59</td>\n",
       "      <td>191027597.0</td>\n",
       "      <td>0.508222</td>\n",
       "    </tr>\n",
       "    <tr>\n",
       "      <th>4</th>\n",
       "      <td>893</td>\n",
       "      <td>Completed-Closed</td>\n",
       "      <td>2012-02-18 04:13:20</td>\n",
       "      <td>192515018.0</td>\n",
       "      <td>1.000000</td>\n",
       "    </tr>\n",
       "  </tbody>\n",
       "</table>\n",
       "</div>"
      ],
      "text/plain": [
       "   CaseID                    Activity    CompleteTimestamp  CumTimeInterval  \\\n",
       "0     893  Queued-Awaiting Assignment  2012-01-14 04:03:40      189490438.0   \n",
       "1     893        Accepted-In Progress  2012-01-31 22:16:55      191024833.0   \n",
       "2     893  Queued-Awaiting Assignment  2012-01-31 22:29:08      191025566.0   \n",
       "3     893        Accepted-In Progress  2012-01-31 23:02:59      191027597.0   \n",
       "4     893            Completed-Closed  2012-02-18 04:13:20      192515018.0   \n",
       "\n",
       "   NormalizedTime  \n",
       "0        0.000000  \n",
       "1        0.507308  \n",
       "2        0.507551  \n",
       "3        0.508222  \n",
       "4        1.000000  "
      ]
     },
     "execution_count": 26,
     "metadata": {},
     "output_type": "execute_result"
    }
   ],
   "source": [
    "complete_true_val.head()"
   ]
  },
  {
   "cell_type": "markdown",
   "metadata": {},
   "source": [
    "# Train model"
   ]
  },
  {
   "cell_type": "code",
   "execution_count": 27,
   "metadata": {
    "collapsed": true
   },
   "outputs": [],
   "source": [
    "def train(epoch, model, optimizer):\n",
    "    model.train()\n",
    "    train_loss = 0\n",
    "    for batch_idx, (m_data, c_data, avai_mask) in enumerate(zip(missing_matrix_w_normalized_time_trainLoader,\n",
    "                                                     complete_matrix_w_normalized_time_trainLoader,\n",
    "                                                     avai_matrix_trainLoader)):\n",
    "        c_data = Variable(c_data.float())\n",
    "        m_data = Variable(m_data.float())\n",
    "        avai_mask = Variable(avai_mask.float())\n",
    "      \n",
    "        #Transform: np --> Tensor/Variable: tensor --> tensor with wrapper\n",
    "        #Wraps a tensor and records the operations applied to it.\n",
    "        #Variable is a thin wrapper around a Tensor object, that also holds the gradient\n",
    "        if args.cuda:\n",
    "            c_data = c_data.cuda()\n",
    "            m_data = m_data.cuda()\n",
    "            avai_mask = avai_mask.cuda()\n",
    "            \n",
    "        optimizer.zero_grad()\n",
    "        \n",
    "        recon_data, mu, logvar = model(m_data)\n",
    "        \n",
    "        loss = loss_function(recon_data, c_data, mu, logvar, avai_mask)\n",
    "        loss.backward()\n",
    "        train_loss += loss.data[0]\n",
    "        optimizer.step()\n",
    "        \n",
    "    return train_loss / len(complete_matrix_w_normalized_time_trainLoader.dataset)"
   ]
  },
  {
   "cell_type": "code",
   "execution_count": 28,
   "metadata": {
    "scrolled": false
   },
   "outputs": [
    {
     "name": "stdout",
     "output_type": "stream",
     "text": [
      "====> Epoch 1 | Train loss: 6.0936 | Val score: 3.5615\n",
      "====> Epoch 2 | Train loss: 5.0363 | Val score: 3.5876\n",
      "====> Epoch 3 | Train loss: 4.9031 | Val score: 3.4928\n",
      "====> Epoch 4 | Train loss: 5.0527 | Val score: 3.5889\n",
      "====> Epoch 5 | Train loss: 4.9031 | Val score: 3.7328\n",
      "====> Epoch 6 | Train loss: 4.8404 | Val score: 3.6607\n",
      "====> Epoch 7 | Train loss: 4.7000 | Val score: 3.6511\n",
      "====> Epoch 8 | Train loss: 4.7425 | Val score: 3.9690\n",
      "====> Epoch 9 | Train loss: 4.6268 | Val score: 3.5937\n",
      "====> Epoch 10 | Train loss: 4.7611 | Val score: 3.7503\n",
      "====> Epoch 11 | Train loss: 4.7873 | Val score: 3.5939\n",
      "====> Epoch 12 | Train loss: 4.6126 | Val score: 3.7208\n",
      "====> Epoch 13 | Train loss: 4.5395 | Val score: 3.7786\n",
      "====> Epoch 14 | Train loss: 4.5045 | Val score: 3.8983\n",
      "====> Epoch 15 | Train loss: 4.5447 | Val score: 3.6454\n",
      "====> Epoch 16 | Train loss: 4.4318 | Val score: 4.0267\n",
      "====> Epoch 17 | Train loss: 4.2887 | Val score: 3.5182\n",
      "====> Epoch 18 | Train loss: 4.2360 | Val score: 3.7459\n",
      "====> Epoch 19 | Train loss: 4.2205 | Val score: 3.4129\n",
      "====> Epoch 20 | Train loss: 4.2208 | Val score: 3.6470\n",
      "====> Epoch 21 | Train loss: 4.1877 | Val score: 3.6672\n",
      "====> Epoch 22 | Train loss: 4.2475 | Val score: 3.7141\n",
      "====> Epoch 23 | Train loss: 4.2020 | Val score: 3.3833\n",
      "====> Epoch 24 | Train loss: 4.1546 | Val score: 3.6938\n",
      "====> Epoch 25 | Train loss: 4.0970 | Val score: 3.6746\n",
      "====> Epoch 26 | Train loss: 4.1193 | Val score: 3.6709\n",
      "====> Epoch 27 | Train loss: 4.0399 | Val score: 3.7070\n",
      "====> Epoch 28 | Train loss: 4.0588 | Val score: 3.7215\n",
      "====> Epoch 29 | Train loss: 4.0036 | Val score: 3.8124\n",
      "====> Epoch 30 | Train loss: 4.0675 | Val score: 3.6466\n"
     ]
    }
   ],
   "source": [
    "if args.train:\n",
    "    for epoch in range(1, args.epochs + 1):\n",
    "        #scheduler.step()\n",
    "        train_loss = train(epoch, model, optimizer)\n",
    "        #val_score = val(model, missing_matrix_w_normalized_time_val, complete_true_val, missing_true_val,\n",
    "        #                    pad_matrix_val, cols_w_normalized_time, val_row_num, \n",
    "        #                    nan_time_index_val, nan_activity_index_val)\n",
    "        val_score = val(model, missing_matrix_w_normalized_time_val, complete_matrix_w_normalized_time_val, avai_matrix_val)\n",
    "        \n",
    "        if epoch == 1:\n",
    "            current_best = val_score\n",
    "            save_model(model, epoch, val_score)\n",
    "        \n",
    "        else:\n",
    "            if val_score < current_best:\n",
    "                current_best = val_score\n",
    "                save_model(model, epoch, val_score)\n",
    "                \n",
    "        scheduler.step(val_score)        \n",
    "        print('====> Epoch {} | Train loss: {:.4f} | Val score: {:.4f}'.format(\n",
    "                          epoch, train_loss, val_score))\n",
    "else:\n",
    "    load_model(model, args.model_name)"
   ]
  },
  {
   "cell_type": "markdown",
   "metadata": {
    "collapsed": true
   },
   "source": [
    "# Predict and evaluate"
   ]
  },
  {
   "cell_type": "code",
   "execution_count": 29,
   "metadata": {},
   "outputs": [
    {
     "name": "stdout",
     "output_type": "stream",
     "text": [
      "Predicting...\n",
      "\n",
      "\n"
     ]
    },
    {
     "name": "stderr",
     "output_type": "stream",
     "text": [
      "/home/pllab/miniconda2/envs/pydata/lib/python3.5/site-packages/pandas/core/indexing.py:517: SettingWithCopyWarning: \n",
      "A value is trying to be set on a copy of a slice from a DataFrame.\n",
      "Try using .loc[row_indexer,col_indexer] = value instead\n",
      "\n",
      "See the caveats in the documentation: http://pandas.pydata.org/pandas-docs/stable/indexing.html#indexing-view-versus-copy\n",
      "  self.obj[item] = s\n"
     ]
    },
    {
     "name": "stdout",
     "output_type": "stream",
     "text": [
      "Testing...\n",
      "Number of missing Time: 548\n",
      "Mean Absolute Error: 8.6051 day(s)\n",
      "Root Mean Squared Error: 14.9396 day(s)\n",
      "Number of missing Activity: 545\n",
      "Accuracy: 69.17%\n",
      "\n",
      "\n",
      "Saving submission...\n",
      "Done!\n"
     ]
    }
   ],
   "source": [
    "if args.test:\n",
    "    m_test = missing_matrix_w_normalized_time_test\n",
    "    m_test = Variable(torch.Tensor(m_test).float())\n",
    "    \n",
    "    if args.cuda:\n",
    "        m_test = m_test.cuda()\n",
    "    \n",
    "    print('Predicting...')\n",
    "    recon_test, mu, logvar = model(m_test)\n",
    "    \n",
    "    print('\\n')\n",
    "    recon_df_w_normalized_time = convert2df(recon_test, pad_matrix_test, cols_w_normalized_time, test_row_num)\n",
    "    recon_df_w_time = getDfWithTime(recon_df_w_normalized_time, missing_true_test, min_max_storage)\n",
    "    submission_df = getSubmission(recon_df_w_time, missing_true_test, complete_true_test, first_timestamp)\n",
    "    submission = fixTime(submission_df)\n",
    "        \n",
    "    print('Testing...')\n",
    "    mae_time, rmse_time, acc = evaluation(submission, nan_time_index_test, nan_activity_index_test,show=True)\n",
    "    print('\\n')\n",
    "    \n",
    "    print('Saving submission...')\n",
    "    submission_df.to_csv(args.output_dir+'submission.csv', index=False)\n",
    "    print('Done!')"
   ]
  },
  {
   "cell_type": "code",
   "execution_count": 30,
   "metadata": {},
   "outputs": [
    {
     "data": {
      "text/html": [
       "<div>\n",
       "<style>\n",
       "    .dataframe thead tr:only-child th {\n",
       "        text-align: right;\n",
       "    }\n",
       "\n",
       "    .dataframe thead th {\n",
       "        text-align: left;\n",
       "    }\n",
       "\n",
       "    .dataframe tbody tr th {\n",
       "        vertical-align: top;\n",
       "    }\n",
       "</style>\n",
       "<table border=\"1\" class=\"dataframe\">\n",
       "  <thead>\n",
       "    <tr style=\"text-align: right;\">\n",
       "      <th></th>\n",
       "      <th>CaseID</th>\n",
       "      <th>TrueActivity</th>\n",
       "      <th>PredictedActivity</th>\n",
       "      <th>TrueTime</th>\n",
       "      <th>PredictedTime</th>\n",
       "      <th>TrueCompleteTimestamp</th>\n",
       "      <th>PredictedCompleteTimestamp</th>\n",
       "    </tr>\n",
       "  </thead>\n",
       "  <tbody>\n",
       "    <tr>\n",
       "      <th>0</th>\n",
       "      <td>1190</td>\n",
       "      <td>Accepted-In Progress</td>\n",
       "      <td>Accepted-In Progress</td>\n",
       "      <td>194135680.0</td>\n",
       "      <td>194135680.0</td>\n",
       "      <td>2012-03-07 22:24:22</td>\n",
       "      <td>2012-03-07 22:24:22</td>\n",
       "    </tr>\n",
       "    <tr>\n",
       "      <th>1</th>\n",
       "      <td>1190</td>\n",
       "      <td>Completed-Closed</td>\n",
       "      <td>Completed-Closed</td>\n",
       "      <td>197156789.0</td>\n",
       "      <td>197156789.0</td>\n",
       "      <td>2012-04-11 21:36:11</td>\n",
       "      <td>2012-04-11 21:36:11</td>\n",
       "    </tr>\n",
       "    <tr>\n",
       "      <th>2</th>\n",
       "      <td>1191</td>\n",
       "      <td>Accepted-In Progress</td>\n",
       "      <td>Accepted-In Progress</td>\n",
       "      <td>194135786.0</td>\n",
       "      <td>194135786.0</td>\n",
       "      <td>2012-03-07 22:26:08</td>\n",
       "      <td>2012-03-07 22:26:08</td>\n",
       "    </tr>\n",
       "    <tr>\n",
       "      <th>3</th>\n",
       "      <td>1191</td>\n",
       "      <td>Completed-Closed</td>\n",
       "      <td>Completed-Closed</td>\n",
       "      <td>198348747.0</td>\n",
       "      <td>198348747.0</td>\n",
       "      <td>2012-04-25 16:42:09</td>\n",
       "      <td>2012-04-25 16:42:09</td>\n",
       "    </tr>\n",
       "    <tr>\n",
       "      <th>4</th>\n",
       "      <td>1192</td>\n",
       "      <td>Accepted-In Progress</td>\n",
       "      <td>Accepted-In Progress</td>\n",
       "      <td>194141794.0</td>\n",
       "      <td>194141794.0</td>\n",
       "      <td>2012-03-08 00:06:16</td>\n",
       "      <td>2012-03-08 00:06:16</td>\n",
       "    </tr>\n",
       "    <tr>\n",
       "      <th>5</th>\n",
       "      <td>1192</td>\n",
       "      <td>Completed-Closed</td>\n",
       "      <td>Completed-Closed</td>\n",
       "      <td>194821332.0</td>\n",
       "      <td>194821332.0</td>\n",
       "      <td>2012-03-15 20:51:54</td>\n",
       "      <td>2012-03-15 20:51:54</td>\n",
       "    </tr>\n",
       "    <tr>\n",
       "      <th>6</th>\n",
       "      <td>1193</td>\n",
       "      <td>Accepted-In Progress</td>\n",
       "      <td>Queued-Awaiting Assignment</td>\n",
       "      <td>194163235.0</td>\n",
       "      <td>194163235.0</td>\n",
       "      <td>2012-03-08 06:03:37</td>\n",
       "      <td>2012-03-08 06:03:37</td>\n",
       "    </tr>\n",
       "    <tr>\n",
       "      <th>7</th>\n",
       "      <td>1193</td>\n",
       "      <td>Accepted-In Progress</td>\n",
       "      <td>Accepted-In Progress</td>\n",
       "      <td>194319293.0</td>\n",
       "      <td>194319293.0</td>\n",
       "      <td>2012-03-10 01:24:35</td>\n",
       "      <td>2012-03-10 01:24:35</td>\n",
       "    </tr>\n",
       "    <tr>\n",
       "      <th>8</th>\n",
       "      <td>1193</td>\n",
       "      <td>Accepted-Wait</td>\n",
       "      <td>Accepted-Wait</td>\n",
       "      <td>195953439.0</td>\n",
       "      <td>195953439.0</td>\n",
       "      <td>2012-03-28 23:20:21</td>\n",
       "      <td>2012-03-28 23:20:21</td>\n",
       "    </tr>\n",
       "    <tr>\n",
       "      <th>9</th>\n",
       "      <td>1193</td>\n",
       "      <td>Accepted-In Progress</td>\n",
       "      <td>Accepted-In Progress</td>\n",
       "      <td>199039446.0</td>\n",
       "      <td>199039446.0</td>\n",
       "      <td>2012-05-03 16:33:48</td>\n",
       "      <td>2012-05-03 16:33:48</td>\n",
       "    </tr>\n",
       "  </tbody>\n",
       "</table>\n",
       "</div>"
      ],
      "text/plain": [
       "   CaseID          TrueActivity           PredictedActivity     TrueTime  \\\n",
       "0    1190  Accepted-In Progress        Accepted-In Progress  194135680.0   \n",
       "1    1190      Completed-Closed            Completed-Closed  197156789.0   \n",
       "2    1191  Accepted-In Progress        Accepted-In Progress  194135786.0   \n",
       "3    1191      Completed-Closed            Completed-Closed  198348747.0   \n",
       "4    1192  Accepted-In Progress        Accepted-In Progress  194141794.0   \n",
       "5    1192      Completed-Closed            Completed-Closed  194821332.0   \n",
       "6    1193  Accepted-In Progress  Queued-Awaiting Assignment  194163235.0   \n",
       "7    1193  Accepted-In Progress        Accepted-In Progress  194319293.0   \n",
       "8    1193         Accepted-Wait               Accepted-Wait  195953439.0   \n",
       "9    1193  Accepted-In Progress        Accepted-In Progress  199039446.0   \n",
       "\n",
       "   PredictedTime TrueCompleteTimestamp PredictedCompleteTimestamp  \n",
       "0    194135680.0   2012-03-07 22:24:22        2012-03-07 22:24:22  \n",
       "1    197156789.0   2012-04-11 21:36:11        2012-04-11 21:36:11  \n",
       "2    194135786.0   2012-03-07 22:26:08        2012-03-07 22:26:08  \n",
       "3    198348747.0   2012-04-25 16:42:09        2012-04-25 16:42:09  \n",
       "4    194141794.0   2012-03-08 00:06:16        2012-03-08 00:06:16  \n",
       "5    194821332.0   2012-03-15 20:51:54        2012-03-15 20:51:54  \n",
       "6    194163235.0   2012-03-08 06:03:37        2012-03-08 06:03:37  \n",
       "7    194319293.0   2012-03-10 01:24:35        2012-03-10 01:24:35  \n",
       "8    195953439.0   2012-03-28 23:20:21        2012-03-28 23:20:21  \n",
       "9    199039446.0   2012-05-03 16:33:48        2012-05-03 16:33:48  "
      ]
     },
     "execution_count": 30,
     "metadata": {},
     "output_type": "execute_result"
    }
   ],
   "source": [
    "submission_df.head(10)"
   ]
  },
  {
   "cell_type": "code",
   "execution_count": 31,
   "metadata": {},
   "outputs": [
    {
     "data": {
      "text/html": [
       "<div>\n",
       "<style>\n",
       "    .dataframe thead tr:only-child th {\n",
       "        text-align: right;\n",
       "    }\n",
       "\n",
       "    .dataframe thead th {\n",
       "        text-align: left;\n",
       "    }\n",
       "\n",
       "    .dataframe tbody tr th {\n",
       "        vertical-align: top;\n",
       "    }\n",
       "</style>\n",
       "<table border=\"1\" class=\"dataframe\">\n",
       "  <thead>\n",
       "    <tr style=\"text-align: right;\">\n",
       "      <th></th>\n",
       "      <th>CaseID</th>\n",
       "      <th>TrueActivity</th>\n",
       "      <th>PredictedActivity</th>\n",
       "      <th>TrueTime</th>\n",
       "      <th>PredictedTime</th>\n",
       "      <th>TrueCompleteTimestamp</th>\n",
       "      <th>PredictedCompleteTimestamp</th>\n",
       "    </tr>\n",
       "  </thead>\n",
       "  <tbody>\n",
       "    <tr>\n",
       "      <th>0</th>\n",
       "      <td>1190</td>\n",
       "      <td>Accepted-In Progress</td>\n",
       "      <td>Accepted-In Progress</td>\n",
       "      <td>194135680.0</td>\n",
       "      <td>194135680.0</td>\n",
       "      <td>2012-03-07 22:24:22</td>\n",
       "      <td>2012-03-07 22:24:22</td>\n",
       "    </tr>\n",
       "    <tr>\n",
       "      <th>1</th>\n",
       "      <td>1190</td>\n",
       "      <td>Completed-Closed</td>\n",
       "      <td>Completed-Closed</td>\n",
       "      <td>197156789.0</td>\n",
       "      <td>197156789.0</td>\n",
       "      <td>2012-04-11 21:36:11</td>\n",
       "      <td>2012-04-11 21:36:11</td>\n",
       "    </tr>\n",
       "    <tr>\n",
       "      <th>2</th>\n",
       "      <td>1191</td>\n",
       "      <td>Accepted-In Progress</td>\n",
       "      <td>Accepted-In Progress</td>\n",
       "      <td>194135786.0</td>\n",
       "      <td>194135786.0</td>\n",
       "      <td>2012-03-07 22:26:08</td>\n",
       "      <td>2012-03-07 22:26:08</td>\n",
       "    </tr>\n",
       "    <tr>\n",
       "      <th>3</th>\n",
       "      <td>1191</td>\n",
       "      <td>Completed-Closed</td>\n",
       "      <td>Completed-Closed</td>\n",
       "      <td>198348747.0</td>\n",
       "      <td>198348747.0</td>\n",
       "      <td>2012-04-25 16:42:09</td>\n",
       "      <td>2012-04-25 16:42:09</td>\n",
       "    </tr>\n",
       "    <tr>\n",
       "      <th>4</th>\n",
       "      <td>1192</td>\n",
       "      <td>Accepted-In Progress</td>\n",
       "      <td>Accepted-In Progress</td>\n",
       "      <td>194141794.0</td>\n",
       "      <td>194141794.0</td>\n",
       "      <td>2012-03-08 00:06:16</td>\n",
       "      <td>2012-03-08 00:06:16</td>\n",
       "    </tr>\n",
       "    <tr>\n",
       "      <th>5</th>\n",
       "      <td>1192</td>\n",
       "      <td>Completed-Closed</td>\n",
       "      <td>Completed-Closed</td>\n",
       "      <td>194821332.0</td>\n",
       "      <td>194821332.0</td>\n",
       "      <td>2012-03-15 20:51:54</td>\n",
       "      <td>2012-03-15 20:51:54</td>\n",
       "    </tr>\n",
       "    <tr>\n",
       "      <th>6</th>\n",
       "      <td>1193</td>\n",
       "      <td>Accepted-In Progress</td>\n",
       "      <td>Queued-Awaiting Assignment</td>\n",
       "      <td>194163235.0</td>\n",
       "      <td>194163235.0</td>\n",
       "      <td>2012-03-08 06:03:37</td>\n",
       "      <td>2012-03-08 06:03:37</td>\n",
       "    </tr>\n",
       "    <tr>\n",
       "      <th>7</th>\n",
       "      <td>1193</td>\n",
       "      <td>Accepted-In Progress</td>\n",
       "      <td>Accepted-In Progress</td>\n",
       "      <td>194319293.0</td>\n",
       "      <td>194319293.0</td>\n",
       "      <td>2012-03-10 01:24:35</td>\n",
       "      <td>2012-03-10 01:24:35</td>\n",
       "    </tr>\n",
       "    <tr>\n",
       "      <th>8</th>\n",
       "      <td>1193</td>\n",
       "      <td>Accepted-Wait</td>\n",
       "      <td>Accepted-Wait</td>\n",
       "      <td>195953439.0</td>\n",
       "      <td>195953439.0</td>\n",
       "      <td>2012-03-28 23:20:21</td>\n",
       "      <td>2012-03-28 23:20:21</td>\n",
       "    </tr>\n",
       "    <tr>\n",
       "      <th>9</th>\n",
       "      <td>1193</td>\n",
       "      <td>Accepted-In Progress</td>\n",
       "      <td>Accepted-In Progress</td>\n",
       "      <td>199039446.0</td>\n",
       "      <td>199039446.0</td>\n",
       "      <td>2012-05-03 16:33:48</td>\n",
       "      <td>2012-05-03 16:33:48</td>\n",
       "    </tr>\n",
       "  </tbody>\n",
       "</table>\n",
       "</div>"
      ],
      "text/plain": [
       "  CaseID          TrueActivity           PredictedActivity     TrueTime  \\\n",
       "0   1190  Accepted-In Progress        Accepted-In Progress  194135680.0   \n",
       "1   1190      Completed-Closed            Completed-Closed  197156789.0   \n",
       "2   1191  Accepted-In Progress        Accepted-In Progress  194135786.0   \n",
       "3   1191      Completed-Closed            Completed-Closed  198348747.0   \n",
       "4   1192  Accepted-In Progress        Accepted-In Progress  194141794.0   \n",
       "5   1192      Completed-Closed            Completed-Closed  194821332.0   \n",
       "6   1193  Accepted-In Progress  Queued-Awaiting Assignment  194163235.0   \n",
       "7   1193  Accepted-In Progress        Accepted-In Progress  194319293.0   \n",
       "8   1193         Accepted-Wait               Accepted-Wait  195953439.0   \n",
       "9   1193  Accepted-In Progress        Accepted-In Progress  199039446.0   \n",
       "\n",
       "   PredictedTime TrueCompleteTimestamp PredictedCompleteTimestamp  \n",
       "0    194135680.0   2012-03-07 22:24:22        2012-03-07 22:24:22  \n",
       "1    197156789.0   2012-04-11 21:36:11        2012-04-11 21:36:11  \n",
       "2    194135786.0   2012-03-07 22:26:08        2012-03-07 22:26:08  \n",
       "3    198348747.0   2012-04-25 16:42:09        2012-04-25 16:42:09  \n",
       "4    194141794.0   2012-03-08 00:06:16        2012-03-08 00:06:16  \n",
       "5    194821332.0   2012-03-15 20:51:54        2012-03-15 20:51:54  \n",
       "6    194163235.0   2012-03-08 06:03:37        2012-03-08 06:03:37  \n",
       "7    194319293.0   2012-03-10 01:24:35        2012-03-10 01:24:35  \n",
       "8    195953439.0   2012-03-28 23:20:21        2012-03-28 23:20:21  \n",
       "9    199039446.0   2012-05-03 16:33:48        2012-05-03 16:33:48  "
      ]
     },
     "execution_count": 31,
     "metadata": {},
     "output_type": "execute_result"
    }
   ],
   "source": [
    "submission.head(10)"
   ]
  },
  {
   "cell_type": "code",
   "execution_count": 32,
   "metadata": {
    "collapsed": true
   },
   "outputs": [],
   "source": [
    "#bpi2013\n",
    "\n",
    "#30%\n",
    "#8.1\n",
    "#75%\n",
    "\n",
    "#40%\n",
    "#9.7\n",
    "#70%\n",
    "\n",
    "#50%\n",
    "#10.7\n",
    "#69%"
   ]
  },
  {
   "cell_type": "code",
   "execution_count": 33,
   "metadata": {
    "collapsed": true
   },
   "outputs": [],
   "source": [
    "#bpi2012\n",
    "#0.59\n",
    "#75%"
   ]
  },
  {
   "cell_type": "code",
   "execution_count": 34,
   "metadata": {
    "collapsed": true
   },
   "outputs": [],
   "source": [
    "#helpdesk\n",
    "#3.9\n",
    "#85"
   ]
  },
  {
   "cell_type": "code",
   "execution_count": null,
   "metadata": {
    "collapsed": true
   },
   "outputs": [],
   "source": []
  }
 ],
 "metadata": {
  "kernelspec": {
   "display_name": "Python 3",
   "language": "python",
   "name": "python3"
  },
  "language_info": {
   "codemirror_mode": {
    "name": "ipython",
    "version": 3
   },
   "file_extension": ".py",
   "mimetype": "text/x-python",
   "name": "python",
   "nbconvert_exporter": "python",
   "pygments_lexer": "ipython3",
   "version": "3.5.4"
  },
  "toc": {
   "colors": {
    "hover_highlight": "#DAA520",
    "running_highlight": "#FF0000",
    "selected_highlight": "#FFD700"
   },
   "moveMenuLeft": true,
   "nav_menu": {
    "height": "48px",
    "width": "252px"
   },
   "navigate_menu": true,
   "number_sections": true,
   "sideBar": true,
   "threshold": 4,
   "toc_cell": false,
   "toc_section_display": "block",
   "toc_window_display": false
  }
 },
 "nbformat": 4,
 "nbformat_minor": 2
}
