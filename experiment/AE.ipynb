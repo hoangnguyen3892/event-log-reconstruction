{
 "cells": [
  {
   "cell_type": "markdown",
   "metadata": {
    "deletable": true,
    "editable": true
   },
   "source": [
    "**Outline:**\n",
    "- Build model and loss function\n",
    "- Train model\n",
    "- Observe valdidate\n",
    "- Test"
   ]
  },
  {
   "cell_type": "markdown",
   "metadata": {
    "deletable": true,
    "editable": true
   },
   "source": [
    "**To do:**\n",
    "- Hyperparameter tuning\n",
    "    + lr\n",
    "    + layer1, layer2\n",
    "    + betas"
   ]
  },
  {
   "cell_type": "markdown",
   "metadata": {
    "deletable": true,
    "editable": true
   },
   "source": [
    "**Modification**\n",
    "- Weight initialization with xavier uniform\n",
    "- Adam optimization\n",
    "- LR decay"
   ]
  },
  {
   "cell_type": "code",
   "execution_count": 1,
   "metadata": {
    "collapsed": true,
    "deletable": true,
    "editable": true
   },
   "outputs": [],
   "source": [
    "import importlib\n",
    "import argparse\n",
    "import os, sys\n",
    "import argparse\n",
    "import pandas as pd\n",
    "import numpy as np\n",
    "import pickle"
   ]
  },
  {
   "cell_type": "code",
   "execution_count": 2,
   "metadata": {
    "collapsed": true,
    "deletable": true,
    "editable": true
   },
   "outputs": [],
   "source": [
    "import torch\n",
    "import torch.utils.data\n",
    "import torch.nn as nn\n",
    "import torch.optim as optim\n",
    "import torch.optim.lr_scheduler\n",
    "from torch.autograd import Variable\n",
    "from torchvision import transforms"
   ]
  },
  {
   "cell_type": "code",
   "execution_count": 3,
   "metadata": {
    "collapsed": true,
    "deletable": true,
    "editable": true
   },
   "outputs": [],
   "source": [
    "sys.path.insert(0, './../utils/')\n",
    "from utils import *\n",
    "from models import *"
   ]
  },
  {
   "cell_type": "code",
   "execution_count": 4,
   "metadata": {
    "collapsed": true,
    "deletable": true,
    "editable": true
   },
   "outputs": [],
   "source": [
    "#Define parser\n",
    "#name = 'bpi_2012'\n",
    "name = 'bpi_2013'\n",
    "#name = 'helpdesk'  \n",
    "\n",
    "parser = {\n",
    "    'train': True,\n",
    "    'test': True,\n",
    "    'model_class': 'AE',\n",
    "    'model_name': '',\n",
    "    'data_dir': '../data/',\n",
    "    'data_file': name + '.csv',\n",
    "    'input_dir': '../input/{}/'.format(name), \n",
    "    'output_dir': './output/{}/'.format(name),\n",
    "    'batch_size' : 16,\n",
    "    'epochs' : 10,\n",
    "    'no_cuda' : False,\n",
    "    'seed' : 7,\n",
    "    'layer1': 800,\n",
    "    'layer2': 100,\n",
    "    'lr': 0.001,\n",
    "    'betas': (0.9, 0.999),   \n",
    "    'lr_decay': 0.95,\n",
    "}\n",
    "\n",
    "args = argparse.Namespace(**parser)"
   ]
  },
  {
   "cell_type": "code",
   "execution_count": 5,
   "metadata": {
    "collapsed": true,
    "deletable": true,
    "editable": true
   },
   "outputs": [],
   "source": [
    "if not os.path.isdir(args.output_dir):\n",
    "    os.makedirs(args.output_dir)"
   ]
  },
  {
   "cell_type": "code",
   "execution_count": 6,
   "metadata": {
    "collapsed": true,
    "deletable": true,
    "editable": true
   },
   "outputs": [],
   "source": [
    "args.cuda = not args.no_cuda and torch.cuda.is_available()"
   ]
  },
  {
   "cell_type": "code",
   "execution_count": 7,
   "metadata": {
    "collapsed": true,
    "deletable": true,
    "editable": true
   },
   "outputs": [],
   "source": [
    "torch.manual_seed(args.seed)\n",
    "if args.cuda:\n",
    "    torch.cuda.manual_seed(args.seed)"
   ]
  },
  {
   "cell_type": "code",
   "execution_count": 8,
   "metadata": {
    "collapsed": true,
    "deletable": true,
    "editable": true
   },
   "outputs": [],
   "source": [
    "kwargs = {'num_workers': 2, 'pin_memory': True} if args.cuda else {}"
   ]
  },
  {
   "cell_type": "code",
   "execution_count": 9,
   "metadata": {
    "collapsed": false,
    "deletable": true,
    "editable": true
   },
   "outputs": [],
   "source": [
    "with open(args.input_dir + 'preprocessed_data.pkl', 'rb') as f:\n",
    "    min_max_storage = pickle.load(f)\n",
    "    complete_matrix_w_normalized_time_train = pickle.load(f)\n",
    "    missing_matrix_w_normalized_time_train = pickle.load(f)\n",
    "    avai_matrix_train = pickle.load(f)\n",
    "    nan_matrix_train = pickle.load(f)\n",
    "    complete_matrix_w_normalized_time_val = pickle.load(f)\n",
    "    missing_matrix_w_normalized_time_val = pickle.load(f)\n",
    "    avai_matrix_val = pickle.load(f)\n",
    "    nan_matrix_val = pickle.load(f)\n",
    "    pad_matrix_val = pickle.load(f)\n",
    "    complete_matrix_w_normalized_time_test = pickle.load(f)\n",
    "    missing_matrix_w_normalized_time_test = pickle.load(f)\n",
    "    avai_matrix_test = pickle.load(f)\n",
    "    nan_matrix_test = pickle.load(f)\n",
    "    pad_matrix_test = pickle.load(f)\n",
    "    cols_w_time = pickle.load(f)\n",
    "    cols_w_normalized_time = pickle.load(f)"
   ]
  },
  {
   "cell_type": "code",
   "execution_count": 10,
   "metadata": {
    "collapsed": true,
    "deletable": true,
    "editable": true
   },
   "outputs": [],
   "source": [
    "with open(args.input_dir + 'parameters.pkl', 'rb') as f:\n",
    "    most_frequent_activity = pickle.load(f)\n",
    "    first_timestamp = pickle.load(f)\n",
    "    avai_instance = pickle.load(f)\n",
    "    nan_instance = pickle.load(f)\n",
    "    train_size = pickle.load(f)\n",
    "    val_size = pickle.load(f)\n",
    "    test_size = pickle.load(f)\n",
    "    train_row_num = pickle.load(f)\n",
    "    val_row_num = pickle.load(f)\n",
    "    test_row_num = pickle.load(f)"
   ]
  },
  {
   "cell_type": "markdown",
   "metadata": {
    "deletable": true,
    "editable": true
   },
   "source": [
    "# Load data"
   ]
  },
  {
   "cell_type": "markdown",
   "metadata": {
    "deletable": true,
    "editable": true
   },
   "source": [
    "## Train"
   ]
  },
  {
   "cell_type": "code",
   "execution_count": 11,
   "metadata": {
    "collapsed": true,
    "deletable": true,
    "editable": true
   },
   "outputs": [],
   "source": [
    "complete_matrix_w_normalized_time_trainLoader = torch.utils.data.DataLoader(complete_matrix_w_normalized_time_train, batch_size=args.batch_size, shuffle=False, num_workers=2)\n",
    "missing_matrix_w_normalized_time_trainLoader = torch.utils.data.DataLoader(missing_matrix_w_normalized_time_train, batch_size=args.batch_size, shuffle=False, num_workers=2)"
   ]
  },
  {
   "cell_type": "markdown",
   "metadata": {
    "deletable": true,
    "editable": true
   },
   "source": [
    "## Validate and test"
   ]
  },
  {
   "cell_type": "code",
   "execution_count": 12,
   "metadata": {
    "collapsed": true,
    "deletable": true,
    "editable": true
   },
   "outputs": [],
   "source": [
    "normalized_complete_df = pd.read_csv(args.input_dir+'normalized_complete_df.csv')\n",
    "normalized_missing_df = pd.read_csv(args.input_dir+'normalized_missing_df.csv')"
   ]
  },
  {
   "cell_type": "code",
   "execution_count": 13,
   "metadata": {
    "collapsed": true,
    "deletable": true,
    "editable": true
   },
   "outputs": [],
   "source": [
    "missing_true_val = normalized_missing_df[train_row_num:-test_row_num].reset_index(drop=True)\n",
    "complete_true_val = normalized_complete_df[train_row_num:-test_row_num].reset_index(drop=True)"
   ]
  },
  {
   "cell_type": "code",
   "execution_count": 14,
   "metadata": {
    "collapsed": true,
    "deletable": true,
    "editable": true
   },
   "outputs": [],
   "source": [
    "missing_true_test = normalized_missing_df[-test_row_num:].reset_index(drop=True)\n",
    "complete_true_test = normalized_complete_df[-test_row_num:].reset_index(drop=True)"
   ]
  },
  {
   "cell_type": "code",
   "execution_count": 15,
   "metadata": {
    "collapsed": false,
    "deletable": true,
    "editable": true
   },
   "outputs": [
    {
     "data": {
      "text/plain": [
       "((601, 5), (1080, 5))"
      ]
     },
     "execution_count": 15,
     "metadata": {},
     "output_type": "execute_result"
    }
   ],
   "source": [
    "missing_true_val.shape, missing_true_test.shape"
   ]
  },
  {
   "cell_type": "code",
   "execution_count": 16,
   "metadata": {
    "collapsed": true,
    "deletable": true,
    "editable": true
   },
   "outputs": [],
   "source": [
    "nan_time_index_val, nan_activity_index_val = getnanindex(missing_true_val)"
   ]
  },
  {
   "cell_type": "code",
   "execution_count": 17,
   "metadata": {
    "collapsed": true,
    "deletable": true,
    "editable": true
   },
   "outputs": [],
   "source": [
    "nan_time_index_test, nan_activity_index_test = getnanindex(missing_true_test)"
   ]
  },
  {
   "cell_type": "markdown",
   "metadata": {
    "deletable": true,
    "editable": true
   },
   "source": [
    "# Build model"
   ]
  },
  {
   "cell_type": "markdown",
   "metadata": {
    "deletable": true,
    "editable": true
   },
   "source": [
    "## Define model"
   ]
  },
  {
   "cell_type": "code",
   "execution_count": 18,
   "metadata": {
    "collapsed": false,
    "deletable": true,
    "editable": true
   },
   "outputs": [],
   "source": [
    "if args.model_class == 'AE':\n",
    "    model = AE(complete_matrix_w_normalized_time_train.shape, args.layer1, args.layer2)\n",
    "\n",
    "if args.cuda:\n",
    "    model.cuda()"
   ]
  },
  {
   "cell_type": "markdown",
   "metadata": {
    "deletable": true,
    "editable": true
   },
   "source": [
    "## Define loss"
   ]
  },
  {
   "cell_type": "code",
   "execution_count": 19,
   "metadata": {
    "collapsed": true,
    "deletable": true,
    "editable": true
   },
   "outputs": [],
   "source": [
    "# Define loss\n",
    "recon_function = nn.BCELoss()\n",
    "recon_function.size_average = False #loss sum of each mini-batch\n",
    "\n",
    "def loss_function(recon_x, x):\n",
    "    BCE = recon_function(recon_x, x)  \n",
    "    return BCE"
   ]
  },
  {
   "cell_type": "code",
   "execution_count": 20,
   "metadata": {
    "collapsed": false,
    "deletable": true,
    "editable": true
   },
   "outputs": [],
   "source": [
    "optimizer = optim.Adam(model.parameters(), lr=args.lr, betas=args.betas)"
   ]
  },
  {
   "cell_type": "code",
   "execution_count": 21,
   "metadata": {
    "collapsed": true,
    "deletable": true,
    "editable": true
   },
   "outputs": [],
   "source": [
    "#Adjust learning rate per epoch: http://pytorch.org/docs/master/optim.html?highlight=adam#torch.optim.Adam\n",
    "lambda1 = lambda epoch: args.lr_decay ** epoch\n",
    "scheduler = torch.optim.lr_scheduler.LambdaLR(optimizer, lr_lambda=[lambda1])"
   ]
  },
  {
   "cell_type": "markdown",
   "metadata": {
    "deletable": true,
    "editable": true
   },
   "source": [
    "## Utils"
   ]
  },
  {
   "cell_type": "code",
   "execution_count": 22,
   "metadata": {
    "collapsed": true,
    "deletable": true,
    "editable": true
   },
   "outputs": [],
   "source": [
    "def save_model(model, epoch, score):\n",
    "    model_file = os.path.join(args.output_dir, 'model_{}_epoch{}_score{:.4f}.pth'.format(args.model_class, epoch, score))\n",
    "    torch.save(model.state_dict(), model_file)"
   ]
  },
  {
   "cell_type": "code",
   "execution_count": 23,
   "metadata": {
    "collapsed": true,
    "deletable": true,
    "editable": true
   },
   "outputs": [],
   "source": [
    "def load_model(model, model_name):\n",
    "    model_file = os.path.join(args.output_dir, model_name)\n",
    "    assert os.path.isfile(model_file), 'Error: no model found!'\n",
    "    model_state = torch.load(model_file)\n",
    "    model.load_state_dict(model_state)"
   ]
  },
  {
   "cell_type": "code",
   "execution_count": 24,
   "metadata": {
    "collapsed": true,
    "deletable": true,
    "editable": true
   },
   "outputs": [],
   "source": [
    "def val(model, missing_matrix_w_normalized_time_val, complete_true_val, missing_true_val,\n",
    "       pad_matrix_val, cols_w_normalized_time, val_row_num,\n",
    "       nan_time_index_val, nan_activity_index_val):\n",
    "    model.eval()\n",
    "    m_val = missing_matrix_w_normalized_time_val\n",
    "    m_val = Variable(torch.Tensor(m_val).float())\n",
    "    \n",
    "    if args.cuda:\n",
    "        m_val = m_val.cuda()\n",
    "        \n",
    "    recon_val = model(m_val)\n",
    "    \n",
    "    recon_df_w_normalized_time = convert2df(recon_val, pad_matrix_val, cols_w_normalized_time, val_row_num)\n",
    "    recon_df_w_time = getDfWithTime(recon_df_w_normalized_time, missing_true_val, min_max_storage)\n",
    "    submission_df = getSubmission(recon_df_w_time, missing_true_val, complete_true_val, first_timestamp)\n",
    "    \n",
    "    #evaluate\n",
    "    time, acc = evaluation(submission_df, nan_time_index_val, nan_activity_index_val)\n",
    "    \n",
    "    \n",
    "    return time/86400+1/acc"
   ]
  },
  {
   "cell_type": "code",
   "execution_count": 25,
   "metadata": {
    "collapsed": false,
    "deletable": true,
    "editable": true
   },
   "outputs": [
    {
     "data": {
      "text/html": [
       "<div>\n",
       "<style>\n",
       "    .dataframe thead tr:only-child th {\n",
       "        text-align: right;\n",
       "    }\n",
       "\n",
       "    .dataframe thead th {\n",
       "        text-align: left;\n",
       "    }\n",
       "\n",
       "    .dataframe tbody tr th {\n",
       "        vertical-align: top;\n",
       "    }\n",
       "</style>\n",
       "<table border=\"1\" class=\"dataframe\">\n",
       "  <thead>\n",
       "    <tr style=\"text-align: right;\">\n",
       "      <th></th>\n",
       "      <th>CaseID</th>\n",
       "      <th>Activity</th>\n",
       "      <th>CompleteTimestamp</th>\n",
       "      <th>CumTimeInterval</th>\n",
       "      <th>NormalizedTime</th>\n",
       "    </tr>\n",
       "  </thead>\n",
       "  <tbody>\n",
       "    <tr>\n",
       "      <th>0</th>\n",
       "      <td>1041</td>\n",
       "      <td>Accepted-In Progress</td>\n",
       "      <td>NaN</td>\n",
       "      <td>NaN</td>\n",
       "      <td>NaN</td>\n",
       "    </tr>\n",
       "    <tr>\n",
       "      <th>1</th>\n",
       "      <td>1041</td>\n",
       "      <td>Completed-Closed</td>\n",
       "      <td>NaN</td>\n",
       "      <td>NaN</td>\n",
       "      <td>NaN</td>\n",
       "    </tr>\n",
       "    <tr>\n",
       "      <th>2</th>\n",
       "      <td>1042</td>\n",
       "      <td>NaN</td>\n",
       "      <td>NaN</td>\n",
       "      <td>NaN</td>\n",
       "      <td>NaN</td>\n",
       "    </tr>\n",
       "    <tr>\n",
       "      <th>3</th>\n",
       "      <td>1042</td>\n",
       "      <td>NaN</td>\n",
       "      <td>NaN</td>\n",
       "      <td>NaN</td>\n",
       "      <td>NaN</td>\n",
       "    </tr>\n",
       "    <tr>\n",
       "      <th>4</th>\n",
       "      <td>1042</td>\n",
       "      <td>Accepted-In Progress</td>\n",
       "      <td>2012-02-13 03:52:59</td>\n",
       "      <td>192081797.0</td>\n",
       "      <td>0.0</td>\n",
       "    </tr>\n",
       "  </tbody>\n",
       "</table>\n",
       "</div>"
      ],
      "text/plain": [
       "   CaseID              Activity    CompleteTimestamp  CumTimeInterval  \\\n",
       "0    1041  Accepted-In Progress                  NaN              NaN   \n",
       "1    1041      Completed-Closed                  NaN              NaN   \n",
       "2    1042                   NaN                  NaN              NaN   \n",
       "3    1042                   NaN                  NaN              NaN   \n",
       "4    1042  Accepted-In Progress  2012-02-13 03:52:59      192081797.0   \n",
       "\n",
       "   NormalizedTime  \n",
       "0             NaN  \n",
       "1             NaN  \n",
       "2             NaN  \n",
       "3             NaN  \n",
       "4             0.0  "
      ]
     },
     "execution_count": 25,
     "metadata": {},
     "output_type": "execute_result"
    }
   ],
   "source": [
    "missing_true_val.head()"
   ]
  },
  {
   "cell_type": "code",
   "execution_count": 26,
   "metadata": {
    "collapsed": false,
    "deletable": true,
    "editable": true
   },
   "outputs": [
    {
     "data": {
      "text/html": [
       "<div>\n",
       "<style>\n",
       "    .dataframe thead tr:only-child th {\n",
       "        text-align: right;\n",
       "    }\n",
       "\n",
       "    .dataframe thead th {\n",
       "        text-align: left;\n",
       "    }\n",
       "\n",
       "    .dataframe tbody tr th {\n",
       "        vertical-align: top;\n",
       "    }\n",
       "</style>\n",
       "<table border=\"1\" class=\"dataframe\">\n",
       "  <thead>\n",
       "    <tr style=\"text-align: right;\">\n",
       "      <th></th>\n",
       "      <th>CaseID</th>\n",
       "      <th>Activity</th>\n",
       "      <th>CompleteTimestamp</th>\n",
       "      <th>CumTimeInterval</th>\n",
       "      <th>NormalizedTime</th>\n",
       "    </tr>\n",
       "  </thead>\n",
       "  <tbody>\n",
       "    <tr>\n",
       "      <th>0</th>\n",
       "      <td>1041</td>\n",
       "      <td>Accepted-In Progress</td>\n",
       "      <td>2012-02-10 18:12:35</td>\n",
       "      <td>191874173.0</td>\n",
       "      <td>0.000000</td>\n",
       "    </tr>\n",
       "    <tr>\n",
       "      <th>1</th>\n",
       "      <td>1041</td>\n",
       "      <td>Completed-Closed</td>\n",
       "      <td>2012-03-12 18:15:30</td>\n",
       "      <td>194552748.0</td>\n",
       "      <td>1.000000</td>\n",
       "    </tr>\n",
       "    <tr>\n",
       "      <th>2</th>\n",
       "      <td>1042</td>\n",
       "      <td>Accepted-In Progress</td>\n",
       "      <td>2012-02-12 04:41:24</td>\n",
       "      <td>191998302.0</td>\n",
       "      <td>0.000000</td>\n",
       "    </tr>\n",
       "    <tr>\n",
       "      <th>3</th>\n",
       "      <td>1042</td>\n",
       "      <td>Accepted-Wait</td>\n",
       "      <td>2012-02-12 05:37:34</td>\n",
       "      <td>192001672.0</td>\n",
       "      <td>0.001709</td>\n",
       "    </tr>\n",
       "    <tr>\n",
       "      <th>4</th>\n",
       "      <td>1042</td>\n",
       "      <td>Accepted-In Progress</td>\n",
       "      <td>2012-02-13 03:52:59</td>\n",
       "      <td>192081797.0</td>\n",
       "      <td>0.042338</td>\n",
       "    </tr>\n",
       "  </tbody>\n",
       "</table>\n",
       "</div>"
      ],
      "text/plain": [
       "   CaseID              Activity    CompleteTimestamp  CumTimeInterval  \\\n",
       "0    1041  Accepted-In Progress  2012-02-10 18:12:35      191874173.0   \n",
       "1    1041      Completed-Closed  2012-03-12 18:15:30      194552748.0   \n",
       "2    1042  Accepted-In Progress  2012-02-12 04:41:24      191998302.0   \n",
       "3    1042         Accepted-Wait  2012-02-12 05:37:34      192001672.0   \n",
       "4    1042  Accepted-In Progress  2012-02-13 03:52:59      192081797.0   \n",
       "\n",
       "   NormalizedTime  \n",
       "0        0.000000  \n",
       "1        1.000000  \n",
       "2        0.000000  \n",
       "3        0.001709  \n",
       "4        0.042338  "
      ]
     },
     "execution_count": 26,
     "metadata": {},
     "output_type": "execute_result"
    }
   ],
   "source": [
    "complete_true_val.head()"
   ]
  },
  {
   "cell_type": "markdown",
   "metadata": {
    "deletable": true,
    "editable": true
   },
   "source": [
    "# Train model"
   ]
  },
  {
   "cell_type": "code",
   "execution_count": 27,
   "metadata": {
    "collapsed": true,
    "deletable": true,
    "editable": true
   },
   "outputs": [],
   "source": [
    "def train(epoch, model, optimizer):\n",
    "    model.train()\n",
    "    train_loss = 0\n",
    "    for batch_idx, (m_data, c_data) in enumerate(zip(missing_matrix_w_normalized_time_trainLoader, complete_matrix_w_normalized_time_trainLoader)):\n",
    "        c_data = Variable(c_data.float())\n",
    "        m_data = Variable(m_data.float())\n",
    "      \n",
    "        #Transform: np --> Tensor/Variable: tensor --> tensor with wrapper\n",
    "        #Wraps a tensor and records the operations applied to it.\n",
    "        #Variable is a thin wrapper around a Tensor object, that also holds the gradient\n",
    "        if args.cuda:\n",
    "            c_data = c_data.cuda()\n",
    "            m_data = m_data.cuda()\n",
    "            \n",
    "        optimizer.zero_grad()\n",
    "        \n",
    "        recon_data = model(m_data)\n",
    "        \n",
    "        loss = loss_function(recon_data, c_data)\n",
    "        loss.backward()\n",
    "        train_loss += loss.data[0]\n",
    "        optimizer.step()\n",
    "        \n",
    "    return train_loss / len(complete_matrix_w_normalized_time_trainLoader.dataset)"
   ]
  },
  {
   "cell_type": "code",
   "execution_count": 28,
   "metadata": {
    "collapsed": false,
    "deletable": true,
    "editable": true
   },
   "outputs": [
    {
     "name": "stdout",
     "output_type": "stream",
     "text": [
      "====> Epoch 1 | Train loss: 24.0077 | Val score: 21.0745\n",
      "====> Epoch 2 | Train loss: 11.1873 | Val score: 20.5155\n",
      "====> Epoch 3 | Train loss: 9.7809 | Val score: 19.5338\n",
      "====> Epoch 4 | Train loss: 8.5812 | Val score: 19.2014\n",
      "====> Epoch 5 | Train loss: 8.1589 | Val score: 19.1084\n",
      "====> Epoch 6 | Train loss: 7.8844 | Val score: 19.0672\n",
      "====> Epoch 7 | Train loss: 7.6200 | Val score: 19.1345\n",
      "====> Epoch 8 | Train loss: 7.3230 | Val score: 19.1561\n",
      "====> Epoch 9 | Train loss: 7.0284 | Val score: 19.1905\n",
      "====> Epoch 10 | Train loss: 6.7701 | Val score: 19.2032\n"
     ]
    }
   ],
   "source": [
    "if args.train:\n",
    "    for epoch in range(1, args.epochs + 1):\n",
    "        scheduler.step()\n",
    "        train_loss = train(epoch, model, optimizer)\n",
    "        val_score = val(model, missing_matrix_w_normalized_time_val, complete_true_val, missing_true_val,\n",
    "                            pad_matrix_val, cols_w_normalized_time, val_row_num, \n",
    "                            nan_time_index_val, nan_activity_index_val)\n",
    "        \n",
    "        # Track performance of each epoch\n",
    "        #print('====> Epoch {} | Train loss: {:.4f}'.format(\n",
    "        #      epoch, train_loss))\n",
    "        print('====> Epoch {} | Train loss: {:.4f} | Val score: {:.4f}'.format(\n",
    "              epoch, train_loss, val_score))\n",
    "        if val_score < 5.2:\n",
    "            save_model(model, epoch, val_score)\n",
    "else:\n",
    "    load_model(model, args.model_name)"
   ]
  },
  {
   "cell_type": "markdown",
   "metadata": {
    "collapsed": true,
    "deletable": true,
    "editable": true
   },
   "source": [
    "# Predict and evaluate"
   ]
  },
  {
   "cell_type": "code",
   "execution_count": 29,
   "metadata": {
    "collapsed": false,
    "deletable": true,
    "editable": true
   },
   "outputs": [
    {
     "name": "stdout",
     "output_type": "stream",
     "text": [
      "Predicting...\n",
      "\n",
      "\n",
      "Testing...\n",
      "Number of missing Time: 552\n",
      "Mean Absolute Error: 11.7684 day(s)\n",
      "Number of missing Activity: 558\n",
      "Accuracy: 78.49%\n",
      "\n",
      "\n",
      "Saving submission...\n",
      "Done!\n"
     ]
    }
   ],
   "source": [
    "if args.test:\n",
    "    m_test = missing_matrix_w_normalized_time_test\n",
    "    m_test = Variable(torch.Tensor(m_test).float())\n",
    "    \n",
    "    if args.cuda:\n",
    "        m_test = m_test.cuda()\n",
    "    \n",
    "    print('Predicting...')\n",
    "    recon_test = model(m_test)\n",
    "    \n",
    "    print('\\n')\n",
    "    recon_df_w_normalized_time = convert2df(recon_test, pad_matrix_test, cols_w_normalized_time, test_row_num)\n",
    "    recon_df_w_time = getDfWithTime(recon_df_w_normalized_time, missing_true_test, min_max_storage)\n",
    "    submission_df = getSubmission(recon_df_w_time, missing_true_test, complete_true_test, first_timestamp)\n",
    "    \n",
    "    print('Testing...')\n",
    "    time, acc = evaluation(submission_df, nan_time_index_test, nan_activity_index_test,show=True)\n",
    "    print('\\n')\n",
    "    \n",
    "    print('Saving submission...')\n",
    "    submission_df.to_csv(args.output_dir+'submission.csv', index=False)\n",
    "    print('Done!')"
   ]
  },
  {
   "cell_type": "code",
   "execution_count": 30,
   "metadata": {
    "collapsed": true,
    "deletable": true,
    "editable": true
   },
   "outputs": [],
   "source": [
    "#bpi2013\n",
    "#7.6\n",
    "#75%"
   ]
  },
  {
   "cell_type": "code",
   "execution_count": 31,
   "metadata": {
    "collapsed": true,
    "deletable": true,
    "editable": true
   },
   "outputs": [],
   "source": [
    "#bpi2012\n",
    "#0.59\n",
    "#75%"
   ]
  },
  {
   "cell_type": "code",
   "execution_count": 32,
   "metadata": {
    "collapsed": true,
    "deletable": true,
    "editable": true
   },
   "outputs": [],
   "source": [
    "#helpdesk\n",
    "#3.9\n",
    "#85"
   ]
  }
 ],
 "metadata": {
  "kernelspec": {
   "display_name": "Python 3",
   "language": "python",
   "name": "python3"
  },
  "language_info": {
   "codemirror_mode": {
    "name": "ipython",
    "version": 3
   },
   "file_extension": ".py",
   "mimetype": "text/x-python",
   "name": "python",
   "nbconvert_exporter": "python",
   "pygments_lexer": "ipython3",
   "version": "3.5.2"
  },
  "toc": {
   "colors": {
    "hover_highlight": "#DAA520",
    "running_highlight": "#FF0000",
    "selected_highlight": "#FFD700"
   },
   "moveMenuLeft": true,
   "nav_menu": {
    "height": "48px",
    "width": "252px"
   },
   "navigate_menu": true,
   "number_sections": true,
   "sideBar": true,
   "threshold": 4,
   "toc_cell": false,
   "toc_section_display": "block",
   "toc_window_display": false
  }
 },
 "nbformat": 4,
 "nbformat_minor": 2
}
